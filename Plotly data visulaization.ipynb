{
 "cells": [
  {
   "cell_type": "code",
   "execution_count": 1,
   "metadata": {},
   "outputs": [],
   "source": [
    "import pandas as pd\n",
    "import numpy as np"
   ]
  },
  {
   "cell_type": "code",
   "execution_count": 2,
   "metadata": {},
   "outputs": [],
   "source": [
    "from plotly import __version__"
   ]
  },
  {
   "cell_type": "code",
   "execution_count": 3,
   "metadata": {},
   "outputs": [
    {
     "name": "stdout",
     "output_type": "stream",
     "text": [
      "5.7.0\n"
     ]
    }
   ],
   "source": [
    "print(__version__)"
   ]
  },
  {
   "cell_type": "code",
   "execution_count": 4,
   "metadata": {},
   "outputs": [],
   "source": [
    "import cufflinks as cf"
   ]
  },
  {
   "cell_type": "code",
   "execution_count": 6,
   "metadata": {},
   "outputs": [],
   "source": [
    "from plotly.offline import download_plotlyjs,init_notebook_mode,plot,iplot"
   ]
  },
  {
   "cell_type": "code",
   "execution_count": 7,
   "metadata": {},
   "outputs": [
    {
     "data": {
      "text/html": [
       "        <script type=\"text/javascript\">\n",
       "        window.PlotlyConfig = {MathJaxConfig: 'local'};\n",
       "        if (window.MathJax) {MathJax.Hub.Config({SVG: {font: \"STIX-Web\"}});}\n",
       "        if (typeof require !== 'undefined') {\n",
       "        require.undef(\"plotly\");\n",
       "        requirejs.config({\n",
       "            paths: {\n",
       "                'plotly': ['https://cdn.plot.ly/plotly-2.11.1.min']\n",
       "            }\n",
       "        });\n",
       "        require(['plotly'], function(Plotly) {\n",
       "            window._Plotly = Plotly;\n",
       "        });\n",
       "        }\n",
       "        </script>\n",
       "        "
      ]
     },
     "metadata": {},
     "output_type": "display_data"
    }
   ],
   "source": [
    "cf.go_offline()"
   ]
  },
  {
   "cell_type": "code",
   "execution_count": 8,
   "metadata": {},
   "outputs": [],
   "source": [
    "df=pd.DataFrame(np.random.randn(100,4),columns= 'A B C D'.split())"
   ]
  },
  {
   "cell_type": "code",
   "execution_count": 9,
   "metadata": {},
   "outputs": [
    {
     "data": {
      "text/html": [
       "<div>\n",
       "<style scoped>\n",
       "    .dataframe tbody tr th:only-of-type {\n",
       "        vertical-align: middle;\n",
       "    }\n",
       "\n",
       "    .dataframe tbody tr th {\n",
       "        vertical-align: top;\n",
       "    }\n",
       "\n",
       "    .dataframe thead th {\n",
       "        text-align: right;\n",
       "    }\n",
       "</style>\n",
       "<table border=\"1\" class=\"dataframe\">\n",
       "  <thead>\n",
       "    <tr style=\"text-align: right;\">\n",
       "      <th></th>\n",
       "      <th>A</th>\n",
       "      <th>B</th>\n",
       "      <th>C</th>\n",
       "      <th>D</th>\n",
       "    </tr>\n",
       "  </thead>\n",
       "  <tbody>\n",
       "    <tr>\n",
       "      <th>0</th>\n",
       "      <td>0.405347</td>\n",
       "      <td>1.022486</td>\n",
       "      <td>-0.684694</td>\n",
       "      <td>2.496071</td>\n",
       "    </tr>\n",
       "    <tr>\n",
       "      <th>1</th>\n",
       "      <td>0.461838</td>\n",
       "      <td>-0.299133</td>\n",
       "      <td>-2.307597</td>\n",
       "      <td>0.460813</td>\n",
       "    </tr>\n",
       "    <tr>\n",
       "      <th>2</th>\n",
       "      <td>0.248015</td>\n",
       "      <td>-0.638886</td>\n",
       "      <td>-0.086332</td>\n",
       "      <td>-0.099345</td>\n",
       "    </tr>\n",
       "    <tr>\n",
       "      <th>3</th>\n",
       "      <td>-0.202760</td>\n",
       "      <td>-0.883375</td>\n",
       "      <td>-0.960633</td>\n",
       "      <td>0.580942</td>\n",
       "    </tr>\n",
       "    <tr>\n",
       "      <th>4</th>\n",
       "      <td>0.098948</td>\n",
       "      <td>-0.407886</td>\n",
       "      <td>-0.259484</td>\n",
       "      <td>0.405100</td>\n",
       "    </tr>\n",
       "  </tbody>\n",
       "</table>\n",
       "</div>"
      ],
      "text/plain": [
       "          A         B         C         D\n",
       "0  0.405347  1.022486 -0.684694  2.496071\n",
       "1  0.461838 -0.299133 -2.307597  0.460813\n",
       "2  0.248015 -0.638886 -0.086332 -0.099345\n",
       "3 -0.202760 -0.883375 -0.960633  0.580942\n",
       "4  0.098948 -0.407886 -0.259484  0.405100"
      ]
     },
     "execution_count": 9,
     "metadata": {},
     "output_type": "execute_result"
    }
   ],
   "source": [
    "df.head()"
   ]
  },
  {
   "cell_type": "code",
   "execution_count": 12,
   "metadata": {},
   "outputs": [],
   "source": [
    "df2 = pd.DataFrame({'Category':['A','B','C'],'Values':[32,43,50]})"
   ]
  },
  {
   "cell_type": "code",
   "execution_count": 13,
   "metadata": {},
   "outputs": [
    {
     "data": {
      "text/html": [
       "<div>\n",
       "<style scoped>\n",
       "    .dataframe tbody tr th:only-of-type {\n",
       "        vertical-align: middle;\n",
       "    }\n",
       "\n",
       "    .dataframe tbody tr th {\n",
       "        vertical-align: top;\n",
       "    }\n",
       "\n",
       "    .dataframe thead th {\n",
       "        text-align: right;\n",
       "    }\n",
       "</style>\n",
       "<table border=\"1\" class=\"dataframe\">\n",
       "  <thead>\n",
       "    <tr style=\"text-align: right;\">\n",
       "      <th></th>\n",
       "      <th>Category</th>\n",
       "      <th>Values</th>\n",
       "    </tr>\n",
       "  </thead>\n",
       "  <tbody>\n",
       "    <tr>\n",
       "      <th>0</th>\n",
       "      <td>A</td>\n",
       "      <td>32</td>\n",
       "    </tr>\n",
       "    <tr>\n",
       "      <th>1</th>\n",
       "      <td>B</td>\n",
       "      <td>43</td>\n",
       "    </tr>\n",
       "    <tr>\n",
       "      <th>2</th>\n",
       "      <td>C</td>\n",
       "      <td>50</td>\n",
       "    </tr>\n",
       "  </tbody>\n",
       "</table>\n",
       "</div>"
      ],
      "text/plain": [
       "  Category  Values\n",
       "0        A      32\n",
       "1        B      43\n",
       "2        C      50"
      ]
     },
     "execution_count": 13,
     "metadata": {},
     "output_type": "execute_result"
    }
   ],
   "source": [
    "df2"
   ]
  },
  {
   "cell_type": "code",
   "execution_count": 15,
   "metadata": {},
   "outputs": [
    {
     "data": {
      "text/plain": [
       "<AxesSubplot:>"
      ]
     },
     "execution_count": 15,
     "metadata": {},
     "output_type": "execute_result"
    },
    {
     "data": {
      "image/png": "[encoded data removed]",
      "text/plain": [
       "<Figure size 432x288 with 1 Axes>"
      ]
     },
     "metadata": {
      "needs_background": "light"
     },
     "output_type": "display_data"
    }
   ],
   "source": [
    "%matplotlib inline\n",
    "df.plot()"
   ]
  },
  {
   "cell_type": "code",
   "execution_count": 16,
   "metadata": {},
   "outputs": [
    {
     "data": {
      "application/vnd.plotly.v1+json": {
       "config": {
        "linkText": "Export to plot.ly",
        "plotlyServerURL": "https://plot.ly",
        "showLink": true
       },
       "data": [
        {
         "line": {
          "color": "rgba(255, 153, 51, 1.0)",
          "dash": "solid",
          "shape": "linear",
          "width": 1.3
         },
         "mode": "lines",
         "name": "A",
         "text": "",
         "type": "scatter",
         "x": [
          0,
          1,
          2,
          3,
          4,
          5,
          6,
          7,
          8,
          9,
          10,
          11,
          12,
          13,
          14,
          15,
          16,
          17,
          18,
          19,
          20,
          21,
          22,
          23,
          24,
          25,
          26,
          27,
          28,
          29,
          30,
          31,
          32,
          33,
          34,
          35,
          36,
          37,
          38,
          39,
          40,
          41,
          42,
          43,
          44,
          45,
          46,
          47,
          48,
          49,
          50,
          51,
          52,
          53,
          54,
          55,
          56,
          57,
          58,
          59,
          60,
          61,
          62,
          63,
          64,
          65,
          66,
          67,
          68,
          69,
          70,
          71,
          72,
          73,
          74,
          75,
          76,
          77,
          78,
          79,
          80,
          81,
          82,
          83,
          84,
          85,
          86,
          87,
          88,
          89,
          90,
          91,
          92,
          93,
          94,
          95,
          96,
          97,
          98,
          99
         ],
         "y": [
          0.40534718238775297,
          0.4618384364241935,
          0.24801495362386689,
          -0.20275965105180163,
          0.09894775497959721,
          0.6599246788548914,
          0.8438472586319632,
          0.014204738168655967,
          -1.0523175976673647,
          -0.33916820542896847,
          -1.661959469597001,
          0.012685600171485036,
          -0.4789785319016016,
          1.0084397271213716,
          0.5939225191331639,
          -1.095553489611045,
          -0.18951102092657343,
          -0.7485311039793072,
          -0.430464829191035,
          -0.7631277171679673,
          0.36148744061730415,
          0.07563251615586787,
          -1.8860291881983393,
          1.830146264431817,
          1.5261693945209298,
          0.16291324267842877,
          -0.8262337273807737,
          -0.5517585324681692,
          0.345803414065465,
          -1.4703487784808873,
          -0.42067931889214644,
          -0.13166190696965407,
          1.123577676117159,
          1.1810238810798508,
          1.660312792380613,
          0.5051805618852068,
          0.17556028099014473,
          -0.5494279945135929,
          -0.054740206493713695,
          -0.2168076326530869,
          -0.851789995700195,
          1.8015449616578993,
          -1.4170720382865047,
          0.8735331849938913,
          -1.1093059122024311,
          -0.4904870041875731,
          0.024771903075371624,
          -0.14604266902562074,
          -0.1804877739615316,
          -0.26801124668195686,
          0.6532291709068574,
          0.9495574584417534,
          -1.531778149170353,
          1.5890221761187682,
          0.980982056724215,
          -1.3218991841523904,
          -0.7748649079913962,
          0.4742698276888825,
          -0.0020455685397476487,
          1.8920574153876382,
          -0.22893685140438824,
          -0.6971595344536778,
          -1.7688603238410823,
          0.06128443693784288,
          -0.360684189084469,
          -0.4533831065070736,
          1.1124492419990712,
          -0.14284110930219396,
          0.583799577696767,
          0.4763961235399069,
          0.888486188632068,
          1.1547065346517043,
          -0.06266321573539217,
          1.2614886864066421,
          -0.2713660149998362,
          -0.564030478976412,
          -0.36032635768443194,
          -1.386122960420082,
          0.6497222345182069,
          0.4073214610955935,
          1.1951054678585589,
          1.1462194285806422,
          0.3839065700825093,
          0.02158569664438489,
          -0.31607498419747876,
          1.2258170818043679,
          1.5403849676974233,
          -1.2793493722883689,
          1.4546677261348309,
          0.8853740095330099,
          -0.27871528402228496,
          -0.45790415202886203,
          0.6078800386133114,
          0.2619094555525887,
          -0.9359554761132841,
          -1.310045647360763,
          0.8639954189862001,
          -0.17319697866189304,
          -0.23456567552557125,
          0.39507788382193987
         ]
        },
        {
         "line": {
          "color": "rgba(55, 128, 191, 1.0)",
          "dash": "solid",
          "shape": "linear",
          "width": 1.3
         },
         "mode": "lines",
         "name": "B",
         "text": "",
         "type": "scatter",
         "x": [
          0,
          1,
          2,
          3,
          4,
          5,
          6,
          7,
          8,
          9,
          10,
          11,
          12,
          13,
          14,
          15,
          16,
          17,
          18,
          19,
          20,
          21,
          22,
          23,
          24,
          25,
          26,
          27,
          28,
          29,
          30,
          31,
          32,
          33,
          34,
          35,
          36,
          37,
          38,
          39,
          40,
          41,
          42,
          43,
          44,
          45,
          46,
          47,
          48,
          49,
          50,
          51,
          52,
          53,
          54,
          55,
          56,
          57,
          58,
          59,
          60,
          61,
          62,
          63,
          64,
          65,
          66,
          67,
          68,
          69,
          70,
          71,
          72,
          73,
          74,
          75,
          76,
          77,
          78,
          79,
          80,
          81,
          82,
          83,
          84,
          85,
          86,
          87,
          88,
          89,
          90,
          91,
          92,
          93,
          94,
          95,
          96,
          97,
          98,
          99
         ],
         "y": [
          1.022485686609692,
          -0.2991330376533287,
          -0.63888610969383,
          -0.8833750002612436,
          -0.4078861332958796,
          0.4799082532464347,
          -1.357274840799496,
          0.19810773620278088,
          -0.19783074771131168,
          0.692818817496382,
          0.23191266266703442,
          -0.39355437747570005,
          0.5447687622016464,
          -0.14091375476541995,
          -0.22769161270345697,
          0.8588915764933582,
          -0.6783986928331065,
          0.8211036067421712,
          0.25817266001630773,
          0.14799711696746098,
          0.05927620745292284,
          -0.36267230950085433,
          1.2593028653582603,
          -1.0007777217527574,
          1.2282436874541525,
          -0.12769887512315786,
          1.7030143913579163,
          -1.0020872605347468,
          0.3195560424142498,
          0.15240321418665187,
          -1.5797861553236705,
          -0.3739313200333769,
          2.6021110509168666,
          -1.4471100938515242,
          -0.22318666138188153,
          0.47553906694810044,
          -1.1809472376756547,
          1.6162460221607278,
          -0.30331773033449044,
          -0.13182156682787596,
          1.4149621524860898,
          -0.9530259792261948,
          0.2742169032926556,
          -0.046045542434082556,
          0.634280138667863,
          -0.44208708609224245,
          0.6918129090202446,
          0.18012353082972507,
          -0.03975756365095694,
          -0.4035085758608769,
          -1.7585817100788126,
          -0.2996635985622194,
          -0.08613466026216665,
          1.3407846486700787,
          -1.2852375040247463,
          0.9426548906856975,
          -0.4237478485145406,
          -0.9875258770195806,
          0.8492892915359607,
          0.8623233408981996,
          -0.6444147916046757,
          0.1078678343079182,
          -0.9875734437892321,
          1.291562887565866,
          -0.8904951305931562,
          -1.7911999540279506,
          0.8759961030601735,
          0.2747985052742041,
          -0.20212363160084537,
          1.9519926300458057,
          1.2228922969535314,
          1.2775425993797307,
          -0.033907857353057,
          -1.1269326593789921,
          -0.35613822482803065,
          -0.3269080347457746,
          1.4592243810701002,
          -0.20686257323796692,
          -0.09616636678433634,
          1.2419410065257095,
          1.3048143207669025,
          -0.2980538960987875,
          1.3781856734829458,
          1.272172464631937,
          -0.3472494847742187,
          -0.010538336780892818,
          -0.16183176257636525,
          0.10152373504878527,
          -1.8653899621822374,
          -0.9683998654059663,
          -0.779130702347315,
          1.6202962931960625,
          -0.4690630803098864,
          0.024481735873536713,
          0.5510679505159154,
          -1.4104672378985652,
          0.5669444261650838,
          -1.350048904489357,
          0.6109803903416247,
          1.311724539759251
         ]
        },
        {
         "line": {
          "color": "rgba(50, 171, 96, 1.0)",
          "dash": "solid",
          "shape": "linear",
          "width": 1.3
         },
         "mode": "lines",
         "name": "C",
         "text": "",
         "type": "scatter",
         "x": [
          0,
          1,
          2,
          3,
          4,
          5,
          6,
          7,
          8,
          9,
          10,
          11,
          12,
          13,
          14,
          15,
          16,
          17,
          18,
          19,
          20,
          21,
          22,
          23,
          24,
          25,
          26,
          27,
          28,
          29,
          30,
          31,
          32,
          33,
          34,
          35,
          36,
          37,
          38,
          39,
          40,
          41,
          42,
          43,
          44,
          45,
          46,
          47,
          48,
          49,
          50,
          51,
          52,
          53,
          54,
          55,
          56,
          57,
          58,
          59,
          60,
          61,
          62,
          63,
          64,
          65,
          66,
          67,
          68,
          69,
          70,
          71,
          72,
          73,
          74,
          75,
          76,
          77,
          78,
          79,
          80,
          81,
          82,
          83,
          84,
          85,
          86,
          87,
          88,
          89,
          90,
          91,
          92,
          93,
          94,
          95,
          96,
          97,
          98,
          99
         ],
         "y": [
          -0.6846939278970728,
          -2.3075965045478024,
          -0.08633181165856928,
          -0.960632782911131,
          -0.2594843276284265,
          -1.0909004044679218,
          -0.39736078887757353,
          0.4859202399005569,
          0.64713042030015,
          -0.7813163021462705,
          0.2958028918427429,
          -1.3243857628930011,
          -1.662961371536703,
          -0.40043565729067965,
          -0.3451119384557309,
          2.0903955558237,
          -0.012557888875386733,
          0.07247683377659399,
          0.11988491292645348,
          -0.4627347402924009,
          -1.0946635758514829,
          -2.6728360093505703,
          0.4742050895262971,
          -1.150747503716675,
          -1.2679999124494294,
          -1.7425682851942794,
          1.2659089043708076,
          0.6599750210405136,
          0.29300311967555526,
          -0.03466136540901326,
          0.8932463555019038,
          0.1375773675663175,
          -0.39833065736608564,
          0.2287132229961002,
          -1.888861525535101,
          -1.3748150359304196,
          0.41802892703303685,
          1.0966859796173523,
          -0.13334943209995173,
          -1.1419708932998787,
          1.1871886179574034,
          0.8486538344167918,
          -0.5192329608506668,
          0.002664928529814942,
          -0.11805644493445205,
          -2.1302678111856066,
          -1.5493117619924885,
          -0.4579647003513041,
          -1.5589319481231727,
          -0.7013284975095917,
          -1.1942815821767572,
          1.4418256610856601,
          -0.1194927798018692,
          -1.0959742580943388,
          2.102428243098901,
          -0.32061244957872076,
          0.7008907102791864,
          -0.3491490480071671,
          -0.5547074472788999,
          -0.6118401100626987,
          -0.5036361595156262,
          -0.8556225818470531,
          1.572121338917596,
          0.7367614207637612,
          -0.6337092097146587,
          -0.12587396488378122,
          0.5956416887411763,
          -0.5257234999490865,
          -0.25349596817224906,
          -0.5430718989494115,
          0.09758462681366432,
          0.1927830293776624,
          1.5073729373103912,
          -0.5732060696026312,
          -0.357320623311159,
          -0.3825789830900455,
          0.6551065113125831,
          0.7398370183868511,
          -0.7059609433212608,
          -0.42166534144707934,
          3.3206924959670467,
          -0.37304189385547065,
          -1.4746002018309643,
          -0.04270476295674498,
          0.995515542888556,
          0.0033839830817497434,
          1.2256999756538212,
          0.2501254597405451,
          0.33648316506628745,
          2.109721828092375,
          -0.6805331943785887,
          1.3424917917601022,
          0.15416374829761778,
          0.8242630448059016,
          -0.9600061880373896,
          1.0265224829519026,
          -0.8113472662411878,
          -0.39356837717677795,
          0.2006738374444646,
          1.1984113242069359
         ]
        },
        {
         "line": {
          "color": "rgba(128, 0, 128, 1.0)",
          "dash": "solid",
          "shape": "linear",
          "width": 1.3
         },
         "mode": "lines",
         "name": "D",
         "text": "",
         "type": "scatter",
         "x": [
          0,
          1,
          2,
          3,
          4,
          5,
          6,
          7,
          8,
          9,
          10,
          11,
          12,
          13,
          14,
          15,
          16,
          17,
          18,
          19,
          20,
          21,
          22,
          23,
          24,
          25,
          26,
          27,
          28,
          29,
          30,
          31,
          32,
          33,
          34,
          35,
          36,
          37,
          38,
          39,
          40,
          41,
          42,
          43,
          44,
          45,
          46,
          47,
          48,
          49,
          50,
          51,
          52,
          53,
          54,
          55,
          56,
          57,
          58,
          59,
          60,
          61,
          62,
          63,
          64,
          65,
          66,
          67,
          68,
          69,
          70,
          71,
          72,
          73,
          74,
          75,
          76,
          77,
          78,
          79,
          80,
          81,
          82,
          83,
          84,
          85,
          86,
          87,
          88,
          89,
          90,
          91,
          92,
          93,
          94,
          95,
          96,
          97,
          98,
          99
         ],
         "y": [
          2.496071177103857,
          0.46081342893771055,
          -0.0993452983368322,
          0.5809415166299917,
          0.40510046264685573,
          -0.5680460155079847,
          1.2013126163899779,
          0.9235025254388937,
          -0.33489510490471136,
          0.6903185909680251,
          1.6940589078900654,
          1.1552141160280898,
          0.4519339032526576,
          -1.6378233982246284,
          -0.18705288580078047,
          -0.6014119459024533,
          -0.08661516142734464,
          -2.2138315256459355,
          0.21259912157741076,
          0.17200406866655887,
          0.06345710562435442,
          -0.1657132760048854,
          0.30709462962362616,
          1.2868210087532836,
          1.8925326595443972,
          0.3172886598320608,
          -0.7675255681542591,
          1.001540368478351,
          1.635234668573889,
          0.6968888827556089,
          -1.2838354891977093,
          -1.4858243901619834,
          1.5883334911707394,
          0.2614533519409762,
          1.4479396943145668,
          0.9869269363450887,
          1.2412667641689517,
          1.4554482284528751,
          -1.739546295511982,
          0.08624035442034013,
          0.014460353605616887,
          -1.4687897908310128,
          0.9263315314260369,
          0.4630509181806159,
          0.3962225137932105,
          -0.5738893360751438,
          0.08255968121947238,
          2.3123736265797725,
          0.1814158966679779,
          1.0023561740323266,
          -0.8432421516873355,
          0.9047034033575648,
          0.14633007324558994,
          -1.2121043743814122,
          0.34701696560862716,
          -0.49474703279285887,
          -0.6706522920168768,
          -2.1344327686615587,
          2.4921141712522954,
          -0.36850330741956977,
          -1.687793543566312,
          -0.25358597500926955,
          -0.8090190742185616,
          0.015245709923150873,
          0.27458290201369623,
          -2.1183057080112224,
          1.0366307466847968,
          1.0273831782140008,
          -1.1570046788261379,
          0.41756679021218324,
          -0.8225478326104317,
          1.2346573270949213,
          0.00624533970765154,
          0.9819581405070998,
          -2.2181810791031715,
          -1.829224609246086,
          0.2780099520868739,
          0.7531073238742761,
          -0.6687741250947908,
          0.307472012042972,
          -1.4508497162720104,
          0.5806461816902653,
          -0.1719019649229563,
          -0.8845797818041453,
          1.7110324908597812,
          -0.8042138569717536,
          -0.117255677636341,
          -0.7971556907902491,
          -0.9257571625867512,
          -0.059484554873857114,
          -1.7648403405153228,
          0.6893596079875423,
          -1.12093735936863,
          1.58417022354427,
          -0.15762384928257814,
          1.199392222105967,
          -0.09112697331503981,
          -1.2436291221677196,
          -1.3395113213792513,
          1.462079062203621
         ]
        }
       ],
       "layout": {
        "legend": {
         "bgcolor": "#F5F6F9",
         "font": {
          "color": "#4D5663"
         }
        },
        "paper_bgcolor": "#F5F6F9",
        "plot_bgcolor": "#F5F6F9",
        "template": {
         "data": {
          "bar": [
           {
            "error_x": {
             "color": "#2a3f5f"
            },
            "error_y": {
             "color": "#2a3f5f"
            },
            "marker": {
             "line": {
              "color": "#E5ECF6",
              "width": 0.5
             },
             "pattern": {
              "fillmode": "overlay",
              "size": 10,
              "solidity": 0.2
             }
            },
            "type": "bar"
           }
          ],
          "barpolar": [
           {
            "marker": {
             "line": {
              "color": "#E5ECF6",
              "width": 0.5
             },
             "pattern": {
              "fillmode": "overlay",
              "size": 10,
              "solidity": 0.2
             }
            },
            "type": "barpolar"
           }
          ],
          "carpet": [
           {
            "aaxis": {
             "endlinecolor": "#2a3f5f",
             "gridcolor": "white",
             "linecolor": "white",
             "minorgridcolor": "white",
             "startlinecolor": "#2a3f5f"
            },
            "baxis": {
             "endlinecolor": "#2a3f5f",
             "gridcolor": "white",
             "linecolor": "white",
             "minorgridcolor": "white",
             "startlinecolor": "#2a3f5f"
            },
            "type": "carpet"
           }
          ],
          "choropleth": [
           {
            "colorbar": {
             "outlinewidth": 0,
             "ticks": ""
            },
            "type": "choropleth"
           }
          ],
          "contour": [
           {
            "colorbar": {
             "outlinewidth": 0,
             "ticks": ""
            },
            "colorscale": [
             [
              0,
              "#0d0887"
             ],
             [
              0.1111111111111111,
              "#46039f"
             ],
             [
              0.2222222222222222,
              "#7201a8"
             ],
             [
              0.3333333333333333,
              "#9c179e"
             ],
             [
              0.4444444444444444,
              "#bd3786"
             ],
             [
              0.5555555555555556,
              "#d8576b"
             ],
             [
              0.6666666666666666,
              "#ed7953"
             ],
             [
              0.7777777777777778,
              "#fb9f3a"
             ],
             [
              0.8888888888888888,
              "#fdca26"
             ],
             [
              1,
              "#f0f921"
             ]
            ],
            "type": "contour"
           }
          ],
          "contourcarpet": [
           {
            "colorbar": {
             "outlinewidth": 0,
             "ticks": ""
            },
            "type": "contourcarpet"
           }
          ],
          "heatmap": [
           {
            "colorbar": {
             "outlinewidth": 0,
             "ticks": ""
            },
            "colorscale": [
             [
              0,
              "#0d0887"
             ],
             [
              0.1111111111111111,
              "#46039f"
             ],
             [
              0.2222222222222222,
              "#7201a8"
             ],
             [
              0.3333333333333333,
              "#9c179e"
             ],
             [
              0.4444444444444444,
              "#bd3786"
             ],
             [
              0.5555555555555556,
              "#d8576b"
             ],
             [
              0.6666666666666666,
              "#ed7953"
             ],
             [
              0.7777777777777778,
              "#fb9f3a"
             ],
             [
              0.8888888888888888,
              "#fdca26"
             ],
             [
              1,
              "#f0f921"
             ]
            ],
            "type": "heatmap"
           }
          ],
          "heatmapgl": [
           {
            "colorbar": {
             "outlinewidth": 0,
             "ticks": ""
            },
            "colorscale": [
             [
              0,
              "#0d0887"
             ],
             [
              0.1111111111111111,
              "#46039f"
             ],
             [
              0.2222222222222222,
              "#7201a8"
             ],
             [
              0.3333333333333333,
              "#9c179e"
             ],
             [
              0.4444444444444444,
              "#bd3786"
             ],
             [
              0.5555555555555556,
              "#d8576b"
             ],
             [
              0.6666666666666666,
              "#ed7953"
             ],
             [
              0.7777777777777778,
              "#fb9f3a"
             ],
             [
              0.8888888888888888,
              "#fdca26"
             ],
             [
              1,
              "#f0f921"
             ]
            ],
            "type": "heatmapgl"
           }
          ],
          "histogram": [
           {
            "marker": {
             "pattern": {
              "fillmode": "overlay",
              "size": 10,
              "solidity": 0.2
             }
            },
            "type": "histogram"
           }
          ],
          "histogram2d": [
           {
            "colorbar": {
             "outlinewidth": 0,
             "ticks": ""
            },
            "colorscale": [
             [
              0,
              "#0d0887"
             ],
             [
              0.1111111111111111,
              "#46039f"
             ],
             [
              0.2222222222222222,
              "#7201a8"
             ],
             [
              0.3333333333333333,
              "#9c179e"
             ],
             [
              0.4444444444444444,
              "#bd3786"
             ],
             [
              0.5555555555555556,
              "#d8576b"
             ],
             [
              0.6666666666666666,
              "#ed7953"
             ],
             [
              0.7777777777777778,
              "#fb9f3a"
             ],
             [
              0.8888888888888888,
              "#fdca26"
             ],
             [
              1,
              "#f0f921"
             ]
            ],
            "type": "histogram2d"
           }
          ],
          "histogram2dcontour": [
           {
            "colorbar": {
             "outlinewidth": 0,
             "ticks": ""
            },
            "colorscale": [
             [
              0,
              "#0d0887"
             ],
             [
              0.1111111111111111,
              "#46039f"
             ],
             [
              0.2222222222222222,
              "#7201a8"
             ],
             [
              0.3333333333333333,
              "#9c179e"
             ],
             [
              0.4444444444444444,
              "#bd3786"
             ],
             [
              0.5555555555555556,
              "#d8576b"
             ],
             [
              0.6666666666666666,
              "#ed7953"
             ],
             [
              0.7777777777777778,
              "#fb9f3a"
             ],
             [
              0.8888888888888888,
              "#fdca26"
             ],
             [
              1,
              "#f0f921"
             ]
            ],
            "type": "histogram2dcontour"
           }
          ],
          "mesh3d": [
           {
            "colorbar": {
             "outlinewidth": 0,
             "ticks": ""
            },
            "type": "mesh3d"
           }
          ],
          "parcoords": [
           {
            "line": {
             "colorbar": {
              "outlinewidth": 0,
              "ticks": ""
             }
            },
            "type": "parcoords"
           }
          ],
          "pie": [
           {
            "automargin": true,
            "type": "pie"
           }
          ],
          "scatter": [
           {
            "fillpattern": {
             "fillmode": "overlay",
             "size": 10,
             "solidity": 0.2
            },
            "type": "scatter"
           }
          ],
          "scatter3d": [
           {
            "line": {
             "colorbar": {
              "outlinewidth": 0,
              "ticks": ""
             }
            },
            "marker": {
             "colorbar": {
              "outlinewidth": 0,
              "ticks": ""
             }
            },
            "type": "scatter3d"
           }
          ],
          "scattercarpet": [
           {
            "marker": {
             "colorbar": {
              "outlinewidth": 0,
              "ticks": ""
             }
            },
            "type": "scattercarpet"
           }
          ],
          "scattergeo": [
           {
            "marker": {
             "colorbar": {
              "outlinewidth": 0,
              "ticks": ""
             }
            },
            "type": "scattergeo"
           }
          ],
          "scattergl": [
           {
            "marker": {
             "colorbar": {
              "outlinewidth": 0,
              "ticks": ""
             }
            },
            "type": "scattergl"
           }
          ],
          "scattermapbox": [
           {
            "marker": {
             "colorbar": {
              "outlinewidth": 0,
              "ticks": ""
             }
            },
            "type": "scattermapbox"
           }
          ],
          "scatterpolar": [
           {
            "marker": {
             "colorbar": {
              "outlinewidth": 0,
              "ticks": ""
             }
            },
            "type": "scatterpolar"
           }
          ],
          "scatterpolargl": [
           {
            "marker": {
             "colorbar": {
              "outlinewidth": 0,
              "ticks": ""
             }
            },
            "type": "scatterpolargl"
           }
          ],
          "scatterternary": [
           {
            "marker": {
             "colorbar": {
              "outlinewidth": 0,
              "ticks": ""
             }
            },
            "type": "scatterternary"
           }
          ],
          "surface": [
           {
            "colorbar": {
             "outlinewidth": 0,
             "ticks": ""
            },
            "colorscale": [
             [
              0,
              "#0d0887"
             ],
             [
              0.1111111111111111,
              "#46039f"
             ],
             [
              0.2222222222222222,
              "#7201a8"
             ],
             [
              0.3333333333333333,
              "#9c179e"
             ],
             [
              0.4444444444444444,
              "#bd3786"
             ],
             [
              0.5555555555555556,
              "#d8576b"
             ],
             [
              0.6666666666666666,
              "#ed7953"
             ],
             [
              0.7777777777777778,
              "#fb9f3a"
             ],
             [
              0.8888888888888888,
              "#fdca26"
             ],
             [
              1,
              "#f0f921"
             ]
            ],
            "type": "surface"
           }
          ],
          "table": [
           {
            "cells": {
             "fill": {
              "color": "#EBF0F8"
             },
             "line": {
              "color": "white"
             }
            },
            "header": {
             "fill": {
              "color": "#C8D4E3"
             },
             "line": {
              "color": "white"
             }
            },
            "type": "table"
           }
          ]
         },
         "layout": {
          "annotationdefaults": {
           "arrowcolor": "#2a3f5f",
           "arrowhead": 0,
           "arrowwidth": 1
          },
          "autotypenumbers": "strict",
          "coloraxis": {
           "colorbar": {
            "outlinewidth": 0,
            "ticks": ""
           }
          },
          "colorscale": {
           "diverging": [
            [
             0,
             "#8e0152"
            ],
            [
             0.1,
             "#c51b7d"
            ],
            [
             0.2,
             "#de77ae"
            ],
            [
             0.3,
             "#f1b6da"
            ],
            [
             0.4,
             "#fde0ef"
            ],
            [
             0.5,
             "#f7f7f7"
            ],
            [
             0.6,
             "#e6f5d0"
            ],
            [
             0.7,
             "#b8e186"
            ],
            [
             0.8,
             "#7fbc41"
            ],
            [
             0.9,
             "#4d9221"
            ],
            [
             1,
             "#276419"
            ]
           ],
           "sequential": [
            [
             0,
             "#0d0887"
            ],
            [
             0.1111111111111111,
             "#46039f"
            ],
            [
             0.2222222222222222,
             "#7201a8"
            ],
            [
             0.3333333333333333,
             "#9c179e"
            ],
            [
             0.4444444444444444,
             "#bd3786"
            ],
            [
             0.5555555555555556,
             "#d8576b"
            ],
            [
             0.6666666666666666,
             "#ed7953"
            ],
            [
             0.7777777777777778,
             "#fb9f3a"
            ],
            [
             0.8888888888888888,
             "#fdca26"
            ],
            [
             1,
             "#f0f921"
            ]
           ],
           "sequentialminus": [
            [
             0,
             "#0d0887"
            ],
            [
             0.1111111111111111,
             "#46039f"
            ],
            [
             0.2222222222222222,
             "#7201a8"
            ],
            [
             0.3333333333333333,
             "#9c179e"
            ],
            [
             0.4444444444444444,
             "#bd3786"
            ],
            [
             0.5555555555555556,
             "#d8576b"
            ],
            [
             0.6666666666666666,
             "#ed7953"
            ],
            [
             0.7777777777777778,
             "#fb9f3a"
            ],
            [
             0.8888888888888888,
             "#fdca26"
            ],
            [
             1,
             "#f0f921"
            ]
           ]
          },
          "colorway": [
           "#636efa",
           "#EF553B",
           "#00cc96",
           "#ab63fa",
           "#FFA15A",
           "#19d3f3",
           "#FF6692",
           "#B6E880",
           "#FF97FF",
           "#FECB52"
          ],
          "font": {
           "color": "#2a3f5f"
          },
          "geo": {
           "bgcolor": "white",
           "lakecolor": "white",
           "landcolor": "#E5ECF6",
           "showlakes": true,
           "showland": true,
           "subunitcolor": "white"
          },
          "hoverlabel": {
           "align": "left"
          },
          "hovermode": "closest",
          "mapbox": {
           "style": "light"
          },
          "paper_bgcolor": "white",
          "plot_bgcolor": "#E5ECF6",
          "polar": {
           "angularaxis": {
            "gridcolor": "white",
            "linecolor": "white",
            "ticks": ""
           },
           "bgcolor": "#E5ECF6",
           "radialaxis": {
            "gridcolor": "white",
            "linecolor": "white",
            "ticks": ""
           }
          },
          "scene": {
           "xaxis": {
            "backgroundcolor": "#E5ECF6",
            "gridcolor": "white",
            "gridwidth": 2,
            "linecolor": "white",
            "showbackground": true,
            "ticks": "",
            "zerolinecolor": "white"
           },
           "yaxis": {
            "backgroundcolor": "#E5ECF6",
            "gridcolor": "white",
            "gridwidth": 2,
            "linecolor": "white",
            "showbackground": true,
            "ticks": "",
            "zerolinecolor": "white"
           },
           "zaxis": {
            "backgroundcolor": "#E5ECF6",
            "gridcolor": "white",
            "gridwidth": 2,
            "linecolor": "white",
            "showbackground": true,
            "ticks": "",
            "zerolinecolor": "white"
           }
          },
          "shapedefaults": {
           "line": {
            "color": "#2a3f5f"
           }
          },
          "ternary": {
           "aaxis": {
            "gridcolor": "white",
            "linecolor": "white",
            "ticks": ""
           },
           "baxis": {
            "gridcolor": "white",
            "linecolor": "white",
            "ticks": ""
           },
           "bgcolor": "#E5ECF6",
           "caxis": {
            "gridcolor": "white",
            "linecolor": "white",
            "ticks": ""
           }
          },
          "title": {
           "x": 0.05
          },
          "xaxis": {
           "automargin": true,
           "gridcolor": "white",
           "linecolor": "white",
           "ticks": "",
           "title": {
            "standoff": 15
           },
           "zerolinecolor": "white",
           "zerolinewidth": 2
          },
          "yaxis": {
           "automargin": true,
           "gridcolor": "white",
           "linecolor": "white",
           "ticks": "",
           "title": {
            "standoff": 15
           },
           "zerolinecolor": "white",
           "zerolinewidth": 2
          }
         }
        },
        "title": {
         "font": {
          "color": "#4D5663"
         }
        },
        "xaxis": {
         "gridcolor": "#E1E5ED",
         "showgrid": true,
         "tickfont": {
          "color": "#4D5663"
         },
         "title": {
          "font": {
           "color": "#4D5663"
          },
          "text": ""
         },
         "zerolinecolor": "#E1E5ED"
        },
        "yaxis": {
         "gridcolor": "#E1E5ED",
         "showgrid": true,
         "tickfont": {
          "color": "#4D5663"
         },
         "title": {
          "font": {
           "color": "#4D5663"
          },
          "text": ""
         },
         "zerolinecolor": "#E1E5ED"
        }
       }
      },
      "text/html": [
       "<div>                            <div id=\"c1084e6f-f372-415e-9212-7d0e3a24000c\" class=\"plotly-graph-div\" style=\"height:525px; width:100%;\"></div>            <script type=\"text/javascript\">                require([\"plotly\"], function(Plotly) {                    window.PLOTLYENV=window.PLOTLYENV || {};\n",
       "                    window.PLOTLYENV.BASE_URL='https://plot.ly';                                    if (document.getElementById(\"c1084e6f-f372-415e-9212-7d0e3a24000c\")) {                    Plotly.newPlot(                        \"c1084e6f-f372-415e-9212-7d0e3a24000c\",                        [{\"line\":{\"color\":\"rgba(255, 153, 51, 1.0)\",\"dash\":\"solid\",\"shape\":\"linear\",\"width\":1.3},\"mode\":\"lines\",\"name\":\"A\",\"text\":\"\",\"x\":[0,1,2,3,4,5,6,7,8,9,10,11,12,13,14,15,16,17,18,19,20,21,22,23,24,25,26,27,28,29,30,31,32,33,34,35,36,37,38,39,40,41,42,43,44,45,46,47,48,49,50,51,52,53,54,55,56,57,58,59,60,61,62,63,64,65,66,67,68,69,70,71,72,73,74,75,76,77,78,79,80,81,82,83,84,85,86,87,88,89,90,91,92,93,94,95,96,97,98,99],\"y\":[0.40534718238775297,0.4618384364241935,0.24801495362386689,-0.20275965105180163,0.09894775497959721,0.6599246788548914,0.8438472586319632,0.014204738168655967,-1.0523175976673647,-0.33916820542896847,-1.661959469597001,0.012685600171485036,-0.4789785319016016,1.0084397271213716,0.5939225191331639,-1.095553489611045,-0.18951102092657343,-0.7485311039793072,-0.430464829191035,-0.7631277171679673,0.36148744061730415,0.07563251615586787,-1.8860291881983393,1.830146264431817,1.5261693945209298,0.16291324267842877,-0.8262337273807737,-0.5517585324681692,0.345803414065465,-1.4703487784808873,-0.42067931889214644,-0.13166190696965407,1.123577676117159,1.1810238810798508,1.660312792380613,0.5051805618852068,0.17556028099014473,-0.5494279945135929,-0.054740206493713695,-0.2168076326530869,-0.851789995700195,1.8015449616578993,-1.4170720382865047,0.8735331849938913,-1.1093059122024311,-0.4904870041875731,0.024771903075371624,-0.14604266902562074,-0.1804877739615316,-0.26801124668195686,0.6532291709068574,0.9495574584417534,-1.531778149170353,1.5890221761187682,0.980982056724215,-1.3218991841523904,-0.7748649079913962,0.4742698276888825,-0.0020455685397476487,1.8920574153876382,-0.22893685140438824,-0.6971595344536778,-1.7688603238410823,0.06128443693784288,-0.360684189084469,-0.4533831065070736,1.1124492419990712,-0.14284110930219396,0.583799577696767,0.4763961235399069,0.888486188632068,1.1547065346517043,-0.06266321573539217,1.2614886864066421,-0.2713660149998362,-0.564030478976412,-0.36032635768443194,-1.386122960420082,0.6497222345182069,0.4073214610955935,1.1951054678585589,1.1462194285806422,0.3839065700825093,0.02158569664438489,-0.31607498419747876,1.2258170818043679,1.5403849676974233,-1.2793493722883689,1.4546677261348309,0.8853740095330099,-0.27871528402228496,-0.45790415202886203,0.6078800386133114,0.2619094555525887,-0.9359554761132841,-1.310045647360763,0.8639954189862001,-0.17319697866189304,-0.23456567552557125,0.39507788382193987],\"type\":\"scatter\"},{\"line\":{\"color\":\"rgba(55, 128, 191, 1.0)\",\"dash\":\"solid\",\"shape\":\"linear\",\"width\":1.3},\"mode\":\"lines\",\"name\":\"B\",\"text\":\"\",\"x\":[0,1,2,3,4,5,6,7,8,9,10,11,12,13,14,15,16,17,18,19,20,21,22,23,24,25,26,27,28,29,30,31,32,33,34,35,36,37,38,39,40,41,42,43,44,45,46,47,48,49,50,51,52,53,54,55,56,57,58,59,60,61,62,63,64,65,66,67,68,69,70,71,72,73,74,75,76,77,78,79,80,81,82,83,84,85,86,87,88,89,90,91,92,93,94,95,96,97,98,99],\"y\":[1.022485686609692,-0.2991330376533287,-0.63888610969383,-0.8833750002612436,-0.4078861332958796,0.4799082532464347,-1.357274840799496,0.19810773620278088,-0.19783074771131168,0.692818817496382,0.23191266266703442,-0.39355437747570005,0.5447687622016464,-0.14091375476541995,-0.22769161270345697,0.8588915764933582,-0.6783986928331065,0.8211036067421712,0.25817266001630773,0.14799711696746098,0.05927620745292284,-0.36267230950085433,1.2593028653582603,-1.0007777217527574,1.2282436874541525,-0.12769887512315786,1.7030143913579163,-1.0020872605347468,0.3195560424142498,0.15240321418665187,-1.5797861553236705,-0.3739313200333769,2.6021110509168666,-1.4471100938515242,-0.22318666138188153,0.47553906694810044,-1.1809472376756547,1.6162460221607278,-0.30331773033449044,-0.13182156682787596,1.4149621524860898,-0.9530259792261948,0.2742169032926556,-0.046045542434082556,0.634280138667863,-0.44208708609224245,0.6918129090202446,0.18012353082972507,-0.03975756365095694,-0.4035085758608769,-1.7585817100788126,-0.2996635985622194,-0.08613466026216665,1.3407846486700787,-1.2852375040247463,0.9426548906856975,-0.4237478485145406,-0.9875258770195806,0.8492892915359607,0.8623233408981996,-0.6444147916046757,0.1078678343079182,-0.9875734437892321,1.291562887565866,-0.8904951305931562,-1.7911999540279506,0.8759961030601735,0.2747985052742041,-0.20212363160084537,1.9519926300458057,1.2228922969535314,1.2775425993797307,-0.033907857353057,-1.1269326593789921,-0.35613822482803065,-0.3269080347457746,1.4592243810701002,-0.20686257323796692,-0.09616636678433634,1.2419410065257095,1.3048143207669025,-0.2980538960987875,1.3781856734829458,1.272172464631937,-0.3472494847742187,-0.010538336780892818,-0.16183176257636525,0.10152373504878527,-1.8653899621822374,-0.9683998654059663,-0.779130702347315,1.6202962931960625,-0.4690630803098864,0.024481735873536713,0.5510679505159154,-1.4104672378985652,0.5669444261650838,-1.350048904489357,0.6109803903416247,1.311724539759251],\"type\":\"scatter\"},{\"line\":{\"color\":\"rgba(50, 171, 96, 1.0)\",\"dash\":\"solid\",\"shape\":\"linear\",\"width\":1.3},\"mode\":\"lines\",\"name\":\"C\",\"text\":\"\",\"x\":[0,1,2,3,4,5,6,7,8,9,10,11,12,13,14,15,16,17,18,19,20,21,22,23,24,25,26,27,28,29,30,31,32,33,34,35,36,37,38,39,40,41,42,43,44,45,46,47,48,49,50,51,52,53,54,55,56,57,58,59,60,61,62,63,64,65,66,67,68,69,70,71,72,73,74,75,76,77,78,79,80,81,82,83,84,85,86,87,88,89,90,91,92,93,94,95,96,97,98,99],\"y\":[-0.6846939278970728,-2.3075965045478024,-0.08633181165856928,-0.960632782911131,-0.2594843276284265,-1.0909004044679218,-0.39736078887757353,0.4859202399005569,0.64713042030015,-0.7813163021462705,0.2958028918427429,-1.3243857628930011,-1.662961371536703,-0.40043565729067965,-0.3451119384557309,2.0903955558237,-0.012557888875386733,0.07247683377659399,0.11988491292645348,-0.4627347402924009,-1.0946635758514829,-2.6728360093505703,0.4742050895262971,-1.150747503716675,-1.2679999124494294,-1.7425682851942794,1.2659089043708076,0.6599750210405136,0.29300311967555526,-0.03466136540901326,0.8932463555019038,0.1375773675663175,-0.39833065736608564,0.2287132229961002,-1.888861525535101,-1.3748150359304196,0.41802892703303685,1.0966859796173523,-0.13334943209995173,-1.1419708932998787,1.1871886179574034,0.8486538344167918,-0.5192329608506668,0.002664928529814942,-0.11805644493445205,-2.1302678111856066,-1.5493117619924885,-0.4579647003513041,-1.5589319481231727,-0.7013284975095917,-1.1942815821767572,1.4418256610856601,-0.1194927798018692,-1.0959742580943388,2.102428243098901,-0.32061244957872076,0.7008907102791864,-0.3491490480071671,-0.5547074472788999,-0.6118401100626987,-0.5036361595156262,-0.8556225818470531,1.572121338917596,0.7367614207637612,-0.6337092097146587,-0.12587396488378122,0.5956416887411763,-0.5257234999490865,-0.25349596817224906,-0.5430718989494115,0.09758462681366432,0.1927830293776624,1.5073729373103912,-0.5732060696026312,-0.357320623311159,-0.3825789830900455,0.6551065113125831,0.7398370183868511,-0.7059609433212608,-0.42166534144707934,3.3206924959670467,-0.37304189385547065,-1.4746002018309643,-0.04270476295674498,0.995515542888556,0.0033839830817497434,1.2256999756538212,0.2501254597405451,0.33648316506628745,2.109721828092375,-0.6805331943785887,1.3424917917601022,0.15416374829761778,0.8242630448059016,-0.9600061880373896,1.0265224829519026,-0.8113472662411878,-0.39356837717677795,0.2006738374444646,1.1984113242069359],\"type\":\"scatter\"},{\"line\":{\"color\":\"rgba(128, 0, 128, 1.0)\",\"dash\":\"solid\",\"shape\":\"linear\",\"width\":1.3},\"mode\":\"lines\",\"name\":\"D\",\"text\":\"\",\"x\":[0,1,2,3,4,5,6,7,8,9,10,11,12,13,14,15,16,17,18,19,20,21,22,23,24,25,26,27,28,29,30,31,32,33,34,35,36,37,38,39,40,41,42,43,44,45,46,47,48,49,50,51,52,53,54,55,56,57,58,59,60,61,62,63,64,65,66,67,68,69,70,71,72,73,74,75,76,77,78,79,80,81,82,83,84,85,86,87,88,89,90,91,92,93,94,95,96,97,98,99],\"y\":[2.496071177103857,0.46081342893771055,-0.0993452983368322,0.5809415166299917,0.40510046264685573,-0.5680460155079847,1.2013126163899779,0.9235025254388937,-0.33489510490471136,0.6903185909680251,1.6940589078900654,1.1552141160280898,0.4519339032526576,-1.6378233982246284,-0.18705288580078047,-0.6014119459024533,-0.08661516142734464,-2.2138315256459355,0.21259912157741076,0.17200406866655887,0.06345710562435442,-0.1657132760048854,0.30709462962362616,1.2868210087532836,1.8925326595443972,0.3172886598320608,-0.7675255681542591,1.001540368478351,1.635234668573889,0.6968888827556089,-1.2838354891977093,-1.4858243901619834,1.5883334911707394,0.2614533519409762,1.4479396943145668,0.9869269363450887,1.2412667641689517,1.4554482284528751,-1.739546295511982,0.08624035442034013,0.014460353605616887,-1.4687897908310128,0.9263315314260369,0.4630509181806159,0.3962225137932105,-0.5738893360751438,0.08255968121947238,2.3123736265797725,0.1814158966679779,1.0023561740323266,-0.8432421516873355,0.9047034033575648,0.14633007324558994,-1.2121043743814122,0.34701696560862716,-0.49474703279285887,-0.6706522920168768,-2.1344327686615587,2.4921141712522954,-0.36850330741956977,-1.687793543566312,-0.25358597500926955,-0.8090190742185616,0.015245709923150873,0.27458290201369623,-2.1183057080112224,1.0366307466847968,1.0273831782140008,-1.1570046788261379,0.41756679021218324,-0.8225478326104317,1.2346573270949213,0.00624533970765154,0.9819581405070998,-2.2181810791031715,-1.829224609246086,0.2780099520868739,0.7531073238742761,-0.6687741250947908,0.307472012042972,-1.4508497162720104,0.5806461816902653,-0.1719019649229563,-0.8845797818041453,1.7110324908597812,-0.8042138569717536,-0.117255677636341,-0.7971556907902491,-0.9257571625867512,-0.059484554873857114,-1.7648403405153228,0.6893596079875423,-1.12093735936863,1.58417022354427,-0.15762384928257814,1.199392222105967,-0.09112697331503981,-1.2436291221677196,-1.3395113213792513,1.462079062203621],\"type\":\"scatter\"}],                        {\"legend\":{\"bgcolor\":\"#F5F6F9\",\"font\":{\"color\":\"#4D5663\"}},\"paper_bgcolor\":\"#F5F6F9\",\"plot_bgcolor\":\"#F5F6F9\",\"template\":{\"data\":{\"barpolar\":[{\"marker\":{\"line\":{\"color\":\"#E5ECF6\",\"width\":0.5},\"pattern\":{\"fillmode\":\"overlay\",\"size\":10,\"solidity\":0.2}},\"type\":\"barpolar\"}],\"bar\":[{\"error_x\":{\"color\":\"#2a3f5f\"},\"error_y\":{\"color\":\"#2a3f5f\"},\"marker\":{\"line\":{\"color\":\"#E5ECF6\",\"width\":0.5},\"pattern\":{\"fillmode\":\"overlay\",\"size\":10,\"solidity\":0.2}},\"type\":\"bar\"}],\"carpet\":[{\"aaxis\":{\"endlinecolor\":\"#2a3f5f\",\"gridcolor\":\"white\",\"linecolor\":\"white\",\"minorgridcolor\":\"white\",\"startlinecolor\":\"#2a3f5f\"},\"baxis\":{\"endlinecolor\":\"#2a3f5f\",\"gridcolor\":\"white\",\"linecolor\":\"white\",\"minorgridcolor\":\"white\",\"startlinecolor\":\"#2a3f5f\"},\"type\":\"carpet\"}],\"choropleth\":[{\"colorbar\":{\"outlinewidth\":0,\"ticks\":\"\"},\"type\":\"choropleth\"}],\"contourcarpet\":[{\"colorbar\":{\"outlinewidth\":0,\"ticks\":\"\"},\"type\":\"contourcarpet\"}],\"contour\":[{\"colorbar\":{\"outlinewidth\":0,\"ticks\":\"\"},\"colorscale\":[[0.0,\"#0d0887\"],[0.1111111111111111,\"#46039f\"],[0.2222222222222222,\"#7201a8\"],[0.3333333333333333,\"#9c179e\"],[0.4444444444444444,\"#bd3786\"],[0.5555555555555556,\"#d8576b\"],[0.6666666666666666,\"#ed7953\"],[0.7777777777777778,\"#fb9f3a\"],[0.8888888888888888,\"#fdca26\"],[1.0,\"#f0f921\"]],\"type\":\"contour\"}],\"heatmapgl\":[{\"colorbar\":{\"outlinewidth\":0,\"ticks\":\"\"},\"colorscale\":[[0.0,\"#0d0887\"],[0.1111111111111111,\"#46039f\"],[0.2222222222222222,\"#7201a8\"],[0.3333333333333333,\"#9c179e\"],[0.4444444444444444,\"#bd3786\"],[0.5555555555555556,\"#d8576b\"],[0.6666666666666666,\"#ed7953\"],[0.7777777777777778,\"#fb9f3a\"],[0.8888888888888888,\"#fdca26\"],[1.0,\"#f0f921\"]],\"type\":\"heatmapgl\"}],\"heatmap\":[{\"colorbar\":{\"outlinewidth\":0,\"ticks\":\"\"},\"colorscale\":[[0.0,\"#0d0887\"],[0.1111111111111111,\"#46039f\"],[0.2222222222222222,\"#7201a8\"],[0.3333333333333333,\"#9c179e\"],[0.4444444444444444,\"#bd3786\"],[0.5555555555555556,\"#d8576b\"],[0.6666666666666666,\"#ed7953\"],[0.7777777777777778,\"#fb9f3a\"],[0.8888888888888888,\"#fdca26\"],[1.0,\"#f0f921\"]],\"type\":\"heatmap\"}],\"histogram2dcontour\":[{\"colorbar\":{\"outlinewidth\":0,\"ticks\":\"\"},\"colorscale\":[[0.0,\"#0d0887\"],[0.1111111111111111,\"#46039f\"],[0.2222222222222222,\"#7201a8\"],[0.3333333333333333,\"#9c179e\"],[0.4444444444444444,\"#bd3786\"],[0.5555555555555556,\"#d8576b\"],[0.6666666666666666,\"#ed7953\"],[0.7777777777777778,\"#fb9f3a\"],[0.8888888888888888,\"#fdca26\"],[1.0,\"#f0f921\"]],\"type\":\"histogram2dcontour\"}],\"histogram2d\":[{\"colorbar\":{\"outlinewidth\":0,\"ticks\":\"\"},\"colorscale\":[[0.0,\"#0d0887\"],[0.1111111111111111,\"#46039f\"],[0.2222222222222222,\"#7201a8\"],[0.3333333333333333,\"#9c179e\"],[0.4444444444444444,\"#bd3786\"],[0.5555555555555556,\"#d8576b\"],[0.6666666666666666,\"#ed7953\"],[0.7777777777777778,\"#fb9f3a\"],[0.8888888888888888,\"#fdca26\"],[1.0,\"#f0f921\"]],\"type\":\"histogram2d\"}],\"histogram\":[{\"marker\":{\"pattern\":{\"fillmode\":\"overlay\",\"size\":10,\"solidity\":0.2}},\"type\":\"histogram\"}],\"mesh3d\":[{\"colorbar\":{\"outlinewidth\":0,\"ticks\":\"\"},\"type\":\"mesh3d\"}],\"parcoords\":[{\"line\":{\"colorbar\":{\"outlinewidth\":0,\"ticks\":\"\"}},\"type\":\"parcoords\"}],\"pie\":[{\"automargin\":true,\"type\":\"pie\"}],\"scatter3d\":[{\"line\":{\"colorbar\":{\"outlinewidth\":0,\"ticks\":\"\"}},\"marker\":{\"colorbar\":{\"outlinewidth\":0,\"ticks\":\"\"}},\"type\":\"scatter3d\"}],\"scattercarpet\":[{\"marker\":{\"colorbar\":{\"outlinewidth\":0,\"ticks\":\"\"}},\"type\":\"scattercarpet\"}],\"scattergeo\":[{\"marker\":{\"colorbar\":{\"outlinewidth\":0,\"ticks\":\"\"}},\"type\":\"scattergeo\"}],\"scattergl\":[{\"marker\":{\"colorbar\":{\"outlinewidth\":0,\"ticks\":\"\"}},\"type\":\"scattergl\"}],\"scattermapbox\":[{\"marker\":{\"colorbar\":{\"outlinewidth\":0,\"ticks\":\"\"}},\"type\":\"scattermapbox\"}],\"scatterpolargl\":[{\"marker\":{\"colorbar\":{\"outlinewidth\":0,\"ticks\":\"\"}},\"type\":\"scatterpolargl\"}],\"scatterpolar\":[{\"marker\":{\"colorbar\":{\"outlinewidth\":0,\"ticks\":\"\"}},\"type\":\"scatterpolar\"}],\"scatter\":[{\"fillpattern\":{\"fillmode\":\"overlay\",\"size\":10,\"solidity\":0.2},\"type\":\"scatter\"}],\"scatterternary\":[{\"marker\":{\"colorbar\":{\"outlinewidth\":0,\"ticks\":\"\"}},\"type\":\"scatterternary\"}],\"surface\":[{\"colorbar\":{\"outlinewidth\":0,\"ticks\":\"\"},\"colorscale\":[[0.0,\"#0d0887\"],[0.1111111111111111,\"#46039f\"],[0.2222222222222222,\"#7201a8\"],[0.3333333333333333,\"#9c179e\"],[0.4444444444444444,\"#bd3786\"],[0.5555555555555556,\"#d8576b\"],[0.6666666666666666,\"#ed7953\"],[0.7777777777777778,\"#fb9f3a\"],[0.8888888888888888,\"#fdca26\"],[1.0,\"#f0f921\"]],\"type\":\"surface\"}],\"table\":[{\"cells\":{\"fill\":{\"color\":\"#EBF0F8\"},\"line\":{\"color\":\"white\"}},\"header\":{\"fill\":{\"color\":\"#C8D4E3\"},\"line\":{\"color\":\"white\"}},\"type\":\"table\"}]},\"layout\":{\"annotationdefaults\":{\"arrowcolor\":\"#2a3f5f\",\"arrowhead\":0,\"arrowwidth\":1},\"autotypenumbers\":\"strict\",\"coloraxis\":{\"colorbar\":{\"outlinewidth\":0,\"ticks\":\"\"}},\"colorscale\":{\"diverging\":[[0,\"#8e0152\"],[0.1,\"#c51b7d\"],[0.2,\"#de77ae\"],[0.3,\"#f1b6da\"],[0.4,\"#fde0ef\"],[0.5,\"#f7f7f7\"],[0.6,\"#e6f5d0\"],[0.7,\"#b8e186\"],[0.8,\"#7fbc41\"],[0.9,\"#4d9221\"],[1,\"#276419\"]],\"sequential\":[[0.0,\"#0d0887\"],[0.1111111111111111,\"#46039f\"],[0.2222222222222222,\"#7201a8\"],[0.3333333333333333,\"#9c179e\"],[0.4444444444444444,\"#bd3786\"],[0.5555555555555556,\"#d8576b\"],[0.6666666666666666,\"#ed7953\"],[0.7777777777777778,\"#fb9f3a\"],[0.8888888888888888,\"#fdca26\"],[1.0,\"#f0f921\"]],\"sequentialminus\":[[0.0,\"#0d0887\"],[0.1111111111111111,\"#46039f\"],[0.2222222222222222,\"#7201a8\"],[0.3333333333333333,\"#9c179e\"],[0.4444444444444444,\"#bd3786\"],[0.5555555555555556,\"#d8576b\"],[0.6666666666666666,\"#ed7953\"],[0.7777777777777778,\"#fb9f3a\"],[0.8888888888888888,\"#fdca26\"],[1.0,\"#f0f921\"]]},\"colorway\":[\"#636efa\",\"#EF553B\",\"#00cc96\",\"#ab63fa\",\"#FFA15A\",\"#19d3f3\",\"#FF6692\",\"#B6E880\",\"#FF97FF\",\"#FECB52\"],\"font\":{\"color\":\"#2a3f5f\"},\"geo\":{\"bgcolor\":\"white\",\"lakecolor\":\"white\",\"landcolor\":\"#E5ECF6\",\"showlakes\":true,\"showland\":true,\"subunitcolor\":\"white\"},\"hoverlabel\":{\"align\":\"left\"},\"hovermode\":\"closest\",\"mapbox\":{\"style\":\"light\"},\"paper_bgcolor\":\"white\",\"plot_bgcolor\":\"#E5ECF6\",\"polar\":{\"angularaxis\":{\"gridcolor\":\"white\",\"linecolor\":\"white\",\"ticks\":\"\"},\"bgcolor\":\"#E5ECF6\",\"radialaxis\":{\"gridcolor\":\"white\",\"linecolor\":\"white\",\"ticks\":\"\"}},\"scene\":{\"xaxis\":{\"backgroundcolor\":\"#E5ECF6\",\"gridcolor\":\"white\",\"gridwidth\":2,\"linecolor\":\"white\",\"showbackground\":true,\"ticks\":\"\",\"zerolinecolor\":\"white\"},\"yaxis\":{\"backgroundcolor\":\"#E5ECF6\",\"gridcolor\":\"white\",\"gridwidth\":2,\"linecolor\":\"white\",\"showbackground\":true,\"ticks\":\"\",\"zerolinecolor\":\"white\"},\"zaxis\":{\"backgroundcolor\":\"#E5ECF6\",\"gridcolor\":\"white\",\"gridwidth\":2,\"linecolor\":\"white\",\"showbackground\":true,\"ticks\":\"\",\"zerolinecolor\":\"white\"}},\"shapedefaults\":{\"line\":{\"color\":\"#2a3f5f\"}},\"ternary\":{\"aaxis\":{\"gridcolor\":\"white\",\"linecolor\":\"white\",\"ticks\":\"\"},\"baxis\":{\"gridcolor\":\"white\",\"linecolor\":\"white\",\"ticks\":\"\"},\"bgcolor\":\"#E5ECF6\",\"caxis\":{\"gridcolor\":\"white\",\"linecolor\":\"white\",\"ticks\":\"\"}},\"title\":{\"x\":0.05},\"xaxis\":{\"automargin\":true,\"gridcolor\":\"white\",\"linecolor\":\"white\",\"ticks\":\"\",\"title\":{\"standoff\":15},\"zerolinecolor\":\"white\",\"zerolinewidth\":2},\"yaxis\":{\"automargin\":true,\"gridcolor\":\"white\",\"linecolor\":\"white\",\"ticks\":\"\",\"title\":{\"standoff\":15},\"zerolinecolor\":\"white\",\"zerolinewidth\":2}}},\"title\":{\"font\":{\"color\":\"#4D5663\"}},\"xaxis\":{\"gridcolor\":\"#E1E5ED\",\"showgrid\":true,\"tickfont\":{\"color\":\"#4D5663\"},\"title\":{\"font\":{\"color\":\"#4D5663\"},\"text\":\"\"},\"zerolinecolor\":\"#E1E5ED\"},\"yaxis\":{\"gridcolor\":\"#E1E5ED\",\"showgrid\":true,\"tickfont\":{\"color\":\"#4D5663\"},\"title\":{\"font\":{\"color\":\"#4D5663\"},\"text\":\"\"},\"zerolinecolor\":\"#E1E5ED\"}},                        {\"showLink\": true, \"linkText\": \"Export to plot.ly\", \"plotlyServerURL\": \"https://plot.ly\", \"responsive\": true}                    ).then(function(){\n",
       "                            \n",
       "var gd = document.getElementById('c1084e6f-f372-415e-9212-7d0e3a24000c');\n",
       "var x = new MutationObserver(function (mutations, observer) {{\n",
       "        var display = window.getComputedStyle(gd).display;\n",
       "        if (!display || display === 'none') {{\n",
       "            console.log([gd, 'removed!']);\n",
       "            Plotly.purge(gd);\n",
       "            observer.disconnect();\n",
       "        }}\n",
       "}});\n",
       "\n",
       "// Listen for the removal of the full notebook cells\n",
       "var notebookContainer = gd.closest('#notebook-container');\n",
       "if (notebookContainer) {{\n",
       "    x.observe(notebookContainer, {childList: true});\n",
       "}}\n",
       "\n",
       "// Listen for the clearing of the current output cell\n",
       "var outputEl = gd.closest('.output');\n",
       "if (outputEl) {{\n",
       "    x.observe(outputEl, {childList: true});\n",
       "}}\n",
       "\n",
       "                        })                };                });            </script>        </div>"
      ]
     },
     "metadata": {},
     "output_type": "display_data"
    }
   ],
   "source": [
    "df.iplot()"
   ]
  },
  {
   "cell_type": "code",
   "execution_count": 19,
   "metadata": {},
   "outputs": [
    {
     "data": {
      "application/vnd.plotly.v1+json": {
       "config": {
        "linkText": "Export to plot.ly",
        "plotlyServerURL": "https://plot.ly",
        "showLink": true
       },
       "data": [
        {
         "line": {
          "color": "rgba(255, 153, 51, 1.0)",
          "dash": "solid",
          "shape": "linear",
          "width": 1.3
         },
         "marker": {
          "size": 12,
          "symbol": "circle"
         },
         "mode": "markers",
         "name": "B",
         "text": "",
         "type": "scatter",
         "x": [
          0.40534718238775297,
          0.4618384364241935,
          0.24801495362386689,
          -0.20275965105180163,
          0.09894775497959721,
          0.6599246788548914,
          0.8438472586319632,
          0.014204738168655967,
          -1.0523175976673647,
          -0.33916820542896847,
          -1.661959469597001,
          0.012685600171485036,
          -0.4789785319016016,
          1.0084397271213716,
          0.5939225191331639,
          -1.095553489611045,
          -0.18951102092657343,
          -0.7485311039793072,
          -0.430464829191035,
          -0.7631277171679673,
          0.36148744061730415,
          0.07563251615586787,
          -1.8860291881983393,
          1.830146264431817,
          1.5261693945209298,
          0.16291324267842877,
          -0.8262337273807737,
          -0.5517585324681692,
          0.345803414065465,
          -1.4703487784808873,
          -0.42067931889214644,
          -0.13166190696965407,
          1.123577676117159,
          1.1810238810798508,
          1.660312792380613,
          0.5051805618852068,
          0.17556028099014473,
          -0.5494279945135929,
          -0.054740206493713695,
          -0.2168076326530869,
          -0.851789995700195,
          1.8015449616578993,
          -1.4170720382865047,
          0.8735331849938913,
          -1.1093059122024311,
          -0.4904870041875731,
          0.024771903075371624,
          -0.14604266902562074,
          -0.1804877739615316,
          -0.26801124668195686,
          0.6532291709068574,
          0.9495574584417534,
          -1.531778149170353,
          1.5890221761187682,
          0.980982056724215,
          -1.3218991841523904,
          -0.7748649079913962,
          0.4742698276888825,
          -0.0020455685397476487,
          1.8920574153876382,
          -0.22893685140438824,
          -0.6971595344536778,
          -1.7688603238410823,
          0.06128443693784288,
          -0.360684189084469,
          -0.4533831065070736,
          1.1124492419990712,
          -0.14284110930219396,
          0.583799577696767,
          0.4763961235399069,
          0.888486188632068,
          1.1547065346517043,
          -0.06266321573539217,
          1.2614886864066421,
          -0.2713660149998362,
          -0.564030478976412,
          -0.36032635768443194,
          -1.386122960420082,
          0.6497222345182069,
          0.4073214610955935,
          1.1951054678585589,
          1.1462194285806422,
          0.3839065700825093,
          0.02158569664438489,
          -0.31607498419747876,
          1.2258170818043679,
          1.5403849676974233,
          -1.2793493722883689,
          1.4546677261348309,
          0.8853740095330099,
          -0.27871528402228496,
          -0.45790415202886203,
          0.6078800386133114,
          0.2619094555525887,
          -0.9359554761132841,
          -1.310045647360763,
          0.8639954189862001,
          -0.17319697866189304,
          -0.23456567552557125,
          0.39507788382193987
         ],
         "y": [
          1.022485686609692,
          -0.2991330376533287,
          -0.63888610969383,
          -0.8833750002612436,
          -0.4078861332958796,
          0.4799082532464347,
          -1.357274840799496,
          0.19810773620278088,
          -0.19783074771131168,
          0.692818817496382,
          0.23191266266703442,
          -0.39355437747570005,
          0.5447687622016464,
          -0.14091375476541995,
          -0.22769161270345697,
          0.8588915764933582,
          -0.6783986928331065,
          0.8211036067421712,
          0.25817266001630773,
          0.14799711696746098,
          0.05927620745292284,
          -0.36267230950085433,
          1.2593028653582603,
          -1.0007777217527574,
          1.2282436874541525,
          -0.12769887512315786,
          1.7030143913579163,
          -1.0020872605347468,
          0.3195560424142498,
          0.15240321418665187,
          -1.5797861553236705,
          -0.3739313200333769,
          2.6021110509168666,
          -1.4471100938515242,
          -0.22318666138188153,
          0.47553906694810044,
          -1.1809472376756547,
          1.6162460221607278,
          -0.30331773033449044,
          -0.13182156682787596,
          1.4149621524860898,
          -0.9530259792261948,
          0.2742169032926556,
          -0.046045542434082556,
          0.634280138667863,
          -0.44208708609224245,
          0.6918129090202446,
          0.18012353082972507,
          -0.03975756365095694,
          -0.4035085758608769,
          -1.7585817100788126,
          -0.2996635985622194,
          -0.08613466026216665,
          1.3407846486700787,
          -1.2852375040247463,
          0.9426548906856975,
          -0.4237478485145406,
          -0.9875258770195806,
          0.8492892915359607,
          0.8623233408981996,
          -0.6444147916046757,
          0.1078678343079182,
          -0.9875734437892321,
          1.291562887565866,
          -0.8904951305931562,
          -1.7911999540279506,
          0.8759961030601735,
          0.2747985052742041,
          -0.20212363160084537,
          1.9519926300458057,
          1.2228922969535314,
          1.2775425993797307,
          -0.033907857353057,
          -1.1269326593789921,
          -0.35613822482803065,
          -0.3269080347457746,
          1.4592243810701002,
          -0.20686257323796692,
          -0.09616636678433634,
          1.2419410065257095,
          1.3048143207669025,
          -0.2980538960987875,
          1.3781856734829458,
          1.272172464631937,
          -0.3472494847742187,
          -0.010538336780892818,
          -0.16183176257636525,
          0.10152373504878527,
          -1.8653899621822374,
          -0.9683998654059663,
          -0.779130702347315,
          1.6202962931960625,
          -0.4690630803098864,
          0.024481735873536713,
          0.5510679505159154,
          -1.4104672378985652,
          0.5669444261650838,
          -1.350048904489357,
          0.6109803903416247,
          1.311724539759251
         ]
        }
       ],
       "layout": {
        "legend": {
         "bgcolor": "#F5F6F9",
         "font": {
          "color": "#4D5663"
         }
        },
        "paper_bgcolor": "#F5F6F9",
        "plot_bgcolor": "#F5F6F9",
        "template": {
         "data": {
          "bar": [
           {
            "error_x": {
             "color": "#2a3f5f"
            },
            "error_y": {
             "color": "#2a3f5f"
            },
            "marker": {
             "line": {
              "color": "#E5ECF6",
              "width": 0.5
             },
             "pattern": {
              "fillmode": "overlay",
              "size": 10,
              "solidity": 0.2
             }
            },
            "type": "bar"
           }
          ],
          "barpolar": [
           {
            "marker": {
             "line": {
              "color": "#E5ECF6",
              "width": 0.5
             },
             "pattern": {
              "fillmode": "overlay",
              "size": 10,
              "solidity": 0.2
             }
            },
            "type": "barpolar"
           }
          ],
          "carpet": [
           {
            "aaxis": {
             "endlinecolor": "#2a3f5f",
             "gridcolor": "white",
             "linecolor": "white",
             "minorgridcolor": "white",
             "startlinecolor": "#2a3f5f"
            },
            "baxis": {
             "endlinecolor": "#2a3f5f",
             "gridcolor": "white",
             "linecolor": "white",
             "minorgridcolor": "white",
             "startlinecolor": "#2a3f5f"
            },
            "type": "carpet"
           }
          ],
          "choropleth": [
           {
            "colorbar": {
             "outlinewidth": 0,
             "ticks": ""
            },
            "type": "choropleth"
           }
          ],
          "contour": [
           {
            "colorbar": {
             "outlinewidth": 0,
             "ticks": ""
            },
            "colorscale": [
             [
              0,
              "#0d0887"
             ],
             [
              0.1111111111111111,
              "#46039f"
             ],
             [
              0.2222222222222222,
              "#7201a8"
             ],
             [
              0.3333333333333333,
              "#9c179e"
             ],
             [
              0.4444444444444444,
              "#bd3786"
             ],
             [
              0.5555555555555556,
              "#d8576b"
             ],
             [
              0.6666666666666666,
              "#ed7953"
             ],
             [
              0.7777777777777778,
              "#fb9f3a"
             ],
             [
              0.8888888888888888,
              "#fdca26"
             ],
             [
              1,
              "#f0f921"
             ]
            ],
            "type": "contour"
           }
          ],
          "contourcarpet": [
           {
            "colorbar": {
             "outlinewidth": 0,
             "ticks": ""
            },
            "type": "contourcarpet"
           }
          ],
          "heatmap": [
           {
            "colorbar": {
             "outlinewidth": 0,
             "ticks": ""
            },
            "colorscale": [
             [
              0,
              "#0d0887"
             ],
             [
              0.1111111111111111,
              "#46039f"
             ],
             [
              0.2222222222222222,
              "#7201a8"
             ],
             [
              0.3333333333333333,
              "#9c179e"
             ],
             [
              0.4444444444444444,
              "#bd3786"
             ],
             [
              0.5555555555555556,
              "#d8576b"
             ],
             [
              0.6666666666666666,
              "#ed7953"
             ],
             [
              0.7777777777777778,
              "#fb9f3a"
             ],
             [
              0.8888888888888888,
              "#fdca26"
             ],
             [
              1,
              "#f0f921"
             ]
            ],
            "type": "heatmap"
           }
          ],
          "heatmapgl": [
           {
            "colorbar": {
             "outlinewidth": 0,
             "ticks": ""
            },
            "colorscale": [
             [
              0,
              "#0d0887"
             ],
             [
              0.1111111111111111,
              "#46039f"
             ],
             [
              0.2222222222222222,
              "#7201a8"
             ],
             [
              0.3333333333333333,
              "#9c179e"
             ],
             [
              0.4444444444444444,
              "#bd3786"
             ],
             [
              0.5555555555555556,
              "#d8576b"
             ],
             [
              0.6666666666666666,
              "#ed7953"
             ],
             [
              0.7777777777777778,
              "#fb9f3a"
             ],
             [
              0.8888888888888888,
              "#fdca26"
             ],
             [
              1,
              "#f0f921"
             ]
            ],
            "type": "heatmapgl"
           }
          ],
          "histogram": [
           {
            "marker": {
             "pattern": {
              "fillmode": "overlay",
              "size": 10,
              "solidity": 0.2
             }
            },
            "type": "histogram"
           }
          ],
          "histogram2d": [
           {
            "colorbar": {
             "outlinewidth": 0,
             "ticks": ""
            },
            "colorscale": [
             [
              0,
              "#0d0887"
             ],
             [
              0.1111111111111111,
              "#46039f"
             ],
             [
              0.2222222222222222,
              "#7201a8"
             ],
             [
              0.3333333333333333,
              "#9c179e"
             ],
             [
              0.4444444444444444,
              "#bd3786"
             ],
             [
              0.5555555555555556,
              "#d8576b"
             ],
             [
              0.6666666666666666,
              "#ed7953"
             ],
             [
              0.7777777777777778,
              "#fb9f3a"
             ],
             [
              0.8888888888888888,
              "#fdca26"
             ],
             [
              1,
              "#f0f921"
             ]
            ],
            "type": "histogram2d"
           }
          ],
          "histogram2dcontour": [
           {
            "colorbar": {
             "outlinewidth": 0,
             "ticks": ""
            },
            "colorscale": [
             [
              0,
              "#0d0887"
             ],
             [
              0.1111111111111111,
              "#46039f"
             ],
             [
              0.2222222222222222,
              "#7201a8"
             ],
             [
              0.3333333333333333,
              "#9c179e"
             ],
             [
              0.4444444444444444,
              "#bd3786"
             ],
             [
              0.5555555555555556,
              "#d8576b"
             ],
             [
              0.6666666666666666,
              "#ed7953"
             ],
             [
              0.7777777777777778,
              "#fb9f3a"
             ],
             [
              0.8888888888888888,
              "#fdca26"
             ],
             [
              1,
              "#f0f921"
             ]
            ],
            "type": "histogram2dcontour"
           }
          ],
          "mesh3d": [
           {
            "colorbar": {
             "outlinewidth": 0,
             "ticks": ""
            },
            "type": "mesh3d"
           }
          ],
          "parcoords": [
           {
            "line": {
             "colorbar": {
              "outlinewidth": 0,
              "ticks": ""
             }
            },
            "type": "parcoords"
           }
          ],
          "pie": [
           {
            "automargin": true,
            "type": "pie"
           }
          ],
          "scatter": [
           {
            "fillpattern": {
             "fillmode": "overlay",
             "size": 10,
             "solidity": 0.2
            },
            "type": "scatter"
           }
          ],
          "scatter3d": [
           {
            "line": {
             "colorbar": {
              "outlinewidth": 0,
              "ticks": ""
             }
            },
            "marker": {
             "colorbar": {
              "outlinewidth": 0,
              "ticks": ""
             }
            },
            "type": "scatter3d"
           }
          ],
          "scattercarpet": [
           {
            "marker": {
             "colorbar": {
              "outlinewidth": 0,
              "ticks": ""
             }
            },
            "type": "scattercarpet"
           }
          ],
          "scattergeo": [
           {
            "marker": {
             "colorbar": {
              "outlinewidth": 0,
              "ticks": ""
             }
            },
            "type": "scattergeo"
           }
          ],
          "scattergl": [
           {
            "marker": {
             "colorbar": {
              "outlinewidth": 0,
              "ticks": ""
             }
            },
            "type": "scattergl"
           }
          ],
          "scattermapbox": [
           {
            "marker": {
             "colorbar": {
              "outlinewidth": 0,
              "ticks": ""
             }
            },
            "type": "scattermapbox"
           }
          ],
          "scatterpolar": [
           {
            "marker": {
             "colorbar": {
              "outlinewidth": 0,
              "ticks": ""
             }
            },
            "type": "scatterpolar"
           }
          ],
          "scatterpolargl": [
           {
            "marker": {
             "colorbar": {
              "outlinewidth": 0,
              "ticks": ""
             }
            },
            "type": "scatterpolargl"
           }
          ],
          "scatterternary": [
           {
            "marker": {
             "colorbar": {
              "outlinewidth": 0,
              "ticks": ""
             }
            },
            "type": "scatterternary"
           }
          ],
          "surface": [
           {
            "colorbar": {
             "outlinewidth": 0,
             "ticks": ""
            },
            "colorscale": [
             [
              0,
              "#0d0887"
             ],
             [
              0.1111111111111111,
              "#46039f"
             ],
             [
              0.2222222222222222,
              "#7201a8"
             ],
             [
              0.3333333333333333,
              "#9c179e"
             ],
             [
              0.4444444444444444,
              "#bd3786"
             ],
             [
              0.5555555555555556,
              "#d8576b"
             ],
             [
              0.6666666666666666,
              "#ed7953"
             ],
             [
              0.7777777777777778,
              "#fb9f3a"
             ],
             [
              0.8888888888888888,
              "#fdca26"
             ],
             [
              1,
              "#f0f921"
             ]
            ],
            "type": "surface"
           }
          ],
          "table": [
           {
            "cells": {
             "fill": {
              "color": "#EBF0F8"
             },
             "line": {
              "color": "white"
             }
            },
            "header": {
             "fill": {
              "color": "#C8D4E3"
             },
             "line": {
              "color": "white"
             }
            },
            "type": "table"
           }
          ]
         },
         "layout": {
          "annotationdefaults": {
           "arrowcolor": "#2a3f5f",
           "arrowhead": 0,
           "arrowwidth": 1
          },
          "autotypenumbers": "strict",
          "coloraxis": {
           "colorbar": {
            "outlinewidth": 0,
            "ticks": ""
           }
          },
          "colorscale": {
           "diverging": [
            [
             0,
             "#8e0152"
            ],
            [
             0.1,
             "#c51b7d"
            ],
            [
             0.2,
             "#de77ae"
            ],
            [
             0.3,
             "#f1b6da"
            ],
            [
             0.4,
             "#fde0ef"
            ],
            [
             0.5,
             "#f7f7f7"
            ],
            [
             0.6,
             "#e6f5d0"
            ],
            [
             0.7,
             "#b8e186"
            ],
            [
             0.8,
             "#7fbc41"
            ],
            [
             0.9,
             "#4d9221"
            ],
            [
             1,
             "#276419"
            ]
           ],
           "sequential": [
            [
             0,
             "#0d0887"
            ],
            [
             0.1111111111111111,
             "#46039f"
            ],
            [
             0.2222222222222222,
             "#7201a8"
            ],
            [
             0.3333333333333333,
             "#9c179e"
            ],
            [
             0.4444444444444444,
             "#bd3786"
            ],
            [
             0.5555555555555556,
             "#d8576b"
            ],
            [
             0.6666666666666666,
             "#ed7953"
            ],
            [
             0.7777777777777778,
             "#fb9f3a"
            ],
            [
             0.8888888888888888,
             "#fdca26"
            ],
            [
             1,
             "#f0f921"
            ]
           ],
           "sequentialminus": [
            [
             0,
             "#0d0887"
            ],
            [
             0.1111111111111111,
             "#46039f"
            ],
            [
             0.2222222222222222,
             "#7201a8"
            ],
            [
             0.3333333333333333,
             "#9c179e"
            ],
            [
             0.4444444444444444,
             "#bd3786"
            ],
            [
             0.5555555555555556,
             "#d8576b"
            ],
            [
             0.6666666666666666,
             "#ed7953"
            ],
            [
             0.7777777777777778,
             "#fb9f3a"
            ],
            [
             0.8888888888888888,
             "#fdca26"
            ],
            [
             1,
             "#f0f921"
            ]
           ]
          },
          "colorway": [
           "#636efa",
           "#EF553B",
           "#00cc96",
           "#ab63fa",
           "#FFA15A",
           "#19d3f3",
           "#FF6692",
           "#B6E880",
           "#FF97FF",
           "#FECB52"
          ],
          "font": {
           "color": "#2a3f5f"
          },
          "geo": {
           "bgcolor": "white",
           "lakecolor": "white",
           "landcolor": "#E5ECF6",
           "showlakes": true,
           "showland": true,
           "subunitcolor": "white"
          },
          "hoverlabel": {
           "align": "left"
          },
          "hovermode": "closest",
          "mapbox": {
           "style": "light"
          },
          "paper_bgcolor": "white",
          "plot_bgcolor": "#E5ECF6",
          "polar": {
           "angularaxis": {
            "gridcolor": "white",
            "linecolor": "white",
            "ticks": ""
           },
           "bgcolor": "#E5ECF6",
           "radialaxis": {
            "gridcolor": "white",
            "linecolor": "white",
            "ticks": ""
           }
          },
          "scene": {
           "xaxis": {
            "backgroundcolor": "#E5ECF6",
            "gridcolor": "white",
            "gridwidth": 2,
            "linecolor": "white",
            "showbackground": true,
            "ticks": "",
            "zerolinecolor": "white"
           },
           "yaxis": {
            "backgroundcolor": "#E5ECF6",
            "gridcolor": "white",
            "gridwidth": 2,
            "linecolor": "white",
            "showbackground": true,
            "ticks": "",
            "zerolinecolor": "white"
           },
           "zaxis": {
            "backgroundcolor": "#E5ECF6",
            "gridcolor": "white",
            "gridwidth": 2,
            "linecolor": "white",
            "showbackground": true,
            "ticks": "",
            "zerolinecolor": "white"
           }
          },
          "shapedefaults": {
           "line": {
            "color": "#2a3f5f"
           }
          },
          "ternary": {
           "aaxis": {
            "gridcolor": "white",
            "linecolor": "white",
            "ticks": ""
           },
           "baxis": {
            "gridcolor": "white",
            "linecolor": "white",
            "ticks": ""
           },
           "bgcolor": "#E5ECF6",
           "caxis": {
            "gridcolor": "white",
            "linecolor": "white",
            "ticks": ""
           }
          },
          "title": {
           "x": 0.05
          },
          "xaxis": {
           "automargin": true,
           "gridcolor": "white",
           "linecolor": "white",
           "ticks": "",
           "title": {
            "standoff": 15
           },
           "zerolinecolor": "white",
           "zerolinewidth": 2
          },
          "yaxis": {
           "automargin": true,
           "gridcolor": "white",
           "linecolor": "white",
           "ticks": "",
           "title": {
            "standoff": 15
           },
           "zerolinecolor": "white",
           "zerolinewidth": 2
          }
         }
        },
        "title": {
         "font": {
          "color": "#4D5663"
         }
        },
        "xaxis": {
         "gridcolor": "#E1E5ED",
         "showgrid": true,
         "tickfont": {
          "color": "#4D5663"
         },
         "title": {
          "font": {
           "color": "#4D5663"
          },
          "text": ""
         },
         "zerolinecolor": "#E1E5ED"
        },
        "yaxis": {
         "gridcolor": "#E1E5ED",
         "showgrid": true,
         "tickfont": {
          "color": "#4D5663"
         },
         "title": {
          "font": {
           "color": "#4D5663"
          },
          "text": ""
         },
         "zerolinecolor": "#E1E5ED"
        }
       }
      },
      "text/html": [
       "<div>                            <div id=\"764eaf6e-aa91-4aca-bba7-690f382c5b5a\" class=\"plotly-graph-div\" style=\"height:525px; width:100%;\"></div>            <script type=\"text/javascript\">                require([\"plotly\"], function(Plotly) {                    window.PLOTLYENV=window.PLOTLYENV || {};\n",
       "                    window.PLOTLYENV.BASE_URL='https://plot.ly';                                    if (document.getElementById(\"764eaf6e-aa91-4aca-bba7-690f382c5b5a\")) {                    Plotly.newPlot(                        \"764eaf6e-aa91-4aca-bba7-690f382c5b5a\",                        [{\"line\":{\"color\":\"rgba(255, 153, 51, 1.0)\",\"dash\":\"solid\",\"shape\":\"linear\",\"width\":1.3},\"marker\":{\"size\":12,\"symbol\":\"circle\"},\"mode\":\"markers\",\"name\":\"B\",\"text\":\"\",\"x\":[0.40534718238775297,0.4618384364241935,0.24801495362386689,-0.20275965105180163,0.09894775497959721,0.6599246788548914,0.8438472586319632,0.014204738168655967,-1.0523175976673647,-0.33916820542896847,-1.661959469597001,0.012685600171485036,-0.4789785319016016,1.0084397271213716,0.5939225191331639,-1.095553489611045,-0.18951102092657343,-0.7485311039793072,-0.430464829191035,-0.7631277171679673,0.36148744061730415,0.07563251615586787,-1.8860291881983393,1.830146264431817,1.5261693945209298,0.16291324267842877,-0.8262337273807737,-0.5517585324681692,0.345803414065465,-1.4703487784808873,-0.42067931889214644,-0.13166190696965407,1.123577676117159,1.1810238810798508,1.660312792380613,0.5051805618852068,0.17556028099014473,-0.5494279945135929,-0.054740206493713695,-0.2168076326530869,-0.851789995700195,1.8015449616578993,-1.4170720382865047,0.8735331849938913,-1.1093059122024311,-0.4904870041875731,0.024771903075371624,-0.14604266902562074,-0.1804877739615316,-0.26801124668195686,0.6532291709068574,0.9495574584417534,-1.531778149170353,1.5890221761187682,0.980982056724215,-1.3218991841523904,-0.7748649079913962,0.4742698276888825,-0.0020455685397476487,1.8920574153876382,-0.22893685140438824,-0.6971595344536778,-1.7688603238410823,0.06128443693784288,-0.360684189084469,-0.4533831065070736,1.1124492419990712,-0.14284110930219396,0.583799577696767,0.4763961235399069,0.888486188632068,1.1547065346517043,-0.06266321573539217,1.2614886864066421,-0.2713660149998362,-0.564030478976412,-0.36032635768443194,-1.386122960420082,0.6497222345182069,0.4073214610955935,1.1951054678585589,1.1462194285806422,0.3839065700825093,0.02158569664438489,-0.31607498419747876,1.2258170818043679,1.5403849676974233,-1.2793493722883689,1.4546677261348309,0.8853740095330099,-0.27871528402228496,-0.45790415202886203,0.6078800386133114,0.2619094555525887,-0.9359554761132841,-1.310045647360763,0.8639954189862001,-0.17319697866189304,-0.23456567552557125,0.39507788382193987],\"y\":[1.022485686609692,-0.2991330376533287,-0.63888610969383,-0.8833750002612436,-0.4078861332958796,0.4799082532464347,-1.357274840799496,0.19810773620278088,-0.19783074771131168,0.692818817496382,0.23191266266703442,-0.39355437747570005,0.5447687622016464,-0.14091375476541995,-0.22769161270345697,0.8588915764933582,-0.6783986928331065,0.8211036067421712,0.25817266001630773,0.14799711696746098,0.05927620745292284,-0.36267230950085433,1.2593028653582603,-1.0007777217527574,1.2282436874541525,-0.12769887512315786,1.7030143913579163,-1.0020872605347468,0.3195560424142498,0.15240321418665187,-1.5797861553236705,-0.3739313200333769,2.6021110509168666,-1.4471100938515242,-0.22318666138188153,0.47553906694810044,-1.1809472376756547,1.6162460221607278,-0.30331773033449044,-0.13182156682787596,1.4149621524860898,-0.9530259792261948,0.2742169032926556,-0.046045542434082556,0.634280138667863,-0.44208708609224245,0.6918129090202446,0.18012353082972507,-0.03975756365095694,-0.4035085758608769,-1.7585817100788126,-0.2996635985622194,-0.08613466026216665,1.3407846486700787,-1.2852375040247463,0.9426548906856975,-0.4237478485145406,-0.9875258770195806,0.8492892915359607,0.8623233408981996,-0.6444147916046757,0.1078678343079182,-0.9875734437892321,1.291562887565866,-0.8904951305931562,-1.7911999540279506,0.8759961030601735,0.2747985052742041,-0.20212363160084537,1.9519926300458057,1.2228922969535314,1.2775425993797307,-0.033907857353057,-1.1269326593789921,-0.35613822482803065,-0.3269080347457746,1.4592243810701002,-0.20686257323796692,-0.09616636678433634,1.2419410065257095,1.3048143207669025,-0.2980538960987875,1.3781856734829458,1.272172464631937,-0.3472494847742187,-0.010538336780892818,-0.16183176257636525,0.10152373504878527,-1.8653899621822374,-0.9683998654059663,-0.779130702347315,1.6202962931960625,-0.4690630803098864,0.024481735873536713,0.5510679505159154,-1.4104672378985652,0.5669444261650838,-1.350048904489357,0.6109803903416247,1.311724539759251],\"type\":\"scatter\"}],                        {\"legend\":{\"bgcolor\":\"#F5F6F9\",\"font\":{\"color\":\"#4D5663\"}},\"paper_bgcolor\":\"#F5F6F9\",\"plot_bgcolor\":\"#F5F6F9\",\"template\":{\"data\":{\"barpolar\":[{\"marker\":{\"line\":{\"color\":\"#E5ECF6\",\"width\":0.5},\"pattern\":{\"fillmode\":\"overlay\",\"size\":10,\"solidity\":0.2}},\"type\":\"barpolar\"}],\"bar\":[{\"error_x\":{\"color\":\"#2a3f5f\"},\"error_y\":{\"color\":\"#2a3f5f\"},\"marker\":{\"line\":{\"color\":\"#E5ECF6\",\"width\":0.5},\"pattern\":{\"fillmode\":\"overlay\",\"size\":10,\"solidity\":0.2}},\"type\":\"bar\"}],\"carpet\":[{\"aaxis\":{\"endlinecolor\":\"#2a3f5f\",\"gridcolor\":\"white\",\"linecolor\":\"white\",\"minorgridcolor\":\"white\",\"startlinecolor\":\"#2a3f5f\"},\"baxis\":{\"endlinecolor\":\"#2a3f5f\",\"gridcolor\":\"white\",\"linecolor\":\"white\",\"minorgridcolor\":\"white\",\"startlinecolor\":\"#2a3f5f\"},\"type\":\"carpet\"}],\"choropleth\":[{\"colorbar\":{\"outlinewidth\":0,\"ticks\":\"\"},\"type\":\"choropleth\"}],\"contourcarpet\":[{\"colorbar\":{\"outlinewidth\":0,\"ticks\":\"\"},\"type\":\"contourcarpet\"}],\"contour\":[{\"colorbar\":{\"outlinewidth\":0,\"ticks\":\"\"},\"colorscale\":[[0.0,\"#0d0887\"],[0.1111111111111111,\"#46039f\"],[0.2222222222222222,\"#7201a8\"],[0.3333333333333333,\"#9c179e\"],[0.4444444444444444,\"#bd3786\"],[0.5555555555555556,\"#d8576b\"],[0.6666666666666666,\"#ed7953\"],[0.7777777777777778,\"#fb9f3a\"],[0.8888888888888888,\"#fdca26\"],[1.0,\"#f0f921\"]],\"type\":\"contour\"}],\"heatmapgl\":[{\"colorbar\":{\"outlinewidth\":0,\"ticks\":\"\"},\"colorscale\":[[0.0,\"#0d0887\"],[0.1111111111111111,\"#46039f\"],[0.2222222222222222,\"#7201a8\"],[0.3333333333333333,\"#9c179e\"],[0.4444444444444444,\"#bd3786\"],[0.5555555555555556,\"#d8576b\"],[0.6666666666666666,\"#ed7953\"],[0.7777777777777778,\"#fb9f3a\"],[0.8888888888888888,\"#fdca26\"],[1.0,\"#f0f921\"]],\"type\":\"heatmapgl\"}],\"heatmap\":[{\"colorbar\":{\"outlinewidth\":0,\"ticks\":\"\"},\"colorscale\":[[0.0,\"#0d0887\"],[0.1111111111111111,\"#46039f\"],[0.2222222222222222,\"#7201a8\"],[0.3333333333333333,\"#9c179e\"],[0.4444444444444444,\"#bd3786\"],[0.5555555555555556,\"#d8576b\"],[0.6666666666666666,\"#ed7953\"],[0.7777777777777778,\"#fb9f3a\"],[0.8888888888888888,\"#fdca26\"],[1.0,\"#f0f921\"]],\"type\":\"heatmap\"}],\"histogram2dcontour\":[{\"colorbar\":{\"outlinewidth\":0,\"ticks\":\"\"},\"colorscale\":[[0.0,\"#0d0887\"],[0.1111111111111111,\"#46039f\"],[0.2222222222222222,\"#7201a8\"],[0.3333333333333333,\"#9c179e\"],[0.4444444444444444,\"#bd3786\"],[0.5555555555555556,\"#d8576b\"],[0.6666666666666666,\"#ed7953\"],[0.7777777777777778,\"#fb9f3a\"],[0.8888888888888888,\"#fdca26\"],[1.0,\"#f0f921\"]],\"type\":\"histogram2dcontour\"}],\"histogram2d\":[{\"colorbar\":{\"outlinewidth\":0,\"ticks\":\"\"},\"colorscale\":[[0.0,\"#0d0887\"],[0.1111111111111111,\"#46039f\"],[0.2222222222222222,\"#7201a8\"],[0.3333333333333333,\"#9c179e\"],[0.4444444444444444,\"#bd3786\"],[0.5555555555555556,\"#d8576b\"],[0.6666666666666666,\"#ed7953\"],[0.7777777777777778,\"#fb9f3a\"],[0.8888888888888888,\"#fdca26\"],[1.0,\"#f0f921\"]],\"type\":\"histogram2d\"}],\"histogram\":[{\"marker\":{\"pattern\":{\"fillmode\":\"overlay\",\"size\":10,\"solidity\":0.2}},\"type\":\"histogram\"}],\"mesh3d\":[{\"colorbar\":{\"outlinewidth\":0,\"ticks\":\"\"},\"type\":\"mesh3d\"}],\"parcoords\":[{\"line\":{\"colorbar\":{\"outlinewidth\":0,\"ticks\":\"\"}},\"type\":\"parcoords\"}],\"pie\":[{\"automargin\":true,\"type\":\"pie\"}],\"scatter3d\":[{\"line\":{\"colorbar\":{\"outlinewidth\":0,\"ticks\":\"\"}},\"marker\":{\"colorbar\":{\"outlinewidth\":0,\"ticks\":\"\"}},\"type\":\"scatter3d\"}],\"scattercarpet\":[{\"marker\":{\"colorbar\":{\"outlinewidth\":0,\"ticks\":\"\"}},\"type\":\"scattercarpet\"}],\"scattergeo\":[{\"marker\":{\"colorbar\":{\"outlinewidth\":0,\"ticks\":\"\"}},\"type\":\"scattergeo\"}],\"scattergl\":[{\"marker\":{\"colorbar\":{\"outlinewidth\":0,\"ticks\":\"\"}},\"type\":\"scattergl\"}],\"scattermapbox\":[{\"marker\":{\"colorbar\":{\"outlinewidth\":0,\"ticks\":\"\"}},\"type\":\"scattermapbox\"}],\"scatterpolargl\":[{\"marker\":{\"colorbar\":{\"outlinewidth\":0,\"ticks\":\"\"}},\"type\":\"scatterpolargl\"}],\"scatterpolar\":[{\"marker\":{\"colorbar\":{\"outlinewidth\":0,\"ticks\":\"\"}},\"type\":\"scatterpolar\"}],\"scatter\":[{\"fillpattern\":{\"fillmode\":\"overlay\",\"size\":10,\"solidity\":0.2},\"type\":\"scatter\"}],\"scatterternary\":[{\"marker\":{\"colorbar\":{\"outlinewidth\":0,\"ticks\":\"\"}},\"type\":\"scatterternary\"}],\"surface\":[{\"colorbar\":{\"outlinewidth\":0,\"ticks\":\"\"},\"colorscale\":[[0.0,\"#0d0887\"],[0.1111111111111111,\"#46039f\"],[0.2222222222222222,\"#7201a8\"],[0.3333333333333333,\"#9c179e\"],[0.4444444444444444,\"#bd3786\"],[0.5555555555555556,\"#d8576b\"],[0.6666666666666666,\"#ed7953\"],[0.7777777777777778,\"#fb9f3a\"],[0.8888888888888888,\"#fdca26\"],[1.0,\"#f0f921\"]],\"type\":\"surface\"}],\"table\":[{\"cells\":{\"fill\":{\"color\":\"#EBF0F8\"},\"line\":{\"color\":\"white\"}},\"header\":{\"fill\":{\"color\":\"#C8D4E3\"},\"line\":{\"color\":\"white\"}},\"type\":\"table\"}]},\"layout\":{\"annotationdefaults\":{\"arrowcolor\":\"#2a3f5f\",\"arrowhead\":0,\"arrowwidth\":1},\"autotypenumbers\":\"strict\",\"coloraxis\":{\"colorbar\":{\"outlinewidth\":0,\"ticks\":\"\"}},\"colorscale\":{\"diverging\":[[0,\"#8e0152\"],[0.1,\"#c51b7d\"],[0.2,\"#de77ae\"],[0.3,\"#f1b6da\"],[0.4,\"#fde0ef\"],[0.5,\"#f7f7f7\"],[0.6,\"#e6f5d0\"],[0.7,\"#b8e186\"],[0.8,\"#7fbc41\"],[0.9,\"#4d9221\"],[1,\"#276419\"]],\"sequential\":[[0.0,\"#0d0887\"],[0.1111111111111111,\"#46039f\"],[0.2222222222222222,\"#7201a8\"],[0.3333333333333333,\"#9c179e\"],[0.4444444444444444,\"#bd3786\"],[0.5555555555555556,\"#d8576b\"],[0.6666666666666666,\"#ed7953\"],[0.7777777777777778,\"#fb9f3a\"],[0.8888888888888888,\"#fdca26\"],[1.0,\"#f0f921\"]],\"sequentialminus\":[[0.0,\"#0d0887\"],[0.1111111111111111,\"#46039f\"],[0.2222222222222222,\"#7201a8\"],[0.3333333333333333,\"#9c179e\"],[0.4444444444444444,\"#bd3786\"],[0.5555555555555556,\"#d8576b\"],[0.6666666666666666,\"#ed7953\"],[0.7777777777777778,\"#fb9f3a\"],[0.8888888888888888,\"#fdca26\"],[1.0,\"#f0f921\"]]},\"colorway\":[\"#636efa\",\"#EF553B\",\"#00cc96\",\"#ab63fa\",\"#FFA15A\",\"#19d3f3\",\"#FF6692\",\"#B6E880\",\"#FF97FF\",\"#FECB52\"],\"font\":{\"color\":\"#2a3f5f\"},\"geo\":{\"bgcolor\":\"white\",\"lakecolor\":\"white\",\"landcolor\":\"#E5ECF6\",\"showlakes\":true,\"showland\":true,\"subunitcolor\":\"white\"},\"hoverlabel\":{\"align\":\"left\"},\"hovermode\":\"closest\",\"mapbox\":{\"style\":\"light\"},\"paper_bgcolor\":\"white\",\"plot_bgcolor\":\"#E5ECF6\",\"polar\":{\"angularaxis\":{\"gridcolor\":\"white\",\"linecolor\":\"white\",\"ticks\":\"\"},\"bgcolor\":\"#E5ECF6\",\"radialaxis\":{\"gridcolor\":\"white\",\"linecolor\":\"white\",\"ticks\":\"\"}},\"scene\":{\"xaxis\":{\"backgroundcolor\":\"#E5ECF6\",\"gridcolor\":\"white\",\"gridwidth\":2,\"linecolor\":\"white\",\"showbackground\":true,\"ticks\":\"\",\"zerolinecolor\":\"white\"},\"yaxis\":{\"backgroundcolor\":\"#E5ECF6\",\"gridcolor\":\"white\",\"gridwidth\":2,\"linecolor\":\"white\",\"showbackground\":true,\"ticks\":\"\",\"zerolinecolor\":\"white\"},\"zaxis\":{\"backgroundcolor\":\"#E5ECF6\",\"gridcolor\":\"white\",\"gridwidth\":2,\"linecolor\":\"white\",\"showbackground\":true,\"ticks\":\"\",\"zerolinecolor\":\"white\"}},\"shapedefaults\":{\"line\":{\"color\":\"#2a3f5f\"}},\"ternary\":{\"aaxis\":{\"gridcolor\":\"white\",\"linecolor\":\"white\",\"ticks\":\"\"},\"baxis\":{\"gridcolor\":\"white\",\"linecolor\":\"white\",\"ticks\":\"\"},\"bgcolor\":\"#E5ECF6\",\"caxis\":{\"gridcolor\":\"white\",\"linecolor\":\"white\",\"ticks\":\"\"}},\"title\":{\"x\":0.05},\"xaxis\":{\"automargin\":true,\"gridcolor\":\"white\",\"linecolor\":\"white\",\"ticks\":\"\",\"title\":{\"standoff\":15},\"zerolinecolor\":\"white\",\"zerolinewidth\":2},\"yaxis\":{\"automargin\":true,\"gridcolor\":\"white\",\"linecolor\":\"white\",\"ticks\":\"\",\"title\":{\"standoff\":15},\"zerolinecolor\":\"white\",\"zerolinewidth\":2}}},\"title\":{\"font\":{\"color\":\"#4D5663\"}},\"xaxis\":{\"gridcolor\":\"#E1E5ED\",\"showgrid\":true,\"tickfont\":{\"color\":\"#4D5663\"},\"title\":{\"font\":{\"color\":\"#4D5663\"},\"text\":\"\"},\"zerolinecolor\":\"#E1E5ED\"},\"yaxis\":{\"gridcolor\":\"#E1E5ED\",\"showgrid\":true,\"tickfont\":{\"color\":\"#4D5663\"},\"title\":{\"font\":{\"color\":\"#4D5663\"},\"text\":\"\"},\"zerolinecolor\":\"#E1E5ED\"}},                        {\"showLink\": true, \"linkText\": \"Export to plot.ly\", \"plotlyServerURL\": \"https://plot.ly\", \"responsive\": true}                    ).then(function(){\n",
       "                            \n",
       "var gd = document.getElementById('764eaf6e-aa91-4aca-bba7-690f382c5b5a');\n",
       "var x = new MutationObserver(function (mutations, observer) {{\n",
       "        var display = window.getComputedStyle(gd).display;\n",
       "        if (!display || display === 'none') {{\n",
       "            console.log([gd, 'removed!']);\n",
       "            Plotly.purge(gd);\n",
       "            observer.disconnect();\n",
       "        }}\n",
       "}});\n",
       "\n",
       "// Listen for the removal of the full notebook cells\n",
       "var notebookContainer = gd.closest('#notebook-container');\n",
       "if (notebookContainer) {{\n",
       "    x.observe(notebookContainer, {childList: true});\n",
       "}}\n",
       "\n",
       "// Listen for the clearing of the current output cell\n",
       "var outputEl = gd.closest('.output');\n",
       "if (outputEl) {{\n",
       "    x.observe(outputEl, {childList: true});\n",
       "}}\n",
       "\n",
       "                        })                };                });            </script>        </div>"
      ]
     },
     "metadata": {},
     "output_type": "display_data"
    }
   ],
   "source": [
    "df.iplot(kind='scatter',x=\"A\",y='B',mode='markers')"
   ]
  },
  {
   "cell_type": "code",
   "execution_count": 21,
   "metadata": {},
   "outputs": [
    {
     "data": {
      "application/vnd.plotly.v1+json": {
       "config": {
        "linkText": "Export to plot.ly",
        "plotlyServerURL": "https://plot.ly",
        "showLink": true
       },
       "data": [
        {
         "marker": {
          "color": "rgba(255, 153, 51, 0.6)",
          "line": {
           "color": "rgba(255, 153, 51, 1.0)",
           "width": 1
          }
         },
         "name": "Values",
         "orientation": "v",
         "text": "",
         "type": "bar",
         "x": [
          "A",
          "B",
          "C"
         ],
         "y": [
          32,
          43,
          50
         ]
        }
       ],
       "layout": {
        "legend": {
         "bgcolor": "#F5F6F9",
         "font": {
          "color": "#4D5663"
         }
        },
        "paper_bgcolor": "#F5F6F9",
        "plot_bgcolor": "#F5F6F9",
        "template": {
         "data": {
          "bar": [
           {
            "error_x": {
             "color": "#2a3f5f"
            },
            "error_y": {
             "color": "#2a3f5f"
            },
            "marker": {
             "line": {
              "color": "#E5ECF6",
              "width": 0.5
             },
             "pattern": {
              "fillmode": "overlay",
              "size": 10,
              "solidity": 0.2
             }
            },
            "type": "bar"
           }
          ],
          "barpolar": [
           {
            "marker": {
             "line": {
              "color": "#E5ECF6",
              "width": 0.5
             },
             "pattern": {
              "fillmode": "overlay",
              "size": 10,
              "solidity": 0.2
             }
            },
            "type": "barpolar"
           }
          ],
          "carpet": [
           {
            "aaxis": {
             "endlinecolor": "#2a3f5f",
             "gridcolor": "white",
             "linecolor": "white",
             "minorgridcolor": "white",
             "startlinecolor": "#2a3f5f"
            },
            "baxis": {
             "endlinecolor": "#2a3f5f",
             "gridcolor": "white",
             "linecolor": "white",
             "minorgridcolor": "white",
             "startlinecolor": "#2a3f5f"
            },
            "type": "carpet"
           }
          ],
          "choropleth": [
           {
            "colorbar": {
             "outlinewidth": 0,
             "ticks": ""
            },
            "type": "choropleth"
           }
          ],
          "contour": [
           {
            "colorbar": {
             "outlinewidth": 0,
             "ticks": ""
            },
            "colorscale": [
             [
              0,
              "#0d0887"
             ],
             [
              0.1111111111111111,
              "#46039f"
             ],
             [
              0.2222222222222222,
              "#7201a8"
             ],
             [
              0.3333333333333333,
              "#9c179e"
             ],
             [
              0.4444444444444444,
              "#bd3786"
             ],
             [
              0.5555555555555556,
              "#d8576b"
             ],
             [
              0.6666666666666666,
              "#ed7953"
             ],
             [
              0.7777777777777778,
              "#fb9f3a"
             ],
             [
              0.8888888888888888,
              "#fdca26"
             ],
             [
              1,
              "#f0f921"
             ]
            ],
            "type": "contour"
           }
          ],
          "contourcarpet": [
           {
            "colorbar": {
             "outlinewidth": 0,
             "ticks": ""
            },
            "type": "contourcarpet"
           }
          ],
          "heatmap": [
           {
            "colorbar": {
             "outlinewidth": 0,
             "ticks": ""
            },
            "colorscale": [
             [
              0,
              "#0d0887"
             ],
             [
              0.1111111111111111,
              "#46039f"
             ],
             [
              0.2222222222222222,
              "#7201a8"
             ],
             [
              0.3333333333333333,
              "#9c179e"
             ],
             [
              0.4444444444444444,
              "#bd3786"
             ],
             [
              0.5555555555555556,
              "#d8576b"
             ],
             [
              0.6666666666666666,
              "#ed7953"
             ],
             [
              0.7777777777777778,
              "#fb9f3a"
             ],
             [
              0.8888888888888888,
              "#fdca26"
             ],
             [
              1,
              "#f0f921"
             ]
            ],
            "type": "heatmap"
           }
          ],
          "heatmapgl": [
           {
            "colorbar": {
             "outlinewidth": 0,
             "ticks": ""
            },
            "colorscale": [
             [
              0,
              "#0d0887"
             ],
             [
              0.1111111111111111,
              "#46039f"
             ],
             [
              0.2222222222222222,
              "#7201a8"
             ],
             [
              0.3333333333333333,
              "#9c179e"
             ],
             [
              0.4444444444444444,
              "#bd3786"
             ],
             [
              0.5555555555555556,
              "#d8576b"
             ],
             [
              0.6666666666666666,
              "#ed7953"
             ],
             [
              0.7777777777777778,
              "#fb9f3a"
             ],
             [
              0.8888888888888888,
              "#fdca26"
             ],
             [
              1,
              "#f0f921"
             ]
            ],
            "type": "heatmapgl"
           }
          ],
          "histogram": [
           {
            "marker": {
             "pattern": {
              "fillmode": "overlay",
              "size": 10,
              "solidity": 0.2
             }
            },
            "type": "histogram"
           }
          ],
          "histogram2d": [
           {
            "colorbar": {
             "outlinewidth": 0,
             "ticks": ""
            },
            "colorscale": [
             [
              0,
              "#0d0887"
             ],
             [
              0.1111111111111111,
              "#46039f"
             ],
             [
              0.2222222222222222,
              "#7201a8"
             ],
             [
              0.3333333333333333,
              "#9c179e"
             ],
             [
              0.4444444444444444,
              "#bd3786"
             ],
             [
              0.5555555555555556,
              "#d8576b"
             ],
             [
              0.6666666666666666,
              "#ed7953"
             ],
             [
              0.7777777777777778,
              "#fb9f3a"
             ],
             [
              0.8888888888888888,
              "#fdca26"
             ],
             [
              1,
              "#f0f921"
             ]
            ],
            "type": "histogram2d"
           }
          ],
          "histogram2dcontour": [
           {
            "colorbar": {
             "outlinewidth": 0,
             "ticks": ""
            },
            "colorscale": [
             [
              0,
              "#0d0887"
             ],
             [
              0.1111111111111111,
              "#46039f"
             ],
             [
              0.2222222222222222,
              "#7201a8"
             ],
             [
              0.3333333333333333,
              "#9c179e"
             ],
             [
              0.4444444444444444,
              "#bd3786"
             ],
             [
              0.5555555555555556,
              "#d8576b"
             ],
             [
              0.6666666666666666,
              "#ed7953"
             ],
             [
              0.7777777777777778,
              "#fb9f3a"
             ],
             [
              0.8888888888888888,
              "#fdca26"
             ],
             [
              1,
              "#f0f921"
             ]
            ],
            "type": "histogram2dcontour"
           }
          ],
          "mesh3d": [
           {
            "colorbar": {
             "outlinewidth": 0,
             "ticks": ""
            },
            "type": "mesh3d"
           }
          ],
          "parcoords": [
           {
            "line": {
             "colorbar": {
              "outlinewidth": 0,
              "ticks": ""
             }
            },
            "type": "parcoords"
           }
          ],
          "pie": [
           {
            "automargin": true,
            "type": "pie"
           }
          ],
          "scatter": [
           {
            "fillpattern": {
             "fillmode": "overlay",
             "size": 10,
             "solidity": 0.2
            },
            "type": "scatter"
           }
          ],
          "scatter3d": [
           {
            "line": {
             "colorbar": {
              "outlinewidth": 0,
              "ticks": ""
             }
            },
            "marker": {
             "colorbar": {
              "outlinewidth": 0,
              "ticks": ""
             }
            },
            "type": "scatter3d"
           }
          ],
          "scattercarpet": [
           {
            "marker": {
             "colorbar": {
              "outlinewidth": 0,
              "ticks": ""
             }
            },
            "type": "scattercarpet"
           }
          ],
          "scattergeo": [
           {
            "marker": {
             "colorbar": {
              "outlinewidth": 0,
              "ticks": ""
             }
            },
            "type": "scattergeo"
           }
          ],
          "scattergl": [
           {
            "marker": {
             "colorbar": {
              "outlinewidth": 0,
              "ticks": ""
             }
            },
            "type": "scattergl"
           }
          ],
          "scattermapbox": [
           {
            "marker": {
             "colorbar": {
              "outlinewidth": 0,
              "ticks": ""
             }
            },
            "type": "scattermapbox"
           }
          ],
          "scatterpolar": [
           {
            "marker": {
             "colorbar": {
              "outlinewidth": 0,
              "ticks": ""
             }
            },
            "type": "scatterpolar"
           }
          ],
          "scatterpolargl": [
           {
            "marker": {
             "colorbar": {
              "outlinewidth": 0,
              "ticks": ""
             }
            },
            "type": "scatterpolargl"
           }
          ],
          "scatterternary": [
           {
            "marker": {
             "colorbar": {
              "outlinewidth": 0,
              "ticks": ""
             }
            },
            "type": "scatterternary"
           }
          ],
          "surface": [
           {
            "colorbar": {
             "outlinewidth": 0,
             "ticks": ""
            },
            "colorscale": [
             [
              0,
              "#0d0887"
             ],
             [
              0.1111111111111111,
              "#46039f"
             ],
             [
              0.2222222222222222,
              "#7201a8"
             ],
             [
              0.3333333333333333,
              "#9c179e"
             ],
             [
              0.4444444444444444,
              "#bd3786"
             ],
             [
              0.5555555555555556,
              "#d8576b"
             ],
             [
              0.6666666666666666,
              "#ed7953"
             ],
             [
              0.7777777777777778,
              "#fb9f3a"
             ],
             [
              0.8888888888888888,
              "#fdca26"
             ],
             [
              1,
              "#f0f921"
             ]
            ],
            "type": "surface"
           }
          ],
          "table": [
           {
            "cells": {
             "fill": {
              "color": "#EBF0F8"
             },
             "line": {
              "color": "white"
             }
            },
            "header": {
             "fill": {
              "color": "#C8D4E3"
             },
             "line": {
              "color": "white"
             }
            },
            "type": "table"
           }
          ]
         },
         "layout": {
          "annotationdefaults": {
           "arrowcolor": "#2a3f5f",
           "arrowhead": 0,
           "arrowwidth": 1
          },
          "autotypenumbers": "strict",
          "coloraxis": {
           "colorbar": {
            "outlinewidth": 0,
            "ticks": ""
           }
          },
          "colorscale": {
           "diverging": [
            [
             0,
             "#8e0152"
            ],
            [
             0.1,
             "#c51b7d"
            ],
            [
             0.2,
             "#de77ae"
            ],
            [
             0.3,
             "#f1b6da"
            ],
            [
             0.4,
             "#fde0ef"
            ],
            [
             0.5,
             "#f7f7f7"
            ],
            [
             0.6,
             "#e6f5d0"
            ],
            [
             0.7,
             "#b8e186"
            ],
            [
             0.8,
             "#7fbc41"
            ],
            [
             0.9,
             "#4d9221"
            ],
            [
             1,
             "#276419"
            ]
           ],
           "sequential": [
            [
             0,
             "#0d0887"
            ],
            [
             0.1111111111111111,
             "#46039f"
            ],
            [
             0.2222222222222222,
             "#7201a8"
            ],
            [
             0.3333333333333333,
             "#9c179e"
            ],
            [
             0.4444444444444444,
             "#bd3786"
            ],
            [
             0.5555555555555556,
             "#d8576b"
            ],
            [
             0.6666666666666666,
             "#ed7953"
            ],
            [
             0.7777777777777778,
             "#fb9f3a"
            ],
            [
             0.8888888888888888,
             "#fdca26"
            ],
            [
             1,
             "#f0f921"
            ]
           ],
           "sequentialminus": [
            [
             0,
             "#0d0887"
            ],
            [
             0.1111111111111111,
             "#46039f"
            ],
            [
             0.2222222222222222,
             "#7201a8"
            ],
            [
             0.3333333333333333,
             "#9c179e"
            ],
            [
             0.4444444444444444,
             "#bd3786"
            ],
            [
             0.5555555555555556,
             "#d8576b"
            ],
            [
             0.6666666666666666,
             "#ed7953"
            ],
            [
             0.7777777777777778,
             "#fb9f3a"
            ],
            [
             0.8888888888888888,
             "#fdca26"
            ],
            [
             1,
             "#f0f921"
            ]
           ]
          },
          "colorway": [
           "#636efa",
           "#EF553B",
           "#00cc96",
           "#ab63fa",
           "#FFA15A",
           "#19d3f3",
           "#FF6692",
           "#B6E880",
           "#FF97FF",
           "#FECB52"
          ],
          "font": {
           "color": "#2a3f5f"
          },
          "geo": {
           "bgcolor": "white",
           "lakecolor": "white",
           "landcolor": "#E5ECF6",
           "showlakes": true,
           "showland": true,
           "subunitcolor": "white"
          },
          "hoverlabel": {
           "align": "left"
          },
          "hovermode": "closest",
          "mapbox": {
           "style": "light"
          },
          "paper_bgcolor": "white",
          "plot_bgcolor": "#E5ECF6",
          "polar": {
           "angularaxis": {
            "gridcolor": "white",
            "linecolor": "white",
            "ticks": ""
           },
           "bgcolor": "#E5ECF6",
           "radialaxis": {
            "gridcolor": "white",
            "linecolor": "white",
            "ticks": ""
           }
          },
          "scene": {
           "xaxis": {
            "backgroundcolor": "#E5ECF6",
            "gridcolor": "white",
            "gridwidth": 2,
            "linecolor": "white",
            "showbackground": true,
            "ticks": "",
            "zerolinecolor": "white"
           },
           "yaxis": {
            "backgroundcolor": "#E5ECF6",
            "gridcolor": "white",
            "gridwidth": 2,
            "linecolor": "white",
            "showbackground": true,
            "ticks": "",
            "zerolinecolor": "white"
           },
           "zaxis": {
            "backgroundcolor": "#E5ECF6",
            "gridcolor": "white",
            "gridwidth": 2,
            "linecolor": "white",
            "showbackground": true,
            "ticks": "",
            "zerolinecolor": "white"
           }
          },
          "shapedefaults": {
           "line": {
            "color": "#2a3f5f"
           }
          },
          "ternary": {
           "aaxis": {
            "gridcolor": "white",
            "linecolor": "white",
            "ticks": ""
           },
           "baxis": {
            "gridcolor": "white",
            "linecolor": "white",
            "ticks": ""
           },
           "bgcolor": "#E5ECF6",
           "caxis": {
            "gridcolor": "white",
            "linecolor": "white",
            "ticks": ""
           }
          },
          "title": {
           "x": 0.05
          },
          "xaxis": {
           "automargin": true,
           "gridcolor": "white",
           "linecolor": "white",
           "ticks": "",
           "title": {
            "standoff": 15
           },
           "zerolinecolor": "white",
           "zerolinewidth": 2
          },
          "yaxis": {
           "automargin": true,
           "gridcolor": "white",
           "linecolor": "white",
           "ticks": "",
           "title": {
            "standoff": 15
           },
           "zerolinecolor": "white",
           "zerolinewidth": 2
          }
         }
        },
        "title": {
         "font": {
          "color": "#4D5663"
         }
        },
        "xaxis": {
         "gridcolor": "#E1E5ED",
         "showgrid": true,
         "tickfont": {
          "color": "#4D5663"
         },
         "title": {
          "font": {
           "color": "#4D5663"
          },
          "text": ""
         },
         "zerolinecolor": "#E1E5ED"
        },
        "yaxis": {
         "gridcolor": "#E1E5ED",
         "showgrid": true,
         "tickfont": {
          "color": "#4D5663"
         },
         "title": {
          "font": {
           "color": "#4D5663"
          },
          "text": ""
         },
         "zerolinecolor": "#E1E5ED"
        }
       }
      },
      "text/html": [
       "<div>                            <div id=\"3ccab2ea-43fa-47dd-81ac-06bc79a2a6ca\" class=\"plotly-graph-div\" style=\"height:525px; width:100%;\"></div>            <script type=\"text/javascript\">                require([\"plotly\"], function(Plotly) {                    window.PLOTLYENV=window.PLOTLYENV || {};\n",
       "                    window.PLOTLYENV.BASE_URL='https://plot.ly';                                    if (document.getElementById(\"3ccab2ea-43fa-47dd-81ac-06bc79a2a6ca\")) {                    Plotly.newPlot(                        \"3ccab2ea-43fa-47dd-81ac-06bc79a2a6ca\",                        [{\"marker\":{\"color\":\"rgba(255, 153, 51, 0.6)\",\"line\":{\"color\":\"rgba(255, 153, 51, 1.0)\",\"width\":1}},\"name\":\"Values\",\"orientation\":\"v\",\"text\":\"\",\"x\":[\"A\",\"B\",\"C\"],\"y\":[32,43,50],\"type\":\"bar\"}],                        {\"legend\":{\"bgcolor\":\"#F5F6F9\",\"font\":{\"color\":\"#4D5663\"}},\"paper_bgcolor\":\"#F5F6F9\",\"plot_bgcolor\":\"#F5F6F9\",\"template\":{\"data\":{\"barpolar\":[{\"marker\":{\"line\":{\"color\":\"#E5ECF6\",\"width\":0.5},\"pattern\":{\"fillmode\":\"overlay\",\"size\":10,\"solidity\":0.2}},\"type\":\"barpolar\"}],\"bar\":[{\"error_x\":{\"color\":\"#2a3f5f\"},\"error_y\":{\"color\":\"#2a3f5f\"},\"marker\":{\"line\":{\"color\":\"#E5ECF6\",\"width\":0.5},\"pattern\":{\"fillmode\":\"overlay\",\"size\":10,\"solidity\":0.2}},\"type\":\"bar\"}],\"carpet\":[{\"aaxis\":{\"endlinecolor\":\"#2a3f5f\",\"gridcolor\":\"white\",\"linecolor\":\"white\",\"minorgridcolor\":\"white\",\"startlinecolor\":\"#2a3f5f\"},\"baxis\":{\"endlinecolor\":\"#2a3f5f\",\"gridcolor\":\"white\",\"linecolor\":\"white\",\"minorgridcolor\":\"white\",\"startlinecolor\":\"#2a3f5f\"},\"type\":\"carpet\"}],\"choropleth\":[{\"colorbar\":{\"outlinewidth\":0,\"ticks\":\"\"},\"type\":\"choropleth\"}],\"contourcarpet\":[{\"colorbar\":{\"outlinewidth\":0,\"ticks\":\"\"},\"type\":\"contourcarpet\"}],\"contour\":[{\"colorbar\":{\"outlinewidth\":0,\"ticks\":\"\"},\"colorscale\":[[0.0,\"#0d0887\"],[0.1111111111111111,\"#46039f\"],[0.2222222222222222,\"#7201a8\"],[0.3333333333333333,\"#9c179e\"],[0.4444444444444444,\"#bd3786\"],[0.5555555555555556,\"#d8576b\"],[0.6666666666666666,\"#ed7953\"],[0.7777777777777778,\"#fb9f3a\"],[0.8888888888888888,\"#fdca26\"],[1.0,\"#f0f921\"]],\"type\":\"contour\"}],\"heatmapgl\":[{\"colorbar\":{\"outlinewidth\":0,\"ticks\":\"\"},\"colorscale\":[[0.0,\"#0d0887\"],[0.1111111111111111,\"#46039f\"],[0.2222222222222222,\"#7201a8\"],[0.3333333333333333,\"#9c179e\"],[0.4444444444444444,\"#bd3786\"],[0.5555555555555556,\"#d8576b\"],[0.6666666666666666,\"#ed7953\"],[0.7777777777777778,\"#fb9f3a\"],[0.8888888888888888,\"#fdca26\"],[1.0,\"#f0f921\"]],\"type\":\"heatmapgl\"}],\"heatmap\":[{\"colorbar\":{\"outlinewidth\":0,\"ticks\":\"\"},\"colorscale\":[[0.0,\"#0d0887\"],[0.1111111111111111,\"#46039f\"],[0.2222222222222222,\"#7201a8\"],[0.3333333333333333,\"#9c179e\"],[0.4444444444444444,\"#bd3786\"],[0.5555555555555556,\"#d8576b\"],[0.6666666666666666,\"#ed7953\"],[0.7777777777777778,\"#fb9f3a\"],[0.8888888888888888,\"#fdca26\"],[1.0,\"#f0f921\"]],\"type\":\"heatmap\"}],\"histogram2dcontour\":[{\"colorbar\":{\"outlinewidth\":0,\"ticks\":\"\"},\"colorscale\":[[0.0,\"#0d0887\"],[0.1111111111111111,\"#46039f\"],[0.2222222222222222,\"#7201a8\"],[0.3333333333333333,\"#9c179e\"],[0.4444444444444444,\"#bd3786\"],[0.5555555555555556,\"#d8576b\"],[0.6666666666666666,\"#ed7953\"],[0.7777777777777778,\"#fb9f3a\"],[0.8888888888888888,\"#fdca26\"],[1.0,\"#f0f921\"]],\"type\":\"histogram2dcontour\"}],\"histogram2d\":[{\"colorbar\":{\"outlinewidth\":0,\"ticks\":\"\"},\"colorscale\":[[0.0,\"#0d0887\"],[0.1111111111111111,\"#46039f\"],[0.2222222222222222,\"#7201a8\"],[0.3333333333333333,\"#9c179e\"],[0.4444444444444444,\"#bd3786\"],[0.5555555555555556,\"#d8576b\"],[0.6666666666666666,\"#ed7953\"],[0.7777777777777778,\"#fb9f3a\"],[0.8888888888888888,\"#fdca26\"],[1.0,\"#f0f921\"]],\"type\":\"histogram2d\"}],\"histogram\":[{\"marker\":{\"pattern\":{\"fillmode\":\"overlay\",\"size\":10,\"solidity\":0.2}},\"type\":\"histogram\"}],\"mesh3d\":[{\"colorbar\":{\"outlinewidth\":0,\"ticks\":\"\"},\"type\":\"mesh3d\"}],\"parcoords\":[{\"line\":{\"colorbar\":{\"outlinewidth\":0,\"ticks\":\"\"}},\"type\":\"parcoords\"}],\"pie\":[{\"automargin\":true,\"type\":\"pie\"}],\"scatter3d\":[{\"line\":{\"colorbar\":{\"outlinewidth\":0,\"ticks\":\"\"}},\"marker\":{\"colorbar\":{\"outlinewidth\":0,\"ticks\":\"\"}},\"type\":\"scatter3d\"}],\"scattercarpet\":[{\"marker\":{\"colorbar\":{\"outlinewidth\":0,\"ticks\":\"\"}},\"type\":\"scattercarpet\"}],\"scattergeo\":[{\"marker\":{\"colorbar\":{\"outlinewidth\":0,\"ticks\":\"\"}},\"type\":\"scattergeo\"}],\"scattergl\":[{\"marker\":{\"colorbar\":{\"outlinewidth\":0,\"ticks\":\"\"}},\"type\":\"scattergl\"}],\"scattermapbox\":[{\"marker\":{\"colorbar\":{\"outlinewidth\":0,\"ticks\":\"\"}},\"type\":\"scattermapbox\"}],\"scatterpolargl\":[{\"marker\":{\"colorbar\":{\"outlinewidth\":0,\"ticks\":\"\"}},\"type\":\"scatterpolargl\"}],\"scatterpolar\":[{\"marker\":{\"colorbar\":{\"outlinewidth\":0,\"ticks\":\"\"}},\"type\":\"scatterpolar\"}],\"scatter\":[{\"fillpattern\":{\"fillmode\":\"overlay\",\"size\":10,\"solidity\":0.2},\"type\":\"scatter\"}],\"scatterternary\":[{\"marker\":{\"colorbar\":{\"outlinewidth\":0,\"ticks\":\"\"}},\"type\":\"scatterternary\"}],\"surface\":[{\"colorbar\":{\"outlinewidth\":0,\"ticks\":\"\"},\"colorscale\":[[0.0,\"#0d0887\"],[0.1111111111111111,\"#46039f\"],[0.2222222222222222,\"#7201a8\"],[0.3333333333333333,\"#9c179e\"],[0.4444444444444444,\"#bd3786\"],[0.5555555555555556,\"#d8576b\"],[0.6666666666666666,\"#ed7953\"],[0.7777777777777778,\"#fb9f3a\"],[0.8888888888888888,\"#fdca26\"],[1.0,\"#f0f921\"]],\"type\":\"surface\"}],\"table\":[{\"cells\":{\"fill\":{\"color\":\"#EBF0F8\"},\"line\":{\"color\":\"white\"}},\"header\":{\"fill\":{\"color\":\"#C8D4E3\"},\"line\":{\"color\":\"white\"}},\"type\":\"table\"}]},\"layout\":{\"annotationdefaults\":{\"arrowcolor\":\"#2a3f5f\",\"arrowhead\":0,\"arrowwidth\":1},\"autotypenumbers\":\"strict\",\"coloraxis\":{\"colorbar\":{\"outlinewidth\":0,\"ticks\":\"\"}},\"colorscale\":{\"diverging\":[[0,\"#8e0152\"],[0.1,\"#c51b7d\"],[0.2,\"#de77ae\"],[0.3,\"#f1b6da\"],[0.4,\"#fde0ef\"],[0.5,\"#f7f7f7\"],[0.6,\"#e6f5d0\"],[0.7,\"#b8e186\"],[0.8,\"#7fbc41\"],[0.9,\"#4d9221\"],[1,\"#276419\"]],\"sequential\":[[0.0,\"#0d0887\"],[0.1111111111111111,\"#46039f\"],[0.2222222222222222,\"#7201a8\"],[0.3333333333333333,\"#9c179e\"],[0.4444444444444444,\"#bd3786\"],[0.5555555555555556,\"#d8576b\"],[0.6666666666666666,\"#ed7953\"],[0.7777777777777778,\"#fb9f3a\"],[0.8888888888888888,\"#fdca26\"],[1.0,\"#f0f921\"]],\"sequentialminus\":[[0.0,\"#0d0887\"],[0.1111111111111111,\"#46039f\"],[0.2222222222222222,\"#7201a8\"],[0.3333333333333333,\"#9c179e\"],[0.4444444444444444,\"#bd3786\"],[0.5555555555555556,\"#d8576b\"],[0.6666666666666666,\"#ed7953\"],[0.7777777777777778,\"#fb9f3a\"],[0.8888888888888888,\"#fdca26\"],[1.0,\"#f0f921\"]]},\"colorway\":[\"#636efa\",\"#EF553B\",\"#00cc96\",\"#ab63fa\",\"#FFA15A\",\"#19d3f3\",\"#FF6692\",\"#B6E880\",\"#FF97FF\",\"#FECB52\"],\"font\":{\"color\":\"#2a3f5f\"},\"geo\":{\"bgcolor\":\"white\",\"lakecolor\":\"white\",\"landcolor\":\"#E5ECF6\",\"showlakes\":true,\"showland\":true,\"subunitcolor\":\"white\"},\"hoverlabel\":{\"align\":\"left\"},\"hovermode\":\"closest\",\"mapbox\":{\"style\":\"light\"},\"paper_bgcolor\":\"white\",\"plot_bgcolor\":\"#E5ECF6\",\"polar\":{\"angularaxis\":{\"gridcolor\":\"white\",\"linecolor\":\"white\",\"ticks\":\"\"},\"bgcolor\":\"#E5ECF6\",\"radialaxis\":{\"gridcolor\":\"white\",\"linecolor\":\"white\",\"ticks\":\"\"}},\"scene\":{\"xaxis\":{\"backgroundcolor\":\"#E5ECF6\",\"gridcolor\":\"white\",\"gridwidth\":2,\"linecolor\":\"white\",\"showbackground\":true,\"ticks\":\"\",\"zerolinecolor\":\"white\"},\"yaxis\":{\"backgroundcolor\":\"#E5ECF6\",\"gridcolor\":\"white\",\"gridwidth\":2,\"linecolor\":\"white\",\"showbackground\":true,\"ticks\":\"\",\"zerolinecolor\":\"white\"},\"zaxis\":{\"backgroundcolor\":\"#E5ECF6\",\"gridcolor\":\"white\",\"gridwidth\":2,\"linecolor\":\"white\",\"showbackground\":true,\"ticks\":\"\",\"zerolinecolor\":\"white\"}},\"shapedefaults\":{\"line\":{\"color\":\"#2a3f5f\"}},\"ternary\":{\"aaxis\":{\"gridcolor\":\"white\",\"linecolor\":\"white\",\"ticks\":\"\"},\"baxis\":{\"gridcolor\":\"white\",\"linecolor\":\"white\",\"ticks\":\"\"},\"bgcolor\":\"#E5ECF6\",\"caxis\":{\"gridcolor\":\"white\",\"linecolor\":\"white\",\"ticks\":\"\"}},\"title\":{\"x\":0.05},\"xaxis\":{\"automargin\":true,\"gridcolor\":\"white\",\"linecolor\":\"white\",\"ticks\":\"\",\"title\":{\"standoff\":15},\"zerolinecolor\":\"white\",\"zerolinewidth\":2},\"yaxis\":{\"automargin\":true,\"gridcolor\":\"white\",\"linecolor\":\"white\",\"ticks\":\"\",\"title\":{\"standoff\":15},\"zerolinecolor\":\"white\",\"zerolinewidth\":2}}},\"title\":{\"font\":{\"color\":\"#4D5663\"}},\"xaxis\":{\"gridcolor\":\"#E1E5ED\",\"showgrid\":true,\"tickfont\":{\"color\":\"#4D5663\"},\"title\":{\"font\":{\"color\":\"#4D5663\"},\"text\":\"\"},\"zerolinecolor\":\"#E1E5ED\"},\"yaxis\":{\"gridcolor\":\"#E1E5ED\",\"showgrid\":true,\"tickfont\":{\"color\":\"#4D5663\"},\"title\":{\"font\":{\"color\":\"#4D5663\"},\"text\":\"\"},\"zerolinecolor\":\"#E1E5ED\"}},                        {\"showLink\": true, \"linkText\": \"Export to plot.ly\", \"plotlyServerURL\": \"https://plot.ly\", \"responsive\": true}                    ).then(function(){\n",
       "                            \n",
       "var gd = document.getElementById('3ccab2ea-43fa-47dd-81ac-06bc79a2a6ca');\n",
       "var x = new MutationObserver(function (mutations, observer) {{\n",
       "        var display = window.getComputedStyle(gd).display;\n",
       "        if (!display || display === 'none') {{\n",
       "            console.log([gd, 'removed!']);\n",
       "            Plotly.purge(gd);\n",
       "            observer.disconnect();\n",
       "        }}\n",
       "}});\n",
       "\n",
       "// Listen for the removal of the full notebook cells\n",
       "var notebookContainer = gd.closest('#notebook-container');\n",
       "if (notebookContainer) {{\n",
       "    x.observe(notebookContainer, {childList: true});\n",
       "}}\n",
       "\n",
       "// Listen for the clearing of the current output cell\n",
       "var outputEl = gd.closest('.output');\n",
       "if (outputEl) {{\n",
       "    x.observe(outputEl, {childList: true});\n",
       "}}\n",
       "\n",
       "                        })                };                });            </script>        </div>"
      ]
     },
     "metadata": {},
     "output_type": "display_data"
    }
   ],
   "source": [
    "df2.iplot(kind='bar',x='Category', y='Values')"
   ]
  },
  {
   "cell_type": "code",
   "execution_count": 22,
   "metadata": {},
   "outputs": [
    {
     "data": {
      "application/vnd.plotly.v1+json": {
       "config": {
        "linkText": "Export to plot.ly",
        "plotlyServerURL": "https://plot.ly",
        "showLink": true
       },
       "data": [
        {
         "marker": {
          "color": "rgba(255, 153, 51, 0.6)",
          "line": {
           "color": "rgba(255, 153, 51, 1.0)",
           "width": 1
          }
         },
         "name": "None",
         "orientation": "v",
         "text": "",
         "type": "bar",
         "x": [
          "A",
          "B",
          "C",
          "D"
         ],
         "y": [
          6.665501635122301,
          6.301823920877924,
          -11.028163245063634,
          6.1096803530315285
         ]
        }
       ],
       "layout": {
        "legend": {
         "bgcolor": "#F5F6F9",
         "font": {
          "color": "#4D5663"
         }
        },
        "paper_bgcolor": "#F5F6F9",
        "plot_bgcolor": "#F5F6F9",
        "template": {
         "data": {
          "bar": [
           {
            "error_x": {
             "color": "#2a3f5f"
            },
            "error_y": {
             "color": "#2a3f5f"
            },
            "marker": {
             "line": {
              "color": "#E5ECF6",
              "width": 0.5
             },
             "pattern": {
              "fillmode": "overlay",
              "size": 10,
              "solidity": 0.2
             }
            },
            "type": "bar"
           }
          ],
          "barpolar": [
           {
            "marker": {
             "line": {
              "color": "#E5ECF6",
              "width": 0.5
             },
             "pattern": {
              "fillmode": "overlay",
              "size": 10,
              "solidity": 0.2
             }
            },
            "type": "barpolar"
           }
          ],
          "carpet": [
           {
            "aaxis": {
             "endlinecolor": "#2a3f5f",
             "gridcolor": "white",
             "linecolor": "white",
             "minorgridcolor": "white",
             "startlinecolor": "#2a3f5f"
            },
            "baxis": {
             "endlinecolor": "#2a3f5f",
             "gridcolor": "white",
             "linecolor": "white",
             "minorgridcolor": "white",
             "startlinecolor": "#2a3f5f"
            },
            "type": "carpet"
           }
          ],
          "choropleth": [
           {
            "colorbar": {
             "outlinewidth": 0,
             "ticks": ""
            },
            "type": "choropleth"
           }
          ],
          "contour": [
           {
            "colorbar": {
             "outlinewidth": 0,
             "ticks": ""
            },
            "colorscale": [
             [
              0,
              "#0d0887"
             ],
             [
              0.1111111111111111,
              "#46039f"
             ],
             [
              0.2222222222222222,
              "#7201a8"
             ],
             [
              0.3333333333333333,
              "#9c179e"
             ],
             [
              0.4444444444444444,
              "#bd3786"
             ],
             [
              0.5555555555555556,
              "#d8576b"
             ],
             [
              0.6666666666666666,
              "#ed7953"
             ],
             [
              0.7777777777777778,
              "#fb9f3a"
             ],
             [
              0.8888888888888888,
              "#fdca26"
             ],
             [
              1,
              "#f0f921"
             ]
            ],
            "type": "contour"
           }
          ],
          "contourcarpet": [
           {
            "colorbar": {
             "outlinewidth": 0,
             "ticks": ""
            },
            "type": "contourcarpet"
           }
          ],
          "heatmap": [
           {
            "colorbar": {
             "outlinewidth": 0,
             "ticks": ""
            },
            "colorscale": [
             [
              0,
              "#0d0887"
             ],
             [
              0.1111111111111111,
              "#46039f"
             ],
             [
              0.2222222222222222,
              "#7201a8"
             ],
             [
              0.3333333333333333,
              "#9c179e"
             ],
             [
              0.4444444444444444,
              "#bd3786"
             ],
             [
              0.5555555555555556,
              "#d8576b"
             ],
             [
              0.6666666666666666,
              "#ed7953"
             ],
             [
              0.7777777777777778,
              "#fb9f3a"
             ],
             [
              0.8888888888888888,
              "#fdca26"
             ],
             [
              1,
              "#f0f921"
             ]
            ],
            "type": "heatmap"
           }
          ],
          "heatmapgl": [
           {
            "colorbar": {
             "outlinewidth": 0,
             "ticks": ""
            },
            "colorscale": [
             [
              0,
              "#0d0887"
             ],
             [
              0.1111111111111111,
              "#46039f"
             ],
             [
              0.2222222222222222,
              "#7201a8"
             ],
             [
              0.3333333333333333,
              "#9c179e"
             ],
             [
              0.4444444444444444,
              "#bd3786"
             ],
             [
              0.5555555555555556,
              "#d8576b"
             ],
             [
              0.6666666666666666,
              "#ed7953"
             ],
             [
              0.7777777777777778,
              "#fb9f3a"
             ],
             [
              0.8888888888888888,
              "#fdca26"
             ],
             [
              1,
              "#f0f921"
             ]
            ],
            "type": "heatmapgl"
           }
          ],
          "histogram": [
           {
            "marker": {
             "pattern": {
              "fillmode": "overlay",
              "size": 10,
              "solidity": 0.2
             }
            },
            "type": "histogram"
           }
          ],
          "histogram2d": [
           {
            "colorbar": {
             "outlinewidth": 0,
             "ticks": ""
            },
            "colorscale": [
             [
              0,
              "#0d0887"
             ],
             [
              0.1111111111111111,
              "#46039f"
             ],
             [
              0.2222222222222222,
              "#7201a8"
             ],
             [
              0.3333333333333333,
              "#9c179e"
             ],
             [
              0.4444444444444444,
              "#bd3786"
             ],
             [
              0.5555555555555556,
              "#d8576b"
             ],
             [
              0.6666666666666666,
              "#ed7953"
             ],
             [
              0.7777777777777778,
              "#fb9f3a"
             ],
             [
              0.8888888888888888,
              "#fdca26"
             ],
             [
              1,
              "#f0f921"
             ]
            ],
            "type": "histogram2d"
           }
          ],
          "histogram2dcontour": [
           {
            "colorbar": {
             "outlinewidth": 0,
             "ticks": ""
            },
            "colorscale": [
             [
              0,
              "#0d0887"
             ],
             [
              0.1111111111111111,
              "#46039f"
             ],
             [
              0.2222222222222222,
              "#7201a8"
             ],
             [
              0.3333333333333333,
              "#9c179e"
             ],
             [
              0.4444444444444444,
              "#bd3786"
             ],
             [
              0.5555555555555556,
              "#d8576b"
             ],
             [
              0.6666666666666666,
              "#ed7953"
             ],
             [
              0.7777777777777778,
              "#fb9f3a"
             ],
             [
              0.8888888888888888,
              "#fdca26"
             ],
             [
              1,
              "#f0f921"
             ]
            ],
            "type": "histogram2dcontour"
           }
          ],
          "mesh3d": [
           {
            "colorbar": {
             "outlinewidth": 0,
             "ticks": ""
            },
            "type": "mesh3d"
           }
          ],
          "parcoords": [
           {
            "line": {
             "colorbar": {
              "outlinewidth": 0,
              "ticks": ""
             }
            },
            "type": "parcoords"
           }
          ],
          "pie": [
           {
            "automargin": true,
            "type": "pie"
           }
          ],
          "scatter": [
           {
            "fillpattern": {
             "fillmode": "overlay",
             "size": 10,
             "solidity": 0.2
            },
            "type": "scatter"
           }
          ],
          "scatter3d": [
           {
            "line": {
             "colorbar": {
              "outlinewidth": 0,
              "ticks": ""
             }
            },
            "marker": {
             "colorbar": {
              "outlinewidth": 0,
              "ticks": ""
             }
            },
            "type": "scatter3d"
           }
          ],
          "scattercarpet": [
           {
            "marker": {
             "colorbar": {
              "outlinewidth": 0,
              "ticks": ""
             }
            },
            "type": "scattercarpet"
           }
          ],
          "scattergeo": [
           {
            "marker": {
             "colorbar": {
              "outlinewidth": 0,
              "ticks": ""
             }
            },
            "type": "scattergeo"
           }
          ],
          "scattergl": [
           {
            "marker": {
             "colorbar": {
              "outlinewidth": 0,
              "ticks": ""
             }
            },
            "type": "scattergl"
           }
          ],
          "scattermapbox": [
           {
            "marker": {
             "colorbar": {
              "outlinewidth": 0,
              "ticks": ""
             }
            },
            "type": "scattermapbox"
           }
          ],
          "scatterpolar": [
           {
            "marker": {
             "colorbar": {
              "outlinewidth": 0,
              "ticks": ""
             }
            },
            "type": "scatterpolar"
           }
          ],
          "scatterpolargl": [
           {
            "marker": {
             "colorbar": {
              "outlinewidth": 0,
              "ticks": ""
             }
            },
            "type": "scatterpolargl"
           }
          ],
          "scatterternary": [
           {
            "marker": {
             "colorbar": {
              "outlinewidth": 0,
              "ticks": ""
             }
            },
            "type": "scatterternary"
           }
          ],
          "surface": [
           {
            "colorbar": {
             "outlinewidth": 0,
             "ticks": ""
            },
            "colorscale": [
             [
              0,
              "#0d0887"
             ],
             [
              0.1111111111111111,
              "#46039f"
             ],
             [
              0.2222222222222222,
              "#7201a8"
             ],
             [
              0.3333333333333333,
              "#9c179e"
             ],
             [
              0.4444444444444444,
              "#bd3786"
             ],
             [
              0.5555555555555556,
              "#d8576b"
             ],
             [
              0.6666666666666666,
              "#ed7953"
             ],
             [
              0.7777777777777778,
              "#fb9f3a"
             ],
             [
              0.8888888888888888,
              "#fdca26"
             ],
             [
              1,
              "#f0f921"
             ]
            ],
            "type": "surface"
           }
          ],
          "table": [
           {
            "cells": {
             "fill": {
              "color": "#EBF0F8"
             },
             "line": {
              "color": "white"
             }
            },
            "header": {
             "fill": {
              "color": "#C8D4E3"
             },
             "line": {
              "color": "white"
             }
            },
            "type": "table"
           }
          ]
         },
         "layout": {
          "annotationdefaults": {
           "arrowcolor": "#2a3f5f",
           "arrowhead": 0,
           "arrowwidth": 1
          },
          "autotypenumbers": "strict",
          "coloraxis": {
           "colorbar": {
            "outlinewidth": 0,
            "ticks": ""
           }
          },
          "colorscale": {
           "diverging": [
            [
             0,
             "#8e0152"
            ],
            [
             0.1,
             "#c51b7d"
            ],
            [
             0.2,
             "#de77ae"
            ],
            [
             0.3,
             "#f1b6da"
            ],
            [
             0.4,
             "#fde0ef"
            ],
            [
             0.5,
             "#f7f7f7"
            ],
            [
             0.6,
             "#e6f5d0"
            ],
            [
             0.7,
             "#b8e186"
            ],
            [
             0.8,
             "#7fbc41"
            ],
            [
             0.9,
             "#4d9221"
            ],
            [
             1,
             "#276419"
            ]
           ],
           "sequential": [
            [
             0,
             "#0d0887"
            ],
            [
             0.1111111111111111,
             "#46039f"
            ],
            [
             0.2222222222222222,
             "#7201a8"
            ],
            [
             0.3333333333333333,
             "#9c179e"
            ],
            [
             0.4444444444444444,
             "#bd3786"
            ],
            [
             0.5555555555555556,
             "#d8576b"
            ],
            [
             0.6666666666666666,
             "#ed7953"
            ],
            [
             0.7777777777777778,
             "#fb9f3a"
            ],
            [
             0.8888888888888888,
             "#fdca26"
            ],
            [
             1,
             "#f0f921"
            ]
           ],
           "sequentialminus": [
            [
             0,
             "#0d0887"
            ],
            [
             0.1111111111111111,
             "#46039f"
            ],
            [
             0.2222222222222222,
             "#7201a8"
            ],
            [
             0.3333333333333333,
             "#9c179e"
            ],
            [
             0.4444444444444444,
             "#bd3786"
            ],
            [
             0.5555555555555556,
             "#d8576b"
            ],
            [
             0.6666666666666666,
             "#ed7953"
            ],
            [
             0.7777777777777778,
             "#fb9f3a"
            ],
            [
             0.8888888888888888,
             "#fdca26"
            ],
            [
             1,
             "#f0f921"
            ]
           ]
          },
          "colorway": [
           "#636efa",
           "#EF553B",
           "#00cc96",
           "#ab63fa",
           "#FFA15A",
           "#19d3f3",
           "#FF6692",
           "#B6E880",
           "#FF97FF",
           "#FECB52"
          ],
          "font": {
           "color": "#2a3f5f"
          },
          "geo": {
           "bgcolor": "white",
           "lakecolor": "white",
           "landcolor": "#E5ECF6",
           "showlakes": true,
           "showland": true,
           "subunitcolor": "white"
          },
          "hoverlabel": {
           "align": "left"
          },
          "hovermode": "closest",
          "mapbox": {
           "style": "light"
          },
          "paper_bgcolor": "white",
          "plot_bgcolor": "#E5ECF6",
          "polar": {
           "angularaxis": {
            "gridcolor": "white",
            "linecolor": "white",
            "ticks": ""
           },
           "bgcolor": "#E5ECF6",
           "radialaxis": {
            "gridcolor": "white",
            "linecolor": "white",
            "ticks": ""
           }
          },
          "scene": {
           "xaxis": {
            "backgroundcolor": "#E5ECF6",
            "gridcolor": "white",
            "gridwidth": 2,
            "linecolor": "white",
            "showbackground": true,
            "ticks": "",
            "zerolinecolor": "white"
           },
           "yaxis": {
            "backgroundcolor": "#E5ECF6",
            "gridcolor": "white",
            "gridwidth": 2,
            "linecolor": "white",
            "showbackground": true,
            "ticks": "",
            "zerolinecolor": "white"
           },
           "zaxis": {
            "backgroundcolor": "#E5ECF6",
            "gridcolor": "white",
            "gridwidth": 2,
            "linecolor": "white",
            "showbackground": true,
            "ticks": "",
            "zerolinecolor": "white"
           }
          },
          "shapedefaults": {
           "line": {
            "color": "#2a3f5f"
           }
          },
          "ternary": {
           "aaxis": {
            "gridcolor": "white",
            "linecolor": "white",
            "ticks": ""
           },
           "baxis": {
            "gridcolor": "white",
            "linecolor": "white",
            "ticks": ""
           },
           "bgcolor": "#E5ECF6",
           "caxis": {
            "gridcolor": "white",
            "linecolor": "white",
            "ticks": ""
           }
          },
          "title": {
           "x": 0.05
          },
          "xaxis": {
           "automargin": true,
           "gridcolor": "white",
           "linecolor": "white",
           "ticks": "",
           "title": {
            "standoff": 15
           },
           "zerolinecolor": "white",
           "zerolinewidth": 2
          },
          "yaxis": {
           "automargin": true,
           "gridcolor": "white",
           "linecolor": "white",
           "ticks": "",
           "title": {
            "standoff": 15
           },
           "zerolinecolor": "white",
           "zerolinewidth": 2
          }
         }
        },
        "title": {
         "font": {
          "color": "#4D5663"
         }
        },
        "xaxis": {
         "gridcolor": "#E1E5ED",
         "showgrid": true,
         "tickfont": {
          "color": "#4D5663"
         },
         "title": {
          "font": {
           "color": "#4D5663"
          },
          "text": ""
         },
         "zerolinecolor": "#E1E5ED"
        },
        "yaxis": {
         "gridcolor": "#E1E5ED",
         "showgrid": true,
         "tickfont": {
          "color": "#4D5663"
         },
         "title": {
          "font": {
           "color": "#4D5663"
          },
          "text": ""
         },
         "zerolinecolor": "#E1E5ED"
        }
       }
      },
      "text/html": [
       "<div>                            <div id=\"149f71da-ddf8-457d-999e-9dbaed08bb22\" class=\"plotly-graph-div\" style=\"height:525px; width:100%;\"></div>            <script type=\"text/javascript\">                require([\"plotly\"], function(Plotly) {                    window.PLOTLYENV=window.PLOTLYENV || {};\n",
       "                    window.PLOTLYENV.BASE_URL='https://plot.ly';                                    if (document.getElementById(\"149f71da-ddf8-457d-999e-9dbaed08bb22\")) {                    Plotly.newPlot(                        \"149f71da-ddf8-457d-999e-9dbaed08bb22\",                        [{\"marker\":{\"color\":\"rgba(255, 153, 51, 0.6)\",\"line\":{\"color\":\"rgba(255, 153, 51, 1.0)\",\"width\":1}},\"name\":\"None\",\"orientation\":\"v\",\"text\":\"\",\"x\":[\"A\",\"B\",\"C\",\"D\"],\"y\":[6.665501635122301,6.301823920877924,-11.028163245063634,6.1096803530315285],\"type\":\"bar\"}],                        {\"legend\":{\"bgcolor\":\"#F5F6F9\",\"font\":{\"color\":\"#4D5663\"}},\"paper_bgcolor\":\"#F5F6F9\",\"plot_bgcolor\":\"#F5F6F9\",\"template\":{\"data\":{\"barpolar\":[{\"marker\":{\"line\":{\"color\":\"#E5ECF6\",\"width\":0.5},\"pattern\":{\"fillmode\":\"overlay\",\"size\":10,\"solidity\":0.2}},\"type\":\"barpolar\"}],\"bar\":[{\"error_x\":{\"color\":\"#2a3f5f\"},\"error_y\":{\"color\":\"#2a3f5f\"},\"marker\":{\"line\":{\"color\":\"#E5ECF6\",\"width\":0.5},\"pattern\":{\"fillmode\":\"overlay\",\"size\":10,\"solidity\":0.2}},\"type\":\"bar\"}],\"carpet\":[{\"aaxis\":{\"endlinecolor\":\"#2a3f5f\",\"gridcolor\":\"white\",\"linecolor\":\"white\",\"minorgridcolor\":\"white\",\"startlinecolor\":\"#2a3f5f\"},\"baxis\":{\"endlinecolor\":\"#2a3f5f\",\"gridcolor\":\"white\",\"linecolor\":\"white\",\"minorgridcolor\":\"white\",\"startlinecolor\":\"#2a3f5f\"},\"type\":\"carpet\"}],\"choropleth\":[{\"colorbar\":{\"outlinewidth\":0,\"ticks\":\"\"},\"type\":\"choropleth\"}],\"contourcarpet\":[{\"colorbar\":{\"outlinewidth\":0,\"ticks\":\"\"},\"type\":\"contourcarpet\"}],\"contour\":[{\"colorbar\":{\"outlinewidth\":0,\"ticks\":\"\"},\"colorscale\":[[0.0,\"#0d0887\"],[0.1111111111111111,\"#46039f\"],[0.2222222222222222,\"#7201a8\"],[0.3333333333333333,\"#9c179e\"],[0.4444444444444444,\"#bd3786\"],[0.5555555555555556,\"#d8576b\"],[0.6666666666666666,\"#ed7953\"],[0.7777777777777778,\"#fb9f3a\"],[0.8888888888888888,\"#fdca26\"],[1.0,\"#f0f921\"]],\"type\":\"contour\"}],\"heatmapgl\":[{\"colorbar\":{\"outlinewidth\":0,\"ticks\":\"\"},\"colorscale\":[[0.0,\"#0d0887\"],[0.1111111111111111,\"#46039f\"],[0.2222222222222222,\"#7201a8\"],[0.3333333333333333,\"#9c179e\"],[0.4444444444444444,\"#bd3786\"],[0.5555555555555556,\"#d8576b\"],[0.6666666666666666,\"#ed7953\"],[0.7777777777777778,\"#fb9f3a\"],[0.8888888888888888,\"#fdca26\"],[1.0,\"#f0f921\"]],\"type\":\"heatmapgl\"}],\"heatmap\":[{\"colorbar\":{\"outlinewidth\":0,\"ticks\":\"\"},\"colorscale\":[[0.0,\"#0d0887\"],[0.1111111111111111,\"#46039f\"],[0.2222222222222222,\"#7201a8\"],[0.3333333333333333,\"#9c179e\"],[0.4444444444444444,\"#bd3786\"],[0.5555555555555556,\"#d8576b\"],[0.6666666666666666,\"#ed7953\"],[0.7777777777777778,\"#fb9f3a\"],[0.8888888888888888,\"#fdca26\"],[1.0,\"#f0f921\"]],\"type\":\"heatmap\"}],\"histogram2dcontour\":[{\"colorbar\":{\"outlinewidth\":0,\"ticks\":\"\"},\"colorscale\":[[0.0,\"#0d0887\"],[0.1111111111111111,\"#46039f\"],[0.2222222222222222,\"#7201a8\"],[0.3333333333333333,\"#9c179e\"],[0.4444444444444444,\"#bd3786\"],[0.5555555555555556,\"#d8576b\"],[0.6666666666666666,\"#ed7953\"],[0.7777777777777778,\"#fb9f3a\"],[0.8888888888888888,\"#fdca26\"],[1.0,\"#f0f921\"]],\"type\":\"histogram2dcontour\"}],\"histogram2d\":[{\"colorbar\":{\"outlinewidth\":0,\"ticks\":\"\"},\"colorscale\":[[0.0,\"#0d0887\"],[0.1111111111111111,\"#46039f\"],[0.2222222222222222,\"#7201a8\"],[0.3333333333333333,\"#9c179e\"],[0.4444444444444444,\"#bd3786\"],[0.5555555555555556,\"#d8576b\"],[0.6666666666666666,\"#ed7953\"],[0.7777777777777778,\"#fb9f3a\"],[0.8888888888888888,\"#fdca26\"],[1.0,\"#f0f921\"]],\"type\":\"histogram2d\"}],\"histogram\":[{\"marker\":{\"pattern\":{\"fillmode\":\"overlay\",\"size\":10,\"solidity\":0.2}},\"type\":\"histogram\"}],\"mesh3d\":[{\"colorbar\":{\"outlinewidth\":0,\"ticks\":\"\"},\"type\":\"mesh3d\"}],\"parcoords\":[{\"line\":{\"colorbar\":{\"outlinewidth\":0,\"ticks\":\"\"}},\"type\":\"parcoords\"}],\"pie\":[{\"automargin\":true,\"type\":\"pie\"}],\"scatter3d\":[{\"line\":{\"colorbar\":{\"outlinewidth\":0,\"ticks\":\"\"}},\"marker\":{\"colorbar\":{\"outlinewidth\":0,\"ticks\":\"\"}},\"type\":\"scatter3d\"}],\"scattercarpet\":[{\"marker\":{\"colorbar\":{\"outlinewidth\":0,\"ticks\":\"\"}},\"type\":\"scattercarpet\"}],\"scattergeo\":[{\"marker\":{\"colorbar\":{\"outlinewidth\":0,\"ticks\":\"\"}},\"type\":\"scattergeo\"}],\"scattergl\":[{\"marker\":{\"colorbar\":{\"outlinewidth\":0,\"ticks\":\"\"}},\"type\":\"scattergl\"}],\"scattermapbox\":[{\"marker\":{\"colorbar\":{\"outlinewidth\":0,\"ticks\":\"\"}},\"type\":\"scattermapbox\"}],\"scatterpolargl\":[{\"marker\":{\"colorbar\":{\"outlinewidth\":0,\"ticks\":\"\"}},\"type\":\"scatterpolargl\"}],\"scatterpolar\":[{\"marker\":{\"colorbar\":{\"outlinewidth\":0,\"ticks\":\"\"}},\"type\":\"scatterpolar\"}],\"scatter\":[{\"fillpattern\":{\"fillmode\":\"overlay\",\"size\":10,\"solidity\":0.2},\"type\":\"scatter\"}],\"scatterternary\":[{\"marker\":{\"colorbar\":{\"outlinewidth\":0,\"ticks\":\"\"}},\"type\":\"scatterternary\"}],\"surface\":[{\"colorbar\":{\"outlinewidth\":0,\"ticks\":\"\"},\"colorscale\":[[0.0,\"#0d0887\"],[0.1111111111111111,\"#46039f\"],[0.2222222222222222,\"#7201a8\"],[0.3333333333333333,\"#9c179e\"],[0.4444444444444444,\"#bd3786\"],[0.5555555555555556,\"#d8576b\"],[0.6666666666666666,\"#ed7953\"],[0.7777777777777778,\"#fb9f3a\"],[0.8888888888888888,\"#fdca26\"],[1.0,\"#f0f921\"]],\"type\":\"surface\"}],\"table\":[{\"cells\":{\"fill\":{\"color\":\"#EBF0F8\"},\"line\":{\"color\":\"white\"}},\"header\":{\"fill\":{\"color\":\"#C8D4E3\"},\"line\":{\"color\":\"white\"}},\"type\":\"table\"}]},\"layout\":{\"annotationdefaults\":{\"arrowcolor\":\"#2a3f5f\",\"arrowhead\":0,\"arrowwidth\":1},\"autotypenumbers\":\"strict\",\"coloraxis\":{\"colorbar\":{\"outlinewidth\":0,\"ticks\":\"\"}},\"colorscale\":{\"diverging\":[[0,\"#8e0152\"],[0.1,\"#c51b7d\"],[0.2,\"#de77ae\"],[0.3,\"#f1b6da\"],[0.4,\"#fde0ef\"],[0.5,\"#f7f7f7\"],[0.6,\"#e6f5d0\"],[0.7,\"#b8e186\"],[0.8,\"#7fbc41\"],[0.9,\"#4d9221\"],[1,\"#276419\"]],\"sequential\":[[0.0,\"#0d0887\"],[0.1111111111111111,\"#46039f\"],[0.2222222222222222,\"#7201a8\"],[0.3333333333333333,\"#9c179e\"],[0.4444444444444444,\"#bd3786\"],[0.5555555555555556,\"#d8576b\"],[0.6666666666666666,\"#ed7953\"],[0.7777777777777778,\"#fb9f3a\"],[0.8888888888888888,\"#fdca26\"],[1.0,\"#f0f921\"]],\"sequentialminus\":[[0.0,\"#0d0887\"],[0.1111111111111111,\"#46039f\"],[0.2222222222222222,\"#7201a8\"],[0.3333333333333333,\"#9c179e\"],[0.4444444444444444,\"#bd3786\"],[0.5555555555555556,\"#d8576b\"],[0.6666666666666666,\"#ed7953\"],[0.7777777777777778,\"#fb9f3a\"],[0.8888888888888888,\"#fdca26\"],[1.0,\"#f0f921\"]]},\"colorway\":[\"#636efa\",\"#EF553B\",\"#00cc96\",\"#ab63fa\",\"#FFA15A\",\"#19d3f3\",\"#FF6692\",\"#B6E880\",\"#FF97FF\",\"#FECB52\"],\"font\":{\"color\":\"#2a3f5f\"},\"geo\":{\"bgcolor\":\"white\",\"lakecolor\":\"white\",\"landcolor\":\"#E5ECF6\",\"showlakes\":true,\"showland\":true,\"subunitcolor\":\"white\"},\"hoverlabel\":{\"align\":\"left\"},\"hovermode\":\"closest\",\"mapbox\":{\"style\":\"light\"},\"paper_bgcolor\":\"white\",\"plot_bgcolor\":\"#E5ECF6\",\"polar\":{\"angularaxis\":{\"gridcolor\":\"white\",\"linecolor\":\"white\",\"ticks\":\"\"},\"bgcolor\":\"#E5ECF6\",\"radialaxis\":{\"gridcolor\":\"white\",\"linecolor\":\"white\",\"ticks\":\"\"}},\"scene\":{\"xaxis\":{\"backgroundcolor\":\"#E5ECF6\",\"gridcolor\":\"white\",\"gridwidth\":2,\"linecolor\":\"white\",\"showbackground\":true,\"ticks\":\"\",\"zerolinecolor\":\"white\"},\"yaxis\":{\"backgroundcolor\":\"#E5ECF6\",\"gridcolor\":\"white\",\"gridwidth\":2,\"linecolor\":\"white\",\"showbackground\":true,\"ticks\":\"\",\"zerolinecolor\":\"white\"},\"zaxis\":{\"backgroundcolor\":\"#E5ECF6\",\"gridcolor\":\"white\",\"gridwidth\":2,\"linecolor\":\"white\",\"showbackground\":true,\"ticks\":\"\",\"zerolinecolor\":\"white\"}},\"shapedefaults\":{\"line\":{\"color\":\"#2a3f5f\"}},\"ternary\":{\"aaxis\":{\"gridcolor\":\"white\",\"linecolor\":\"white\",\"ticks\":\"\"},\"baxis\":{\"gridcolor\":\"white\",\"linecolor\":\"white\",\"ticks\":\"\"},\"bgcolor\":\"#E5ECF6\",\"caxis\":{\"gridcolor\":\"white\",\"linecolor\":\"white\",\"ticks\":\"\"}},\"title\":{\"x\":0.05},\"xaxis\":{\"automargin\":true,\"gridcolor\":\"white\",\"linecolor\":\"white\",\"ticks\":\"\",\"title\":{\"standoff\":15},\"zerolinecolor\":\"white\",\"zerolinewidth\":2},\"yaxis\":{\"automargin\":true,\"gridcolor\":\"white\",\"linecolor\":\"white\",\"ticks\":\"\",\"title\":{\"standoff\":15},\"zerolinecolor\":\"white\",\"zerolinewidth\":2}}},\"title\":{\"font\":{\"color\":\"#4D5663\"}},\"xaxis\":{\"gridcolor\":\"#E1E5ED\",\"showgrid\":true,\"tickfont\":{\"color\":\"#4D5663\"},\"title\":{\"font\":{\"color\":\"#4D5663\"},\"text\":\"\"},\"zerolinecolor\":\"#E1E5ED\"},\"yaxis\":{\"gridcolor\":\"#E1E5ED\",\"showgrid\":true,\"tickfont\":{\"color\":\"#4D5663\"},\"title\":{\"font\":{\"color\":\"#4D5663\"},\"text\":\"\"},\"zerolinecolor\":\"#E1E5ED\"}},                        {\"showLink\": true, \"linkText\": \"Export to plot.ly\", \"plotlyServerURL\": \"https://plot.ly\", \"responsive\": true}                    ).then(function(){\n",
       "                            \n",
       "var gd = document.getElementById('149f71da-ddf8-457d-999e-9dbaed08bb22');\n",
       "var x = new MutationObserver(function (mutations, observer) {{\n",
       "        var display = window.getComputedStyle(gd).display;\n",
       "        if (!display || display === 'none') {{\n",
       "            console.log([gd, 'removed!']);\n",
       "            Plotly.purge(gd);\n",
       "            observer.disconnect();\n",
       "        }}\n",
       "}});\n",
       "\n",
       "// Listen for the removal of the full notebook cells\n",
       "var notebookContainer = gd.closest('#notebook-container');\n",
       "if (notebookContainer) {{\n",
       "    x.observe(notebookContainer, {childList: true});\n",
       "}}\n",
       "\n",
       "// Listen for the clearing of the current output cell\n",
       "var outputEl = gd.closest('.output');\n",
       "if (outputEl) {{\n",
       "    x.observe(outputEl, {childList: true});\n",
       "}}\n",
       "\n",
       "                        })                };                });            </script>        </div>"
      ]
     },
     "metadata": {},
     "output_type": "display_data"
    }
   ],
   "source": [
    "df.sum().iplot(kind='bar')"
   ]
  },
  {
   "cell_type": "code",
   "execution_count": 23,
   "metadata": {},
   "outputs": [
    {
     "data": {
      "application/vnd.plotly.v1+json": {
       "config": {
        "linkText": "Export to plot.ly",
        "plotlyServerURL": "https://plot.ly",
        "showLink": true
       },
       "data": [
        {
         "boxpoints": false,
         "line": {
          "width": 1.3
         },
         "marker": {
          "color": "rgba(255, 153, 51, 1.0)"
         },
         "name": "A",
         "orientation": "v",
         "type": "box",
         "y": [
          0.40534718238775297,
          0.4618384364241935,
          0.24801495362386689,
          -0.20275965105180163,
          0.09894775497959721,
          0.6599246788548914,
          0.8438472586319632,
          0.014204738168655967,
          -1.0523175976673647,
          -0.33916820542896847,
          -1.661959469597001,
          0.012685600171485036,
          -0.4789785319016016,
          1.0084397271213716,
          0.5939225191331639,
          -1.095553489611045,
          -0.18951102092657343,
          -0.7485311039793072,
          -0.430464829191035,
          -0.7631277171679673,
          0.36148744061730415,
          0.07563251615586787,
          -1.8860291881983393,
          1.830146264431817,
          1.5261693945209298,
          0.16291324267842877,
          -0.8262337273807737,
          -0.5517585324681692,
          0.345803414065465,
          -1.4703487784808873,
          -0.42067931889214644,
          -0.13166190696965407,
          1.123577676117159,
          1.1810238810798508,
          1.660312792380613,
          0.5051805618852068,
          0.17556028099014473,
          -0.5494279945135929,
          -0.054740206493713695,
          -0.2168076326530869,
          -0.851789995700195,
          1.8015449616578993,
          -1.4170720382865047,
          0.8735331849938913,
          -1.1093059122024311,
          -0.4904870041875731,
          0.024771903075371624,
          -0.14604266902562074,
          -0.1804877739615316,
          -0.26801124668195686,
          0.6532291709068574,
          0.9495574584417534,
          -1.531778149170353,
          1.5890221761187682,
          0.980982056724215,
          -1.3218991841523904,
          -0.7748649079913962,
          0.4742698276888825,
          -0.0020455685397476487,
          1.8920574153876382,
          -0.22893685140438824,
          -0.6971595344536778,
          -1.7688603238410823,
          0.06128443693784288,
          -0.360684189084469,
          -0.4533831065070736,
          1.1124492419990712,
          -0.14284110930219396,
          0.583799577696767,
          0.4763961235399069,
          0.888486188632068,
          1.1547065346517043,
          -0.06266321573539217,
          1.2614886864066421,
          -0.2713660149998362,
          -0.564030478976412,
          -0.36032635768443194,
          -1.386122960420082,
          0.6497222345182069,
          0.4073214610955935,
          1.1951054678585589,
          1.1462194285806422,
          0.3839065700825093,
          0.02158569664438489,
          -0.31607498419747876,
          1.2258170818043679,
          1.5403849676974233,
          -1.2793493722883689,
          1.4546677261348309,
          0.8853740095330099,
          -0.27871528402228496,
          -0.45790415202886203,
          0.6078800386133114,
          0.2619094555525887,
          -0.9359554761132841,
          -1.310045647360763,
          0.8639954189862001,
          -0.17319697866189304,
          -0.23456567552557125,
          0.39507788382193987
         ]
        },
        {
         "boxpoints": false,
         "line": {
          "width": 1.3
         },
         "marker": {
          "color": "rgba(55, 128, 191, 1.0)"
         },
         "name": "B",
         "orientation": "v",
         "type": "box",
         "y": [
          1.022485686609692,
          -0.2991330376533287,
          -0.63888610969383,
          -0.8833750002612436,
          -0.4078861332958796,
          0.4799082532464347,
          -1.357274840799496,
          0.19810773620278088,
          -0.19783074771131168,
          0.692818817496382,
          0.23191266266703442,
          -0.39355437747570005,
          0.5447687622016464,
          -0.14091375476541995,
          -0.22769161270345697,
          0.8588915764933582,
          -0.6783986928331065,
          0.8211036067421712,
          0.25817266001630773,
          0.14799711696746098,
          0.05927620745292284,
          -0.36267230950085433,
          1.2593028653582603,
          -1.0007777217527574,
          1.2282436874541525,
          -0.12769887512315786,
          1.7030143913579163,
          -1.0020872605347468,
          0.3195560424142498,
          0.15240321418665187,
          -1.5797861553236705,
          -0.3739313200333769,
          2.6021110509168666,
          -1.4471100938515242,
          -0.22318666138188153,
          0.47553906694810044,
          -1.1809472376756547,
          1.6162460221607278,
          -0.30331773033449044,
          -0.13182156682787596,
          1.4149621524860898,
          -0.9530259792261948,
          0.2742169032926556,
          -0.046045542434082556,
          0.634280138667863,
          -0.44208708609224245,
          0.6918129090202446,
          0.18012353082972507,
          -0.03975756365095694,
          -0.4035085758608769,
          -1.7585817100788126,
          -0.2996635985622194,
          -0.08613466026216665,
          1.3407846486700787,
          -1.2852375040247463,
          0.9426548906856975,
          -0.4237478485145406,
          -0.9875258770195806,
          0.8492892915359607,
          0.8623233408981996,
          -0.6444147916046757,
          0.1078678343079182,
          -0.9875734437892321,
          1.291562887565866,
          -0.8904951305931562,
          -1.7911999540279506,
          0.8759961030601735,
          0.2747985052742041,
          -0.20212363160084537,
          1.9519926300458057,
          1.2228922969535314,
          1.2775425993797307,
          -0.033907857353057,
          -1.1269326593789921,
          -0.35613822482803065,
          -0.3269080347457746,
          1.4592243810701002,
          -0.20686257323796692,
          -0.09616636678433634,
          1.2419410065257095,
          1.3048143207669025,
          -0.2980538960987875,
          1.3781856734829458,
          1.272172464631937,
          -0.3472494847742187,
          -0.010538336780892818,
          -0.16183176257636525,
          0.10152373504878527,
          -1.8653899621822374,
          -0.9683998654059663,
          -0.779130702347315,
          1.6202962931960625,
          -0.4690630803098864,
          0.024481735873536713,
          0.5510679505159154,
          -1.4104672378985652,
          0.5669444261650838,
          -1.350048904489357,
          0.6109803903416247,
          1.311724539759251
         ]
        },
        {
         "boxpoints": false,
         "line": {
          "width": 1.3
         },
         "marker": {
          "color": "rgba(50, 171, 96, 1.0)"
         },
         "name": "C",
         "orientation": "v",
         "type": "box",
         "y": [
          -0.6846939278970728,
          -2.3075965045478024,
          -0.08633181165856928,
          -0.960632782911131,
          -0.2594843276284265,
          -1.0909004044679218,
          -0.39736078887757353,
          0.4859202399005569,
          0.64713042030015,
          -0.7813163021462705,
          0.2958028918427429,
          -1.3243857628930011,
          -1.662961371536703,
          -0.40043565729067965,
          -0.3451119384557309,
          2.0903955558237,
          -0.012557888875386733,
          0.07247683377659399,
          0.11988491292645348,
          -0.4627347402924009,
          -1.0946635758514829,
          -2.6728360093505703,
          0.4742050895262971,
          -1.150747503716675,
          -1.2679999124494294,
          -1.7425682851942794,
          1.2659089043708076,
          0.6599750210405136,
          0.29300311967555526,
          -0.03466136540901326,
          0.8932463555019038,
          0.1375773675663175,
          -0.39833065736608564,
          0.2287132229961002,
          -1.888861525535101,
          -1.3748150359304196,
          0.41802892703303685,
          1.0966859796173523,
          -0.13334943209995173,
          -1.1419708932998787,
          1.1871886179574034,
          0.8486538344167918,
          -0.5192329608506668,
          0.002664928529814942,
          -0.11805644493445205,
          -2.1302678111856066,
          -1.5493117619924885,
          -0.4579647003513041,
          -1.5589319481231727,
          -0.7013284975095917,
          -1.1942815821767572,
          1.4418256610856601,
          -0.1194927798018692,
          -1.0959742580943388,
          2.102428243098901,
          -0.32061244957872076,
          0.7008907102791864,
          -0.3491490480071671,
          -0.5547074472788999,
          -0.6118401100626987,
          -0.5036361595156262,
          -0.8556225818470531,
          1.572121338917596,
          0.7367614207637612,
          -0.6337092097146587,
          -0.12587396488378122,
          0.5956416887411763,
          -0.5257234999490865,
          -0.25349596817224906,
          -0.5430718989494115,
          0.09758462681366432,
          0.1927830293776624,
          1.5073729373103912,
          -0.5732060696026312,
          -0.357320623311159,
          -0.3825789830900455,
          0.6551065113125831,
          0.7398370183868511,
          -0.7059609433212608,
          -0.42166534144707934,
          3.3206924959670467,
          -0.37304189385547065,
          -1.4746002018309643,
          -0.04270476295674498,
          0.995515542888556,
          0.0033839830817497434,
          1.2256999756538212,
          0.2501254597405451,
          0.33648316506628745,
          2.109721828092375,
          -0.6805331943785887,
          1.3424917917601022,
          0.15416374829761778,
          0.8242630448059016,
          -0.9600061880373896,
          1.0265224829519026,
          -0.8113472662411878,
          -0.39356837717677795,
          0.2006738374444646,
          1.1984113242069359
         ]
        },
        {
         "boxpoints": false,
         "line": {
          "width": 1.3
         },
         "marker": {
          "color": "rgba(128, 0, 128, 1.0)"
         },
         "name": "D",
         "orientation": "v",
         "type": "box",
         "y": [
          2.496071177103857,
          0.46081342893771055,
          -0.0993452983368322,
          0.5809415166299917,
          0.40510046264685573,
          -0.5680460155079847,
          1.2013126163899779,
          0.9235025254388937,
          -0.33489510490471136,
          0.6903185909680251,
          1.6940589078900654,
          1.1552141160280898,
          0.4519339032526576,
          -1.6378233982246284,
          -0.18705288580078047,
          -0.6014119459024533,
          -0.08661516142734464,
          -2.2138315256459355,
          0.21259912157741076,
          0.17200406866655887,
          0.06345710562435442,
          -0.1657132760048854,
          0.30709462962362616,
          1.2868210087532836,
          1.8925326595443972,
          0.3172886598320608,
          -0.7675255681542591,
          1.001540368478351,
          1.635234668573889,
          0.6968888827556089,
          -1.2838354891977093,
          -1.4858243901619834,
          1.5883334911707394,
          0.2614533519409762,
          1.4479396943145668,
          0.9869269363450887,
          1.2412667641689517,
          1.4554482284528751,
          -1.739546295511982,
          0.08624035442034013,
          0.014460353605616887,
          -1.4687897908310128,
          0.9263315314260369,
          0.4630509181806159,
          0.3962225137932105,
          -0.5738893360751438,
          0.08255968121947238,
          2.3123736265797725,
          0.1814158966679779,
          1.0023561740323266,
          -0.8432421516873355,
          0.9047034033575648,
          0.14633007324558994,
          -1.2121043743814122,
          0.34701696560862716,
          -0.49474703279285887,
          -0.6706522920168768,
          -2.1344327686615587,
          2.4921141712522954,
          -0.36850330741956977,
          -1.687793543566312,
          -0.25358597500926955,
          -0.8090190742185616,
          0.015245709923150873,
          0.27458290201369623,
          -2.1183057080112224,
          1.0366307466847968,
          1.0273831782140008,
          -1.1570046788261379,
          0.41756679021218324,
          -0.8225478326104317,
          1.2346573270949213,
          0.00624533970765154,
          0.9819581405070998,
          -2.2181810791031715,
          -1.829224609246086,
          0.2780099520868739,
          0.7531073238742761,
          -0.6687741250947908,
          0.307472012042972,
          -1.4508497162720104,
          0.5806461816902653,
          -0.1719019649229563,
          -0.8845797818041453,
          1.7110324908597812,
          -0.8042138569717536,
          -0.117255677636341,
          -0.7971556907902491,
          -0.9257571625867512,
          -0.059484554873857114,
          -1.7648403405153228,
          0.6893596079875423,
          -1.12093735936863,
          1.58417022354427,
          -0.15762384928257814,
          1.199392222105967,
          -0.09112697331503981,
          -1.2436291221677196,
          -1.3395113213792513,
          1.462079062203621
         ]
        }
       ],
       "layout": {
        "legend": {
         "bgcolor": "#F5F6F9",
         "font": {
          "color": "#4D5663"
         }
        },
        "paper_bgcolor": "#F5F6F9",
        "plot_bgcolor": "#F5F6F9",
        "template": {
         "data": {
          "bar": [
           {
            "error_x": {
             "color": "#2a3f5f"
            },
            "error_y": {
             "color": "#2a3f5f"
            },
            "marker": {
             "line": {
              "color": "#E5ECF6",
              "width": 0.5
             },
             "pattern": {
              "fillmode": "overlay",
              "size": 10,
              "solidity": 0.2
             }
            },
            "type": "bar"
           }
          ],
          "barpolar": [
           {
            "marker": {
             "line": {
              "color": "#E5ECF6",
              "width": 0.5
             },
             "pattern": {
              "fillmode": "overlay",
              "size": 10,
              "solidity": 0.2
             }
            },
            "type": "barpolar"
           }
          ],
          "carpet": [
           {
            "aaxis": {
             "endlinecolor": "#2a3f5f",
             "gridcolor": "white",
             "linecolor": "white",
             "minorgridcolor": "white",
             "startlinecolor": "#2a3f5f"
            },
            "baxis": {
             "endlinecolor": "#2a3f5f",
             "gridcolor": "white",
             "linecolor": "white",
             "minorgridcolor": "white",
             "startlinecolor": "#2a3f5f"
            },
            "type": "carpet"
           }
          ],
          "choropleth": [
           {
            "colorbar": {
             "outlinewidth": 0,
             "ticks": ""
            },
            "type": "choropleth"
           }
          ],
          "contour": [
           {
            "colorbar": {
             "outlinewidth": 0,
             "ticks": ""
            },
            "colorscale": [
             [
              0,
              "#0d0887"
             ],
             [
              0.1111111111111111,
              "#46039f"
             ],
             [
              0.2222222222222222,
              "#7201a8"
             ],
             [
              0.3333333333333333,
              "#9c179e"
             ],
             [
              0.4444444444444444,
              "#bd3786"
             ],
             [
              0.5555555555555556,
              "#d8576b"
             ],
             [
              0.6666666666666666,
              "#ed7953"
             ],
             [
              0.7777777777777778,
              "#fb9f3a"
             ],
             [
              0.8888888888888888,
              "#fdca26"
             ],
             [
              1,
              "#f0f921"
             ]
            ],
            "type": "contour"
           }
          ],
          "contourcarpet": [
           {
            "colorbar": {
             "outlinewidth": 0,
             "ticks": ""
            },
            "type": "contourcarpet"
           }
          ],
          "heatmap": [
           {
            "colorbar": {
             "outlinewidth": 0,
             "ticks": ""
            },
            "colorscale": [
             [
              0,
              "#0d0887"
             ],
             [
              0.1111111111111111,
              "#46039f"
             ],
             [
              0.2222222222222222,
              "#7201a8"
             ],
             [
              0.3333333333333333,
              "#9c179e"
             ],
             [
              0.4444444444444444,
              "#bd3786"
             ],
             [
              0.5555555555555556,
              "#d8576b"
             ],
             [
              0.6666666666666666,
              "#ed7953"
             ],
             [
              0.7777777777777778,
              "#fb9f3a"
             ],
             [
              0.8888888888888888,
              "#fdca26"
             ],
             [
              1,
              "#f0f921"
             ]
            ],
            "type": "heatmap"
           }
          ],
          "heatmapgl": [
           {
            "colorbar": {
             "outlinewidth": 0,
             "ticks": ""
            },
            "colorscale": [
             [
              0,
              "#0d0887"
             ],
             [
              0.1111111111111111,
              "#46039f"
             ],
             [
              0.2222222222222222,
              "#7201a8"
             ],
             [
              0.3333333333333333,
              "#9c179e"
             ],
             [
              0.4444444444444444,
              "#bd3786"
             ],
             [
              0.5555555555555556,
              "#d8576b"
             ],
             [
              0.6666666666666666,
              "#ed7953"
             ],
             [
              0.7777777777777778,
              "#fb9f3a"
             ],
             [
              0.8888888888888888,
              "#fdca26"
             ],
             [
              1,
              "#f0f921"
             ]
            ],
            "type": "heatmapgl"
           }
          ],
          "histogram": [
           {
            "marker": {
             "pattern": {
              "fillmode": "overlay",
              "size": 10,
              "solidity": 0.2
             }
            },
            "type": "histogram"
           }
          ],
          "histogram2d": [
           {
            "colorbar": {
             "outlinewidth": 0,
             "ticks": ""
            },
            "colorscale": [
             [
              0,
              "#0d0887"
             ],
             [
              0.1111111111111111,
              "#46039f"
             ],
             [
              0.2222222222222222,
              "#7201a8"
             ],
             [
              0.3333333333333333,
              "#9c179e"
             ],
             [
              0.4444444444444444,
              "#bd3786"
             ],
             [
              0.5555555555555556,
              "#d8576b"
             ],
             [
              0.6666666666666666,
              "#ed7953"
             ],
             [
              0.7777777777777778,
              "#fb9f3a"
             ],
             [
              0.8888888888888888,
              "#fdca26"
             ],
             [
              1,
              "#f0f921"
             ]
            ],
            "type": "histogram2d"
           }
          ],
          "histogram2dcontour": [
           {
            "colorbar": {
             "outlinewidth": 0,
             "ticks": ""
            },
            "colorscale": [
             [
              0,
              "#0d0887"
             ],
             [
              0.1111111111111111,
              "#46039f"
             ],
             [
              0.2222222222222222,
              "#7201a8"
             ],
             [
              0.3333333333333333,
              "#9c179e"
             ],
             [
              0.4444444444444444,
              "#bd3786"
             ],
             [
              0.5555555555555556,
              "#d8576b"
             ],
             [
              0.6666666666666666,
              "#ed7953"
             ],
             [
              0.7777777777777778,
              "#fb9f3a"
             ],
             [
              0.8888888888888888,
              "#fdca26"
             ],
             [
              1,
              "#f0f921"
             ]
            ],
            "type": "histogram2dcontour"
           }
          ],
          "mesh3d": [
           {
            "colorbar": {
             "outlinewidth": 0,
             "ticks": ""
            },
            "type": "mesh3d"
           }
          ],
          "parcoords": [
           {
            "line": {
             "colorbar": {
              "outlinewidth": 0,
              "ticks": ""
             }
            },
            "type": "parcoords"
           }
          ],
          "pie": [
           {
            "automargin": true,
            "type": "pie"
           }
          ],
          "scatter": [
           {
            "fillpattern": {
             "fillmode": "overlay",
             "size": 10,
             "solidity": 0.2
            },
            "type": "scatter"
           }
          ],
          "scatter3d": [
           {
            "line": {
             "colorbar": {
              "outlinewidth": 0,
              "ticks": ""
             }
            },
            "marker": {
             "colorbar": {
              "outlinewidth": 0,
              "ticks": ""
             }
            },
            "type": "scatter3d"
           }
          ],
          "scattercarpet": [
           {
            "marker": {
             "colorbar": {
              "outlinewidth": 0,
              "ticks": ""
             }
            },
            "type": "scattercarpet"
           }
          ],
          "scattergeo": [
           {
            "marker": {
             "colorbar": {
              "outlinewidth": 0,
              "ticks": ""
             }
            },
            "type": "scattergeo"
           }
          ],
          "scattergl": [
           {
            "marker": {
             "colorbar": {
              "outlinewidth": 0,
              "ticks": ""
             }
            },
            "type": "scattergl"
           }
          ],
          "scattermapbox": [
           {
            "marker": {
             "colorbar": {
              "outlinewidth": 0,
              "ticks": ""
             }
            },
            "type": "scattermapbox"
           }
          ],
          "scatterpolar": [
           {
            "marker": {
             "colorbar": {
              "outlinewidth": 0,
              "ticks": ""
             }
            },
            "type": "scatterpolar"
           }
          ],
          "scatterpolargl": [
           {
            "marker": {
             "colorbar": {
              "outlinewidth": 0,
              "ticks": ""
             }
            },
            "type": "scatterpolargl"
           }
          ],
          "scatterternary": [
           {
            "marker": {
             "colorbar": {
              "outlinewidth": 0,
              "ticks": ""
             }
            },
            "type": "scatterternary"
           }
          ],
          "surface": [
           {
            "colorbar": {
             "outlinewidth": 0,
             "ticks": ""
            },
            "colorscale": [
             [
              0,
              "#0d0887"
             ],
             [
              0.1111111111111111,
              "#46039f"
             ],
             [
              0.2222222222222222,
              "#7201a8"
             ],
             [
              0.3333333333333333,
              "#9c179e"
             ],
             [
              0.4444444444444444,
              "#bd3786"
             ],
             [
              0.5555555555555556,
              "#d8576b"
             ],
             [
              0.6666666666666666,
              "#ed7953"
             ],
             [
              0.7777777777777778,
              "#fb9f3a"
             ],
             [
              0.8888888888888888,
              "#fdca26"
             ],
             [
              1,
              "#f0f921"
             ]
            ],
            "type": "surface"
           }
          ],
          "table": [
           {
            "cells": {
             "fill": {
              "color": "#EBF0F8"
             },
             "line": {
              "color": "white"
             }
            },
            "header": {
             "fill": {
              "color": "#C8D4E3"
             },
             "line": {
              "color": "white"
             }
            },
            "type": "table"
           }
          ]
         },
         "layout": {
          "annotationdefaults": {
           "arrowcolor": "#2a3f5f",
           "arrowhead": 0,
           "arrowwidth": 1
          },
          "autotypenumbers": "strict",
          "coloraxis": {
           "colorbar": {
            "outlinewidth": 0,
            "ticks": ""
           }
          },
          "colorscale": {
           "diverging": [
            [
             0,
             "#8e0152"
            ],
            [
             0.1,
             "#c51b7d"
            ],
            [
             0.2,
             "#de77ae"
            ],
            [
             0.3,
             "#f1b6da"
            ],
            [
             0.4,
             "#fde0ef"
            ],
            [
             0.5,
             "#f7f7f7"
            ],
            [
             0.6,
             "#e6f5d0"
            ],
            [
             0.7,
             "#b8e186"
            ],
            [
             0.8,
             "#7fbc41"
            ],
            [
             0.9,
             "#4d9221"
            ],
            [
             1,
             "#276419"
            ]
           ],
           "sequential": [
            [
             0,
             "#0d0887"
            ],
            [
             0.1111111111111111,
             "#46039f"
            ],
            [
             0.2222222222222222,
             "#7201a8"
            ],
            [
             0.3333333333333333,
             "#9c179e"
            ],
            [
             0.4444444444444444,
             "#bd3786"
            ],
            [
             0.5555555555555556,
             "#d8576b"
            ],
            [
             0.6666666666666666,
             "#ed7953"
            ],
            [
             0.7777777777777778,
             "#fb9f3a"
            ],
            [
             0.8888888888888888,
             "#fdca26"
            ],
            [
             1,
             "#f0f921"
            ]
           ],
           "sequentialminus": [
            [
             0,
             "#0d0887"
            ],
            [
             0.1111111111111111,
             "#46039f"
            ],
            [
             0.2222222222222222,
             "#7201a8"
            ],
            [
             0.3333333333333333,
             "#9c179e"
            ],
            [
             0.4444444444444444,
             "#bd3786"
            ],
            [
             0.5555555555555556,
             "#d8576b"
            ],
            [
             0.6666666666666666,
             "#ed7953"
            ],
            [
             0.7777777777777778,
             "#fb9f3a"
            ],
            [
             0.8888888888888888,
             "#fdca26"
            ],
            [
             1,
             "#f0f921"
            ]
           ]
          },
          "colorway": [
           "#636efa",
           "#EF553B",
           "#00cc96",
           "#ab63fa",
           "#FFA15A",
           "#19d3f3",
           "#FF6692",
           "#B6E880",
           "#FF97FF",
           "#FECB52"
          ],
          "font": {
           "color": "#2a3f5f"
          },
          "geo": {
           "bgcolor": "white",
           "lakecolor": "white",
           "landcolor": "#E5ECF6",
           "showlakes": true,
           "showland": true,
           "subunitcolor": "white"
          },
          "hoverlabel": {
           "align": "left"
          },
          "hovermode": "closest",
          "mapbox": {
           "style": "light"
          },
          "paper_bgcolor": "white",
          "plot_bgcolor": "#E5ECF6",
          "polar": {
           "angularaxis": {
            "gridcolor": "white",
            "linecolor": "white",
            "ticks": ""
           },
           "bgcolor": "#E5ECF6",
           "radialaxis": {
            "gridcolor": "white",
            "linecolor": "white",
            "ticks": ""
           }
          },
          "scene": {
           "xaxis": {
            "backgroundcolor": "#E5ECF6",
            "gridcolor": "white",
            "gridwidth": 2,
            "linecolor": "white",
            "showbackground": true,
            "ticks": "",
            "zerolinecolor": "white"
           },
           "yaxis": {
            "backgroundcolor": "#E5ECF6",
            "gridcolor": "white",
            "gridwidth": 2,
            "linecolor": "white",
            "showbackground": true,
            "ticks": "",
            "zerolinecolor": "white"
           },
           "zaxis": {
            "backgroundcolor": "#E5ECF6",
            "gridcolor": "white",
            "gridwidth": 2,
            "linecolor": "white",
            "showbackground": true,
            "ticks": "",
            "zerolinecolor": "white"
           }
          },
          "shapedefaults": {
           "line": {
            "color": "#2a3f5f"
           }
          },
          "ternary": {
           "aaxis": {
            "gridcolor": "white",
            "linecolor": "white",
            "ticks": ""
           },
           "baxis": {
            "gridcolor": "white",
            "linecolor": "white",
            "ticks": ""
           },
           "bgcolor": "#E5ECF6",
           "caxis": {
            "gridcolor": "white",
            "linecolor": "white",
            "ticks": ""
           }
          },
          "title": {
           "x": 0.05
          },
          "xaxis": {
           "automargin": true,
           "gridcolor": "white",
           "linecolor": "white",
           "ticks": "",
           "title": {
            "standoff": 15
           },
           "zerolinecolor": "white",
           "zerolinewidth": 2
          },
          "yaxis": {
           "automargin": true,
           "gridcolor": "white",
           "linecolor": "white",
           "ticks": "",
           "title": {
            "standoff": 15
           },
           "zerolinecolor": "white",
           "zerolinewidth": 2
          }
         }
        },
        "title": {
         "font": {
          "color": "#4D5663"
         }
        },
        "xaxis": {
         "gridcolor": "#E1E5ED",
         "showgrid": true,
         "tickfont": {
          "color": "#4D5663"
         },
         "title": {
          "font": {
           "color": "#4D5663"
          },
          "text": ""
         },
         "zerolinecolor": "#E1E5ED"
        },
        "yaxis": {
         "gridcolor": "#E1E5ED",
         "showgrid": true,
         "tickfont": {
          "color": "#4D5663"
         },
         "title": {
          "font": {
           "color": "#4D5663"
          },
          "text": ""
         },
         "zerolinecolor": "#E1E5ED"
        }
       }
      },
      "text/html": [
       "<div>                            <div id=\"ee0c3eb0-d5a4-416e-85e2-ebacf72ed6a9\" class=\"plotly-graph-div\" style=\"height:525px; width:100%;\"></div>            <script type=\"text/javascript\">                require([\"plotly\"], function(Plotly) {                    window.PLOTLYENV=window.PLOTLYENV || {};\n",
       "                    window.PLOTLYENV.BASE_URL='https://plot.ly';                                    if (document.getElementById(\"ee0c3eb0-d5a4-416e-85e2-ebacf72ed6a9\")) {                    Plotly.newPlot(                        \"ee0c3eb0-d5a4-416e-85e2-ebacf72ed6a9\",                        [{\"boxpoints\":false,\"line\":{\"width\":1.3},\"marker\":{\"color\":\"rgba(255, 153, 51, 1.0)\"},\"name\":\"A\",\"orientation\":\"v\",\"y\":[0.40534718238775297,0.4618384364241935,0.24801495362386689,-0.20275965105180163,0.09894775497959721,0.6599246788548914,0.8438472586319632,0.014204738168655967,-1.0523175976673647,-0.33916820542896847,-1.661959469597001,0.012685600171485036,-0.4789785319016016,1.0084397271213716,0.5939225191331639,-1.095553489611045,-0.18951102092657343,-0.7485311039793072,-0.430464829191035,-0.7631277171679673,0.36148744061730415,0.07563251615586787,-1.8860291881983393,1.830146264431817,1.5261693945209298,0.16291324267842877,-0.8262337273807737,-0.5517585324681692,0.345803414065465,-1.4703487784808873,-0.42067931889214644,-0.13166190696965407,1.123577676117159,1.1810238810798508,1.660312792380613,0.5051805618852068,0.17556028099014473,-0.5494279945135929,-0.054740206493713695,-0.2168076326530869,-0.851789995700195,1.8015449616578993,-1.4170720382865047,0.8735331849938913,-1.1093059122024311,-0.4904870041875731,0.024771903075371624,-0.14604266902562074,-0.1804877739615316,-0.26801124668195686,0.6532291709068574,0.9495574584417534,-1.531778149170353,1.5890221761187682,0.980982056724215,-1.3218991841523904,-0.7748649079913962,0.4742698276888825,-0.0020455685397476487,1.8920574153876382,-0.22893685140438824,-0.6971595344536778,-1.7688603238410823,0.06128443693784288,-0.360684189084469,-0.4533831065070736,1.1124492419990712,-0.14284110930219396,0.583799577696767,0.4763961235399069,0.888486188632068,1.1547065346517043,-0.06266321573539217,1.2614886864066421,-0.2713660149998362,-0.564030478976412,-0.36032635768443194,-1.386122960420082,0.6497222345182069,0.4073214610955935,1.1951054678585589,1.1462194285806422,0.3839065700825093,0.02158569664438489,-0.31607498419747876,1.2258170818043679,1.5403849676974233,-1.2793493722883689,1.4546677261348309,0.8853740095330099,-0.27871528402228496,-0.45790415202886203,0.6078800386133114,0.2619094555525887,-0.9359554761132841,-1.310045647360763,0.8639954189862001,-0.17319697866189304,-0.23456567552557125,0.39507788382193987],\"type\":\"box\"},{\"boxpoints\":false,\"line\":{\"width\":1.3},\"marker\":{\"color\":\"rgba(55, 128, 191, 1.0)\"},\"name\":\"B\",\"orientation\":\"v\",\"y\":[1.022485686609692,-0.2991330376533287,-0.63888610969383,-0.8833750002612436,-0.4078861332958796,0.4799082532464347,-1.357274840799496,0.19810773620278088,-0.19783074771131168,0.692818817496382,0.23191266266703442,-0.39355437747570005,0.5447687622016464,-0.14091375476541995,-0.22769161270345697,0.8588915764933582,-0.6783986928331065,0.8211036067421712,0.25817266001630773,0.14799711696746098,0.05927620745292284,-0.36267230950085433,1.2593028653582603,-1.0007777217527574,1.2282436874541525,-0.12769887512315786,1.7030143913579163,-1.0020872605347468,0.3195560424142498,0.15240321418665187,-1.5797861553236705,-0.3739313200333769,2.6021110509168666,-1.4471100938515242,-0.22318666138188153,0.47553906694810044,-1.1809472376756547,1.6162460221607278,-0.30331773033449044,-0.13182156682787596,1.4149621524860898,-0.9530259792261948,0.2742169032926556,-0.046045542434082556,0.634280138667863,-0.44208708609224245,0.6918129090202446,0.18012353082972507,-0.03975756365095694,-0.4035085758608769,-1.7585817100788126,-0.2996635985622194,-0.08613466026216665,1.3407846486700787,-1.2852375040247463,0.9426548906856975,-0.4237478485145406,-0.9875258770195806,0.8492892915359607,0.8623233408981996,-0.6444147916046757,0.1078678343079182,-0.9875734437892321,1.291562887565866,-0.8904951305931562,-1.7911999540279506,0.8759961030601735,0.2747985052742041,-0.20212363160084537,1.9519926300458057,1.2228922969535314,1.2775425993797307,-0.033907857353057,-1.1269326593789921,-0.35613822482803065,-0.3269080347457746,1.4592243810701002,-0.20686257323796692,-0.09616636678433634,1.2419410065257095,1.3048143207669025,-0.2980538960987875,1.3781856734829458,1.272172464631937,-0.3472494847742187,-0.010538336780892818,-0.16183176257636525,0.10152373504878527,-1.8653899621822374,-0.9683998654059663,-0.779130702347315,1.6202962931960625,-0.4690630803098864,0.024481735873536713,0.5510679505159154,-1.4104672378985652,0.5669444261650838,-1.350048904489357,0.6109803903416247,1.311724539759251],\"type\":\"box\"},{\"boxpoints\":false,\"line\":{\"width\":1.3},\"marker\":{\"color\":\"rgba(50, 171, 96, 1.0)\"},\"name\":\"C\",\"orientation\":\"v\",\"y\":[-0.6846939278970728,-2.3075965045478024,-0.08633181165856928,-0.960632782911131,-0.2594843276284265,-1.0909004044679218,-0.39736078887757353,0.4859202399005569,0.64713042030015,-0.7813163021462705,0.2958028918427429,-1.3243857628930011,-1.662961371536703,-0.40043565729067965,-0.3451119384557309,2.0903955558237,-0.012557888875386733,0.07247683377659399,0.11988491292645348,-0.4627347402924009,-1.0946635758514829,-2.6728360093505703,0.4742050895262971,-1.150747503716675,-1.2679999124494294,-1.7425682851942794,1.2659089043708076,0.6599750210405136,0.29300311967555526,-0.03466136540901326,0.8932463555019038,0.1375773675663175,-0.39833065736608564,0.2287132229961002,-1.888861525535101,-1.3748150359304196,0.41802892703303685,1.0966859796173523,-0.13334943209995173,-1.1419708932998787,1.1871886179574034,0.8486538344167918,-0.5192329608506668,0.002664928529814942,-0.11805644493445205,-2.1302678111856066,-1.5493117619924885,-0.4579647003513041,-1.5589319481231727,-0.7013284975095917,-1.1942815821767572,1.4418256610856601,-0.1194927798018692,-1.0959742580943388,2.102428243098901,-0.32061244957872076,0.7008907102791864,-0.3491490480071671,-0.5547074472788999,-0.6118401100626987,-0.5036361595156262,-0.8556225818470531,1.572121338917596,0.7367614207637612,-0.6337092097146587,-0.12587396488378122,0.5956416887411763,-0.5257234999490865,-0.25349596817224906,-0.5430718989494115,0.09758462681366432,0.1927830293776624,1.5073729373103912,-0.5732060696026312,-0.357320623311159,-0.3825789830900455,0.6551065113125831,0.7398370183868511,-0.7059609433212608,-0.42166534144707934,3.3206924959670467,-0.37304189385547065,-1.4746002018309643,-0.04270476295674498,0.995515542888556,0.0033839830817497434,1.2256999756538212,0.2501254597405451,0.33648316506628745,2.109721828092375,-0.6805331943785887,1.3424917917601022,0.15416374829761778,0.8242630448059016,-0.9600061880373896,1.0265224829519026,-0.8113472662411878,-0.39356837717677795,0.2006738374444646,1.1984113242069359],\"type\":\"box\"},{\"boxpoints\":false,\"line\":{\"width\":1.3},\"marker\":{\"color\":\"rgba(128, 0, 128, 1.0)\"},\"name\":\"D\",\"orientation\":\"v\",\"y\":[2.496071177103857,0.46081342893771055,-0.0993452983368322,0.5809415166299917,0.40510046264685573,-0.5680460155079847,1.2013126163899779,0.9235025254388937,-0.33489510490471136,0.6903185909680251,1.6940589078900654,1.1552141160280898,0.4519339032526576,-1.6378233982246284,-0.18705288580078047,-0.6014119459024533,-0.08661516142734464,-2.2138315256459355,0.21259912157741076,0.17200406866655887,0.06345710562435442,-0.1657132760048854,0.30709462962362616,1.2868210087532836,1.8925326595443972,0.3172886598320608,-0.7675255681542591,1.001540368478351,1.635234668573889,0.6968888827556089,-1.2838354891977093,-1.4858243901619834,1.5883334911707394,0.2614533519409762,1.4479396943145668,0.9869269363450887,1.2412667641689517,1.4554482284528751,-1.739546295511982,0.08624035442034013,0.014460353605616887,-1.4687897908310128,0.9263315314260369,0.4630509181806159,0.3962225137932105,-0.5738893360751438,0.08255968121947238,2.3123736265797725,0.1814158966679779,1.0023561740323266,-0.8432421516873355,0.9047034033575648,0.14633007324558994,-1.2121043743814122,0.34701696560862716,-0.49474703279285887,-0.6706522920168768,-2.1344327686615587,2.4921141712522954,-0.36850330741956977,-1.687793543566312,-0.25358597500926955,-0.8090190742185616,0.015245709923150873,0.27458290201369623,-2.1183057080112224,1.0366307466847968,1.0273831782140008,-1.1570046788261379,0.41756679021218324,-0.8225478326104317,1.2346573270949213,0.00624533970765154,0.9819581405070998,-2.2181810791031715,-1.829224609246086,0.2780099520868739,0.7531073238742761,-0.6687741250947908,0.307472012042972,-1.4508497162720104,0.5806461816902653,-0.1719019649229563,-0.8845797818041453,1.7110324908597812,-0.8042138569717536,-0.117255677636341,-0.7971556907902491,-0.9257571625867512,-0.059484554873857114,-1.7648403405153228,0.6893596079875423,-1.12093735936863,1.58417022354427,-0.15762384928257814,1.199392222105967,-0.09112697331503981,-1.2436291221677196,-1.3395113213792513,1.462079062203621],\"type\":\"box\"}],                        {\"legend\":{\"bgcolor\":\"#F5F6F9\",\"font\":{\"color\":\"#4D5663\"}},\"paper_bgcolor\":\"#F5F6F9\",\"plot_bgcolor\":\"#F5F6F9\",\"template\":{\"data\":{\"barpolar\":[{\"marker\":{\"line\":{\"color\":\"#E5ECF6\",\"width\":0.5},\"pattern\":{\"fillmode\":\"overlay\",\"size\":10,\"solidity\":0.2}},\"type\":\"barpolar\"}],\"bar\":[{\"error_x\":{\"color\":\"#2a3f5f\"},\"error_y\":{\"color\":\"#2a3f5f\"},\"marker\":{\"line\":{\"color\":\"#E5ECF6\",\"width\":0.5},\"pattern\":{\"fillmode\":\"overlay\",\"size\":10,\"solidity\":0.2}},\"type\":\"bar\"}],\"carpet\":[{\"aaxis\":{\"endlinecolor\":\"#2a3f5f\",\"gridcolor\":\"white\",\"linecolor\":\"white\",\"minorgridcolor\":\"white\",\"startlinecolor\":\"#2a3f5f\"},\"baxis\":{\"endlinecolor\":\"#2a3f5f\",\"gridcolor\":\"white\",\"linecolor\":\"white\",\"minorgridcolor\":\"white\",\"startlinecolor\":\"#2a3f5f\"},\"type\":\"carpet\"}],\"choropleth\":[{\"colorbar\":{\"outlinewidth\":0,\"ticks\":\"\"},\"type\":\"choropleth\"}],\"contourcarpet\":[{\"colorbar\":{\"outlinewidth\":0,\"ticks\":\"\"},\"type\":\"contourcarpet\"}],\"contour\":[{\"colorbar\":{\"outlinewidth\":0,\"ticks\":\"\"},\"colorscale\":[[0.0,\"#0d0887\"],[0.1111111111111111,\"#46039f\"],[0.2222222222222222,\"#7201a8\"],[0.3333333333333333,\"#9c179e\"],[0.4444444444444444,\"#bd3786\"],[0.5555555555555556,\"#d8576b\"],[0.6666666666666666,\"#ed7953\"],[0.7777777777777778,\"#fb9f3a\"],[0.8888888888888888,\"#fdca26\"],[1.0,\"#f0f921\"]],\"type\":\"contour\"}],\"heatmapgl\":[{\"colorbar\":{\"outlinewidth\":0,\"ticks\":\"\"},\"colorscale\":[[0.0,\"#0d0887\"],[0.1111111111111111,\"#46039f\"],[0.2222222222222222,\"#7201a8\"],[0.3333333333333333,\"#9c179e\"],[0.4444444444444444,\"#bd3786\"],[0.5555555555555556,\"#d8576b\"],[0.6666666666666666,\"#ed7953\"],[0.7777777777777778,\"#fb9f3a\"],[0.8888888888888888,\"#fdca26\"],[1.0,\"#f0f921\"]],\"type\":\"heatmapgl\"}],\"heatmap\":[{\"colorbar\":{\"outlinewidth\":0,\"ticks\":\"\"},\"colorscale\":[[0.0,\"#0d0887\"],[0.1111111111111111,\"#46039f\"],[0.2222222222222222,\"#7201a8\"],[0.3333333333333333,\"#9c179e\"],[0.4444444444444444,\"#bd3786\"],[0.5555555555555556,\"#d8576b\"],[0.6666666666666666,\"#ed7953\"],[0.7777777777777778,\"#fb9f3a\"],[0.8888888888888888,\"#fdca26\"],[1.0,\"#f0f921\"]],\"type\":\"heatmap\"}],\"histogram2dcontour\":[{\"colorbar\":{\"outlinewidth\":0,\"ticks\":\"\"},\"colorscale\":[[0.0,\"#0d0887\"],[0.1111111111111111,\"#46039f\"],[0.2222222222222222,\"#7201a8\"],[0.3333333333333333,\"#9c179e\"],[0.4444444444444444,\"#bd3786\"],[0.5555555555555556,\"#d8576b\"],[0.6666666666666666,\"#ed7953\"],[0.7777777777777778,\"#fb9f3a\"],[0.8888888888888888,\"#fdca26\"],[1.0,\"#f0f921\"]],\"type\":\"histogram2dcontour\"}],\"histogram2d\":[{\"colorbar\":{\"outlinewidth\":0,\"ticks\":\"\"},\"colorscale\":[[0.0,\"#0d0887\"],[0.1111111111111111,\"#46039f\"],[0.2222222222222222,\"#7201a8\"],[0.3333333333333333,\"#9c179e\"],[0.4444444444444444,\"#bd3786\"],[0.5555555555555556,\"#d8576b\"],[0.6666666666666666,\"#ed7953\"],[0.7777777777777778,\"#fb9f3a\"],[0.8888888888888888,\"#fdca26\"],[1.0,\"#f0f921\"]],\"type\":\"histogram2d\"}],\"histogram\":[{\"marker\":{\"pattern\":{\"fillmode\":\"overlay\",\"size\":10,\"solidity\":0.2}},\"type\":\"histogram\"}],\"mesh3d\":[{\"colorbar\":{\"outlinewidth\":0,\"ticks\":\"\"},\"type\":\"mesh3d\"}],\"parcoords\":[{\"line\":{\"colorbar\":{\"outlinewidth\":0,\"ticks\":\"\"}},\"type\":\"parcoords\"}],\"pie\":[{\"automargin\":true,\"type\":\"pie\"}],\"scatter3d\":[{\"line\":{\"colorbar\":{\"outlinewidth\":0,\"ticks\":\"\"}},\"marker\":{\"colorbar\":{\"outlinewidth\":0,\"ticks\":\"\"}},\"type\":\"scatter3d\"}],\"scattercarpet\":[{\"marker\":{\"colorbar\":{\"outlinewidth\":0,\"ticks\":\"\"}},\"type\":\"scattercarpet\"}],\"scattergeo\":[{\"marker\":{\"colorbar\":{\"outlinewidth\":0,\"ticks\":\"\"}},\"type\":\"scattergeo\"}],\"scattergl\":[{\"marker\":{\"colorbar\":{\"outlinewidth\":0,\"ticks\":\"\"}},\"type\":\"scattergl\"}],\"scattermapbox\":[{\"marker\":{\"colorbar\":{\"outlinewidth\":0,\"ticks\":\"\"}},\"type\":\"scattermapbox\"}],\"scatterpolargl\":[{\"marker\":{\"colorbar\":{\"outlinewidth\":0,\"ticks\":\"\"}},\"type\":\"scatterpolargl\"}],\"scatterpolar\":[{\"marker\":{\"colorbar\":{\"outlinewidth\":0,\"ticks\":\"\"}},\"type\":\"scatterpolar\"}],\"scatter\":[{\"fillpattern\":{\"fillmode\":\"overlay\",\"size\":10,\"solidity\":0.2},\"type\":\"scatter\"}],\"scatterternary\":[{\"marker\":{\"colorbar\":{\"outlinewidth\":0,\"ticks\":\"\"}},\"type\":\"scatterternary\"}],\"surface\":[{\"colorbar\":{\"outlinewidth\":0,\"ticks\":\"\"},\"colorscale\":[[0.0,\"#0d0887\"],[0.1111111111111111,\"#46039f\"],[0.2222222222222222,\"#7201a8\"],[0.3333333333333333,\"#9c179e\"],[0.4444444444444444,\"#bd3786\"],[0.5555555555555556,\"#d8576b\"],[0.6666666666666666,\"#ed7953\"],[0.7777777777777778,\"#fb9f3a\"],[0.8888888888888888,\"#fdca26\"],[1.0,\"#f0f921\"]],\"type\":\"surface\"}],\"table\":[{\"cells\":{\"fill\":{\"color\":\"#EBF0F8\"},\"line\":{\"color\":\"white\"}},\"header\":{\"fill\":{\"color\":\"#C8D4E3\"},\"line\":{\"color\":\"white\"}},\"type\":\"table\"}]},\"layout\":{\"annotationdefaults\":{\"arrowcolor\":\"#2a3f5f\",\"arrowhead\":0,\"arrowwidth\":1},\"autotypenumbers\":\"strict\",\"coloraxis\":{\"colorbar\":{\"outlinewidth\":0,\"ticks\":\"\"}},\"colorscale\":{\"diverging\":[[0,\"#8e0152\"],[0.1,\"#c51b7d\"],[0.2,\"#de77ae\"],[0.3,\"#f1b6da\"],[0.4,\"#fde0ef\"],[0.5,\"#f7f7f7\"],[0.6,\"#e6f5d0\"],[0.7,\"#b8e186\"],[0.8,\"#7fbc41\"],[0.9,\"#4d9221\"],[1,\"#276419\"]],\"sequential\":[[0.0,\"#0d0887\"],[0.1111111111111111,\"#46039f\"],[0.2222222222222222,\"#7201a8\"],[0.3333333333333333,\"#9c179e\"],[0.4444444444444444,\"#bd3786\"],[0.5555555555555556,\"#d8576b\"],[0.6666666666666666,\"#ed7953\"],[0.7777777777777778,\"#fb9f3a\"],[0.8888888888888888,\"#fdca26\"],[1.0,\"#f0f921\"]],\"sequentialminus\":[[0.0,\"#0d0887\"],[0.1111111111111111,\"#46039f\"],[0.2222222222222222,\"#7201a8\"],[0.3333333333333333,\"#9c179e\"],[0.4444444444444444,\"#bd3786\"],[0.5555555555555556,\"#d8576b\"],[0.6666666666666666,\"#ed7953\"],[0.7777777777777778,\"#fb9f3a\"],[0.8888888888888888,\"#fdca26\"],[1.0,\"#f0f921\"]]},\"colorway\":[\"#636efa\",\"#EF553B\",\"#00cc96\",\"#ab63fa\",\"#FFA15A\",\"#19d3f3\",\"#FF6692\",\"#B6E880\",\"#FF97FF\",\"#FECB52\"],\"font\":{\"color\":\"#2a3f5f\"},\"geo\":{\"bgcolor\":\"white\",\"lakecolor\":\"white\",\"landcolor\":\"#E5ECF6\",\"showlakes\":true,\"showland\":true,\"subunitcolor\":\"white\"},\"hoverlabel\":{\"align\":\"left\"},\"hovermode\":\"closest\",\"mapbox\":{\"style\":\"light\"},\"paper_bgcolor\":\"white\",\"plot_bgcolor\":\"#E5ECF6\",\"polar\":{\"angularaxis\":{\"gridcolor\":\"white\",\"linecolor\":\"white\",\"ticks\":\"\"},\"bgcolor\":\"#E5ECF6\",\"radialaxis\":{\"gridcolor\":\"white\",\"linecolor\":\"white\",\"ticks\":\"\"}},\"scene\":{\"xaxis\":{\"backgroundcolor\":\"#E5ECF6\",\"gridcolor\":\"white\",\"gridwidth\":2,\"linecolor\":\"white\",\"showbackground\":true,\"ticks\":\"\",\"zerolinecolor\":\"white\"},\"yaxis\":{\"backgroundcolor\":\"#E5ECF6\",\"gridcolor\":\"white\",\"gridwidth\":2,\"linecolor\":\"white\",\"showbackground\":true,\"ticks\":\"\",\"zerolinecolor\":\"white\"},\"zaxis\":{\"backgroundcolor\":\"#E5ECF6\",\"gridcolor\":\"white\",\"gridwidth\":2,\"linecolor\":\"white\",\"showbackground\":true,\"ticks\":\"\",\"zerolinecolor\":\"white\"}},\"shapedefaults\":{\"line\":{\"color\":\"#2a3f5f\"}},\"ternary\":{\"aaxis\":{\"gridcolor\":\"white\",\"linecolor\":\"white\",\"ticks\":\"\"},\"baxis\":{\"gridcolor\":\"white\",\"linecolor\":\"white\",\"ticks\":\"\"},\"bgcolor\":\"#E5ECF6\",\"caxis\":{\"gridcolor\":\"white\",\"linecolor\":\"white\",\"ticks\":\"\"}},\"title\":{\"x\":0.05},\"xaxis\":{\"automargin\":true,\"gridcolor\":\"white\",\"linecolor\":\"white\",\"ticks\":\"\",\"title\":{\"standoff\":15},\"zerolinecolor\":\"white\",\"zerolinewidth\":2},\"yaxis\":{\"automargin\":true,\"gridcolor\":\"white\",\"linecolor\":\"white\",\"ticks\":\"\",\"title\":{\"standoff\":15},\"zerolinecolor\":\"white\",\"zerolinewidth\":2}}},\"title\":{\"font\":{\"color\":\"#4D5663\"}},\"xaxis\":{\"gridcolor\":\"#E1E5ED\",\"showgrid\":true,\"tickfont\":{\"color\":\"#4D5663\"},\"title\":{\"font\":{\"color\":\"#4D5663\"},\"text\":\"\"},\"zerolinecolor\":\"#E1E5ED\"},\"yaxis\":{\"gridcolor\":\"#E1E5ED\",\"showgrid\":true,\"tickfont\":{\"color\":\"#4D5663\"},\"title\":{\"font\":{\"color\":\"#4D5663\"},\"text\":\"\"},\"zerolinecolor\":\"#E1E5ED\"}},                        {\"showLink\": true, \"linkText\": \"Export to plot.ly\", \"plotlyServerURL\": \"https://plot.ly\", \"responsive\": true}                    ).then(function(){\n",
       "                            \n",
       "var gd = document.getElementById('ee0c3eb0-d5a4-416e-85e2-ebacf72ed6a9');\n",
       "var x = new MutationObserver(function (mutations, observer) {{\n",
       "        var display = window.getComputedStyle(gd).display;\n",
       "        if (!display || display === 'none') {{\n",
       "            console.log([gd, 'removed!']);\n",
       "            Plotly.purge(gd);\n",
       "            observer.disconnect();\n",
       "        }}\n",
       "}});\n",
       "\n",
       "// Listen for the removal of the full notebook cells\n",
       "var notebookContainer = gd.closest('#notebook-container');\n",
       "if (notebookContainer) {{\n",
       "    x.observe(notebookContainer, {childList: true});\n",
       "}}\n",
       "\n",
       "// Listen for the clearing of the current output cell\n",
       "var outputEl = gd.closest('.output');\n",
       "if (outputEl) {{\n",
       "    x.observe(outputEl, {childList: true});\n",
       "}}\n",
       "\n",
       "                        })                };                });            </script>        </div>"
      ]
     },
     "metadata": {},
     "output_type": "display_data"
    }
   ],
   "source": [
    "df.iplot(kind='box')"
   ]
  },
  {
   "cell_type": "code",
   "execution_count": 26,
   "metadata": {},
   "outputs": [],
   "source": [
    "df3 = pd.DataFrame({'x':[1,2,3,4,5],'y':[10,20,30,20,10],'z':[5,4,3,2,1]})"
   ]
  },
  {
   "cell_type": "code",
   "execution_count": 27,
   "metadata": {},
   "outputs": [
    {
     "data": {
      "application/vnd.plotly.v1+json": {
       "config": {
        "linkText": "Export to plot.ly",
        "plotlyServerURL": "https://plot.ly",
        "showLink": true
       },
       "data": [
        {
         "colorscale": [
          [
           0,
           "rgb(255, 153, 51)"
          ],
          [
           0.1111111111111111,
           "rgb(55, 128, 191)"
          ],
          [
           0.2222222222222222,
           "rgb(50, 171, 96)"
          ],
          [
           0.3333333333333333,
           "rgb(128, 0, 128)"
          ],
          [
           0.4444444444444444,
           "rgb(219, 64, 82)"
          ],
          [
           0.5555555555555556,
           "rgb(0, 128, 128)"
          ],
          [
           0.6666666666666666,
           "rgb(255, 255, 51)"
          ],
          [
           0.7777777777777778,
           "rgb(128, 128, 0)"
          ],
          [
           0.8888888888888888,
           "rgb(251, 128, 114)"
          ],
          [
           1,
           "rgb(128, 177, 211)"
          ]
         ],
         "type": "surface",
         "x": [
          0,
          1,
          2,
          3,
          4
         ],
         "y": [
          "x",
          "y",
          "z"
         ],
         "z": [
          [
           1,
           2,
           3,
           4,
           5
          ],
          [
           10,
           20,
           30,
           20,
           10
          ],
          [
           5,
           4,
           3,
           2,
           1
          ]
         ]
        }
       ],
       "layout": {
        "legend": {
         "bgcolor": "#F5F6F9",
         "font": {
          "color": "#4D5663"
         }
        },
        "paper_bgcolor": "#F5F6F9",
        "plot_bgcolor": "#F5F6F9",
        "template": {
         "data": {
          "bar": [
           {
            "error_x": {
             "color": "#2a3f5f"
            },
            "error_y": {
             "color": "#2a3f5f"
            },
            "marker": {
             "line": {
              "color": "#E5ECF6",
              "width": 0.5
             },
             "pattern": {
              "fillmode": "overlay",
              "size": 10,
              "solidity": 0.2
             }
            },
            "type": "bar"
           }
          ],
          "barpolar": [
           {
            "marker": {
             "line": {
              "color": "#E5ECF6",
              "width": 0.5
             },
             "pattern": {
              "fillmode": "overlay",
              "size": 10,
              "solidity": 0.2
             }
            },
            "type": "barpolar"
           }
          ],
          "carpet": [
           {
            "aaxis": {
             "endlinecolor": "#2a3f5f",
             "gridcolor": "white",
             "linecolor": "white",
             "minorgridcolor": "white",
             "startlinecolor": "#2a3f5f"
            },
            "baxis": {
             "endlinecolor": "#2a3f5f",
             "gridcolor": "white",
             "linecolor": "white",
             "minorgridcolor": "white",
             "startlinecolor": "#2a3f5f"
            },
            "type": "carpet"
           }
          ],
          "choropleth": [
           {
            "colorbar": {
             "outlinewidth": 0,
             "ticks": ""
            },
            "type": "choropleth"
           }
          ],
          "contour": [
           {
            "colorbar": {
             "outlinewidth": 0,
             "ticks": ""
            },
            "colorscale": [
             [
              0,
              "#0d0887"
             ],
             [
              0.1111111111111111,
              "#46039f"
             ],
             [
              0.2222222222222222,
              "#7201a8"
             ],
             [
              0.3333333333333333,
              "#9c179e"
             ],
             [
              0.4444444444444444,
              "#bd3786"
             ],
             [
              0.5555555555555556,
              "#d8576b"
             ],
             [
              0.6666666666666666,
              "#ed7953"
             ],
             [
              0.7777777777777778,
              "#fb9f3a"
             ],
             [
              0.8888888888888888,
              "#fdca26"
             ],
             [
              1,
              "#f0f921"
             ]
            ],
            "type": "contour"
           }
          ],
          "contourcarpet": [
           {
            "colorbar": {
             "outlinewidth": 0,
             "ticks": ""
            },
            "type": "contourcarpet"
           }
          ],
          "heatmap": [
           {
            "colorbar": {
             "outlinewidth": 0,
             "ticks": ""
            },
            "colorscale": [
             [
              0,
              "#0d0887"
             ],
             [
              0.1111111111111111,
              "#46039f"
             ],
             [
              0.2222222222222222,
              "#7201a8"
             ],
             [
              0.3333333333333333,
              "#9c179e"
             ],
             [
              0.4444444444444444,
              "#bd3786"
             ],
             [
              0.5555555555555556,
              "#d8576b"
             ],
             [
              0.6666666666666666,
              "#ed7953"
             ],
             [
              0.7777777777777778,
              "#fb9f3a"
             ],
             [
              0.8888888888888888,
              "#fdca26"
             ],
             [
              1,
              "#f0f921"
             ]
            ],
            "type": "heatmap"
           }
          ],
          "heatmapgl": [
           {
            "colorbar": {
             "outlinewidth": 0,
             "ticks": ""
            },
            "colorscale": [
             [
              0,
              "#0d0887"
             ],
             [
              0.1111111111111111,
              "#46039f"
             ],
             [
              0.2222222222222222,
              "#7201a8"
             ],
             [
              0.3333333333333333,
              "#9c179e"
             ],
             [
              0.4444444444444444,
              "#bd3786"
             ],
             [
              0.5555555555555556,
              "#d8576b"
             ],
             [
              0.6666666666666666,
              "#ed7953"
             ],
             [
              0.7777777777777778,
              "#fb9f3a"
             ],
             [
              0.8888888888888888,
              "#fdca26"
             ],
             [
              1,
              "#f0f921"
             ]
            ],
            "type": "heatmapgl"
           }
          ],
          "histogram": [
           {
            "marker": {
             "pattern": {
              "fillmode": "overlay",
              "size": 10,
              "solidity": 0.2
             }
            },
            "type": "histogram"
           }
          ],
          "histogram2d": [
           {
            "colorbar": {
             "outlinewidth": 0,
             "ticks": ""
            },
            "colorscale": [
             [
              0,
              "#0d0887"
             ],
             [
              0.1111111111111111,
              "#46039f"
             ],
             [
              0.2222222222222222,
              "#7201a8"
             ],
             [
              0.3333333333333333,
              "#9c179e"
             ],
             [
              0.4444444444444444,
              "#bd3786"
             ],
             [
              0.5555555555555556,
              "#d8576b"
             ],
             [
              0.6666666666666666,
              "#ed7953"
             ],
             [
              0.7777777777777778,
              "#fb9f3a"
             ],
             [
              0.8888888888888888,
              "#fdca26"
             ],
             [
              1,
              "#f0f921"
             ]
            ],
            "type": "histogram2d"
           }
          ],
          "histogram2dcontour": [
           {
            "colorbar": {
             "outlinewidth": 0,
             "ticks": ""
            },
            "colorscale": [
             [
              0,
              "#0d0887"
             ],
             [
              0.1111111111111111,
              "#46039f"
             ],
             [
              0.2222222222222222,
              "#7201a8"
             ],
             [
              0.3333333333333333,
              "#9c179e"
             ],
             [
              0.4444444444444444,
              "#bd3786"
             ],
             [
              0.5555555555555556,
              "#d8576b"
             ],
             [
              0.6666666666666666,
              "#ed7953"
             ],
             [
              0.7777777777777778,
              "#fb9f3a"
             ],
             [
              0.8888888888888888,
              "#fdca26"
             ],
             [
              1,
              "#f0f921"
             ]
            ],
            "type": "histogram2dcontour"
           }
          ],
          "mesh3d": [
           {
            "colorbar": {
             "outlinewidth": 0,
             "ticks": ""
            },
            "type": "mesh3d"
           }
          ],
          "parcoords": [
           {
            "line": {
             "colorbar": {
              "outlinewidth": 0,
              "ticks": ""
             }
            },
            "type": "parcoords"
           }
          ],
          "pie": [
           {
            "automargin": true,
            "type": "pie"
           }
          ],
          "scatter": [
           {
            "fillpattern": {
             "fillmode": "overlay",
             "size": 10,
             "solidity": 0.2
            },
            "type": "scatter"
           }
          ],
          "scatter3d": [
           {
            "line": {
             "colorbar": {
              "outlinewidth": 0,
              "ticks": ""
             }
            },
            "marker": {
             "colorbar": {
              "outlinewidth": 0,
              "ticks": ""
             }
            },
            "type": "scatter3d"
           }
          ],
          "scattercarpet": [
           {
            "marker": {
             "colorbar": {
              "outlinewidth": 0,
              "ticks": ""
             }
            },
            "type": "scattercarpet"
           }
          ],
          "scattergeo": [
           {
            "marker": {
             "colorbar": {
              "outlinewidth": 0,
              "ticks": ""
             }
            },
            "type": "scattergeo"
           }
          ],
          "scattergl": [
           {
            "marker": {
             "colorbar": {
              "outlinewidth": 0,
              "ticks": ""
             }
            },
            "type": "scattergl"
           }
          ],
          "scattermapbox": [
           {
            "marker": {
             "colorbar": {
              "outlinewidth": 0,
              "ticks": ""
             }
            },
            "type": "scattermapbox"
           }
          ],
          "scatterpolar": [
           {
            "marker": {
             "colorbar": {
              "outlinewidth": 0,
              "ticks": ""
             }
            },
            "type": "scatterpolar"
           }
          ],
          "scatterpolargl": [
           {
            "marker": {
             "colorbar": {
              "outlinewidth": 0,
              "ticks": ""
             }
            },
            "type": "scatterpolargl"
           }
          ],
          "scatterternary": [
           {
            "marker": {
             "colorbar": {
              "outlinewidth": 0,
              "ticks": ""
             }
            },
            "type": "scatterternary"
           }
          ],
          "surface": [
           {
            "colorbar": {
             "outlinewidth": 0,
             "ticks": ""
            },
            "colorscale": [
             [
              0,
              "#0d0887"
             ],
             [
              0.1111111111111111,
              "#46039f"
             ],
             [
              0.2222222222222222,
              "#7201a8"
             ],
             [
              0.3333333333333333,
              "#9c179e"
             ],
             [
              0.4444444444444444,
              "#bd3786"
             ],
             [
              0.5555555555555556,
              "#d8576b"
             ],
             [
              0.6666666666666666,
              "#ed7953"
             ],
             [
              0.7777777777777778,
              "#fb9f3a"
             ],
             [
              0.8888888888888888,
              "#fdca26"
             ],
             [
              1,
              "#f0f921"
             ]
            ],
            "type": "surface"
           }
          ],
          "table": [
           {
            "cells": {
             "fill": {
              "color": "#EBF0F8"
             },
             "line": {
              "color": "white"
             }
            },
            "header": {
             "fill": {
              "color": "#C8D4E3"
             },
             "line": {
              "color": "white"
             }
            },
            "type": "table"
           }
          ]
         },
         "layout": {
          "annotationdefaults": {
           "arrowcolor": "#2a3f5f",
           "arrowhead": 0,
           "arrowwidth": 1
          },
          "autotypenumbers": "strict",
          "coloraxis": {
           "colorbar": {
            "outlinewidth": 0,
            "ticks": ""
           }
          },
          "colorscale": {
           "diverging": [
            [
             0,
             "#8e0152"
            ],
            [
             0.1,
             "#c51b7d"
            ],
            [
             0.2,
             "#de77ae"
            ],
            [
             0.3,
             "#f1b6da"
            ],
            [
             0.4,
             "#fde0ef"
            ],
            [
             0.5,
             "#f7f7f7"
            ],
            [
             0.6,
             "#e6f5d0"
            ],
            [
             0.7,
             "#b8e186"
            ],
            [
             0.8,
             "#7fbc41"
            ],
            [
             0.9,
             "#4d9221"
            ],
            [
             1,
             "#276419"
            ]
           ],
           "sequential": [
            [
             0,
             "#0d0887"
            ],
            [
             0.1111111111111111,
             "#46039f"
            ],
            [
             0.2222222222222222,
             "#7201a8"
            ],
            [
             0.3333333333333333,
             "#9c179e"
            ],
            [
             0.4444444444444444,
             "#bd3786"
            ],
            [
             0.5555555555555556,
             "#d8576b"
            ],
            [
             0.6666666666666666,
             "#ed7953"
            ],
            [
             0.7777777777777778,
             "#fb9f3a"
            ],
            [
             0.8888888888888888,
             "#fdca26"
            ],
            [
             1,
             "#f0f921"
            ]
           ],
           "sequentialminus": [
            [
             0,
             "#0d0887"
            ],
            [
             0.1111111111111111,
             "#46039f"
            ],
            [
             0.2222222222222222,
             "#7201a8"
            ],
            [
             0.3333333333333333,
             "#9c179e"
            ],
            [
             0.4444444444444444,
             "#bd3786"
            ],
            [
             0.5555555555555556,
             "#d8576b"
            ],
            [
             0.6666666666666666,
             "#ed7953"
            ],
            [
             0.7777777777777778,
             "#fb9f3a"
            ],
            [
             0.8888888888888888,
             "#fdca26"
            ],
            [
             1,
             "#f0f921"
            ]
           ]
          },
          "colorway": [
           "#636efa",
           "#EF553B",
           "#00cc96",
           "#ab63fa",
           "#FFA15A",
           "#19d3f3",
           "#FF6692",
           "#B6E880",
           "#FF97FF",
           "#FECB52"
          ],
          "font": {
           "color": "#2a3f5f"
          },
          "geo": {
           "bgcolor": "white",
           "lakecolor": "white",
           "landcolor": "#E5ECF6",
           "showlakes": true,
           "showland": true,
           "subunitcolor": "white"
          },
          "hoverlabel": {
           "align": "left"
          },
          "hovermode": "closest",
          "mapbox": {
           "style": "light"
          },
          "paper_bgcolor": "white",
          "plot_bgcolor": "#E5ECF6",
          "polar": {
           "angularaxis": {
            "gridcolor": "white",
            "linecolor": "white",
            "ticks": ""
           },
           "bgcolor": "#E5ECF6",
           "radialaxis": {
            "gridcolor": "white",
            "linecolor": "white",
            "ticks": ""
           }
          },
          "scene": {
           "xaxis": {
            "backgroundcolor": "#E5ECF6",
            "gridcolor": "white",
            "gridwidth": 2,
            "linecolor": "white",
            "showbackground": true,
            "ticks": "",
            "zerolinecolor": "white"
           },
           "yaxis": {
            "backgroundcolor": "#E5ECF6",
            "gridcolor": "white",
            "gridwidth": 2,
            "linecolor": "white",
            "showbackground": true,
            "ticks": "",
            "zerolinecolor": "white"
           },
           "zaxis": {
            "backgroundcolor": "#E5ECF6",
            "gridcolor": "white",
            "gridwidth": 2,
            "linecolor": "white",
            "showbackground": true,
            "ticks": "",
            "zerolinecolor": "white"
           }
          },
          "shapedefaults": {
           "line": {
            "color": "#2a3f5f"
           }
          },
          "ternary": {
           "aaxis": {
            "gridcolor": "white",
            "linecolor": "white",
            "ticks": ""
           },
           "baxis": {
            "gridcolor": "white",
            "linecolor": "white",
            "ticks": ""
           },
           "bgcolor": "#E5ECF6",
           "caxis": {
            "gridcolor": "white",
            "linecolor": "white",
            "ticks": ""
           }
          },
          "title": {
           "x": 0.05
          },
          "xaxis": {
           "automargin": true,
           "gridcolor": "white",
           "linecolor": "white",
           "ticks": "",
           "title": {
            "standoff": 15
           },
           "zerolinecolor": "white",
           "zerolinewidth": 2
          },
          "yaxis": {
           "automargin": true,
           "gridcolor": "white",
           "linecolor": "white",
           "ticks": "",
           "title": {
            "standoff": 15
           },
           "zerolinecolor": "white",
           "zerolinewidth": 2
          }
         }
        },
        "title": {
         "font": {
          "color": "#4D5663"
         }
        },
        "xaxis": {
         "gridcolor": "#E1E5ED",
         "showgrid": true,
         "tickfont": {
          "color": "#4D5663"
         },
         "title": {
          "font": {
           "color": "#4D5663"
          },
          "text": ""
         },
         "zerolinecolor": "#E1E5ED"
        },
        "yaxis": {
         "gridcolor": "#E1E5ED",
         "showgrid": true,
         "tickfont": {
          "color": "#4D5663"
         },
         "title": {
          "font": {
           "color": "#4D5663"
          },
          "text": ""
         },
         "zerolinecolor": "#E1E5ED"
        }
       }
      },
      "text/html": [
       "<div>                            <div id=\"b4316795-e968-485c-aa7b-a1e0ac37d64f\" class=\"plotly-graph-div\" style=\"height:525px; width:100%;\"></div>            <script type=\"text/javascript\">                require([\"plotly\"], function(Plotly) {                    window.PLOTLYENV=window.PLOTLYENV || {};\n",
       "                    window.PLOTLYENV.BASE_URL='https://plot.ly';                                    if (document.getElementById(\"b4316795-e968-485c-aa7b-a1e0ac37d64f\")) {                    Plotly.newPlot(                        \"b4316795-e968-485c-aa7b-a1e0ac37d64f\",                        [{\"colorscale\":[[0.0,\"rgb(255, 153, 51)\"],[0.1111111111111111,\"rgb(55, 128, 191)\"],[0.2222222222222222,\"rgb(50, 171, 96)\"],[0.3333333333333333,\"rgb(128, 0, 128)\"],[0.4444444444444444,\"rgb(219, 64, 82)\"],[0.5555555555555556,\"rgb(0, 128, 128)\"],[0.6666666666666666,\"rgb(255, 255, 51)\"],[0.7777777777777778,\"rgb(128, 128, 0)\"],[0.8888888888888888,\"rgb(251, 128, 114)\"],[1.0,\"rgb(128, 177, 211)\"]],\"x\":[0,1,2,3,4],\"y\":[\"x\",\"y\",\"z\"],\"z\":[[1,2,3,4,5],[10,20,30,20,10],[5,4,3,2,1]],\"type\":\"surface\"}],                        {\"legend\":{\"bgcolor\":\"#F5F6F9\",\"font\":{\"color\":\"#4D5663\"}},\"paper_bgcolor\":\"#F5F6F9\",\"plot_bgcolor\":\"#F5F6F9\",\"template\":{\"data\":{\"barpolar\":[{\"marker\":{\"line\":{\"color\":\"#E5ECF6\",\"width\":0.5},\"pattern\":{\"fillmode\":\"overlay\",\"size\":10,\"solidity\":0.2}},\"type\":\"barpolar\"}],\"bar\":[{\"error_x\":{\"color\":\"#2a3f5f\"},\"error_y\":{\"color\":\"#2a3f5f\"},\"marker\":{\"line\":{\"color\":\"#E5ECF6\",\"width\":0.5},\"pattern\":{\"fillmode\":\"overlay\",\"size\":10,\"solidity\":0.2}},\"type\":\"bar\"}],\"carpet\":[{\"aaxis\":{\"endlinecolor\":\"#2a3f5f\",\"gridcolor\":\"white\",\"linecolor\":\"white\",\"minorgridcolor\":\"white\",\"startlinecolor\":\"#2a3f5f\"},\"baxis\":{\"endlinecolor\":\"#2a3f5f\",\"gridcolor\":\"white\",\"linecolor\":\"white\",\"minorgridcolor\":\"white\",\"startlinecolor\":\"#2a3f5f\"},\"type\":\"carpet\"}],\"choropleth\":[{\"colorbar\":{\"outlinewidth\":0,\"ticks\":\"\"},\"type\":\"choropleth\"}],\"contourcarpet\":[{\"colorbar\":{\"outlinewidth\":0,\"ticks\":\"\"},\"type\":\"contourcarpet\"}],\"contour\":[{\"colorbar\":{\"outlinewidth\":0,\"ticks\":\"\"},\"colorscale\":[[0.0,\"#0d0887\"],[0.1111111111111111,\"#46039f\"],[0.2222222222222222,\"#7201a8\"],[0.3333333333333333,\"#9c179e\"],[0.4444444444444444,\"#bd3786\"],[0.5555555555555556,\"#d8576b\"],[0.6666666666666666,\"#ed7953\"],[0.7777777777777778,\"#fb9f3a\"],[0.8888888888888888,\"#fdca26\"],[1.0,\"#f0f921\"]],\"type\":\"contour\"}],\"heatmapgl\":[{\"colorbar\":{\"outlinewidth\":0,\"ticks\":\"\"},\"colorscale\":[[0.0,\"#0d0887\"],[0.1111111111111111,\"#46039f\"],[0.2222222222222222,\"#7201a8\"],[0.3333333333333333,\"#9c179e\"],[0.4444444444444444,\"#bd3786\"],[0.5555555555555556,\"#d8576b\"],[0.6666666666666666,\"#ed7953\"],[0.7777777777777778,\"#fb9f3a\"],[0.8888888888888888,\"#fdca26\"],[1.0,\"#f0f921\"]],\"type\":\"heatmapgl\"}],\"heatmap\":[{\"colorbar\":{\"outlinewidth\":0,\"ticks\":\"\"},\"colorscale\":[[0.0,\"#0d0887\"],[0.1111111111111111,\"#46039f\"],[0.2222222222222222,\"#7201a8\"],[0.3333333333333333,\"#9c179e\"],[0.4444444444444444,\"#bd3786\"],[0.5555555555555556,\"#d8576b\"],[0.6666666666666666,\"#ed7953\"],[0.7777777777777778,\"#fb9f3a\"],[0.8888888888888888,\"#fdca26\"],[1.0,\"#f0f921\"]],\"type\":\"heatmap\"}],\"histogram2dcontour\":[{\"colorbar\":{\"outlinewidth\":0,\"ticks\":\"\"},\"colorscale\":[[0.0,\"#0d0887\"],[0.1111111111111111,\"#46039f\"],[0.2222222222222222,\"#7201a8\"],[0.3333333333333333,\"#9c179e\"],[0.4444444444444444,\"#bd3786\"],[0.5555555555555556,\"#d8576b\"],[0.6666666666666666,\"#ed7953\"],[0.7777777777777778,\"#fb9f3a\"],[0.8888888888888888,\"#fdca26\"],[1.0,\"#f0f921\"]],\"type\":\"histogram2dcontour\"}],\"histogram2d\":[{\"colorbar\":{\"outlinewidth\":0,\"ticks\":\"\"},\"colorscale\":[[0.0,\"#0d0887\"],[0.1111111111111111,\"#46039f\"],[0.2222222222222222,\"#7201a8\"],[0.3333333333333333,\"#9c179e\"],[0.4444444444444444,\"#bd3786\"],[0.5555555555555556,\"#d8576b\"],[0.6666666666666666,\"#ed7953\"],[0.7777777777777778,\"#fb9f3a\"],[0.8888888888888888,\"#fdca26\"],[1.0,\"#f0f921\"]],\"type\":\"histogram2d\"}],\"histogram\":[{\"marker\":{\"pattern\":{\"fillmode\":\"overlay\",\"size\":10,\"solidity\":0.2}},\"type\":\"histogram\"}],\"mesh3d\":[{\"colorbar\":{\"outlinewidth\":0,\"ticks\":\"\"},\"type\":\"mesh3d\"}],\"parcoords\":[{\"line\":{\"colorbar\":{\"outlinewidth\":0,\"ticks\":\"\"}},\"type\":\"parcoords\"}],\"pie\":[{\"automargin\":true,\"type\":\"pie\"}],\"scatter3d\":[{\"line\":{\"colorbar\":{\"outlinewidth\":0,\"ticks\":\"\"}},\"marker\":{\"colorbar\":{\"outlinewidth\":0,\"ticks\":\"\"}},\"type\":\"scatter3d\"}],\"scattercarpet\":[{\"marker\":{\"colorbar\":{\"outlinewidth\":0,\"ticks\":\"\"}},\"type\":\"scattercarpet\"}],\"scattergeo\":[{\"marker\":{\"colorbar\":{\"outlinewidth\":0,\"ticks\":\"\"}},\"type\":\"scattergeo\"}],\"scattergl\":[{\"marker\":{\"colorbar\":{\"outlinewidth\":0,\"ticks\":\"\"}},\"type\":\"scattergl\"}],\"scattermapbox\":[{\"marker\":{\"colorbar\":{\"outlinewidth\":0,\"ticks\":\"\"}},\"type\":\"scattermapbox\"}],\"scatterpolargl\":[{\"marker\":{\"colorbar\":{\"outlinewidth\":0,\"ticks\":\"\"}},\"type\":\"scatterpolargl\"}],\"scatterpolar\":[{\"marker\":{\"colorbar\":{\"outlinewidth\":0,\"ticks\":\"\"}},\"type\":\"scatterpolar\"}],\"scatter\":[{\"fillpattern\":{\"fillmode\":\"overlay\",\"size\":10,\"solidity\":0.2},\"type\":\"scatter\"}],\"scatterternary\":[{\"marker\":{\"colorbar\":{\"outlinewidth\":0,\"ticks\":\"\"}},\"type\":\"scatterternary\"}],\"surface\":[{\"colorbar\":{\"outlinewidth\":0,\"ticks\":\"\"},\"colorscale\":[[0.0,\"#0d0887\"],[0.1111111111111111,\"#46039f\"],[0.2222222222222222,\"#7201a8\"],[0.3333333333333333,\"#9c179e\"],[0.4444444444444444,\"#bd3786\"],[0.5555555555555556,\"#d8576b\"],[0.6666666666666666,\"#ed7953\"],[0.7777777777777778,\"#fb9f3a\"],[0.8888888888888888,\"#fdca26\"],[1.0,\"#f0f921\"]],\"type\":\"surface\"}],\"table\":[{\"cells\":{\"fill\":{\"color\":\"#EBF0F8\"},\"line\":{\"color\":\"white\"}},\"header\":{\"fill\":{\"color\":\"#C8D4E3\"},\"line\":{\"color\":\"white\"}},\"type\":\"table\"}]},\"layout\":{\"annotationdefaults\":{\"arrowcolor\":\"#2a3f5f\",\"arrowhead\":0,\"arrowwidth\":1},\"autotypenumbers\":\"strict\",\"coloraxis\":{\"colorbar\":{\"outlinewidth\":0,\"ticks\":\"\"}},\"colorscale\":{\"diverging\":[[0,\"#8e0152\"],[0.1,\"#c51b7d\"],[0.2,\"#de77ae\"],[0.3,\"#f1b6da\"],[0.4,\"#fde0ef\"],[0.5,\"#f7f7f7\"],[0.6,\"#e6f5d0\"],[0.7,\"#b8e186\"],[0.8,\"#7fbc41\"],[0.9,\"#4d9221\"],[1,\"#276419\"]],\"sequential\":[[0.0,\"#0d0887\"],[0.1111111111111111,\"#46039f\"],[0.2222222222222222,\"#7201a8\"],[0.3333333333333333,\"#9c179e\"],[0.4444444444444444,\"#bd3786\"],[0.5555555555555556,\"#d8576b\"],[0.6666666666666666,\"#ed7953\"],[0.7777777777777778,\"#fb9f3a\"],[0.8888888888888888,\"#fdca26\"],[1.0,\"#f0f921\"]],\"sequentialminus\":[[0.0,\"#0d0887\"],[0.1111111111111111,\"#46039f\"],[0.2222222222222222,\"#7201a8\"],[0.3333333333333333,\"#9c179e\"],[0.4444444444444444,\"#bd3786\"],[0.5555555555555556,\"#d8576b\"],[0.6666666666666666,\"#ed7953\"],[0.7777777777777778,\"#fb9f3a\"],[0.8888888888888888,\"#fdca26\"],[1.0,\"#f0f921\"]]},\"colorway\":[\"#636efa\",\"#EF553B\",\"#00cc96\",\"#ab63fa\",\"#FFA15A\",\"#19d3f3\",\"#FF6692\",\"#B6E880\",\"#FF97FF\",\"#FECB52\"],\"font\":{\"color\":\"#2a3f5f\"},\"geo\":{\"bgcolor\":\"white\",\"lakecolor\":\"white\",\"landcolor\":\"#E5ECF6\",\"showlakes\":true,\"showland\":true,\"subunitcolor\":\"white\"},\"hoverlabel\":{\"align\":\"left\"},\"hovermode\":\"closest\",\"mapbox\":{\"style\":\"light\"},\"paper_bgcolor\":\"white\",\"plot_bgcolor\":\"#E5ECF6\",\"polar\":{\"angularaxis\":{\"gridcolor\":\"white\",\"linecolor\":\"white\",\"ticks\":\"\"},\"bgcolor\":\"#E5ECF6\",\"radialaxis\":{\"gridcolor\":\"white\",\"linecolor\":\"white\",\"ticks\":\"\"}},\"scene\":{\"xaxis\":{\"backgroundcolor\":\"#E5ECF6\",\"gridcolor\":\"white\",\"gridwidth\":2,\"linecolor\":\"white\",\"showbackground\":true,\"ticks\":\"\",\"zerolinecolor\":\"white\"},\"yaxis\":{\"backgroundcolor\":\"#E5ECF6\",\"gridcolor\":\"white\",\"gridwidth\":2,\"linecolor\":\"white\",\"showbackground\":true,\"ticks\":\"\",\"zerolinecolor\":\"white\"},\"zaxis\":{\"backgroundcolor\":\"#E5ECF6\",\"gridcolor\":\"white\",\"gridwidth\":2,\"linecolor\":\"white\",\"showbackground\":true,\"ticks\":\"\",\"zerolinecolor\":\"white\"}},\"shapedefaults\":{\"line\":{\"color\":\"#2a3f5f\"}},\"ternary\":{\"aaxis\":{\"gridcolor\":\"white\",\"linecolor\":\"white\",\"ticks\":\"\"},\"baxis\":{\"gridcolor\":\"white\",\"linecolor\":\"white\",\"ticks\":\"\"},\"bgcolor\":\"#E5ECF6\",\"caxis\":{\"gridcolor\":\"white\",\"linecolor\":\"white\",\"ticks\":\"\"}},\"title\":{\"x\":0.05},\"xaxis\":{\"automargin\":true,\"gridcolor\":\"white\",\"linecolor\":\"white\",\"ticks\":\"\",\"title\":{\"standoff\":15},\"zerolinecolor\":\"white\",\"zerolinewidth\":2},\"yaxis\":{\"automargin\":true,\"gridcolor\":\"white\",\"linecolor\":\"white\",\"ticks\":\"\",\"title\":{\"standoff\":15},\"zerolinecolor\":\"white\",\"zerolinewidth\":2}}},\"title\":{\"font\":{\"color\":\"#4D5663\"}},\"xaxis\":{\"gridcolor\":\"#E1E5ED\",\"showgrid\":true,\"tickfont\":{\"color\":\"#4D5663\"},\"title\":{\"font\":{\"color\":\"#4D5663\"},\"text\":\"\"},\"zerolinecolor\":\"#E1E5ED\"},\"yaxis\":{\"gridcolor\":\"#E1E5ED\",\"showgrid\":true,\"tickfont\":{\"color\":\"#4D5663\"},\"title\":{\"font\":{\"color\":\"#4D5663\"},\"text\":\"\"},\"zerolinecolor\":\"#E1E5ED\"}},                        {\"showLink\": true, \"linkText\": \"Export to plot.ly\", \"plotlyServerURL\": \"https://plot.ly\", \"responsive\": true}                    ).then(function(){\n",
       "                            \n",
       "var gd = document.getElementById('b4316795-e968-485c-aa7b-a1e0ac37d64f');\n",
       "var x = new MutationObserver(function (mutations, observer) {{\n",
       "        var display = window.getComputedStyle(gd).display;\n",
       "        if (!display || display === 'none') {{\n",
       "            console.log([gd, 'removed!']);\n",
       "            Plotly.purge(gd);\n",
       "            observer.disconnect();\n",
       "        }}\n",
       "}});\n",
       "\n",
       "// Listen for the removal of the full notebook cells\n",
       "var notebookContainer = gd.closest('#notebook-container');\n",
       "if (notebookContainer) {{\n",
       "    x.observe(notebookContainer, {childList: true});\n",
       "}}\n",
       "\n",
       "// Listen for the clearing of the current output cell\n",
       "var outputEl = gd.closest('.output');\n",
       "if (outputEl) {{\n",
       "    x.observe(outputEl, {childList: true});\n",
       "}}\n",
       "\n",
       "                        })                };                });            </script>        </div>"
      ]
     },
     "metadata": {},
     "output_type": "display_data"
    }
   ],
   "source": [
    "df3.iplot(kind='surface',colorscale)"
   ]
  },
  {
   "cell_type": "code",
   "execution_count": 28,
   "metadata": {},
   "outputs": [
    {
     "data": {
      "application/vnd.plotly.v1+json": {
       "config": {
        "linkText": "Export to plot.ly",
        "plotlyServerURL": "https://plot.ly",
        "showLink": true
       },
       "data": [
        {
         "colorscale": [
          [
           0,
           "rgb(165,0,38)"
          ],
          [
           0.1,
           "rgb(215,48,39)"
          ],
          [
           0.2,
           "rgb(244,109,67)"
          ],
          [
           0.3,
           "rgb(253,174,97)"
          ],
          [
           0.4,
           "rgb(254,224,144)"
          ],
          [
           0.5,
           "rgb(255,255,191)"
          ],
          [
           0.6,
           "rgb(224,243,248)"
          ],
          [
           0.7,
           "rgb(171,217,233)"
          ],
          [
           0.8,
           "rgb(116,173,209)"
          ],
          [
           0.9,
           "rgb(69,117,180)"
          ],
          [
           1,
           "rgb(49,54,149)"
          ]
         ],
         "type": "surface",
         "x": [
          0,
          1,
          2,
          3,
          4
         ],
         "y": [
          "x",
          "y",
          "z"
         ],
         "z": [
          [
           1,
           2,
           3,
           4,
           5
          ],
          [
           10,
           20,
           30,
           20,
           10
          ],
          [
           5,
           4,
           3,
           2,
           1
          ]
         ]
        }
       ],
       "layout": {
        "legend": {
         "bgcolor": "#F5F6F9",
         "font": {
          "color": "#4D5663"
         }
        },
        "paper_bgcolor": "#F5F6F9",
        "plot_bgcolor": "#F5F6F9",
        "template": {
         "data": {
          "bar": [
           {
            "error_x": {
             "color": "#2a3f5f"
            },
            "error_y": {
             "color": "#2a3f5f"
            },
            "marker": {
             "line": {
              "color": "#E5ECF6",
              "width": 0.5
             },
             "pattern": {
              "fillmode": "overlay",
              "size": 10,
              "solidity": 0.2
             }
            },
            "type": "bar"
           }
          ],
          "barpolar": [
           {
            "marker": {
             "line": {
              "color": "#E5ECF6",
              "width": 0.5
             },
             "pattern": {
              "fillmode": "overlay",
              "size": 10,
              "solidity": 0.2
             }
            },
            "type": "barpolar"
           }
          ],
          "carpet": [
           {
            "aaxis": {
             "endlinecolor": "#2a3f5f",
             "gridcolor": "white",
             "linecolor": "white",
             "minorgridcolor": "white",
             "startlinecolor": "#2a3f5f"
            },
            "baxis": {
             "endlinecolor": "#2a3f5f",
             "gridcolor": "white",
             "linecolor": "white",
             "minorgridcolor": "white",
             "startlinecolor": "#2a3f5f"
            },
            "type": "carpet"
           }
          ],
          "choropleth": [
           {
            "colorbar": {
             "outlinewidth": 0,
             "ticks": ""
            },
            "type": "choropleth"
           }
          ],
          "contour": [
           {
            "colorbar": {
             "outlinewidth": 0,
             "ticks": ""
            },
            "colorscale": [
             [
              0,
              "#0d0887"
             ],
             [
              0.1111111111111111,
              "#46039f"
             ],
             [
              0.2222222222222222,
              "#7201a8"
             ],
             [
              0.3333333333333333,
              "#9c179e"
             ],
             [
              0.4444444444444444,
              "#bd3786"
             ],
             [
              0.5555555555555556,
              "#d8576b"
             ],
             [
              0.6666666666666666,
              "#ed7953"
             ],
             [
              0.7777777777777778,
              "#fb9f3a"
             ],
             [
              0.8888888888888888,
              "#fdca26"
             ],
             [
              1,
              "#f0f921"
             ]
            ],
            "type": "contour"
           }
          ],
          "contourcarpet": [
           {
            "colorbar": {
             "outlinewidth": 0,
             "ticks": ""
            },
            "type": "contourcarpet"
           }
          ],
          "heatmap": [
           {
            "colorbar": {
             "outlinewidth": 0,
             "ticks": ""
            },
            "colorscale": [
             [
              0,
              "#0d0887"
             ],
             [
              0.1111111111111111,
              "#46039f"
             ],
             [
              0.2222222222222222,
              "#7201a8"
             ],
             [
              0.3333333333333333,
              "#9c179e"
             ],
             [
              0.4444444444444444,
              "#bd3786"
             ],
             [
              0.5555555555555556,
              "#d8576b"
             ],
             [
              0.6666666666666666,
              "#ed7953"
             ],
             [
              0.7777777777777778,
              "#fb9f3a"
             ],
             [
              0.8888888888888888,
              "#fdca26"
             ],
             [
              1,
              "#f0f921"
             ]
            ],
            "type": "heatmap"
           }
          ],
          "heatmapgl": [
           {
            "colorbar": {
             "outlinewidth": 0,
             "ticks": ""
            },
            "colorscale": [
             [
              0,
              "#0d0887"
             ],
             [
              0.1111111111111111,
              "#46039f"
             ],
             [
              0.2222222222222222,
              "#7201a8"
             ],
             [
              0.3333333333333333,
              "#9c179e"
             ],
             [
              0.4444444444444444,
              "#bd3786"
             ],
             [
              0.5555555555555556,
              "#d8576b"
             ],
             [
              0.6666666666666666,
              "#ed7953"
             ],
             [
              0.7777777777777778,
              "#fb9f3a"
             ],
             [
              0.8888888888888888,
              "#fdca26"
             ],
             [
              1,
              "#f0f921"
             ]
            ],
            "type": "heatmapgl"
           }
          ],
          "histogram": [
           {
            "marker": {
             "pattern": {
              "fillmode": "overlay",
              "size": 10,
              "solidity": 0.2
             }
            },
            "type": "histogram"
           }
          ],
          "histogram2d": [
           {
            "colorbar": {
             "outlinewidth": 0,
             "ticks": ""
            },
            "colorscale": [
             [
              0,
              "#0d0887"
             ],
             [
              0.1111111111111111,
              "#46039f"
             ],
             [
              0.2222222222222222,
              "#7201a8"
             ],
             [
              0.3333333333333333,
              "#9c179e"
             ],
             [
              0.4444444444444444,
              "#bd3786"
             ],
             [
              0.5555555555555556,
              "#d8576b"
             ],
             [
              0.6666666666666666,
              "#ed7953"
             ],
             [
              0.7777777777777778,
              "#fb9f3a"
             ],
             [
              0.8888888888888888,
              "#fdca26"
             ],
             [
              1,
              "#f0f921"
             ]
            ],
            "type": "histogram2d"
           }
          ],
          "histogram2dcontour": [
           {
            "colorbar": {
             "outlinewidth": 0,
             "ticks": ""
            },
            "colorscale": [
             [
              0,
              "#0d0887"
             ],
             [
              0.1111111111111111,
              "#46039f"
             ],
             [
              0.2222222222222222,
              "#7201a8"
             ],
             [
              0.3333333333333333,
              "#9c179e"
             ],
             [
              0.4444444444444444,
              "#bd3786"
             ],
             [
              0.5555555555555556,
              "#d8576b"
             ],
             [
              0.6666666666666666,
              "#ed7953"
             ],
             [
              0.7777777777777778,
              "#fb9f3a"
             ],
             [
              0.8888888888888888,
              "#fdca26"
             ],
             [
              1,
              "#f0f921"
             ]
            ],
            "type": "histogram2dcontour"
           }
          ],
          "mesh3d": [
           {
            "colorbar": {
             "outlinewidth": 0,
             "ticks": ""
            },
            "type": "mesh3d"
           }
          ],
          "parcoords": [
           {
            "line": {
             "colorbar": {
              "outlinewidth": 0,
              "ticks": ""
             }
            },
            "type": "parcoords"
           }
          ],
          "pie": [
           {
            "automargin": true,
            "type": "pie"
           }
          ],
          "scatter": [
           {
            "fillpattern": {
             "fillmode": "overlay",
             "size": 10,
             "solidity": 0.2
            },
            "type": "scatter"
           }
          ],
          "scatter3d": [
           {
            "line": {
             "colorbar": {
              "outlinewidth": 0,
              "ticks": ""
             }
            },
            "marker": {
             "colorbar": {
              "outlinewidth": 0,
              "ticks": ""
             }
            },
            "type": "scatter3d"
           }
          ],
          "scattercarpet": [
           {
            "marker": {
             "colorbar": {
              "outlinewidth": 0,
              "ticks": ""
             }
            },
            "type": "scattercarpet"
           }
          ],
          "scattergeo": [
           {
            "marker": {
             "colorbar": {
              "outlinewidth": 0,
              "ticks": ""
             }
            },
            "type": "scattergeo"
           }
          ],
          "scattergl": [
           {
            "marker": {
             "colorbar": {
              "outlinewidth": 0,
              "ticks": ""
             }
            },
            "type": "scattergl"
           }
          ],
          "scattermapbox": [
           {
            "marker": {
             "colorbar": {
              "outlinewidth": 0,
              "ticks": ""
             }
            },
            "type": "scattermapbox"
           }
          ],
          "scatterpolar": [
           {
            "marker": {
             "colorbar": {
              "outlinewidth": 0,
              "ticks": ""
             }
            },
            "type": "scatterpolar"
           }
          ],
          "scatterpolargl": [
           {
            "marker": {
             "colorbar": {
              "outlinewidth": 0,
              "ticks": ""
             }
            },
            "type": "scatterpolargl"
           }
          ],
          "scatterternary": [
           {
            "marker": {
             "colorbar": {
              "outlinewidth": 0,
              "ticks": ""
             }
            },
            "type": "scatterternary"
           }
          ],
          "surface": [
           {
            "colorbar": {
             "outlinewidth": 0,
             "ticks": ""
            },
            "colorscale": [
             [
              0,
              "#0d0887"
             ],
             [
              0.1111111111111111,
              "#46039f"
             ],
             [
              0.2222222222222222,
              "#7201a8"
             ],
             [
              0.3333333333333333,
              "#9c179e"
             ],
             [
              0.4444444444444444,
              "#bd3786"
             ],
             [
              0.5555555555555556,
              "#d8576b"
             ],
             [
              0.6666666666666666,
              "#ed7953"
             ],
             [
              0.7777777777777778,
              "#fb9f3a"
             ],
             [
              0.8888888888888888,
              "#fdca26"
             ],
             [
              1,
              "#f0f921"
             ]
            ],
            "type": "surface"
           }
          ],
          "table": [
           {
            "cells": {
             "fill": {
              "color": "#EBF0F8"
             },
             "line": {
              "color": "white"
             }
            },
            "header": {
             "fill": {
              "color": "#C8D4E3"
             },
             "line": {
              "color": "white"
             }
            },
            "type": "table"
           }
          ]
         },
         "layout": {
          "annotationdefaults": {
           "arrowcolor": "#2a3f5f",
           "arrowhead": 0,
           "arrowwidth": 1
          },
          "autotypenumbers": "strict",
          "coloraxis": {
           "colorbar": {
            "outlinewidth": 0,
            "ticks": ""
           }
          },
          "colorscale": {
           "diverging": [
            [
             0,
             "#8e0152"
            ],
            [
             0.1,
             "#c51b7d"
            ],
            [
             0.2,
             "#de77ae"
            ],
            [
             0.3,
             "#f1b6da"
            ],
            [
             0.4,
             "#fde0ef"
            ],
            [
             0.5,
             "#f7f7f7"
            ],
            [
             0.6,
             "#e6f5d0"
            ],
            [
             0.7,
             "#b8e186"
            ],
            [
             0.8,
             "#7fbc41"
            ],
            [
             0.9,
             "#4d9221"
            ],
            [
             1,
             "#276419"
            ]
           ],
           "sequential": [
            [
             0,
             "#0d0887"
            ],
            [
             0.1111111111111111,
             "#46039f"
            ],
            [
             0.2222222222222222,
             "#7201a8"
            ],
            [
             0.3333333333333333,
             "#9c179e"
            ],
            [
             0.4444444444444444,
             "#bd3786"
            ],
            [
             0.5555555555555556,
             "#d8576b"
            ],
            [
             0.6666666666666666,
             "#ed7953"
            ],
            [
             0.7777777777777778,
             "#fb9f3a"
            ],
            [
             0.8888888888888888,
             "#fdca26"
            ],
            [
             1,
             "#f0f921"
            ]
           ],
           "sequentialminus": [
            [
             0,
             "#0d0887"
            ],
            [
             0.1111111111111111,
             "#46039f"
            ],
            [
             0.2222222222222222,
             "#7201a8"
            ],
            [
             0.3333333333333333,
             "#9c179e"
            ],
            [
             0.4444444444444444,
             "#bd3786"
            ],
            [
             0.5555555555555556,
             "#d8576b"
            ],
            [
             0.6666666666666666,
             "#ed7953"
            ],
            [
             0.7777777777777778,
             "#fb9f3a"
            ],
            [
             0.8888888888888888,
             "#fdca26"
            ],
            [
             1,
             "#f0f921"
            ]
           ]
          },
          "colorway": [
           "#636efa",
           "#EF553B",
           "#00cc96",
           "#ab63fa",
           "#FFA15A",
           "#19d3f3",
           "#FF6692",
           "#B6E880",
           "#FF97FF",
           "#FECB52"
          ],
          "font": {
           "color": "#2a3f5f"
          },
          "geo": {
           "bgcolor": "white",
           "lakecolor": "white",
           "landcolor": "#E5ECF6",
           "showlakes": true,
           "showland": true,
           "subunitcolor": "white"
          },
          "hoverlabel": {
           "align": "left"
          },
          "hovermode": "closest",
          "mapbox": {
           "style": "light"
          },
          "paper_bgcolor": "white",
          "plot_bgcolor": "#E5ECF6",
          "polar": {
           "angularaxis": {
            "gridcolor": "white",
            "linecolor": "white",
            "ticks": ""
           },
           "bgcolor": "#E5ECF6",
           "radialaxis": {
            "gridcolor": "white",
            "linecolor": "white",
            "ticks": ""
           }
          },
          "scene": {
           "xaxis": {
            "backgroundcolor": "#E5ECF6",
            "gridcolor": "white",
            "gridwidth": 2,
            "linecolor": "white",
            "showbackground": true,
            "ticks": "",
            "zerolinecolor": "white"
           },
           "yaxis": {
            "backgroundcolor": "#E5ECF6",
            "gridcolor": "white",
            "gridwidth": 2,
            "linecolor": "white",
            "showbackground": true,
            "ticks": "",
            "zerolinecolor": "white"
           },
           "zaxis": {
            "backgroundcolor": "#E5ECF6",
            "gridcolor": "white",
            "gridwidth": 2,
            "linecolor": "white",
            "showbackground": true,
            "ticks": "",
            "zerolinecolor": "white"
           }
          },
          "shapedefaults": {
           "line": {
            "color": "#2a3f5f"
           }
          },
          "ternary": {
           "aaxis": {
            "gridcolor": "white",
            "linecolor": "white",
            "ticks": ""
           },
           "baxis": {
            "gridcolor": "white",
            "linecolor": "white",
            "ticks": ""
           },
           "bgcolor": "#E5ECF6",
           "caxis": {
            "gridcolor": "white",
            "linecolor": "white",
            "ticks": ""
           }
          },
          "title": {
           "x": 0.05
          },
          "xaxis": {
           "automargin": true,
           "gridcolor": "white",
           "linecolor": "white",
           "ticks": "",
           "title": {
            "standoff": 15
           },
           "zerolinecolor": "white",
           "zerolinewidth": 2
          },
          "yaxis": {
           "automargin": true,
           "gridcolor": "white",
           "linecolor": "white",
           "ticks": "",
           "title": {
            "standoff": 15
           },
           "zerolinecolor": "white",
           "zerolinewidth": 2
          }
         }
        },
        "title": {
         "font": {
          "color": "#4D5663"
         }
        },
        "xaxis": {
         "gridcolor": "#E1E5ED",
         "showgrid": true,
         "tickfont": {
          "color": "#4D5663"
         },
         "title": {
          "font": {
           "color": "#4D5663"
          },
          "text": ""
         },
         "zerolinecolor": "#E1E5ED"
        },
        "yaxis": {
         "gridcolor": "#E1E5ED",
         "showgrid": true,
         "tickfont": {
          "color": "#4D5663"
         },
         "title": {
          "font": {
           "color": "#4D5663"
          },
          "text": ""
         },
         "zerolinecolor": "#E1E5ED"
        }
       }
      },
      "text/html": [
       "<div>                            <div id=\"d17e2882-d548-4864-854e-f73e68ad8375\" class=\"plotly-graph-div\" style=\"height:525px; width:100%;\"></div>            <script type=\"text/javascript\">                require([\"plotly\"], function(Plotly) {                    window.PLOTLYENV=window.PLOTLYENV || {};\n",
       "                    window.PLOTLYENV.BASE_URL='https://plot.ly';                                    if (document.getElementById(\"d17e2882-d548-4864-854e-f73e68ad8375\")) {                    Plotly.newPlot(                        \"d17e2882-d548-4864-854e-f73e68ad8375\",                        [{\"colorscale\":[[0.0,\"rgb(165,0,38)\"],[0.1,\"rgb(215,48,39)\"],[0.2,\"rgb(244,109,67)\"],[0.3,\"rgb(253,174,97)\"],[0.4,\"rgb(254,224,144)\"],[0.5,\"rgb(255,255,191)\"],[0.6,\"rgb(224,243,248)\"],[0.7,\"rgb(171,217,233)\"],[0.8,\"rgb(116,173,209)\"],[0.9,\"rgb(69,117,180)\"],[1.0,\"rgb(49,54,149)\"]],\"x\":[0,1,2,3,4],\"y\":[\"x\",\"y\",\"z\"],\"z\":[[1,2,3,4,5],[10,20,30,20,10],[5,4,3,2,1]],\"type\":\"surface\"}],                        {\"legend\":{\"bgcolor\":\"#F5F6F9\",\"font\":{\"color\":\"#4D5663\"}},\"paper_bgcolor\":\"#F5F6F9\",\"plot_bgcolor\":\"#F5F6F9\",\"template\":{\"data\":{\"barpolar\":[{\"marker\":{\"line\":{\"color\":\"#E5ECF6\",\"width\":0.5},\"pattern\":{\"fillmode\":\"overlay\",\"size\":10,\"solidity\":0.2}},\"type\":\"barpolar\"}],\"bar\":[{\"error_x\":{\"color\":\"#2a3f5f\"},\"error_y\":{\"color\":\"#2a3f5f\"},\"marker\":{\"line\":{\"color\":\"#E5ECF6\",\"width\":0.5},\"pattern\":{\"fillmode\":\"overlay\",\"size\":10,\"solidity\":0.2}},\"type\":\"bar\"}],\"carpet\":[{\"aaxis\":{\"endlinecolor\":\"#2a3f5f\",\"gridcolor\":\"white\",\"linecolor\":\"white\",\"minorgridcolor\":\"white\",\"startlinecolor\":\"#2a3f5f\"},\"baxis\":{\"endlinecolor\":\"#2a3f5f\",\"gridcolor\":\"white\",\"linecolor\":\"white\",\"minorgridcolor\":\"white\",\"startlinecolor\":\"#2a3f5f\"},\"type\":\"carpet\"}],\"choropleth\":[{\"colorbar\":{\"outlinewidth\":0,\"ticks\":\"\"},\"type\":\"choropleth\"}],\"contourcarpet\":[{\"colorbar\":{\"outlinewidth\":0,\"ticks\":\"\"},\"type\":\"contourcarpet\"}],\"contour\":[{\"colorbar\":{\"outlinewidth\":0,\"ticks\":\"\"},\"colorscale\":[[0.0,\"#0d0887\"],[0.1111111111111111,\"#46039f\"],[0.2222222222222222,\"#7201a8\"],[0.3333333333333333,\"#9c179e\"],[0.4444444444444444,\"#bd3786\"],[0.5555555555555556,\"#d8576b\"],[0.6666666666666666,\"#ed7953\"],[0.7777777777777778,\"#fb9f3a\"],[0.8888888888888888,\"#fdca26\"],[1.0,\"#f0f921\"]],\"type\":\"contour\"}],\"heatmapgl\":[{\"colorbar\":{\"outlinewidth\":0,\"ticks\":\"\"},\"colorscale\":[[0.0,\"#0d0887\"],[0.1111111111111111,\"#46039f\"],[0.2222222222222222,\"#7201a8\"],[0.3333333333333333,\"#9c179e\"],[0.4444444444444444,\"#bd3786\"],[0.5555555555555556,\"#d8576b\"],[0.6666666666666666,\"#ed7953\"],[0.7777777777777778,\"#fb9f3a\"],[0.8888888888888888,\"#fdca26\"],[1.0,\"#f0f921\"]],\"type\":\"heatmapgl\"}],\"heatmap\":[{\"colorbar\":{\"outlinewidth\":0,\"ticks\":\"\"},\"colorscale\":[[0.0,\"#0d0887\"],[0.1111111111111111,\"#46039f\"],[0.2222222222222222,\"#7201a8\"],[0.3333333333333333,\"#9c179e\"],[0.4444444444444444,\"#bd3786\"],[0.5555555555555556,\"#d8576b\"],[0.6666666666666666,\"#ed7953\"],[0.7777777777777778,\"#fb9f3a\"],[0.8888888888888888,\"#fdca26\"],[1.0,\"#f0f921\"]],\"type\":\"heatmap\"}],\"histogram2dcontour\":[{\"colorbar\":{\"outlinewidth\":0,\"ticks\":\"\"},\"colorscale\":[[0.0,\"#0d0887\"],[0.1111111111111111,\"#46039f\"],[0.2222222222222222,\"#7201a8\"],[0.3333333333333333,\"#9c179e\"],[0.4444444444444444,\"#bd3786\"],[0.5555555555555556,\"#d8576b\"],[0.6666666666666666,\"#ed7953\"],[0.7777777777777778,\"#fb9f3a\"],[0.8888888888888888,\"#fdca26\"],[1.0,\"#f0f921\"]],\"type\":\"histogram2dcontour\"}],\"histogram2d\":[{\"colorbar\":{\"outlinewidth\":0,\"ticks\":\"\"},\"colorscale\":[[0.0,\"#0d0887\"],[0.1111111111111111,\"#46039f\"],[0.2222222222222222,\"#7201a8\"],[0.3333333333333333,\"#9c179e\"],[0.4444444444444444,\"#bd3786\"],[0.5555555555555556,\"#d8576b\"],[0.6666666666666666,\"#ed7953\"],[0.7777777777777778,\"#fb9f3a\"],[0.8888888888888888,\"#fdca26\"],[1.0,\"#f0f921\"]],\"type\":\"histogram2d\"}],\"histogram\":[{\"marker\":{\"pattern\":{\"fillmode\":\"overlay\",\"size\":10,\"solidity\":0.2}},\"type\":\"histogram\"}],\"mesh3d\":[{\"colorbar\":{\"outlinewidth\":0,\"ticks\":\"\"},\"type\":\"mesh3d\"}],\"parcoords\":[{\"line\":{\"colorbar\":{\"outlinewidth\":0,\"ticks\":\"\"}},\"type\":\"parcoords\"}],\"pie\":[{\"automargin\":true,\"type\":\"pie\"}],\"scatter3d\":[{\"line\":{\"colorbar\":{\"outlinewidth\":0,\"ticks\":\"\"}},\"marker\":{\"colorbar\":{\"outlinewidth\":0,\"ticks\":\"\"}},\"type\":\"scatter3d\"}],\"scattercarpet\":[{\"marker\":{\"colorbar\":{\"outlinewidth\":0,\"ticks\":\"\"}},\"type\":\"scattercarpet\"}],\"scattergeo\":[{\"marker\":{\"colorbar\":{\"outlinewidth\":0,\"ticks\":\"\"}},\"type\":\"scattergeo\"}],\"scattergl\":[{\"marker\":{\"colorbar\":{\"outlinewidth\":0,\"ticks\":\"\"}},\"type\":\"scattergl\"}],\"scattermapbox\":[{\"marker\":{\"colorbar\":{\"outlinewidth\":0,\"ticks\":\"\"}},\"type\":\"scattermapbox\"}],\"scatterpolargl\":[{\"marker\":{\"colorbar\":{\"outlinewidth\":0,\"ticks\":\"\"}},\"type\":\"scatterpolargl\"}],\"scatterpolar\":[{\"marker\":{\"colorbar\":{\"outlinewidth\":0,\"ticks\":\"\"}},\"type\":\"scatterpolar\"}],\"scatter\":[{\"fillpattern\":{\"fillmode\":\"overlay\",\"size\":10,\"solidity\":0.2},\"type\":\"scatter\"}],\"scatterternary\":[{\"marker\":{\"colorbar\":{\"outlinewidth\":0,\"ticks\":\"\"}},\"type\":\"scatterternary\"}],\"surface\":[{\"colorbar\":{\"outlinewidth\":0,\"ticks\":\"\"},\"colorscale\":[[0.0,\"#0d0887\"],[0.1111111111111111,\"#46039f\"],[0.2222222222222222,\"#7201a8\"],[0.3333333333333333,\"#9c179e\"],[0.4444444444444444,\"#bd3786\"],[0.5555555555555556,\"#d8576b\"],[0.6666666666666666,\"#ed7953\"],[0.7777777777777778,\"#fb9f3a\"],[0.8888888888888888,\"#fdca26\"],[1.0,\"#f0f921\"]],\"type\":\"surface\"}],\"table\":[{\"cells\":{\"fill\":{\"color\":\"#EBF0F8\"},\"line\":{\"color\":\"white\"}},\"header\":{\"fill\":{\"color\":\"#C8D4E3\"},\"line\":{\"color\":\"white\"}},\"type\":\"table\"}]},\"layout\":{\"annotationdefaults\":{\"arrowcolor\":\"#2a3f5f\",\"arrowhead\":0,\"arrowwidth\":1},\"autotypenumbers\":\"strict\",\"coloraxis\":{\"colorbar\":{\"outlinewidth\":0,\"ticks\":\"\"}},\"colorscale\":{\"diverging\":[[0,\"#8e0152\"],[0.1,\"#c51b7d\"],[0.2,\"#de77ae\"],[0.3,\"#f1b6da\"],[0.4,\"#fde0ef\"],[0.5,\"#f7f7f7\"],[0.6,\"#e6f5d0\"],[0.7,\"#b8e186\"],[0.8,\"#7fbc41\"],[0.9,\"#4d9221\"],[1,\"#276419\"]],\"sequential\":[[0.0,\"#0d0887\"],[0.1111111111111111,\"#46039f\"],[0.2222222222222222,\"#7201a8\"],[0.3333333333333333,\"#9c179e\"],[0.4444444444444444,\"#bd3786\"],[0.5555555555555556,\"#d8576b\"],[0.6666666666666666,\"#ed7953\"],[0.7777777777777778,\"#fb9f3a\"],[0.8888888888888888,\"#fdca26\"],[1.0,\"#f0f921\"]],\"sequentialminus\":[[0.0,\"#0d0887\"],[0.1111111111111111,\"#46039f\"],[0.2222222222222222,\"#7201a8\"],[0.3333333333333333,\"#9c179e\"],[0.4444444444444444,\"#bd3786\"],[0.5555555555555556,\"#d8576b\"],[0.6666666666666666,\"#ed7953\"],[0.7777777777777778,\"#fb9f3a\"],[0.8888888888888888,\"#fdca26\"],[1.0,\"#f0f921\"]]},\"colorway\":[\"#636efa\",\"#EF553B\",\"#00cc96\",\"#ab63fa\",\"#FFA15A\",\"#19d3f3\",\"#FF6692\",\"#B6E880\",\"#FF97FF\",\"#FECB52\"],\"font\":{\"color\":\"#2a3f5f\"},\"geo\":{\"bgcolor\":\"white\",\"lakecolor\":\"white\",\"landcolor\":\"#E5ECF6\",\"showlakes\":true,\"showland\":true,\"subunitcolor\":\"white\"},\"hoverlabel\":{\"align\":\"left\"},\"hovermode\":\"closest\",\"mapbox\":{\"style\":\"light\"},\"paper_bgcolor\":\"white\",\"plot_bgcolor\":\"#E5ECF6\",\"polar\":{\"angularaxis\":{\"gridcolor\":\"white\",\"linecolor\":\"white\",\"ticks\":\"\"},\"bgcolor\":\"#E5ECF6\",\"radialaxis\":{\"gridcolor\":\"white\",\"linecolor\":\"white\",\"ticks\":\"\"}},\"scene\":{\"xaxis\":{\"backgroundcolor\":\"#E5ECF6\",\"gridcolor\":\"white\",\"gridwidth\":2,\"linecolor\":\"white\",\"showbackground\":true,\"ticks\":\"\",\"zerolinecolor\":\"white\"},\"yaxis\":{\"backgroundcolor\":\"#E5ECF6\",\"gridcolor\":\"white\",\"gridwidth\":2,\"linecolor\":\"white\",\"showbackground\":true,\"ticks\":\"\",\"zerolinecolor\":\"white\"},\"zaxis\":{\"backgroundcolor\":\"#E5ECF6\",\"gridcolor\":\"white\",\"gridwidth\":2,\"linecolor\":\"white\",\"showbackground\":true,\"ticks\":\"\",\"zerolinecolor\":\"white\"}},\"shapedefaults\":{\"line\":{\"color\":\"#2a3f5f\"}},\"ternary\":{\"aaxis\":{\"gridcolor\":\"white\",\"linecolor\":\"white\",\"ticks\":\"\"},\"baxis\":{\"gridcolor\":\"white\",\"linecolor\":\"white\",\"ticks\":\"\"},\"bgcolor\":\"#E5ECF6\",\"caxis\":{\"gridcolor\":\"white\",\"linecolor\":\"white\",\"ticks\":\"\"}},\"title\":{\"x\":0.05},\"xaxis\":{\"automargin\":true,\"gridcolor\":\"white\",\"linecolor\":\"white\",\"ticks\":\"\",\"title\":{\"standoff\":15},\"zerolinecolor\":\"white\",\"zerolinewidth\":2},\"yaxis\":{\"automargin\":true,\"gridcolor\":\"white\",\"linecolor\":\"white\",\"ticks\":\"\",\"title\":{\"standoff\":15},\"zerolinecolor\":\"white\",\"zerolinewidth\":2}}},\"title\":{\"font\":{\"color\":\"#4D5663\"}},\"xaxis\":{\"gridcolor\":\"#E1E5ED\",\"showgrid\":true,\"tickfont\":{\"color\":\"#4D5663\"},\"title\":{\"font\":{\"color\":\"#4D5663\"},\"text\":\"\"},\"zerolinecolor\":\"#E1E5ED\"},\"yaxis\":{\"gridcolor\":\"#E1E5ED\",\"showgrid\":true,\"tickfont\":{\"color\":\"#4D5663\"},\"title\":{\"font\":{\"color\":\"#4D5663\"},\"text\":\"\"},\"zerolinecolor\":\"#E1E5ED\"}},                        {\"showLink\": true, \"linkText\": \"Export to plot.ly\", \"plotlyServerURL\": \"https://plot.ly\", \"responsive\": true}                    ).then(function(){\n",
       "                            \n",
       "var gd = document.getElementById('d17e2882-d548-4864-854e-f73e68ad8375');\n",
       "var x = new MutationObserver(function (mutations, observer) {{\n",
       "        var display = window.getComputedStyle(gd).display;\n",
       "        if (!display || display === 'none') {{\n",
       "            console.log([gd, 'removed!']);\n",
       "            Plotly.purge(gd);\n",
       "            observer.disconnect();\n",
       "        }}\n",
       "}});\n",
       "\n",
       "// Listen for the removal of the full notebook cells\n",
       "var notebookContainer = gd.closest('#notebook-container');\n",
       "if (notebookContainer) {{\n",
       "    x.observe(notebookContainer, {childList: true});\n",
       "}}\n",
       "\n",
       "// Listen for the clearing of the current output cell\n",
       "var outputEl = gd.closest('.output');\n",
       "if (outputEl) {{\n",
       "    x.observe(outputEl, {childList: true});\n",
       "}}\n",
       "\n",
       "                        })                };                });            </script>        </div>"
      ]
     },
     "metadata": {},
     "output_type": "display_data"
    }
   ],
   "source": [
    "df3.iplot(kind='surface',colorscale='rdylbu')"
   ]
  },
  {
   "cell_type": "code",
   "execution_count": 31,
   "metadata": {},
   "outputs": [
    {
     "data": {
      "application/vnd.plotly.v1+json": {
       "config": {
        "linkText": "Export to plot.ly",
        "plotlyServerURL": "https://plot.ly",
        "showLink": true
       },
       "data": [
        {
         "histfunc": "count",
         "histnorm": "",
         "marker": {
          "color": "rgba(255, 153, 51, 1.0)",
          "line": {
           "color": "#4D5663",
           "width": 1.3
          }
         },
         "name": "A",
         "nbinsx": 50,
         "opacity": 0.8,
         "orientation": "v",
         "type": "histogram",
         "x": [
          0.40534718238775297,
          0.4618384364241935,
          0.24801495362386689,
          -0.20275965105180163,
          0.09894775497959721,
          0.6599246788548914,
          0.8438472586319632,
          0.014204738168655967,
          -1.0523175976673647,
          -0.33916820542896847,
          -1.661959469597001,
          0.012685600171485036,
          -0.4789785319016016,
          1.0084397271213716,
          0.5939225191331639,
          -1.095553489611045,
          -0.18951102092657343,
          -0.7485311039793072,
          -0.430464829191035,
          -0.7631277171679673,
          0.36148744061730415,
          0.07563251615586787,
          -1.8860291881983393,
          1.830146264431817,
          1.5261693945209298,
          0.16291324267842877,
          -0.8262337273807737,
          -0.5517585324681692,
          0.345803414065465,
          -1.4703487784808873,
          -0.42067931889214644,
          -0.13166190696965407,
          1.123577676117159,
          1.1810238810798508,
          1.660312792380613,
          0.5051805618852068,
          0.17556028099014473,
          -0.5494279945135929,
          -0.054740206493713695,
          -0.2168076326530869,
          -0.851789995700195,
          1.8015449616578993,
          -1.4170720382865047,
          0.8735331849938913,
          -1.1093059122024311,
          -0.4904870041875731,
          0.024771903075371624,
          -0.14604266902562074,
          -0.1804877739615316,
          -0.26801124668195686,
          0.6532291709068574,
          0.9495574584417534,
          -1.531778149170353,
          1.5890221761187682,
          0.980982056724215,
          -1.3218991841523904,
          -0.7748649079913962,
          0.4742698276888825,
          -0.0020455685397476487,
          1.8920574153876382,
          -0.22893685140438824,
          -0.6971595344536778,
          -1.7688603238410823,
          0.06128443693784288,
          -0.360684189084469,
          -0.4533831065070736,
          1.1124492419990712,
          -0.14284110930219396,
          0.583799577696767,
          0.4763961235399069,
          0.888486188632068,
          1.1547065346517043,
          -0.06266321573539217,
          1.2614886864066421,
          -0.2713660149998362,
          -0.564030478976412,
          -0.36032635768443194,
          -1.386122960420082,
          0.6497222345182069,
          0.4073214610955935,
          1.1951054678585589,
          1.1462194285806422,
          0.3839065700825093,
          0.02158569664438489,
          -0.31607498419747876,
          1.2258170818043679,
          1.5403849676974233,
          -1.2793493722883689,
          1.4546677261348309,
          0.8853740095330099,
          -0.27871528402228496,
          -0.45790415202886203,
          0.6078800386133114,
          0.2619094555525887,
          -0.9359554761132841,
          -1.310045647360763,
          0.8639954189862001,
          -0.17319697866189304,
          -0.23456567552557125,
          0.39507788382193987
         ]
        }
       ],
       "layout": {
        "barmode": "overlay",
        "legend": {
         "bgcolor": "#F5F6F9",
         "font": {
          "color": "#4D5663"
         }
        },
        "paper_bgcolor": "#F5F6F9",
        "plot_bgcolor": "#F5F6F9",
        "template": {
         "data": {
          "bar": [
           {
            "error_x": {
             "color": "#2a3f5f"
            },
            "error_y": {
             "color": "#2a3f5f"
            },
            "marker": {
             "line": {
              "color": "#E5ECF6",
              "width": 0.5
             },
             "pattern": {
              "fillmode": "overlay",
              "size": 10,
              "solidity": 0.2
             }
            },
            "type": "bar"
           }
          ],
          "barpolar": [
           {
            "marker": {
             "line": {
              "color": "#E5ECF6",
              "width": 0.5
             },
             "pattern": {
              "fillmode": "overlay",
              "size": 10,
              "solidity": 0.2
             }
            },
            "type": "barpolar"
           }
          ],
          "carpet": [
           {
            "aaxis": {
             "endlinecolor": "#2a3f5f",
             "gridcolor": "white",
             "linecolor": "white",
             "minorgridcolor": "white",
             "startlinecolor": "#2a3f5f"
            },
            "baxis": {
             "endlinecolor": "#2a3f5f",
             "gridcolor": "white",
             "linecolor": "white",
             "minorgridcolor": "white",
             "startlinecolor": "#2a3f5f"
            },
            "type": "carpet"
           }
          ],
          "choropleth": [
           {
            "colorbar": {
             "outlinewidth": 0,
             "ticks": ""
            },
            "type": "choropleth"
           }
          ],
          "contour": [
           {
            "colorbar": {
             "outlinewidth": 0,
             "ticks": ""
            },
            "colorscale": [
             [
              0,
              "#0d0887"
             ],
             [
              0.1111111111111111,
              "#46039f"
             ],
             [
              0.2222222222222222,
              "#7201a8"
             ],
             [
              0.3333333333333333,
              "#9c179e"
             ],
             [
              0.4444444444444444,
              "#bd3786"
             ],
             [
              0.5555555555555556,
              "#d8576b"
             ],
             [
              0.6666666666666666,
              "#ed7953"
             ],
             [
              0.7777777777777778,
              "#fb9f3a"
             ],
             [
              0.8888888888888888,
              "#fdca26"
             ],
             [
              1,
              "#f0f921"
             ]
            ],
            "type": "contour"
           }
          ],
          "contourcarpet": [
           {
            "colorbar": {
             "outlinewidth": 0,
             "ticks": ""
            },
            "type": "contourcarpet"
           }
          ],
          "heatmap": [
           {
            "colorbar": {
             "outlinewidth": 0,
             "ticks": ""
            },
            "colorscale": [
             [
              0,
              "#0d0887"
             ],
             [
              0.1111111111111111,
              "#46039f"
             ],
             [
              0.2222222222222222,
              "#7201a8"
             ],
             [
              0.3333333333333333,
              "#9c179e"
             ],
             [
              0.4444444444444444,
              "#bd3786"
             ],
             [
              0.5555555555555556,
              "#d8576b"
             ],
             [
              0.6666666666666666,
              "#ed7953"
             ],
             [
              0.7777777777777778,
              "#fb9f3a"
             ],
             [
              0.8888888888888888,
              "#fdca26"
             ],
             [
              1,
              "#f0f921"
             ]
            ],
            "type": "heatmap"
           }
          ],
          "heatmapgl": [
           {
            "colorbar": {
             "outlinewidth": 0,
             "ticks": ""
            },
            "colorscale": [
             [
              0,
              "#0d0887"
             ],
             [
              0.1111111111111111,
              "#46039f"
             ],
             [
              0.2222222222222222,
              "#7201a8"
             ],
             [
              0.3333333333333333,
              "#9c179e"
             ],
             [
              0.4444444444444444,
              "#bd3786"
             ],
             [
              0.5555555555555556,
              "#d8576b"
             ],
             [
              0.6666666666666666,
              "#ed7953"
             ],
             [
              0.7777777777777778,
              "#fb9f3a"
             ],
             [
              0.8888888888888888,
              "#fdca26"
             ],
             [
              1,
              "#f0f921"
             ]
            ],
            "type": "heatmapgl"
           }
          ],
          "histogram": [
           {
            "marker": {
             "pattern": {
              "fillmode": "overlay",
              "size": 10,
              "solidity": 0.2
             }
            },
            "type": "histogram"
           }
          ],
          "histogram2d": [
           {
            "colorbar": {
             "outlinewidth": 0,
             "ticks": ""
            },
            "colorscale": [
             [
              0,
              "#0d0887"
             ],
             [
              0.1111111111111111,
              "#46039f"
             ],
             [
              0.2222222222222222,
              "#7201a8"
             ],
             [
              0.3333333333333333,
              "#9c179e"
             ],
             [
              0.4444444444444444,
              "#bd3786"
             ],
             [
              0.5555555555555556,
              "#d8576b"
             ],
             [
              0.6666666666666666,
              "#ed7953"
             ],
             [
              0.7777777777777778,
              "#fb9f3a"
             ],
             [
              0.8888888888888888,
              "#fdca26"
             ],
             [
              1,
              "#f0f921"
             ]
            ],
            "type": "histogram2d"
           }
          ],
          "histogram2dcontour": [
           {
            "colorbar": {
             "outlinewidth": 0,
             "ticks": ""
            },
            "colorscale": [
             [
              0,
              "#0d0887"
             ],
             [
              0.1111111111111111,
              "#46039f"
             ],
             [
              0.2222222222222222,
              "#7201a8"
             ],
             [
              0.3333333333333333,
              "#9c179e"
             ],
             [
              0.4444444444444444,
              "#bd3786"
             ],
             [
              0.5555555555555556,
              "#d8576b"
             ],
             [
              0.6666666666666666,
              "#ed7953"
             ],
             [
              0.7777777777777778,
              "#fb9f3a"
             ],
             [
              0.8888888888888888,
              "#fdca26"
             ],
             [
              1,
              "#f0f921"
             ]
            ],
            "type": "histogram2dcontour"
           }
          ],
          "mesh3d": [
           {
            "colorbar": {
             "outlinewidth": 0,
             "ticks": ""
            },
            "type": "mesh3d"
           }
          ],
          "parcoords": [
           {
            "line": {
             "colorbar": {
              "outlinewidth": 0,
              "ticks": ""
             }
            },
            "type": "parcoords"
           }
          ],
          "pie": [
           {
            "automargin": true,
            "type": "pie"
           }
          ],
          "scatter": [
           {
            "fillpattern": {
             "fillmode": "overlay",
             "size": 10,
             "solidity": 0.2
            },
            "type": "scatter"
           }
          ],
          "scatter3d": [
           {
            "line": {
             "colorbar": {
              "outlinewidth": 0,
              "ticks": ""
             }
            },
            "marker": {
             "colorbar": {
              "outlinewidth": 0,
              "ticks": ""
             }
            },
            "type": "scatter3d"
           }
          ],
          "scattercarpet": [
           {
            "marker": {
             "colorbar": {
              "outlinewidth": 0,
              "ticks": ""
             }
            },
            "type": "scattercarpet"
           }
          ],
          "scattergeo": [
           {
            "marker": {
             "colorbar": {
              "outlinewidth": 0,
              "ticks": ""
             }
            },
            "type": "scattergeo"
           }
          ],
          "scattergl": [
           {
            "marker": {
             "colorbar": {
              "outlinewidth": 0,
              "ticks": ""
             }
            },
            "type": "scattergl"
           }
          ],
          "scattermapbox": [
           {
            "marker": {
             "colorbar": {
              "outlinewidth": 0,
              "ticks": ""
             }
            },
            "type": "scattermapbox"
           }
          ],
          "scatterpolar": [
           {
            "marker": {
             "colorbar": {
              "outlinewidth": 0,
              "ticks": ""
             }
            },
            "type": "scatterpolar"
           }
          ],
          "scatterpolargl": [
           {
            "marker": {
             "colorbar": {
              "outlinewidth": 0,
              "ticks": ""
             }
            },
            "type": "scatterpolargl"
           }
          ],
          "scatterternary": [
           {
            "marker": {
             "colorbar": {
              "outlinewidth": 0,
              "ticks": ""
             }
            },
            "type": "scatterternary"
           }
          ],
          "surface": [
           {
            "colorbar": {
             "outlinewidth": 0,
             "ticks": ""
            },
            "colorscale": [
             [
              0,
              "#0d0887"
             ],
             [
              0.1111111111111111,
              "#46039f"
             ],
             [
              0.2222222222222222,
              "#7201a8"
             ],
             [
              0.3333333333333333,
              "#9c179e"
             ],
             [
              0.4444444444444444,
              "#bd3786"
             ],
             [
              0.5555555555555556,
              "#d8576b"
             ],
             [
              0.6666666666666666,
              "#ed7953"
             ],
             [
              0.7777777777777778,
              "#fb9f3a"
             ],
             [
              0.8888888888888888,
              "#fdca26"
             ],
             [
              1,
              "#f0f921"
             ]
            ],
            "type": "surface"
           }
          ],
          "table": [
           {
            "cells": {
             "fill": {
              "color": "#EBF0F8"
             },
             "line": {
              "color": "white"
             }
            },
            "header": {
             "fill": {
              "color": "#C8D4E3"
             },
             "line": {
              "color": "white"
             }
            },
            "type": "table"
           }
          ]
         },
         "layout": {
          "annotationdefaults": {
           "arrowcolor": "#2a3f5f",
           "arrowhead": 0,
           "arrowwidth": 1
          },
          "autotypenumbers": "strict",
          "coloraxis": {
           "colorbar": {
            "outlinewidth": 0,
            "ticks": ""
           }
          },
          "colorscale": {
           "diverging": [
            [
             0,
             "#8e0152"
            ],
            [
             0.1,
             "#c51b7d"
            ],
            [
             0.2,
             "#de77ae"
            ],
            [
             0.3,
             "#f1b6da"
            ],
            [
             0.4,
             "#fde0ef"
            ],
            [
             0.5,
             "#f7f7f7"
            ],
            [
             0.6,
             "#e6f5d0"
            ],
            [
             0.7,
             "#b8e186"
            ],
            [
             0.8,
             "#7fbc41"
            ],
            [
             0.9,
             "#4d9221"
            ],
            [
             1,
             "#276419"
            ]
           ],
           "sequential": [
            [
             0,
             "#0d0887"
            ],
            [
             0.1111111111111111,
             "#46039f"
            ],
            [
             0.2222222222222222,
             "#7201a8"
            ],
            [
             0.3333333333333333,
             "#9c179e"
            ],
            [
             0.4444444444444444,
             "#bd3786"
            ],
            [
             0.5555555555555556,
             "#d8576b"
            ],
            [
             0.6666666666666666,
             "#ed7953"
            ],
            [
             0.7777777777777778,
             "#fb9f3a"
            ],
            [
             0.8888888888888888,
             "#fdca26"
            ],
            [
             1,
             "#f0f921"
            ]
           ],
           "sequentialminus": [
            [
             0,
             "#0d0887"
            ],
            [
             0.1111111111111111,
             "#46039f"
            ],
            [
             0.2222222222222222,
             "#7201a8"
            ],
            [
             0.3333333333333333,
             "#9c179e"
            ],
            [
             0.4444444444444444,
             "#bd3786"
            ],
            [
             0.5555555555555556,
             "#d8576b"
            ],
            [
             0.6666666666666666,
             "#ed7953"
            ],
            [
             0.7777777777777778,
             "#fb9f3a"
            ],
            [
             0.8888888888888888,
             "#fdca26"
            ],
            [
             1,
             "#f0f921"
            ]
           ]
          },
          "colorway": [
           "#636efa",
           "#EF553B",
           "#00cc96",
           "#ab63fa",
           "#FFA15A",
           "#19d3f3",
           "#FF6692",
           "#B6E880",
           "#FF97FF",
           "#FECB52"
          ],
          "font": {
           "color": "#2a3f5f"
          },
          "geo": {
           "bgcolor": "white",
           "lakecolor": "white",
           "landcolor": "#E5ECF6",
           "showlakes": true,
           "showland": true,
           "subunitcolor": "white"
          },
          "hoverlabel": {
           "align": "left"
          },
          "hovermode": "closest",
          "mapbox": {
           "style": "light"
          },
          "paper_bgcolor": "white",
          "plot_bgcolor": "#E5ECF6",
          "polar": {
           "angularaxis": {
            "gridcolor": "white",
            "linecolor": "white",
            "ticks": ""
           },
           "bgcolor": "#E5ECF6",
           "radialaxis": {
            "gridcolor": "white",
            "linecolor": "white",
            "ticks": ""
           }
          },
          "scene": {
           "xaxis": {
            "backgroundcolor": "#E5ECF6",
            "gridcolor": "white",
            "gridwidth": 2,
            "linecolor": "white",
            "showbackground": true,
            "ticks": "",
            "zerolinecolor": "white"
           },
           "yaxis": {
            "backgroundcolor": "#E5ECF6",
            "gridcolor": "white",
            "gridwidth": 2,
            "linecolor": "white",
            "showbackground": true,
            "ticks": "",
            "zerolinecolor": "white"
           },
           "zaxis": {
            "backgroundcolor": "#E5ECF6",
            "gridcolor": "white",
            "gridwidth": 2,
            "linecolor": "white",
            "showbackground": true,
            "ticks": "",
            "zerolinecolor": "white"
           }
          },
          "shapedefaults": {
           "line": {
            "color": "#2a3f5f"
           }
          },
          "ternary": {
           "aaxis": {
            "gridcolor": "white",
            "linecolor": "white",
            "ticks": ""
           },
           "baxis": {
            "gridcolor": "white",
            "linecolor": "white",
            "ticks": ""
           },
           "bgcolor": "#E5ECF6",
           "caxis": {
            "gridcolor": "white",
            "linecolor": "white",
            "ticks": ""
           }
          },
          "title": {
           "x": 0.05
          },
          "xaxis": {
           "automargin": true,
           "gridcolor": "white",
           "linecolor": "white",
           "ticks": "",
           "title": {
            "standoff": 15
           },
           "zerolinecolor": "white",
           "zerolinewidth": 2
          },
          "yaxis": {
           "automargin": true,
           "gridcolor": "white",
           "linecolor": "white",
           "ticks": "",
           "title": {
            "standoff": 15
           },
           "zerolinecolor": "white",
           "zerolinewidth": 2
          }
         }
        },
        "title": {
         "font": {
          "color": "#4D5663"
         }
        },
        "xaxis": {
         "gridcolor": "#E1E5ED",
         "showgrid": true,
         "tickfont": {
          "color": "#4D5663"
         },
         "title": {
          "font": {
           "color": "#4D5663"
          },
          "text": ""
         },
         "zerolinecolor": "#E1E5ED"
        },
        "yaxis": {
         "gridcolor": "#E1E5ED",
         "showgrid": true,
         "tickfont": {
          "color": "#4D5663"
         },
         "title": {
          "font": {
           "color": "#4D5663"
          },
          "text": ""
         },
         "zerolinecolor": "#E1E5ED"
        }
       }
      },
      "text/html": [
       "<div>                            <div id=\"a28aa65c-b931-44f5-b895-ae03ce2dba7f\" class=\"plotly-graph-div\" style=\"height:525px; width:100%;\"></div>            <script type=\"text/javascript\">                require([\"plotly\"], function(Plotly) {                    window.PLOTLYENV=window.PLOTLYENV || {};\n",
       "                    window.PLOTLYENV.BASE_URL='https://plot.ly';                                    if (document.getElementById(\"a28aa65c-b931-44f5-b895-ae03ce2dba7f\")) {                    Plotly.newPlot(                        \"a28aa65c-b931-44f5-b895-ae03ce2dba7f\",                        [{\"histfunc\":\"count\",\"histnorm\":\"\",\"marker\":{\"color\":\"rgba(255, 153, 51, 1.0)\",\"line\":{\"color\":\"#4D5663\",\"width\":1.3}},\"name\":\"A\",\"nbinsx\":50,\"opacity\":0.8,\"orientation\":\"v\",\"x\":[0.40534718238775297,0.4618384364241935,0.24801495362386689,-0.20275965105180163,0.09894775497959721,0.6599246788548914,0.8438472586319632,0.014204738168655967,-1.0523175976673647,-0.33916820542896847,-1.661959469597001,0.012685600171485036,-0.4789785319016016,1.0084397271213716,0.5939225191331639,-1.095553489611045,-0.18951102092657343,-0.7485311039793072,-0.430464829191035,-0.7631277171679673,0.36148744061730415,0.07563251615586787,-1.8860291881983393,1.830146264431817,1.5261693945209298,0.16291324267842877,-0.8262337273807737,-0.5517585324681692,0.345803414065465,-1.4703487784808873,-0.42067931889214644,-0.13166190696965407,1.123577676117159,1.1810238810798508,1.660312792380613,0.5051805618852068,0.17556028099014473,-0.5494279945135929,-0.054740206493713695,-0.2168076326530869,-0.851789995700195,1.8015449616578993,-1.4170720382865047,0.8735331849938913,-1.1093059122024311,-0.4904870041875731,0.024771903075371624,-0.14604266902562074,-0.1804877739615316,-0.26801124668195686,0.6532291709068574,0.9495574584417534,-1.531778149170353,1.5890221761187682,0.980982056724215,-1.3218991841523904,-0.7748649079913962,0.4742698276888825,-0.0020455685397476487,1.8920574153876382,-0.22893685140438824,-0.6971595344536778,-1.7688603238410823,0.06128443693784288,-0.360684189084469,-0.4533831065070736,1.1124492419990712,-0.14284110930219396,0.583799577696767,0.4763961235399069,0.888486188632068,1.1547065346517043,-0.06266321573539217,1.2614886864066421,-0.2713660149998362,-0.564030478976412,-0.36032635768443194,-1.386122960420082,0.6497222345182069,0.4073214610955935,1.1951054678585589,1.1462194285806422,0.3839065700825093,0.02158569664438489,-0.31607498419747876,1.2258170818043679,1.5403849676974233,-1.2793493722883689,1.4546677261348309,0.8853740095330099,-0.27871528402228496,-0.45790415202886203,0.6078800386133114,0.2619094555525887,-0.9359554761132841,-1.310045647360763,0.8639954189862001,-0.17319697866189304,-0.23456567552557125,0.39507788382193987],\"type\":\"histogram\"}],                        {\"barmode\":\"overlay\",\"legend\":{\"bgcolor\":\"#F5F6F9\",\"font\":{\"color\":\"#4D5663\"}},\"paper_bgcolor\":\"#F5F6F9\",\"plot_bgcolor\":\"#F5F6F9\",\"template\":{\"data\":{\"barpolar\":[{\"marker\":{\"line\":{\"color\":\"#E5ECF6\",\"width\":0.5},\"pattern\":{\"fillmode\":\"overlay\",\"size\":10,\"solidity\":0.2}},\"type\":\"barpolar\"}],\"bar\":[{\"error_x\":{\"color\":\"#2a3f5f\"},\"error_y\":{\"color\":\"#2a3f5f\"},\"marker\":{\"line\":{\"color\":\"#E5ECF6\",\"width\":0.5},\"pattern\":{\"fillmode\":\"overlay\",\"size\":10,\"solidity\":0.2}},\"type\":\"bar\"}],\"carpet\":[{\"aaxis\":{\"endlinecolor\":\"#2a3f5f\",\"gridcolor\":\"white\",\"linecolor\":\"white\",\"minorgridcolor\":\"white\",\"startlinecolor\":\"#2a3f5f\"},\"baxis\":{\"endlinecolor\":\"#2a3f5f\",\"gridcolor\":\"white\",\"linecolor\":\"white\",\"minorgridcolor\":\"white\",\"startlinecolor\":\"#2a3f5f\"},\"type\":\"carpet\"}],\"choropleth\":[{\"colorbar\":{\"outlinewidth\":0,\"ticks\":\"\"},\"type\":\"choropleth\"}],\"contourcarpet\":[{\"colorbar\":{\"outlinewidth\":0,\"ticks\":\"\"},\"type\":\"contourcarpet\"}],\"contour\":[{\"colorbar\":{\"outlinewidth\":0,\"ticks\":\"\"},\"colorscale\":[[0.0,\"#0d0887\"],[0.1111111111111111,\"#46039f\"],[0.2222222222222222,\"#7201a8\"],[0.3333333333333333,\"#9c179e\"],[0.4444444444444444,\"#bd3786\"],[0.5555555555555556,\"#d8576b\"],[0.6666666666666666,\"#ed7953\"],[0.7777777777777778,\"#fb9f3a\"],[0.8888888888888888,\"#fdca26\"],[1.0,\"#f0f921\"]],\"type\":\"contour\"}],\"heatmapgl\":[{\"colorbar\":{\"outlinewidth\":0,\"ticks\":\"\"},\"colorscale\":[[0.0,\"#0d0887\"],[0.1111111111111111,\"#46039f\"],[0.2222222222222222,\"#7201a8\"],[0.3333333333333333,\"#9c179e\"],[0.4444444444444444,\"#bd3786\"],[0.5555555555555556,\"#d8576b\"],[0.6666666666666666,\"#ed7953\"],[0.7777777777777778,\"#fb9f3a\"],[0.8888888888888888,\"#fdca26\"],[1.0,\"#f0f921\"]],\"type\":\"heatmapgl\"}],\"heatmap\":[{\"colorbar\":{\"outlinewidth\":0,\"ticks\":\"\"},\"colorscale\":[[0.0,\"#0d0887\"],[0.1111111111111111,\"#46039f\"],[0.2222222222222222,\"#7201a8\"],[0.3333333333333333,\"#9c179e\"],[0.4444444444444444,\"#bd3786\"],[0.5555555555555556,\"#d8576b\"],[0.6666666666666666,\"#ed7953\"],[0.7777777777777778,\"#fb9f3a\"],[0.8888888888888888,\"#fdca26\"],[1.0,\"#f0f921\"]],\"type\":\"heatmap\"}],\"histogram2dcontour\":[{\"colorbar\":{\"outlinewidth\":0,\"ticks\":\"\"},\"colorscale\":[[0.0,\"#0d0887\"],[0.1111111111111111,\"#46039f\"],[0.2222222222222222,\"#7201a8\"],[0.3333333333333333,\"#9c179e\"],[0.4444444444444444,\"#bd3786\"],[0.5555555555555556,\"#d8576b\"],[0.6666666666666666,\"#ed7953\"],[0.7777777777777778,\"#fb9f3a\"],[0.8888888888888888,\"#fdca26\"],[1.0,\"#f0f921\"]],\"type\":\"histogram2dcontour\"}],\"histogram2d\":[{\"colorbar\":{\"outlinewidth\":0,\"ticks\":\"\"},\"colorscale\":[[0.0,\"#0d0887\"],[0.1111111111111111,\"#46039f\"],[0.2222222222222222,\"#7201a8\"],[0.3333333333333333,\"#9c179e\"],[0.4444444444444444,\"#bd3786\"],[0.5555555555555556,\"#d8576b\"],[0.6666666666666666,\"#ed7953\"],[0.7777777777777778,\"#fb9f3a\"],[0.8888888888888888,\"#fdca26\"],[1.0,\"#f0f921\"]],\"type\":\"histogram2d\"}],\"histogram\":[{\"marker\":{\"pattern\":{\"fillmode\":\"overlay\",\"size\":10,\"solidity\":0.2}},\"type\":\"histogram\"}],\"mesh3d\":[{\"colorbar\":{\"outlinewidth\":0,\"ticks\":\"\"},\"type\":\"mesh3d\"}],\"parcoords\":[{\"line\":{\"colorbar\":{\"outlinewidth\":0,\"ticks\":\"\"}},\"type\":\"parcoords\"}],\"pie\":[{\"automargin\":true,\"type\":\"pie\"}],\"scatter3d\":[{\"line\":{\"colorbar\":{\"outlinewidth\":0,\"ticks\":\"\"}},\"marker\":{\"colorbar\":{\"outlinewidth\":0,\"ticks\":\"\"}},\"type\":\"scatter3d\"}],\"scattercarpet\":[{\"marker\":{\"colorbar\":{\"outlinewidth\":0,\"ticks\":\"\"}},\"type\":\"scattercarpet\"}],\"scattergeo\":[{\"marker\":{\"colorbar\":{\"outlinewidth\":0,\"ticks\":\"\"}},\"type\":\"scattergeo\"}],\"scattergl\":[{\"marker\":{\"colorbar\":{\"outlinewidth\":0,\"ticks\":\"\"}},\"type\":\"scattergl\"}],\"scattermapbox\":[{\"marker\":{\"colorbar\":{\"outlinewidth\":0,\"ticks\":\"\"}},\"type\":\"scattermapbox\"}],\"scatterpolargl\":[{\"marker\":{\"colorbar\":{\"outlinewidth\":0,\"ticks\":\"\"}},\"type\":\"scatterpolargl\"}],\"scatterpolar\":[{\"marker\":{\"colorbar\":{\"outlinewidth\":0,\"ticks\":\"\"}},\"type\":\"scatterpolar\"}],\"scatter\":[{\"fillpattern\":{\"fillmode\":\"overlay\",\"size\":10,\"solidity\":0.2},\"type\":\"scatter\"}],\"scatterternary\":[{\"marker\":{\"colorbar\":{\"outlinewidth\":0,\"ticks\":\"\"}},\"type\":\"scatterternary\"}],\"surface\":[{\"colorbar\":{\"outlinewidth\":0,\"ticks\":\"\"},\"colorscale\":[[0.0,\"#0d0887\"],[0.1111111111111111,\"#46039f\"],[0.2222222222222222,\"#7201a8\"],[0.3333333333333333,\"#9c179e\"],[0.4444444444444444,\"#bd3786\"],[0.5555555555555556,\"#d8576b\"],[0.6666666666666666,\"#ed7953\"],[0.7777777777777778,\"#fb9f3a\"],[0.8888888888888888,\"#fdca26\"],[1.0,\"#f0f921\"]],\"type\":\"surface\"}],\"table\":[{\"cells\":{\"fill\":{\"color\":\"#EBF0F8\"},\"line\":{\"color\":\"white\"}},\"header\":{\"fill\":{\"color\":\"#C8D4E3\"},\"line\":{\"color\":\"white\"}},\"type\":\"table\"}]},\"layout\":{\"annotationdefaults\":{\"arrowcolor\":\"#2a3f5f\",\"arrowhead\":0,\"arrowwidth\":1},\"autotypenumbers\":\"strict\",\"coloraxis\":{\"colorbar\":{\"outlinewidth\":0,\"ticks\":\"\"}},\"colorscale\":{\"diverging\":[[0,\"#8e0152\"],[0.1,\"#c51b7d\"],[0.2,\"#de77ae\"],[0.3,\"#f1b6da\"],[0.4,\"#fde0ef\"],[0.5,\"#f7f7f7\"],[0.6,\"#e6f5d0\"],[0.7,\"#b8e186\"],[0.8,\"#7fbc41\"],[0.9,\"#4d9221\"],[1,\"#276419\"]],\"sequential\":[[0.0,\"#0d0887\"],[0.1111111111111111,\"#46039f\"],[0.2222222222222222,\"#7201a8\"],[0.3333333333333333,\"#9c179e\"],[0.4444444444444444,\"#bd3786\"],[0.5555555555555556,\"#d8576b\"],[0.6666666666666666,\"#ed7953\"],[0.7777777777777778,\"#fb9f3a\"],[0.8888888888888888,\"#fdca26\"],[1.0,\"#f0f921\"]],\"sequentialminus\":[[0.0,\"#0d0887\"],[0.1111111111111111,\"#46039f\"],[0.2222222222222222,\"#7201a8\"],[0.3333333333333333,\"#9c179e\"],[0.4444444444444444,\"#bd3786\"],[0.5555555555555556,\"#d8576b\"],[0.6666666666666666,\"#ed7953\"],[0.7777777777777778,\"#fb9f3a\"],[0.8888888888888888,\"#fdca26\"],[1.0,\"#f0f921\"]]},\"colorway\":[\"#636efa\",\"#EF553B\",\"#00cc96\",\"#ab63fa\",\"#FFA15A\",\"#19d3f3\",\"#FF6692\",\"#B6E880\",\"#FF97FF\",\"#FECB52\"],\"font\":{\"color\":\"#2a3f5f\"},\"geo\":{\"bgcolor\":\"white\",\"lakecolor\":\"white\",\"landcolor\":\"#E5ECF6\",\"showlakes\":true,\"showland\":true,\"subunitcolor\":\"white\"},\"hoverlabel\":{\"align\":\"left\"},\"hovermode\":\"closest\",\"mapbox\":{\"style\":\"light\"},\"paper_bgcolor\":\"white\",\"plot_bgcolor\":\"#E5ECF6\",\"polar\":{\"angularaxis\":{\"gridcolor\":\"white\",\"linecolor\":\"white\",\"ticks\":\"\"},\"bgcolor\":\"#E5ECF6\",\"radialaxis\":{\"gridcolor\":\"white\",\"linecolor\":\"white\",\"ticks\":\"\"}},\"scene\":{\"xaxis\":{\"backgroundcolor\":\"#E5ECF6\",\"gridcolor\":\"white\",\"gridwidth\":2,\"linecolor\":\"white\",\"showbackground\":true,\"ticks\":\"\",\"zerolinecolor\":\"white\"},\"yaxis\":{\"backgroundcolor\":\"#E5ECF6\",\"gridcolor\":\"white\",\"gridwidth\":2,\"linecolor\":\"white\",\"showbackground\":true,\"ticks\":\"\",\"zerolinecolor\":\"white\"},\"zaxis\":{\"backgroundcolor\":\"#E5ECF6\",\"gridcolor\":\"white\",\"gridwidth\":2,\"linecolor\":\"white\",\"showbackground\":true,\"ticks\":\"\",\"zerolinecolor\":\"white\"}},\"shapedefaults\":{\"line\":{\"color\":\"#2a3f5f\"}},\"ternary\":{\"aaxis\":{\"gridcolor\":\"white\",\"linecolor\":\"white\",\"ticks\":\"\"},\"baxis\":{\"gridcolor\":\"white\",\"linecolor\":\"white\",\"ticks\":\"\"},\"bgcolor\":\"#E5ECF6\",\"caxis\":{\"gridcolor\":\"white\",\"linecolor\":\"white\",\"ticks\":\"\"}},\"title\":{\"x\":0.05},\"xaxis\":{\"automargin\":true,\"gridcolor\":\"white\",\"linecolor\":\"white\",\"ticks\":\"\",\"title\":{\"standoff\":15},\"zerolinecolor\":\"white\",\"zerolinewidth\":2},\"yaxis\":{\"automargin\":true,\"gridcolor\":\"white\",\"linecolor\":\"white\",\"ticks\":\"\",\"title\":{\"standoff\":15},\"zerolinecolor\":\"white\",\"zerolinewidth\":2}}},\"title\":{\"font\":{\"color\":\"#4D5663\"}},\"xaxis\":{\"gridcolor\":\"#E1E5ED\",\"showgrid\":true,\"tickfont\":{\"color\":\"#4D5663\"},\"title\":{\"font\":{\"color\":\"#4D5663\"},\"text\":\"\"},\"zerolinecolor\":\"#E1E5ED\"},\"yaxis\":{\"gridcolor\":\"#E1E5ED\",\"showgrid\":true,\"tickfont\":{\"color\":\"#4D5663\"},\"title\":{\"font\":{\"color\":\"#4D5663\"},\"text\":\"\"},\"zerolinecolor\":\"#E1E5ED\"}},                        {\"showLink\": true, \"linkText\": \"Export to plot.ly\", \"plotlyServerURL\": \"https://plot.ly\", \"responsive\": true}                    ).then(function(){\n",
       "                            \n",
       "var gd = document.getElementById('a28aa65c-b931-44f5-b895-ae03ce2dba7f');\n",
       "var x = new MutationObserver(function (mutations, observer) {{\n",
       "        var display = window.getComputedStyle(gd).display;\n",
       "        if (!display || display === 'none') {{\n",
       "            console.log([gd, 'removed!']);\n",
       "            Plotly.purge(gd);\n",
       "            observer.disconnect();\n",
       "        }}\n",
       "}});\n",
       "\n",
       "// Listen for the removal of the full notebook cells\n",
       "var notebookContainer = gd.closest('#notebook-container');\n",
       "if (notebookContainer) {{\n",
       "    x.observe(notebookContainer, {childList: true});\n",
       "}}\n",
       "\n",
       "// Listen for the clearing of the current output cell\n",
       "var outputEl = gd.closest('.output');\n",
       "if (outputEl) {{\n",
       "    x.observe(outputEl, {childList: true});\n",
       "}}\n",
       "\n",
       "                        })                };                });            </script>        </div>"
      ]
     },
     "metadata": {},
     "output_type": "display_data"
    }
   ],
   "source": [
    "df['A'].iplot(kind='hist', bins=50)"
   ]
  },
  {
   "cell_type": "code",
   "execution_count": 32,
   "metadata": {},
   "outputs": [
    {
     "data": {
      "application/vnd.plotly.v1+json": {
       "config": {
        "linkText": "Export to plot.ly",
        "plotlyServerURL": "https://plot.ly",
        "showLink": true
       },
       "data": [
        {
         "histfunc": "count",
         "histnorm": "",
         "marker": {
          "color": "rgba(255, 153, 51, 1.0)",
          "line": {
           "color": "#4D5663",
           "width": 1.3
          }
         },
         "name": "A",
         "nbinsx": 100,
         "opacity": 0.8,
         "orientation": "v",
         "type": "histogram",
         "x": [
          0.40534718238775297,
          0.4618384364241935,
          0.24801495362386689,
          -0.20275965105180163,
          0.09894775497959721,
          0.6599246788548914,
          0.8438472586319632,
          0.014204738168655967,
          -1.0523175976673647,
          -0.33916820542896847,
          -1.661959469597001,
          0.012685600171485036,
          -0.4789785319016016,
          1.0084397271213716,
          0.5939225191331639,
          -1.095553489611045,
          -0.18951102092657343,
          -0.7485311039793072,
          -0.430464829191035,
          -0.7631277171679673,
          0.36148744061730415,
          0.07563251615586787,
          -1.8860291881983393,
          1.830146264431817,
          1.5261693945209298,
          0.16291324267842877,
          -0.8262337273807737,
          -0.5517585324681692,
          0.345803414065465,
          -1.4703487784808873,
          -0.42067931889214644,
          -0.13166190696965407,
          1.123577676117159,
          1.1810238810798508,
          1.660312792380613,
          0.5051805618852068,
          0.17556028099014473,
          -0.5494279945135929,
          -0.054740206493713695,
          -0.2168076326530869,
          -0.851789995700195,
          1.8015449616578993,
          -1.4170720382865047,
          0.8735331849938913,
          -1.1093059122024311,
          -0.4904870041875731,
          0.024771903075371624,
          -0.14604266902562074,
          -0.1804877739615316,
          -0.26801124668195686,
          0.6532291709068574,
          0.9495574584417534,
          -1.531778149170353,
          1.5890221761187682,
          0.980982056724215,
          -1.3218991841523904,
          -0.7748649079913962,
          0.4742698276888825,
          -0.0020455685397476487,
          1.8920574153876382,
          -0.22893685140438824,
          -0.6971595344536778,
          -1.7688603238410823,
          0.06128443693784288,
          -0.360684189084469,
          -0.4533831065070736,
          1.1124492419990712,
          -0.14284110930219396,
          0.583799577696767,
          0.4763961235399069,
          0.888486188632068,
          1.1547065346517043,
          -0.06266321573539217,
          1.2614886864066421,
          -0.2713660149998362,
          -0.564030478976412,
          -0.36032635768443194,
          -1.386122960420082,
          0.6497222345182069,
          0.4073214610955935,
          1.1951054678585589,
          1.1462194285806422,
          0.3839065700825093,
          0.02158569664438489,
          -0.31607498419747876,
          1.2258170818043679,
          1.5403849676974233,
          -1.2793493722883689,
          1.4546677261348309,
          0.8853740095330099,
          -0.27871528402228496,
          -0.45790415202886203,
          0.6078800386133114,
          0.2619094555525887,
          -0.9359554761132841,
          -1.310045647360763,
          0.8639954189862001,
          -0.17319697866189304,
          -0.23456567552557125,
          0.39507788382193987
         ]
        }
       ],
       "layout": {
        "barmode": "overlay",
        "legend": {
         "bgcolor": "#F5F6F9",
         "font": {
          "color": "#4D5663"
         }
        },
        "paper_bgcolor": "#F5F6F9",
        "plot_bgcolor": "#F5F6F9",
        "template": {
         "data": {
          "bar": [
           {
            "error_x": {
             "color": "#2a3f5f"
            },
            "error_y": {
             "color": "#2a3f5f"
            },
            "marker": {
             "line": {
              "color": "#E5ECF6",
              "width": 0.5
             },
             "pattern": {
              "fillmode": "overlay",
              "size": 10,
              "solidity": 0.2
             }
            },
            "type": "bar"
           }
          ],
          "barpolar": [
           {
            "marker": {
             "line": {
              "color": "#E5ECF6",
              "width": 0.5
             },
             "pattern": {
              "fillmode": "overlay",
              "size": 10,
              "solidity": 0.2
             }
            },
            "type": "barpolar"
           }
          ],
          "carpet": [
           {
            "aaxis": {
             "endlinecolor": "#2a3f5f",
             "gridcolor": "white",
             "linecolor": "white",
             "minorgridcolor": "white",
             "startlinecolor": "#2a3f5f"
            },
            "baxis": {
             "endlinecolor": "#2a3f5f",
             "gridcolor": "white",
             "linecolor": "white",
             "minorgridcolor": "white",
             "startlinecolor": "#2a3f5f"
            },
            "type": "carpet"
           }
          ],
          "choropleth": [
           {
            "colorbar": {
             "outlinewidth": 0,
             "ticks": ""
            },
            "type": "choropleth"
           }
          ],
          "contour": [
           {
            "colorbar": {
             "outlinewidth": 0,
             "ticks": ""
            },
            "colorscale": [
             [
              0,
              "#0d0887"
             ],
             [
              0.1111111111111111,
              "#46039f"
             ],
             [
              0.2222222222222222,
              "#7201a8"
             ],
             [
              0.3333333333333333,
              "#9c179e"
             ],
             [
              0.4444444444444444,
              "#bd3786"
             ],
             [
              0.5555555555555556,
              "#d8576b"
             ],
             [
              0.6666666666666666,
              "#ed7953"
             ],
             [
              0.7777777777777778,
              "#fb9f3a"
             ],
             [
              0.8888888888888888,
              "#fdca26"
             ],
             [
              1,
              "#f0f921"
             ]
            ],
            "type": "contour"
           }
          ],
          "contourcarpet": [
           {
            "colorbar": {
             "outlinewidth": 0,
             "ticks": ""
            },
            "type": "contourcarpet"
           }
          ],
          "heatmap": [
           {
            "colorbar": {
             "outlinewidth": 0,
             "ticks": ""
            },
            "colorscale": [
             [
              0,
              "#0d0887"
             ],
             [
              0.1111111111111111,
              "#46039f"
             ],
             [
              0.2222222222222222,
              "#7201a8"
             ],
             [
              0.3333333333333333,
              "#9c179e"
             ],
             [
              0.4444444444444444,
              "#bd3786"
             ],
             [
              0.5555555555555556,
              "#d8576b"
             ],
             [
              0.6666666666666666,
              "#ed7953"
             ],
             [
              0.7777777777777778,
              "#fb9f3a"
             ],
             [
              0.8888888888888888,
              "#fdca26"
             ],
             [
              1,
              "#f0f921"
             ]
            ],
            "type": "heatmap"
           }
          ],
          "heatmapgl": [
           {
            "colorbar": {
             "outlinewidth": 0,
             "ticks": ""
            },
            "colorscale": [
             [
              0,
              "#0d0887"
             ],
             [
              0.1111111111111111,
              "#46039f"
             ],
             [
              0.2222222222222222,
              "#7201a8"
             ],
             [
              0.3333333333333333,
              "#9c179e"
             ],
             [
              0.4444444444444444,
              "#bd3786"
             ],
             [
              0.5555555555555556,
              "#d8576b"
             ],
             [
              0.6666666666666666,
              "#ed7953"
             ],
             [
              0.7777777777777778,
              "#fb9f3a"
             ],
             [
              0.8888888888888888,
              "#fdca26"
             ],
             [
              1,
              "#f0f921"
             ]
            ],
            "type": "heatmapgl"
           }
          ],
          "histogram": [
           {
            "marker": {
             "pattern": {
              "fillmode": "overlay",
              "size": 10,
              "solidity": 0.2
             }
            },
            "type": "histogram"
           }
          ],
          "histogram2d": [
           {
            "colorbar": {
             "outlinewidth": 0,
             "ticks": ""
            },
            "colorscale": [
             [
              0,
              "#0d0887"
             ],
             [
              0.1111111111111111,
              "#46039f"
             ],
             [
              0.2222222222222222,
              "#7201a8"
             ],
             [
              0.3333333333333333,
              "#9c179e"
             ],
             [
              0.4444444444444444,
              "#bd3786"
             ],
             [
              0.5555555555555556,
              "#d8576b"
             ],
             [
              0.6666666666666666,
              "#ed7953"
             ],
             [
              0.7777777777777778,
              "#fb9f3a"
             ],
             [
              0.8888888888888888,
              "#fdca26"
             ],
             [
              1,
              "#f0f921"
             ]
            ],
            "type": "histogram2d"
           }
          ],
          "histogram2dcontour": [
           {
            "colorbar": {
             "outlinewidth": 0,
             "ticks": ""
            },
            "colorscale": [
             [
              0,
              "#0d0887"
             ],
             [
              0.1111111111111111,
              "#46039f"
             ],
             [
              0.2222222222222222,
              "#7201a8"
             ],
             [
              0.3333333333333333,
              "#9c179e"
             ],
             [
              0.4444444444444444,
              "#bd3786"
             ],
             [
              0.5555555555555556,
              "#d8576b"
             ],
             [
              0.6666666666666666,
              "#ed7953"
             ],
             [
              0.7777777777777778,
              "#fb9f3a"
             ],
             [
              0.8888888888888888,
              "#fdca26"
             ],
             [
              1,
              "#f0f921"
             ]
            ],
            "type": "histogram2dcontour"
           }
          ],
          "mesh3d": [
           {
            "colorbar": {
             "outlinewidth": 0,
             "ticks": ""
            },
            "type": "mesh3d"
           }
          ],
          "parcoords": [
           {
            "line": {
             "colorbar": {
              "outlinewidth": 0,
              "ticks": ""
             }
            },
            "type": "parcoords"
           }
          ],
          "pie": [
           {
            "automargin": true,
            "type": "pie"
           }
          ],
          "scatter": [
           {
            "fillpattern": {
             "fillmode": "overlay",
             "size": 10,
             "solidity": 0.2
            },
            "type": "scatter"
           }
          ],
          "scatter3d": [
           {
            "line": {
             "colorbar": {
              "outlinewidth": 0,
              "ticks": ""
             }
            },
            "marker": {
             "colorbar": {
              "outlinewidth": 0,
              "ticks": ""
             }
            },
            "type": "scatter3d"
           }
          ],
          "scattercarpet": [
           {
            "marker": {
             "colorbar": {
              "outlinewidth": 0,
              "ticks": ""
             }
            },
            "type": "scattercarpet"
           }
          ],
          "scattergeo": [
           {
            "marker": {
             "colorbar": {
              "outlinewidth": 0,
              "ticks": ""
             }
            },
            "type": "scattergeo"
           }
          ],
          "scattergl": [
           {
            "marker": {
             "colorbar": {
              "outlinewidth": 0,
              "ticks": ""
             }
            },
            "type": "scattergl"
           }
          ],
          "scattermapbox": [
           {
            "marker": {
             "colorbar": {
              "outlinewidth": 0,
              "ticks": ""
             }
            },
            "type": "scattermapbox"
           }
          ],
          "scatterpolar": [
           {
            "marker": {
             "colorbar": {
              "outlinewidth": 0,
              "ticks": ""
             }
            },
            "type": "scatterpolar"
           }
          ],
          "scatterpolargl": [
           {
            "marker": {
             "colorbar": {
              "outlinewidth": 0,
              "ticks": ""
             }
            },
            "type": "scatterpolargl"
           }
          ],
          "scatterternary": [
           {
            "marker": {
             "colorbar": {
              "outlinewidth": 0,
              "ticks": ""
             }
            },
            "type": "scatterternary"
           }
          ],
          "surface": [
           {
            "colorbar": {
             "outlinewidth": 0,
             "ticks": ""
            },
            "colorscale": [
             [
              0,
              "#0d0887"
             ],
             [
              0.1111111111111111,
              "#46039f"
             ],
             [
              0.2222222222222222,
              "#7201a8"
             ],
             [
              0.3333333333333333,
              "#9c179e"
             ],
             [
              0.4444444444444444,
              "#bd3786"
             ],
             [
              0.5555555555555556,
              "#d8576b"
             ],
             [
              0.6666666666666666,
              "#ed7953"
             ],
             [
              0.7777777777777778,
              "#fb9f3a"
             ],
             [
              0.8888888888888888,
              "#fdca26"
             ],
             [
              1,
              "#f0f921"
             ]
            ],
            "type": "surface"
           }
          ],
          "table": [
           {
            "cells": {
             "fill": {
              "color": "#EBF0F8"
             },
             "line": {
              "color": "white"
             }
            },
            "header": {
             "fill": {
              "color": "#C8D4E3"
             },
             "line": {
              "color": "white"
             }
            },
            "type": "table"
           }
          ]
         },
         "layout": {
          "annotationdefaults": {
           "arrowcolor": "#2a3f5f",
           "arrowhead": 0,
           "arrowwidth": 1
          },
          "autotypenumbers": "strict",
          "coloraxis": {
           "colorbar": {
            "outlinewidth": 0,
            "ticks": ""
           }
          },
          "colorscale": {
           "diverging": [
            [
             0,
             "#8e0152"
            ],
            [
             0.1,
             "#c51b7d"
            ],
            [
             0.2,
             "#de77ae"
            ],
            [
             0.3,
             "#f1b6da"
            ],
            [
             0.4,
             "#fde0ef"
            ],
            [
             0.5,
             "#f7f7f7"
            ],
            [
             0.6,
             "#e6f5d0"
            ],
            [
             0.7,
             "#b8e186"
            ],
            [
             0.8,
             "#7fbc41"
            ],
            [
             0.9,
             "#4d9221"
            ],
            [
             1,
             "#276419"
            ]
           ],
           "sequential": [
            [
             0,
             "#0d0887"
            ],
            [
             0.1111111111111111,
             "#46039f"
            ],
            [
             0.2222222222222222,
             "#7201a8"
            ],
            [
             0.3333333333333333,
             "#9c179e"
            ],
            [
             0.4444444444444444,
             "#bd3786"
            ],
            [
             0.5555555555555556,
             "#d8576b"
            ],
            [
             0.6666666666666666,
             "#ed7953"
            ],
            [
             0.7777777777777778,
             "#fb9f3a"
            ],
            [
             0.8888888888888888,
             "#fdca26"
            ],
            [
             1,
             "#f0f921"
            ]
           ],
           "sequentialminus": [
            [
             0,
             "#0d0887"
            ],
            [
             0.1111111111111111,
             "#46039f"
            ],
            [
             0.2222222222222222,
             "#7201a8"
            ],
            [
             0.3333333333333333,
             "#9c179e"
            ],
            [
             0.4444444444444444,
             "#bd3786"
            ],
            [
             0.5555555555555556,
             "#d8576b"
            ],
            [
             0.6666666666666666,
             "#ed7953"
            ],
            [
             0.7777777777777778,
             "#fb9f3a"
            ],
            [
             0.8888888888888888,
             "#fdca26"
            ],
            [
             1,
             "#f0f921"
            ]
           ]
          },
          "colorway": [
           "#636efa",
           "#EF553B",
           "#00cc96",
           "#ab63fa",
           "#FFA15A",
           "#19d3f3",
           "#FF6692",
           "#B6E880",
           "#FF97FF",
           "#FECB52"
          ],
          "font": {
           "color": "#2a3f5f"
          },
          "geo": {
           "bgcolor": "white",
           "lakecolor": "white",
           "landcolor": "#E5ECF6",
           "showlakes": true,
           "showland": true,
           "subunitcolor": "white"
          },
          "hoverlabel": {
           "align": "left"
          },
          "hovermode": "closest",
          "mapbox": {
           "style": "light"
          },
          "paper_bgcolor": "white",
          "plot_bgcolor": "#E5ECF6",
          "polar": {
           "angularaxis": {
            "gridcolor": "white",
            "linecolor": "white",
            "ticks": ""
           },
           "bgcolor": "#E5ECF6",
           "radialaxis": {
            "gridcolor": "white",
            "linecolor": "white",
            "ticks": ""
           }
          },
          "scene": {
           "xaxis": {
            "backgroundcolor": "#E5ECF6",
            "gridcolor": "white",
            "gridwidth": 2,
            "linecolor": "white",
            "showbackground": true,
            "ticks": "",
            "zerolinecolor": "white"
           },
           "yaxis": {
            "backgroundcolor": "#E5ECF6",
            "gridcolor": "white",
            "gridwidth": 2,
            "linecolor": "white",
            "showbackground": true,
            "ticks": "",
            "zerolinecolor": "white"
           },
           "zaxis": {
            "backgroundcolor": "#E5ECF6",
            "gridcolor": "white",
            "gridwidth": 2,
            "linecolor": "white",
            "showbackground": true,
            "ticks": "",
            "zerolinecolor": "white"
           }
          },
          "shapedefaults": {
           "line": {
            "color": "#2a3f5f"
           }
          },
          "ternary": {
           "aaxis": {
            "gridcolor": "white",
            "linecolor": "white",
            "ticks": ""
           },
           "baxis": {
            "gridcolor": "white",
            "linecolor": "white",
            "ticks": ""
           },
           "bgcolor": "#E5ECF6",
           "caxis": {
            "gridcolor": "white",
            "linecolor": "white",
            "ticks": ""
           }
          },
          "title": {
           "x": 0.05
          },
          "xaxis": {
           "automargin": true,
           "gridcolor": "white",
           "linecolor": "white",
           "ticks": "",
           "title": {
            "standoff": 15
           },
           "zerolinecolor": "white",
           "zerolinewidth": 2
          },
          "yaxis": {
           "automargin": true,
           "gridcolor": "white",
           "linecolor": "white",
           "ticks": "",
           "title": {
            "standoff": 15
           },
           "zerolinecolor": "white",
           "zerolinewidth": 2
          }
         }
        },
        "title": {
         "font": {
          "color": "#4D5663"
         }
        },
        "xaxis": {
         "gridcolor": "#E1E5ED",
         "showgrid": true,
         "tickfont": {
          "color": "#4D5663"
         },
         "title": {
          "font": {
           "color": "#4D5663"
          },
          "text": ""
         },
         "zerolinecolor": "#E1E5ED"
        },
        "yaxis": {
         "gridcolor": "#E1E5ED",
         "showgrid": true,
         "tickfont": {
          "color": "#4D5663"
         },
         "title": {
          "font": {
           "color": "#4D5663"
          },
          "text": ""
         },
         "zerolinecolor": "#E1E5ED"
        }
       }
      },
      "text/html": [
       "<div>                            <div id=\"d33738fa-dfa4-4e8f-b826-eac773cbd6a1\" class=\"plotly-graph-div\" style=\"height:525px; width:100%;\"></div>            <script type=\"text/javascript\">                require([\"plotly\"], function(Plotly) {                    window.PLOTLYENV=window.PLOTLYENV || {};\n",
       "                    window.PLOTLYENV.BASE_URL='https://plot.ly';                                    if (document.getElementById(\"d33738fa-dfa4-4e8f-b826-eac773cbd6a1\")) {                    Plotly.newPlot(                        \"d33738fa-dfa4-4e8f-b826-eac773cbd6a1\",                        [{\"histfunc\":\"count\",\"histnorm\":\"\",\"marker\":{\"color\":\"rgba(255, 153, 51, 1.0)\",\"line\":{\"color\":\"#4D5663\",\"width\":1.3}},\"name\":\"A\",\"nbinsx\":100,\"opacity\":0.8,\"orientation\":\"v\",\"x\":[0.40534718238775297,0.4618384364241935,0.24801495362386689,-0.20275965105180163,0.09894775497959721,0.6599246788548914,0.8438472586319632,0.014204738168655967,-1.0523175976673647,-0.33916820542896847,-1.661959469597001,0.012685600171485036,-0.4789785319016016,1.0084397271213716,0.5939225191331639,-1.095553489611045,-0.18951102092657343,-0.7485311039793072,-0.430464829191035,-0.7631277171679673,0.36148744061730415,0.07563251615586787,-1.8860291881983393,1.830146264431817,1.5261693945209298,0.16291324267842877,-0.8262337273807737,-0.5517585324681692,0.345803414065465,-1.4703487784808873,-0.42067931889214644,-0.13166190696965407,1.123577676117159,1.1810238810798508,1.660312792380613,0.5051805618852068,0.17556028099014473,-0.5494279945135929,-0.054740206493713695,-0.2168076326530869,-0.851789995700195,1.8015449616578993,-1.4170720382865047,0.8735331849938913,-1.1093059122024311,-0.4904870041875731,0.024771903075371624,-0.14604266902562074,-0.1804877739615316,-0.26801124668195686,0.6532291709068574,0.9495574584417534,-1.531778149170353,1.5890221761187682,0.980982056724215,-1.3218991841523904,-0.7748649079913962,0.4742698276888825,-0.0020455685397476487,1.8920574153876382,-0.22893685140438824,-0.6971595344536778,-1.7688603238410823,0.06128443693784288,-0.360684189084469,-0.4533831065070736,1.1124492419990712,-0.14284110930219396,0.583799577696767,0.4763961235399069,0.888486188632068,1.1547065346517043,-0.06266321573539217,1.2614886864066421,-0.2713660149998362,-0.564030478976412,-0.36032635768443194,-1.386122960420082,0.6497222345182069,0.4073214610955935,1.1951054678585589,1.1462194285806422,0.3839065700825093,0.02158569664438489,-0.31607498419747876,1.2258170818043679,1.5403849676974233,-1.2793493722883689,1.4546677261348309,0.8853740095330099,-0.27871528402228496,-0.45790415202886203,0.6078800386133114,0.2619094555525887,-0.9359554761132841,-1.310045647360763,0.8639954189862001,-0.17319697866189304,-0.23456567552557125,0.39507788382193987],\"type\":\"histogram\"}],                        {\"barmode\":\"overlay\",\"legend\":{\"bgcolor\":\"#F5F6F9\",\"font\":{\"color\":\"#4D5663\"}},\"paper_bgcolor\":\"#F5F6F9\",\"plot_bgcolor\":\"#F5F6F9\",\"template\":{\"data\":{\"barpolar\":[{\"marker\":{\"line\":{\"color\":\"#E5ECF6\",\"width\":0.5},\"pattern\":{\"fillmode\":\"overlay\",\"size\":10,\"solidity\":0.2}},\"type\":\"barpolar\"}],\"bar\":[{\"error_x\":{\"color\":\"#2a3f5f\"},\"error_y\":{\"color\":\"#2a3f5f\"},\"marker\":{\"line\":{\"color\":\"#E5ECF6\",\"width\":0.5},\"pattern\":{\"fillmode\":\"overlay\",\"size\":10,\"solidity\":0.2}},\"type\":\"bar\"}],\"carpet\":[{\"aaxis\":{\"endlinecolor\":\"#2a3f5f\",\"gridcolor\":\"white\",\"linecolor\":\"white\",\"minorgridcolor\":\"white\",\"startlinecolor\":\"#2a3f5f\"},\"baxis\":{\"endlinecolor\":\"#2a3f5f\",\"gridcolor\":\"white\",\"linecolor\":\"white\",\"minorgridcolor\":\"white\",\"startlinecolor\":\"#2a3f5f\"},\"type\":\"carpet\"}],\"choropleth\":[{\"colorbar\":{\"outlinewidth\":0,\"ticks\":\"\"},\"type\":\"choropleth\"}],\"contourcarpet\":[{\"colorbar\":{\"outlinewidth\":0,\"ticks\":\"\"},\"type\":\"contourcarpet\"}],\"contour\":[{\"colorbar\":{\"outlinewidth\":0,\"ticks\":\"\"},\"colorscale\":[[0.0,\"#0d0887\"],[0.1111111111111111,\"#46039f\"],[0.2222222222222222,\"#7201a8\"],[0.3333333333333333,\"#9c179e\"],[0.4444444444444444,\"#bd3786\"],[0.5555555555555556,\"#d8576b\"],[0.6666666666666666,\"#ed7953\"],[0.7777777777777778,\"#fb9f3a\"],[0.8888888888888888,\"#fdca26\"],[1.0,\"#f0f921\"]],\"type\":\"contour\"}],\"heatmapgl\":[{\"colorbar\":{\"outlinewidth\":0,\"ticks\":\"\"},\"colorscale\":[[0.0,\"#0d0887\"],[0.1111111111111111,\"#46039f\"],[0.2222222222222222,\"#7201a8\"],[0.3333333333333333,\"#9c179e\"],[0.4444444444444444,\"#bd3786\"],[0.5555555555555556,\"#d8576b\"],[0.6666666666666666,\"#ed7953\"],[0.7777777777777778,\"#fb9f3a\"],[0.8888888888888888,\"#fdca26\"],[1.0,\"#f0f921\"]],\"type\":\"heatmapgl\"}],\"heatmap\":[{\"colorbar\":{\"outlinewidth\":0,\"ticks\":\"\"},\"colorscale\":[[0.0,\"#0d0887\"],[0.1111111111111111,\"#46039f\"],[0.2222222222222222,\"#7201a8\"],[0.3333333333333333,\"#9c179e\"],[0.4444444444444444,\"#bd3786\"],[0.5555555555555556,\"#d8576b\"],[0.6666666666666666,\"#ed7953\"],[0.7777777777777778,\"#fb9f3a\"],[0.8888888888888888,\"#fdca26\"],[1.0,\"#f0f921\"]],\"type\":\"heatmap\"}],\"histogram2dcontour\":[{\"colorbar\":{\"outlinewidth\":0,\"ticks\":\"\"},\"colorscale\":[[0.0,\"#0d0887\"],[0.1111111111111111,\"#46039f\"],[0.2222222222222222,\"#7201a8\"],[0.3333333333333333,\"#9c179e\"],[0.4444444444444444,\"#bd3786\"],[0.5555555555555556,\"#d8576b\"],[0.6666666666666666,\"#ed7953\"],[0.7777777777777778,\"#fb9f3a\"],[0.8888888888888888,\"#fdca26\"],[1.0,\"#f0f921\"]],\"type\":\"histogram2dcontour\"}],\"histogram2d\":[{\"colorbar\":{\"outlinewidth\":0,\"ticks\":\"\"},\"colorscale\":[[0.0,\"#0d0887\"],[0.1111111111111111,\"#46039f\"],[0.2222222222222222,\"#7201a8\"],[0.3333333333333333,\"#9c179e\"],[0.4444444444444444,\"#bd3786\"],[0.5555555555555556,\"#d8576b\"],[0.6666666666666666,\"#ed7953\"],[0.7777777777777778,\"#fb9f3a\"],[0.8888888888888888,\"#fdca26\"],[1.0,\"#f0f921\"]],\"type\":\"histogram2d\"}],\"histogram\":[{\"marker\":{\"pattern\":{\"fillmode\":\"overlay\",\"size\":10,\"solidity\":0.2}},\"type\":\"histogram\"}],\"mesh3d\":[{\"colorbar\":{\"outlinewidth\":0,\"ticks\":\"\"},\"type\":\"mesh3d\"}],\"parcoords\":[{\"line\":{\"colorbar\":{\"outlinewidth\":0,\"ticks\":\"\"}},\"type\":\"parcoords\"}],\"pie\":[{\"automargin\":true,\"type\":\"pie\"}],\"scatter3d\":[{\"line\":{\"colorbar\":{\"outlinewidth\":0,\"ticks\":\"\"}},\"marker\":{\"colorbar\":{\"outlinewidth\":0,\"ticks\":\"\"}},\"type\":\"scatter3d\"}],\"scattercarpet\":[{\"marker\":{\"colorbar\":{\"outlinewidth\":0,\"ticks\":\"\"}},\"type\":\"scattercarpet\"}],\"scattergeo\":[{\"marker\":{\"colorbar\":{\"outlinewidth\":0,\"ticks\":\"\"}},\"type\":\"scattergeo\"}],\"scattergl\":[{\"marker\":{\"colorbar\":{\"outlinewidth\":0,\"ticks\":\"\"}},\"type\":\"scattergl\"}],\"scattermapbox\":[{\"marker\":{\"colorbar\":{\"outlinewidth\":0,\"ticks\":\"\"}},\"type\":\"scattermapbox\"}],\"scatterpolargl\":[{\"marker\":{\"colorbar\":{\"outlinewidth\":0,\"ticks\":\"\"}},\"type\":\"scatterpolargl\"}],\"scatterpolar\":[{\"marker\":{\"colorbar\":{\"outlinewidth\":0,\"ticks\":\"\"}},\"type\":\"scatterpolar\"}],\"scatter\":[{\"fillpattern\":{\"fillmode\":\"overlay\",\"size\":10,\"solidity\":0.2},\"type\":\"scatter\"}],\"scatterternary\":[{\"marker\":{\"colorbar\":{\"outlinewidth\":0,\"ticks\":\"\"}},\"type\":\"scatterternary\"}],\"surface\":[{\"colorbar\":{\"outlinewidth\":0,\"ticks\":\"\"},\"colorscale\":[[0.0,\"#0d0887\"],[0.1111111111111111,\"#46039f\"],[0.2222222222222222,\"#7201a8\"],[0.3333333333333333,\"#9c179e\"],[0.4444444444444444,\"#bd3786\"],[0.5555555555555556,\"#d8576b\"],[0.6666666666666666,\"#ed7953\"],[0.7777777777777778,\"#fb9f3a\"],[0.8888888888888888,\"#fdca26\"],[1.0,\"#f0f921\"]],\"type\":\"surface\"}],\"table\":[{\"cells\":{\"fill\":{\"color\":\"#EBF0F8\"},\"line\":{\"color\":\"white\"}},\"header\":{\"fill\":{\"color\":\"#C8D4E3\"},\"line\":{\"color\":\"white\"}},\"type\":\"table\"}]},\"layout\":{\"annotationdefaults\":{\"arrowcolor\":\"#2a3f5f\",\"arrowhead\":0,\"arrowwidth\":1},\"autotypenumbers\":\"strict\",\"coloraxis\":{\"colorbar\":{\"outlinewidth\":0,\"ticks\":\"\"}},\"colorscale\":{\"diverging\":[[0,\"#8e0152\"],[0.1,\"#c51b7d\"],[0.2,\"#de77ae\"],[0.3,\"#f1b6da\"],[0.4,\"#fde0ef\"],[0.5,\"#f7f7f7\"],[0.6,\"#e6f5d0\"],[0.7,\"#b8e186\"],[0.8,\"#7fbc41\"],[0.9,\"#4d9221\"],[1,\"#276419\"]],\"sequential\":[[0.0,\"#0d0887\"],[0.1111111111111111,\"#46039f\"],[0.2222222222222222,\"#7201a8\"],[0.3333333333333333,\"#9c179e\"],[0.4444444444444444,\"#bd3786\"],[0.5555555555555556,\"#d8576b\"],[0.6666666666666666,\"#ed7953\"],[0.7777777777777778,\"#fb9f3a\"],[0.8888888888888888,\"#fdca26\"],[1.0,\"#f0f921\"]],\"sequentialminus\":[[0.0,\"#0d0887\"],[0.1111111111111111,\"#46039f\"],[0.2222222222222222,\"#7201a8\"],[0.3333333333333333,\"#9c179e\"],[0.4444444444444444,\"#bd3786\"],[0.5555555555555556,\"#d8576b\"],[0.6666666666666666,\"#ed7953\"],[0.7777777777777778,\"#fb9f3a\"],[0.8888888888888888,\"#fdca26\"],[1.0,\"#f0f921\"]]},\"colorway\":[\"#636efa\",\"#EF553B\",\"#00cc96\",\"#ab63fa\",\"#FFA15A\",\"#19d3f3\",\"#FF6692\",\"#B6E880\",\"#FF97FF\",\"#FECB52\"],\"font\":{\"color\":\"#2a3f5f\"},\"geo\":{\"bgcolor\":\"white\",\"lakecolor\":\"white\",\"landcolor\":\"#E5ECF6\",\"showlakes\":true,\"showland\":true,\"subunitcolor\":\"white\"},\"hoverlabel\":{\"align\":\"left\"},\"hovermode\":\"closest\",\"mapbox\":{\"style\":\"light\"},\"paper_bgcolor\":\"white\",\"plot_bgcolor\":\"#E5ECF6\",\"polar\":{\"angularaxis\":{\"gridcolor\":\"white\",\"linecolor\":\"white\",\"ticks\":\"\"},\"bgcolor\":\"#E5ECF6\",\"radialaxis\":{\"gridcolor\":\"white\",\"linecolor\":\"white\",\"ticks\":\"\"}},\"scene\":{\"xaxis\":{\"backgroundcolor\":\"#E5ECF6\",\"gridcolor\":\"white\",\"gridwidth\":2,\"linecolor\":\"white\",\"showbackground\":true,\"ticks\":\"\",\"zerolinecolor\":\"white\"},\"yaxis\":{\"backgroundcolor\":\"#E5ECF6\",\"gridcolor\":\"white\",\"gridwidth\":2,\"linecolor\":\"white\",\"showbackground\":true,\"ticks\":\"\",\"zerolinecolor\":\"white\"},\"zaxis\":{\"backgroundcolor\":\"#E5ECF6\",\"gridcolor\":\"white\",\"gridwidth\":2,\"linecolor\":\"white\",\"showbackground\":true,\"ticks\":\"\",\"zerolinecolor\":\"white\"}},\"shapedefaults\":{\"line\":{\"color\":\"#2a3f5f\"}},\"ternary\":{\"aaxis\":{\"gridcolor\":\"white\",\"linecolor\":\"white\",\"ticks\":\"\"},\"baxis\":{\"gridcolor\":\"white\",\"linecolor\":\"white\",\"ticks\":\"\"},\"bgcolor\":\"#E5ECF6\",\"caxis\":{\"gridcolor\":\"white\",\"linecolor\":\"white\",\"ticks\":\"\"}},\"title\":{\"x\":0.05},\"xaxis\":{\"automargin\":true,\"gridcolor\":\"white\",\"linecolor\":\"white\",\"ticks\":\"\",\"title\":{\"standoff\":15},\"zerolinecolor\":\"white\",\"zerolinewidth\":2},\"yaxis\":{\"automargin\":true,\"gridcolor\":\"white\",\"linecolor\":\"white\",\"ticks\":\"\",\"title\":{\"standoff\":15},\"zerolinecolor\":\"white\",\"zerolinewidth\":2}}},\"title\":{\"font\":{\"color\":\"#4D5663\"}},\"xaxis\":{\"gridcolor\":\"#E1E5ED\",\"showgrid\":true,\"tickfont\":{\"color\":\"#4D5663\"},\"title\":{\"font\":{\"color\":\"#4D5663\"},\"text\":\"\"},\"zerolinecolor\":\"#E1E5ED\"},\"yaxis\":{\"gridcolor\":\"#E1E5ED\",\"showgrid\":true,\"tickfont\":{\"color\":\"#4D5663\"},\"title\":{\"font\":{\"color\":\"#4D5663\"},\"text\":\"\"},\"zerolinecolor\":\"#E1E5ED\"}},                        {\"showLink\": true, \"linkText\": \"Export to plot.ly\", \"plotlyServerURL\": \"https://plot.ly\", \"responsive\": true}                    ).then(function(){\n",
       "                            \n",
       "var gd = document.getElementById('d33738fa-dfa4-4e8f-b826-eac773cbd6a1');\n",
       "var x = new MutationObserver(function (mutations, observer) {{\n",
       "        var display = window.getComputedStyle(gd).display;\n",
       "        if (!display || display === 'none') {{\n",
       "            console.log([gd, 'removed!']);\n",
       "            Plotly.purge(gd);\n",
       "            observer.disconnect();\n",
       "        }}\n",
       "}});\n",
       "\n",
       "// Listen for the removal of the full notebook cells\n",
       "var notebookContainer = gd.closest('#notebook-container');\n",
       "if (notebookContainer) {{\n",
       "    x.observe(notebookContainer, {childList: true});\n",
       "}}\n",
       "\n",
       "// Listen for the clearing of the current output cell\n",
       "var outputEl = gd.closest('.output');\n",
       "if (outputEl) {{\n",
       "    x.observe(outputEl, {childList: true});\n",
       "}}\n",
       "\n",
       "                        })                };                });            </script>        </div>"
      ]
     },
     "metadata": {},
     "output_type": "display_data"
    }
   ],
   "source": [
    "df['A'].iplot(kind='hist', bins=100)"
   ]
  },
  {
   "cell_type": "code",
   "execution_count": 33,
   "metadata": {},
   "outputs": [
    {
     "data": {
      "application/vnd.plotly.v1+json": {
       "config": {
        "linkText": "Export to plot.ly",
        "plotlyServerURL": "https://plot.ly",
        "showLink": true
       },
       "data": [
        {
         "histfunc": "count",
         "histnorm": "",
         "marker": {
          "color": "rgba(255, 153, 51, 1.0)",
          "line": {
           "color": "#4D5663",
           "width": 1.3
          }
         },
         "name": "A",
         "nbinsx": 50,
         "opacity": 0.8,
         "orientation": "v",
         "type": "histogram",
         "x": [
          0.40534718238775297,
          0.4618384364241935,
          0.24801495362386689,
          -0.20275965105180163,
          0.09894775497959721,
          0.6599246788548914,
          0.8438472586319632,
          0.014204738168655967,
          -1.0523175976673647,
          -0.33916820542896847,
          -1.661959469597001,
          0.012685600171485036,
          -0.4789785319016016,
          1.0084397271213716,
          0.5939225191331639,
          -1.095553489611045,
          -0.18951102092657343,
          -0.7485311039793072,
          -0.430464829191035,
          -0.7631277171679673,
          0.36148744061730415,
          0.07563251615586787,
          -1.8860291881983393,
          1.830146264431817,
          1.5261693945209298,
          0.16291324267842877,
          -0.8262337273807737,
          -0.5517585324681692,
          0.345803414065465,
          -1.4703487784808873,
          -0.42067931889214644,
          -0.13166190696965407,
          1.123577676117159,
          1.1810238810798508,
          1.660312792380613,
          0.5051805618852068,
          0.17556028099014473,
          -0.5494279945135929,
          -0.054740206493713695,
          -0.2168076326530869,
          -0.851789995700195,
          1.8015449616578993,
          -1.4170720382865047,
          0.8735331849938913,
          -1.1093059122024311,
          -0.4904870041875731,
          0.024771903075371624,
          -0.14604266902562074,
          -0.1804877739615316,
          -0.26801124668195686,
          0.6532291709068574,
          0.9495574584417534,
          -1.531778149170353,
          1.5890221761187682,
          0.980982056724215,
          -1.3218991841523904,
          -0.7748649079913962,
          0.4742698276888825,
          -0.0020455685397476487,
          1.8920574153876382,
          -0.22893685140438824,
          -0.6971595344536778,
          -1.7688603238410823,
          0.06128443693784288,
          -0.360684189084469,
          -0.4533831065070736,
          1.1124492419990712,
          -0.14284110930219396,
          0.583799577696767,
          0.4763961235399069,
          0.888486188632068,
          1.1547065346517043,
          -0.06266321573539217,
          1.2614886864066421,
          -0.2713660149998362,
          -0.564030478976412,
          -0.36032635768443194,
          -1.386122960420082,
          0.6497222345182069,
          0.4073214610955935,
          1.1951054678585589,
          1.1462194285806422,
          0.3839065700825093,
          0.02158569664438489,
          -0.31607498419747876,
          1.2258170818043679,
          1.5403849676974233,
          -1.2793493722883689,
          1.4546677261348309,
          0.8853740095330099,
          -0.27871528402228496,
          -0.45790415202886203,
          0.6078800386133114,
          0.2619094555525887,
          -0.9359554761132841,
          -1.310045647360763,
          0.8639954189862001,
          -0.17319697866189304,
          -0.23456567552557125,
          0.39507788382193987
         ]
        },
        {
         "histfunc": "count",
         "histnorm": "",
         "marker": {
          "color": "rgba(55, 128, 191, 1.0)",
          "line": {
           "color": "#4D5663",
           "width": 1.3
          }
         },
         "name": "B",
         "nbinsx": 50,
         "opacity": 0.8,
         "orientation": "v",
         "type": "histogram",
         "x": [
          1.022485686609692,
          -0.2991330376533287,
          -0.63888610969383,
          -0.8833750002612436,
          -0.4078861332958796,
          0.4799082532464347,
          -1.357274840799496,
          0.19810773620278088,
          -0.19783074771131168,
          0.692818817496382,
          0.23191266266703442,
          -0.39355437747570005,
          0.5447687622016464,
          -0.14091375476541995,
          -0.22769161270345697,
          0.8588915764933582,
          -0.6783986928331065,
          0.8211036067421712,
          0.25817266001630773,
          0.14799711696746098,
          0.05927620745292284,
          -0.36267230950085433,
          1.2593028653582603,
          -1.0007777217527574,
          1.2282436874541525,
          -0.12769887512315786,
          1.7030143913579163,
          -1.0020872605347468,
          0.3195560424142498,
          0.15240321418665187,
          -1.5797861553236705,
          -0.3739313200333769,
          2.6021110509168666,
          -1.4471100938515242,
          -0.22318666138188153,
          0.47553906694810044,
          -1.1809472376756547,
          1.6162460221607278,
          -0.30331773033449044,
          -0.13182156682787596,
          1.4149621524860898,
          -0.9530259792261948,
          0.2742169032926556,
          -0.046045542434082556,
          0.634280138667863,
          -0.44208708609224245,
          0.6918129090202446,
          0.18012353082972507,
          -0.03975756365095694,
          -0.4035085758608769,
          -1.7585817100788126,
          -0.2996635985622194,
          -0.08613466026216665,
          1.3407846486700787,
          -1.2852375040247463,
          0.9426548906856975,
          -0.4237478485145406,
          -0.9875258770195806,
          0.8492892915359607,
          0.8623233408981996,
          -0.6444147916046757,
          0.1078678343079182,
          -0.9875734437892321,
          1.291562887565866,
          -0.8904951305931562,
          -1.7911999540279506,
          0.8759961030601735,
          0.2747985052742041,
          -0.20212363160084537,
          1.9519926300458057,
          1.2228922969535314,
          1.2775425993797307,
          -0.033907857353057,
          -1.1269326593789921,
          -0.35613822482803065,
          -0.3269080347457746,
          1.4592243810701002,
          -0.20686257323796692,
          -0.09616636678433634,
          1.2419410065257095,
          1.3048143207669025,
          -0.2980538960987875,
          1.3781856734829458,
          1.272172464631937,
          -0.3472494847742187,
          -0.010538336780892818,
          -0.16183176257636525,
          0.10152373504878527,
          -1.8653899621822374,
          -0.9683998654059663,
          -0.779130702347315,
          1.6202962931960625,
          -0.4690630803098864,
          0.024481735873536713,
          0.5510679505159154,
          -1.4104672378985652,
          0.5669444261650838,
          -1.350048904489357,
          0.6109803903416247,
          1.311724539759251
         ]
        },
        {
         "histfunc": "count",
         "histnorm": "",
         "marker": {
          "color": "rgba(50, 171, 96, 1.0)",
          "line": {
           "color": "#4D5663",
           "width": 1.3
          }
         },
         "name": "C",
         "nbinsx": 50,
         "opacity": 0.8,
         "orientation": "v",
         "type": "histogram",
         "x": [
          -0.6846939278970728,
          -2.3075965045478024,
          -0.08633181165856928,
          -0.960632782911131,
          -0.2594843276284265,
          -1.0909004044679218,
          -0.39736078887757353,
          0.4859202399005569,
          0.64713042030015,
          -0.7813163021462705,
          0.2958028918427429,
          -1.3243857628930011,
          -1.662961371536703,
          -0.40043565729067965,
          -0.3451119384557309,
          2.0903955558237,
          -0.012557888875386733,
          0.07247683377659399,
          0.11988491292645348,
          -0.4627347402924009,
          -1.0946635758514829,
          -2.6728360093505703,
          0.4742050895262971,
          -1.150747503716675,
          -1.2679999124494294,
          -1.7425682851942794,
          1.2659089043708076,
          0.6599750210405136,
          0.29300311967555526,
          -0.03466136540901326,
          0.8932463555019038,
          0.1375773675663175,
          -0.39833065736608564,
          0.2287132229961002,
          -1.888861525535101,
          -1.3748150359304196,
          0.41802892703303685,
          1.0966859796173523,
          -0.13334943209995173,
          -1.1419708932998787,
          1.1871886179574034,
          0.8486538344167918,
          -0.5192329608506668,
          0.002664928529814942,
          -0.11805644493445205,
          -2.1302678111856066,
          -1.5493117619924885,
          -0.4579647003513041,
          -1.5589319481231727,
          -0.7013284975095917,
          -1.1942815821767572,
          1.4418256610856601,
          -0.1194927798018692,
          -1.0959742580943388,
          2.102428243098901,
          -0.32061244957872076,
          0.7008907102791864,
          -0.3491490480071671,
          -0.5547074472788999,
          -0.6118401100626987,
          -0.5036361595156262,
          -0.8556225818470531,
          1.572121338917596,
          0.7367614207637612,
          -0.6337092097146587,
          -0.12587396488378122,
          0.5956416887411763,
          -0.5257234999490865,
          -0.25349596817224906,
          -0.5430718989494115,
          0.09758462681366432,
          0.1927830293776624,
          1.5073729373103912,
          -0.5732060696026312,
          -0.357320623311159,
          -0.3825789830900455,
          0.6551065113125831,
          0.7398370183868511,
          -0.7059609433212608,
          -0.42166534144707934,
          3.3206924959670467,
          -0.37304189385547065,
          -1.4746002018309643,
          -0.04270476295674498,
          0.995515542888556,
          0.0033839830817497434,
          1.2256999756538212,
          0.2501254597405451,
          0.33648316506628745,
          2.109721828092375,
          -0.6805331943785887,
          1.3424917917601022,
          0.15416374829761778,
          0.8242630448059016,
          -0.9600061880373896,
          1.0265224829519026,
          -0.8113472662411878,
          -0.39356837717677795,
          0.2006738374444646,
          1.1984113242069359
         ]
        },
        {
         "histfunc": "count",
         "histnorm": "",
         "marker": {
          "color": "rgba(128, 0, 128, 1.0)",
          "line": {
           "color": "#4D5663",
           "width": 1.3
          }
         },
         "name": "D",
         "nbinsx": 50,
         "opacity": 0.8,
         "orientation": "v",
         "type": "histogram",
         "x": [
          2.496071177103857,
          0.46081342893771055,
          -0.0993452983368322,
          0.5809415166299917,
          0.40510046264685573,
          -0.5680460155079847,
          1.2013126163899779,
          0.9235025254388937,
          -0.33489510490471136,
          0.6903185909680251,
          1.6940589078900654,
          1.1552141160280898,
          0.4519339032526576,
          -1.6378233982246284,
          -0.18705288580078047,
          -0.6014119459024533,
          -0.08661516142734464,
          -2.2138315256459355,
          0.21259912157741076,
          0.17200406866655887,
          0.06345710562435442,
          -0.1657132760048854,
          0.30709462962362616,
          1.2868210087532836,
          1.8925326595443972,
          0.3172886598320608,
          -0.7675255681542591,
          1.001540368478351,
          1.635234668573889,
          0.6968888827556089,
          -1.2838354891977093,
          -1.4858243901619834,
          1.5883334911707394,
          0.2614533519409762,
          1.4479396943145668,
          0.9869269363450887,
          1.2412667641689517,
          1.4554482284528751,
          -1.739546295511982,
          0.08624035442034013,
          0.014460353605616887,
          -1.4687897908310128,
          0.9263315314260369,
          0.4630509181806159,
          0.3962225137932105,
          -0.5738893360751438,
          0.08255968121947238,
          2.3123736265797725,
          0.1814158966679779,
          1.0023561740323266,
          -0.8432421516873355,
          0.9047034033575648,
          0.14633007324558994,
          -1.2121043743814122,
          0.34701696560862716,
          -0.49474703279285887,
          -0.6706522920168768,
          -2.1344327686615587,
          2.4921141712522954,
          -0.36850330741956977,
          -1.687793543566312,
          -0.25358597500926955,
          -0.8090190742185616,
          0.015245709923150873,
          0.27458290201369623,
          -2.1183057080112224,
          1.0366307466847968,
          1.0273831782140008,
          -1.1570046788261379,
          0.41756679021218324,
          -0.8225478326104317,
          1.2346573270949213,
          0.00624533970765154,
          0.9819581405070998,
          -2.2181810791031715,
          -1.829224609246086,
          0.2780099520868739,
          0.7531073238742761,
          -0.6687741250947908,
          0.307472012042972,
          -1.4508497162720104,
          0.5806461816902653,
          -0.1719019649229563,
          -0.8845797818041453,
          1.7110324908597812,
          -0.8042138569717536,
          -0.117255677636341,
          -0.7971556907902491,
          -0.9257571625867512,
          -0.059484554873857114,
          -1.7648403405153228,
          0.6893596079875423,
          -1.12093735936863,
          1.58417022354427,
          -0.15762384928257814,
          1.199392222105967,
          -0.09112697331503981,
          -1.2436291221677196,
          -1.3395113213792513,
          1.462079062203621
         ]
        }
       ],
       "layout": {
        "barmode": "overlay",
        "legend": {
         "bgcolor": "#F5F6F9",
         "font": {
          "color": "#4D5663"
         }
        },
        "paper_bgcolor": "#F5F6F9",
        "plot_bgcolor": "#F5F6F9",
        "template": {
         "data": {
          "bar": [
           {
            "error_x": {
             "color": "#2a3f5f"
            },
            "error_y": {
             "color": "#2a3f5f"
            },
            "marker": {
             "line": {
              "color": "#E5ECF6",
              "width": 0.5
             },
             "pattern": {
              "fillmode": "overlay",
              "size": 10,
              "solidity": 0.2
             }
            },
            "type": "bar"
           }
          ],
          "barpolar": [
           {
            "marker": {
             "line": {
              "color": "#E5ECF6",
              "width": 0.5
             },
             "pattern": {
              "fillmode": "overlay",
              "size": 10,
              "solidity": 0.2
             }
            },
            "type": "barpolar"
           }
          ],
          "carpet": [
           {
            "aaxis": {
             "endlinecolor": "#2a3f5f",
             "gridcolor": "white",
             "linecolor": "white",
             "minorgridcolor": "white",
             "startlinecolor": "#2a3f5f"
            },
            "baxis": {
             "endlinecolor": "#2a3f5f",
             "gridcolor": "white",
             "linecolor": "white",
             "minorgridcolor": "white",
             "startlinecolor": "#2a3f5f"
            },
            "type": "carpet"
           }
          ],
          "choropleth": [
           {
            "colorbar": {
             "outlinewidth": 0,
             "ticks": ""
            },
            "type": "choropleth"
           }
          ],
          "contour": [
           {
            "colorbar": {
             "outlinewidth": 0,
             "ticks": ""
            },
            "colorscale": [
             [
              0,
              "#0d0887"
             ],
             [
              0.1111111111111111,
              "#46039f"
             ],
             [
              0.2222222222222222,
              "#7201a8"
             ],
             [
              0.3333333333333333,
              "#9c179e"
             ],
             [
              0.4444444444444444,
              "#bd3786"
             ],
             [
              0.5555555555555556,
              "#d8576b"
             ],
             [
              0.6666666666666666,
              "#ed7953"
             ],
             [
              0.7777777777777778,
              "#fb9f3a"
             ],
             [
              0.8888888888888888,
              "#fdca26"
             ],
             [
              1,
              "#f0f921"
             ]
            ],
            "type": "contour"
           }
          ],
          "contourcarpet": [
           {
            "colorbar": {
             "outlinewidth": 0,
             "ticks": ""
            },
            "type": "contourcarpet"
           }
          ],
          "heatmap": [
           {
            "colorbar": {
             "outlinewidth": 0,
             "ticks": ""
            },
            "colorscale": [
             [
              0,
              "#0d0887"
             ],
             [
              0.1111111111111111,
              "#46039f"
             ],
             [
              0.2222222222222222,
              "#7201a8"
             ],
             [
              0.3333333333333333,
              "#9c179e"
             ],
             [
              0.4444444444444444,
              "#bd3786"
             ],
             [
              0.5555555555555556,
              "#d8576b"
             ],
             [
              0.6666666666666666,
              "#ed7953"
             ],
             [
              0.7777777777777778,
              "#fb9f3a"
             ],
             [
              0.8888888888888888,
              "#fdca26"
             ],
             [
              1,
              "#f0f921"
             ]
            ],
            "type": "heatmap"
           }
          ],
          "heatmapgl": [
           {
            "colorbar": {
             "outlinewidth": 0,
             "ticks": ""
            },
            "colorscale": [
             [
              0,
              "#0d0887"
             ],
             [
              0.1111111111111111,
              "#46039f"
             ],
             [
              0.2222222222222222,
              "#7201a8"
             ],
             [
              0.3333333333333333,
              "#9c179e"
             ],
             [
              0.4444444444444444,
              "#bd3786"
             ],
             [
              0.5555555555555556,
              "#d8576b"
             ],
             [
              0.6666666666666666,
              "#ed7953"
             ],
             [
              0.7777777777777778,
              "#fb9f3a"
             ],
             [
              0.8888888888888888,
              "#fdca26"
             ],
             [
              1,
              "#f0f921"
             ]
            ],
            "type": "heatmapgl"
           }
          ],
          "histogram": [
           {
            "marker": {
             "pattern": {
              "fillmode": "overlay",
              "size": 10,
              "solidity": 0.2
             }
            },
            "type": "histogram"
           }
          ],
          "histogram2d": [
           {
            "colorbar": {
             "outlinewidth": 0,
             "ticks": ""
            },
            "colorscale": [
             [
              0,
              "#0d0887"
             ],
             [
              0.1111111111111111,
              "#46039f"
             ],
             [
              0.2222222222222222,
              "#7201a8"
             ],
             [
              0.3333333333333333,
              "#9c179e"
             ],
             [
              0.4444444444444444,
              "#bd3786"
             ],
             [
              0.5555555555555556,
              "#d8576b"
             ],
             [
              0.6666666666666666,
              "#ed7953"
             ],
             [
              0.7777777777777778,
              "#fb9f3a"
             ],
             [
              0.8888888888888888,
              "#fdca26"
             ],
             [
              1,
              "#f0f921"
             ]
            ],
            "type": "histogram2d"
           }
          ],
          "histogram2dcontour": [
           {
            "colorbar": {
             "outlinewidth": 0,
             "ticks": ""
            },
            "colorscale": [
             [
              0,
              "#0d0887"
             ],
             [
              0.1111111111111111,
              "#46039f"
             ],
             [
              0.2222222222222222,
              "#7201a8"
             ],
             [
              0.3333333333333333,
              "#9c179e"
             ],
             [
              0.4444444444444444,
              "#bd3786"
             ],
             [
              0.5555555555555556,
              "#d8576b"
             ],
             [
              0.6666666666666666,
              "#ed7953"
             ],
             [
              0.7777777777777778,
              "#fb9f3a"
             ],
             [
              0.8888888888888888,
              "#fdca26"
             ],
             [
              1,
              "#f0f921"
             ]
            ],
            "type": "histogram2dcontour"
           }
          ],
          "mesh3d": [
           {
            "colorbar": {
             "outlinewidth": 0,
             "ticks": ""
            },
            "type": "mesh3d"
           }
          ],
          "parcoords": [
           {
            "line": {
             "colorbar": {
              "outlinewidth": 0,
              "ticks": ""
             }
            },
            "type": "parcoords"
           }
          ],
          "pie": [
           {
            "automargin": true,
            "type": "pie"
           }
          ],
          "scatter": [
           {
            "fillpattern": {
             "fillmode": "overlay",
             "size": 10,
             "solidity": 0.2
            },
            "type": "scatter"
           }
          ],
          "scatter3d": [
           {
            "line": {
             "colorbar": {
              "outlinewidth": 0,
              "ticks": ""
             }
            },
            "marker": {
             "colorbar": {
              "outlinewidth": 0,
              "ticks": ""
             }
            },
            "type": "scatter3d"
           }
          ],
          "scattercarpet": [
           {
            "marker": {
             "colorbar": {
              "outlinewidth": 0,
              "ticks": ""
             }
            },
            "type": "scattercarpet"
           }
          ],
          "scattergeo": [
           {
            "marker": {
             "colorbar": {
              "outlinewidth": 0,
              "ticks": ""
             }
            },
            "type": "scattergeo"
           }
          ],
          "scattergl": [
           {
            "marker": {
             "colorbar": {
              "outlinewidth": 0,
              "ticks": ""
             }
            },
            "type": "scattergl"
           }
          ],
          "scattermapbox": [
           {
            "marker": {
             "colorbar": {
              "outlinewidth": 0,
              "ticks": ""
             }
            },
            "type": "scattermapbox"
           }
          ],
          "scatterpolar": [
           {
            "marker": {
             "colorbar": {
              "outlinewidth": 0,
              "ticks": ""
             }
            },
            "type": "scatterpolar"
           }
          ],
          "scatterpolargl": [
           {
            "marker": {
             "colorbar": {
              "outlinewidth": 0,
              "ticks": ""
             }
            },
            "type": "scatterpolargl"
           }
          ],
          "scatterternary": [
           {
            "marker": {
             "colorbar": {
              "outlinewidth": 0,
              "ticks": ""
             }
            },
            "type": "scatterternary"
           }
          ],
          "surface": [
           {
            "colorbar": {
             "outlinewidth": 0,
             "ticks": ""
            },
            "colorscale": [
             [
              0,
              "#0d0887"
             ],
             [
              0.1111111111111111,
              "#46039f"
             ],
             [
              0.2222222222222222,
              "#7201a8"
             ],
             [
              0.3333333333333333,
              "#9c179e"
             ],
             [
              0.4444444444444444,
              "#bd3786"
             ],
             [
              0.5555555555555556,
              "#d8576b"
             ],
             [
              0.6666666666666666,
              "#ed7953"
             ],
             [
              0.7777777777777778,
              "#fb9f3a"
             ],
             [
              0.8888888888888888,
              "#fdca26"
             ],
             [
              1,
              "#f0f921"
             ]
            ],
            "type": "surface"
           }
          ],
          "table": [
           {
            "cells": {
             "fill": {
              "color": "#EBF0F8"
             },
             "line": {
              "color": "white"
             }
            },
            "header": {
             "fill": {
              "color": "#C8D4E3"
             },
             "line": {
              "color": "white"
             }
            },
            "type": "table"
           }
          ]
         },
         "layout": {
          "annotationdefaults": {
           "arrowcolor": "#2a3f5f",
           "arrowhead": 0,
           "arrowwidth": 1
          },
          "autotypenumbers": "strict",
          "coloraxis": {
           "colorbar": {
            "outlinewidth": 0,
            "ticks": ""
           }
          },
          "colorscale": {
           "diverging": [
            [
             0,
             "#8e0152"
            ],
            [
             0.1,
             "#c51b7d"
            ],
            [
             0.2,
             "#de77ae"
            ],
            [
             0.3,
             "#f1b6da"
            ],
            [
             0.4,
             "#fde0ef"
            ],
            [
             0.5,
             "#f7f7f7"
            ],
            [
             0.6,
             "#e6f5d0"
            ],
            [
             0.7,
             "#b8e186"
            ],
            [
             0.8,
             "#7fbc41"
            ],
            [
             0.9,
             "#4d9221"
            ],
            [
             1,
             "#276419"
            ]
           ],
           "sequential": [
            [
             0,
             "#0d0887"
            ],
            [
             0.1111111111111111,
             "#46039f"
            ],
            [
             0.2222222222222222,
             "#7201a8"
            ],
            [
             0.3333333333333333,
             "#9c179e"
            ],
            [
             0.4444444444444444,
             "#bd3786"
            ],
            [
             0.5555555555555556,
             "#d8576b"
            ],
            [
             0.6666666666666666,
             "#ed7953"
            ],
            [
             0.7777777777777778,
             "#fb9f3a"
            ],
            [
             0.8888888888888888,
             "#fdca26"
            ],
            [
             1,
             "#f0f921"
            ]
           ],
           "sequentialminus": [
            [
             0,
             "#0d0887"
            ],
            [
             0.1111111111111111,
             "#46039f"
            ],
            [
             0.2222222222222222,
             "#7201a8"
            ],
            [
             0.3333333333333333,
             "#9c179e"
            ],
            [
             0.4444444444444444,
             "#bd3786"
            ],
            [
             0.5555555555555556,
             "#d8576b"
            ],
            [
             0.6666666666666666,
             "#ed7953"
            ],
            [
             0.7777777777777778,
             "#fb9f3a"
            ],
            [
             0.8888888888888888,
             "#fdca26"
            ],
            [
             1,
             "#f0f921"
            ]
           ]
          },
          "colorway": [
           "#636efa",
           "#EF553B",
           "#00cc96",
           "#ab63fa",
           "#FFA15A",
           "#19d3f3",
           "#FF6692",
           "#B6E880",
           "#FF97FF",
           "#FECB52"
          ],
          "font": {
           "color": "#2a3f5f"
          },
          "geo": {
           "bgcolor": "white",
           "lakecolor": "white",
           "landcolor": "#E5ECF6",
           "showlakes": true,
           "showland": true,
           "subunitcolor": "white"
          },
          "hoverlabel": {
           "align": "left"
          },
          "hovermode": "closest",
          "mapbox": {
           "style": "light"
          },
          "paper_bgcolor": "white",
          "plot_bgcolor": "#E5ECF6",
          "polar": {
           "angularaxis": {
            "gridcolor": "white",
            "linecolor": "white",
            "ticks": ""
           },
           "bgcolor": "#E5ECF6",
           "radialaxis": {
            "gridcolor": "white",
            "linecolor": "white",
            "ticks": ""
           }
          },
          "scene": {
           "xaxis": {
            "backgroundcolor": "#E5ECF6",
            "gridcolor": "white",
            "gridwidth": 2,
            "linecolor": "white",
            "showbackground": true,
            "ticks": "",
            "zerolinecolor": "white"
           },
           "yaxis": {
            "backgroundcolor": "#E5ECF6",
            "gridcolor": "white",
            "gridwidth": 2,
            "linecolor": "white",
            "showbackground": true,
            "ticks": "",
            "zerolinecolor": "white"
           },
           "zaxis": {
            "backgroundcolor": "#E5ECF6",
            "gridcolor": "white",
            "gridwidth": 2,
            "linecolor": "white",
            "showbackground": true,
            "ticks": "",
            "zerolinecolor": "white"
           }
          },
          "shapedefaults": {
           "line": {
            "color": "#2a3f5f"
           }
          },
          "ternary": {
           "aaxis": {
            "gridcolor": "white",
            "linecolor": "white",
            "ticks": ""
           },
           "baxis": {
            "gridcolor": "white",
            "linecolor": "white",
            "ticks": ""
           },
           "bgcolor": "#E5ECF6",
           "caxis": {
            "gridcolor": "white",
            "linecolor": "white",
            "ticks": ""
           }
          },
          "title": {
           "x": 0.05
          },
          "xaxis": {
           "automargin": true,
           "gridcolor": "white",
           "linecolor": "white",
           "ticks": "",
           "title": {
            "standoff": 15
           },
           "zerolinecolor": "white",
           "zerolinewidth": 2
          },
          "yaxis": {
           "automargin": true,
           "gridcolor": "white",
           "linecolor": "white",
           "ticks": "",
           "title": {
            "standoff": 15
           },
           "zerolinecolor": "white",
           "zerolinewidth": 2
          }
         }
        },
        "title": {
         "font": {
          "color": "#4D5663"
         }
        },
        "xaxis": {
         "gridcolor": "#E1E5ED",
         "showgrid": true,
         "tickfont": {
          "color": "#4D5663"
         },
         "title": {
          "font": {
           "color": "#4D5663"
          },
          "text": ""
         },
         "zerolinecolor": "#E1E5ED"
        },
        "yaxis": {
         "gridcolor": "#E1E5ED",
         "showgrid": true,
         "tickfont": {
          "color": "#4D5663"
         },
         "title": {
          "font": {
           "color": "#4D5663"
          },
          "text": ""
         },
         "zerolinecolor": "#E1E5ED"
        }
       }
      },
      "text/html": [
       "<div>                            <div id=\"1b9966f5-8dc8-4199-8557-dc36be26b4de\" class=\"plotly-graph-div\" style=\"height:525px; width:100%;\"></div>            <script type=\"text/javascript\">                require([\"plotly\"], function(Plotly) {                    window.PLOTLYENV=window.PLOTLYENV || {};\n",
       "                    window.PLOTLYENV.BASE_URL='https://plot.ly';                                    if (document.getElementById(\"1b9966f5-8dc8-4199-8557-dc36be26b4de\")) {                    Plotly.newPlot(                        \"1b9966f5-8dc8-4199-8557-dc36be26b4de\",                        [{\"histfunc\":\"count\",\"histnorm\":\"\",\"marker\":{\"color\":\"rgba(255, 153, 51, 1.0)\",\"line\":{\"color\":\"#4D5663\",\"width\":1.3}},\"name\":\"A\",\"nbinsx\":50,\"opacity\":0.8,\"orientation\":\"v\",\"x\":[0.40534718238775297,0.4618384364241935,0.24801495362386689,-0.20275965105180163,0.09894775497959721,0.6599246788548914,0.8438472586319632,0.014204738168655967,-1.0523175976673647,-0.33916820542896847,-1.661959469597001,0.012685600171485036,-0.4789785319016016,1.0084397271213716,0.5939225191331639,-1.095553489611045,-0.18951102092657343,-0.7485311039793072,-0.430464829191035,-0.7631277171679673,0.36148744061730415,0.07563251615586787,-1.8860291881983393,1.830146264431817,1.5261693945209298,0.16291324267842877,-0.8262337273807737,-0.5517585324681692,0.345803414065465,-1.4703487784808873,-0.42067931889214644,-0.13166190696965407,1.123577676117159,1.1810238810798508,1.660312792380613,0.5051805618852068,0.17556028099014473,-0.5494279945135929,-0.054740206493713695,-0.2168076326530869,-0.851789995700195,1.8015449616578993,-1.4170720382865047,0.8735331849938913,-1.1093059122024311,-0.4904870041875731,0.024771903075371624,-0.14604266902562074,-0.1804877739615316,-0.26801124668195686,0.6532291709068574,0.9495574584417534,-1.531778149170353,1.5890221761187682,0.980982056724215,-1.3218991841523904,-0.7748649079913962,0.4742698276888825,-0.0020455685397476487,1.8920574153876382,-0.22893685140438824,-0.6971595344536778,-1.7688603238410823,0.06128443693784288,-0.360684189084469,-0.4533831065070736,1.1124492419990712,-0.14284110930219396,0.583799577696767,0.4763961235399069,0.888486188632068,1.1547065346517043,-0.06266321573539217,1.2614886864066421,-0.2713660149998362,-0.564030478976412,-0.36032635768443194,-1.386122960420082,0.6497222345182069,0.4073214610955935,1.1951054678585589,1.1462194285806422,0.3839065700825093,0.02158569664438489,-0.31607498419747876,1.2258170818043679,1.5403849676974233,-1.2793493722883689,1.4546677261348309,0.8853740095330099,-0.27871528402228496,-0.45790415202886203,0.6078800386133114,0.2619094555525887,-0.9359554761132841,-1.310045647360763,0.8639954189862001,-0.17319697866189304,-0.23456567552557125,0.39507788382193987],\"type\":\"histogram\"},{\"histfunc\":\"count\",\"histnorm\":\"\",\"marker\":{\"color\":\"rgba(55, 128, 191, 1.0)\",\"line\":{\"color\":\"#4D5663\",\"width\":1.3}},\"name\":\"B\",\"nbinsx\":50,\"opacity\":0.8,\"orientation\":\"v\",\"x\":[1.022485686609692,-0.2991330376533287,-0.63888610969383,-0.8833750002612436,-0.4078861332958796,0.4799082532464347,-1.357274840799496,0.19810773620278088,-0.19783074771131168,0.692818817496382,0.23191266266703442,-0.39355437747570005,0.5447687622016464,-0.14091375476541995,-0.22769161270345697,0.8588915764933582,-0.6783986928331065,0.8211036067421712,0.25817266001630773,0.14799711696746098,0.05927620745292284,-0.36267230950085433,1.2593028653582603,-1.0007777217527574,1.2282436874541525,-0.12769887512315786,1.7030143913579163,-1.0020872605347468,0.3195560424142498,0.15240321418665187,-1.5797861553236705,-0.3739313200333769,2.6021110509168666,-1.4471100938515242,-0.22318666138188153,0.47553906694810044,-1.1809472376756547,1.6162460221607278,-0.30331773033449044,-0.13182156682787596,1.4149621524860898,-0.9530259792261948,0.2742169032926556,-0.046045542434082556,0.634280138667863,-0.44208708609224245,0.6918129090202446,0.18012353082972507,-0.03975756365095694,-0.4035085758608769,-1.7585817100788126,-0.2996635985622194,-0.08613466026216665,1.3407846486700787,-1.2852375040247463,0.9426548906856975,-0.4237478485145406,-0.9875258770195806,0.8492892915359607,0.8623233408981996,-0.6444147916046757,0.1078678343079182,-0.9875734437892321,1.291562887565866,-0.8904951305931562,-1.7911999540279506,0.8759961030601735,0.2747985052742041,-0.20212363160084537,1.9519926300458057,1.2228922969535314,1.2775425993797307,-0.033907857353057,-1.1269326593789921,-0.35613822482803065,-0.3269080347457746,1.4592243810701002,-0.20686257323796692,-0.09616636678433634,1.2419410065257095,1.3048143207669025,-0.2980538960987875,1.3781856734829458,1.272172464631937,-0.3472494847742187,-0.010538336780892818,-0.16183176257636525,0.10152373504878527,-1.8653899621822374,-0.9683998654059663,-0.779130702347315,1.6202962931960625,-0.4690630803098864,0.024481735873536713,0.5510679505159154,-1.4104672378985652,0.5669444261650838,-1.350048904489357,0.6109803903416247,1.311724539759251],\"type\":\"histogram\"},{\"histfunc\":\"count\",\"histnorm\":\"\",\"marker\":{\"color\":\"rgba(50, 171, 96, 1.0)\",\"line\":{\"color\":\"#4D5663\",\"width\":1.3}},\"name\":\"C\",\"nbinsx\":50,\"opacity\":0.8,\"orientation\":\"v\",\"x\":[-0.6846939278970728,-2.3075965045478024,-0.08633181165856928,-0.960632782911131,-0.2594843276284265,-1.0909004044679218,-0.39736078887757353,0.4859202399005569,0.64713042030015,-0.7813163021462705,0.2958028918427429,-1.3243857628930011,-1.662961371536703,-0.40043565729067965,-0.3451119384557309,2.0903955558237,-0.012557888875386733,0.07247683377659399,0.11988491292645348,-0.4627347402924009,-1.0946635758514829,-2.6728360093505703,0.4742050895262971,-1.150747503716675,-1.2679999124494294,-1.7425682851942794,1.2659089043708076,0.6599750210405136,0.29300311967555526,-0.03466136540901326,0.8932463555019038,0.1375773675663175,-0.39833065736608564,0.2287132229961002,-1.888861525535101,-1.3748150359304196,0.41802892703303685,1.0966859796173523,-0.13334943209995173,-1.1419708932998787,1.1871886179574034,0.8486538344167918,-0.5192329608506668,0.002664928529814942,-0.11805644493445205,-2.1302678111856066,-1.5493117619924885,-0.4579647003513041,-1.5589319481231727,-0.7013284975095917,-1.1942815821767572,1.4418256610856601,-0.1194927798018692,-1.0959742580943388,2.102428243098901,-0.32061244957872076,0.7008907102791864,-0.3491490480071671,-0.5547074472788999,-0.6118401100626987,-0.5036361595156262,-0.8556225818470531,1.572121338917596,0.7367614207637612,-0.6337092097146587,-0.12587396488378122,0.5956416887411763,-0.5257234999490865,-0.25349596817224906,-0.5430718989494115,0.09758462681366432,0.1927830293776624,1.5073729373103912,-0.5732060696026312,-0.357320623311159,-0.3825789830900455,0.6551065113125831,0.7398370183868511,-0.7059609433212608,-0.42166534144707934,3.3206924959670467,-0.37304189385547065,-1.4746002018309643,-0.04270476295674498,0.995515542888556,0.0033839830817497434,1.2256999756538212,0.2501254597405451,0.33648316506628745,2.109721828092375,-0.6805331943785887,1.3424917917601022,0.15416374829761778,0.8242630448059016,-0.9600061880373896,1.0265224829519026,-0.8113472662411878,-0.39356837717677795,0.2006738374444646,1.1984113242069359],\"type\":\"histogram\"},{\"histfunc\":\"count\",\"histnorm\":\"\",\"marker\":{\"color\":\"rgba(128, 0, 128, 1.0)\",\"line\":{\"color\":\"#4D5663\",\"width\":1.3}},\"name\":\"D\",\"nbinsx\":50,\"opacity\":0.8,\"orientation\":\"v\",\"x\":[2.496071177103857,0.46081342893771055,-0.0993452983368322,0.5809415166299917,0.40510046264685573,-0.5680460155079847,1.2013126163899779,0.9235025254388937,-0.33489510490471136,0.6903185909680251,1.6940589078900654,1.1552141160280898,0.4519339032526576,-1.6378233982246284,-0.18705288580078047,-0.6014119459024533,-0.08661516142734464,-2.2138315256459355,0.21259912157741076,0.17200406866655887,0.06345710562435442,-0.1657132760048854,0.30709462962362616,1.2868210087532836,1.8925326595443972,0.3172886598320608,-0.7675255681542591,1.001540368478351,1.635234668573889,0.6968888827556089,-1.2838354891977093,-1.4858243901619834,1.5883334911707394,0.2614533519409762,1.4479396943145668,0.9869269363450887,1.2412667641689517,1.4554482284528751,-1.739546295511982,0.08624035442034013,0.014460353605616887,-1.4687897908310128,0.9263315314260369,0.4630509181806159,0.3962225137932105,-0.5738893360751438,0.08255968121947238,2.3123736265797725,0.1814158966679779,1.0023561740323266,-0.8432421516873355,0.9047034033575648,0.14633007324558994,-1.2121043743814122,0.34701696560862716,-0.49474703279285887,-0.6706522920168768,-2.1344327686615587,2.4921141712522954,-0.36850330741956977,-1.687793543566312,-0.25358597500926955,-0.8090190742185616,0.015245709923150873,0.27458290201369623,-2.1183057080112224,1.0366307466847968,1.0273831782140008,-1.1570046788261379,0.41756679021218324,-0.8225478326104317,1.2346573270949213,0.00624533970765154,0.9819581405070998,-2.2181810791031715,-1.829224609246086,0.2780099520868739,0.7531073238742761,-0.6687741250947908,0.307472012042972,-1.4508497162720104,0.5806461816902653,-0.1719019649229563,-0.8845797818041453,1.7110324908597812,-0.8042138569717536,-0.117255677636341,-0.7971556907902491,-0.9257571625867512,-0.059484554873857114,-1.7648403405153228,0.6893596079875423,-1.12093735936863,1.58417022354427,-0.15762384928257814,1.199392222105967,-0.09112697331503981,-1.2436291221677196,-1.3395113213792513,1.462079062203621],\"type\":\"histogram\"}],                        {\"barmode\":\"overlay\",\"legend\":{\"bgcolor\":\"#F5F6F9\",\"font\":{\"color\":\"#4D5663\"}},\"paper_bgcolor\":\"#F5F6F9\",\"plot_bgcolor\":\"#F5F6F9\",\"template\":{\"data\":{\"barpolar\":[{\"marker\":{\"line\":{\"color\":\"#E5ECF6\",\"width\":0.5},\"pattern\":{\"fillmode\":\"overlay\",\"size\":10,\"solidity\":0.2}},\"type\":\"barpolar\"}],\"bar\":[{\"error_x\":{\"color\":\"#2a3f5f\"},\"error_y\":{\"color\":\"#2a3f5f\"},\"marker\":{\"line\":{\"color\":\"#E5ECF6\",\"width\":0.5},\"pattern\":{\"fillmode\":\"overlay\",\"size\":10,\"solidity\":0.2}},\"type\":\"bar\"}],\"carpet\":[{\"aaxis\":{\"endlinecolor\":\"#2a3f5f\",\"gridcolor\":\"white\",\"linecolor\":\"white\",\"minorgridcolor\":\"white\",\"startlinecolor\":\"#2a3f5f\"},\"baxis\":{\"endlinecolor\":\"#2a3f5f\",\"gridcolor\":\"white\",\"linecolor\":\"white\",\"minorgridcolor\":\"white\",\"startlinecolor\":\"#2a3f5f\"},\"type\":\"carpet\"}],\"choropleth\":[{\"colorbar\":{\"outlinewidth\":0,\"ticks\":\"\"},\"type\":\"choropleth\"}],\"contourcarpet\":[{\"colorbar\":{\"outlinewidth\":0,\"ticks\":\"\"},\"type\":\"contourcarpet\"}],\"contour\":[{\"colorbar\":{\"outlinewidth\":0,\"ticks\":\"\"},\"colorscale\":[[0.0,\"#0d0887\"],[0.1111111111111111,\"#46039f\"],[0.2222222222222222,\"#7201a8\"],[0.3333333333333333,\"#9c179e\"],[0.4444444444444444,\"#bd3786\"],[0.5555555555555556,\"#d8576b\"],[0.6666666666666666,\"#ed7953\"],[0.7777777777777778,\"#fb9f3a\"],[0.8888888888888888,\"#fdca26\"],[1.0,\"#f0f921\"]],\"type\":\"contour\"}],\"heatmapgl\":[{\"colorbar\":{\"outlinewidth\":0,\"ticks\":\"\"},\"colorscale\":[[0.0,\"#0d0887\"],[0.1111111111111111,\"#46039f\"],[0.2222222222222222,\"#7201a8\"],[0.3333333333333333,\"#9c179e\"],[0.4444444444444444,\"#bd3786\"],[0.5555555555555556,\"#d8576b\"],[0.6666666666666666,\"#ed7953\"],[0.7777777777777778,\"#fb9f3a\"],[0.8888888888888888,\"#fdca26\"],[1.0,\"#f0f921\"]],\"type\":\"heatmapgl\"}],\"heatmap\":[{\"colorbar\":{\"outlinewidth\":0,\"ticks\":\"\"},\"colorscale\":[[0.0,\"#0d0887\"],[0.1111111111111111,\"#46039f\"],[0.2222222222222222,\"#7201a8\"],[0.3333333333333333,\"#9c179e\"],[0.4444444444444444,\"#bd3786\"],[0.5555555555555556,\"#d8576b\"],[0.6666666666666666,\"#ed7953\"],[0.7777777777777778,\"#fb9f3a\"],[0.8888888888888888,\"#fdca26\"],[1.0,\"#f0f921\"]],\"type\":\"heatmap\"}],\"histogram2dcontour\":[{\"colorbar\":{\"outlinewidth\":0,\"ticks\":\"\"},\"colorscale\":[[0.0,\"#0d0887\"],[0.1111111111111111,\"#46039f\"],[0.2222222222222222,\"#7201a8\"],[0.3333333333333333,\"#9c179e\"],[0.4444444444444444,\"#bd3786\"],[0.5555555555555556,\"#d8576b\"],[0.6666666666666666,\"#ed7953\"],[0.7777777777777778,\"#fb9f3a\"],[0.8888888888888888,\"#fdca26\"],[1.0,\"#f0f921\"]],\"type\":\"histogram2dcontour\"}],\"histogram2d\":[{\"colorbar\":{\"outlinewidth\":0,\"ticks\":\"\"},\"colorscale\":[[0.0,\"#0d0887\"],[0.1111111111111111,\"#46039f\"],[0.2222222222222222,\"#7201a8\"],[0.3333333333333333,\"#9c179e\"],[0.4444444444444444,\"#bd3786\"],[0.5555555555555556,\"#d8576b\"],[0.6666666666666666,\"#ed7953\"],[0.7777777777777778,\"#fb9f3a\"],[0.8888888888888888,\"#fdca26\"],[1.0,\"#f0f921\"]],\"type\":\"histogram2d\"}],\"histogram\":[{\"marker\":{\"pattern\":{\"fillmode\":\"overlay\",\"size\":10,\"solidity\":0.2}},\"type\":\"histogram\"}],\"mesh3d\":[{\"colorbar\":{\"outlinewidth\":0,\"ticks\":\"\"},\"type\":\"mesh3d\"}],\"parcoords\":[{\"line\":{\"colorbar\":{\"outlinewidth\":0,\"ticks\":\"\"}},\"type\":\"parcoords\"}],\"pie\":[{\"automargin\":true,\"type\":\"pie\"}],\"scatter3d\":[{\"line\":{\"colorbar\":{\"outlinewidth\":0,\"ticks\":\"\"}},\"marker\":{\"colorbar\":{\"outlinewidth\":0,\"ticks\":\"\"}},\"type\":\"scatter3d\"}],\"scattercarpet\":[{\"marker\":{\"colorbar\":{\"outlinewidth\":0,\"ticks\":\"\"}},\"type\":\"scattercarpet\"}],\"scattergeo\":[{\"marker\":{\"colorbar\":{\"outlinewidth\":0,\"ticks\":\"\"}},\"type\":\"scattergeo\"}],\"scattergl\":[{\"marker\":{\"colorbar\":{\"outlinewidth\":0,\"ticks\":\"\"}},\"type\":\"scattergl\"}],\"scattermapbox\":[{\"marker\":{\"colorbar\":{\"outlinewidth\":0,\"ticks\":\"\"}},\"type\":\"scattermapbox\"}],\"scatterpolargl\":[{\"marker\":{\"colorbar\":{\"outlinewidth\":0,\"ticks\":\"\"}},\"type\":\"scatterpolargl\"}],\"scatterpolar\":[{\"marker\":{\"colorbar\":{\"outlinewidth\":0,\"ticks\":\"\"}},\"type\":\"scatterpolar\"}],\"scatter\":[{\"fillpattern\":{\"fillmode\":\"overlay\",\"size\":10,\"solidity\":0.2},\"type\":\"scatter\"}],\"scatterternary\":[{\"marker\":{\"colorbar\":{\"outlinewidth\":0,\"ticks\":\"\"}},\"type\":\"scatterternary\"}],\"surface\":[{\"colorbar\":{\"outlinewidth\":0,\"ticks\":\"\"},\"colorscale\":[[0.0,\"#0d0887\"],[0.1111111111111111,\"#46039f\"],[0.2222222222222222,\"#7201a8\"],[0.3333333333333333,\"#9c179e\"],[0.4444444444444444,\"#bd3786\"],[0.5555555555555556,\"#d8576b\"],[0.6666666666666666,\"#ed7953\"],[0.7777777777777778,\"#fb9f3a\"],[0.8888888888888888,\"#fdca26\"],[1.0,\"#f0f921\"]],\"type\":\"surface\"}],\"table\":[{\"cells\":{\"fill\":{\"color\":\"#EBF0F8\"},\"line\":{\"color\":\"white\"}},\"header\":{\"fill\":{\"color\":\"#C8D4E3\"},\"line\":{\"color\":\"white\"}},\"type\":\"table\"}]},\"layout\":{\"annotationdefaults\":{\"arrowcolor\":\"#2a3f5f\",\"arrowhead\":0,\"arrowwidth\":1},\"autotypenumbers\":\"strict\",\"coloraxis\":{\"colorbar\":{\"outlinewidth\":0,\"ticks\":\"\"}},\"colorscale\":{\"diverging\":[[0,\"#8e0152\"],[0.1,\"#c51b7d\"],[0.2,\"#de77ae\"],[0.3,\"#f1b6da\"],[0.4,\"#fde0ef\"],[0.5,\"#f7f7f7\"],[0.6,\"#e6f5d0\"],[0.7,\"#b8e186\"],[0.8,\"#7fbc41\"],[0.9,\"#4d9221\"],[1,\"#276419\"]],\"sequential\":[[0.0,\"#0d0887\"],[0.1111111111111111,\"#46039f\"],[0.2222222222222222,\"#7201a8\"],[0.3333333333333333,\"#9c179e\"],[0.4444444444444444,\"#bd3786\"],[0.5555555555555556,\"#d8576b\"],[0.6666666666666666,\"#ed7953\"],[0.7777777777777778,\"#fb9f3a\"],[0.8888888888888888,\"#fdca26\"],[1.0,\"#f0f921\"]],\"sequentialminus\":[[0.0,\"#0d0887\"],[0.1111111111111111,\"#46039f\"],[0.2222222222222222,\"#7201a8\"],[0.3333333333333333,\"#9c179e\"],[0.4444444444444444,\"#bd3786\"],[0.5555555555555556,\"#d8576b\"],[0.6666666666666666,\"#ed7953\"],[0.7777777777777778,\"#fb9f3a\"],[0.8888888888888888,\"#fdca26\"],[1.0,\"#f0f921\"]]},\"colorway\":[\"#636efa\",\"#EF553B\",\"#00cc96\",\"#ab63fa\",\"#FFA15A\",\"#19d3f3\",\"#FF6692\",\"#B6E880\",\"#FF97FF\",\"#FECB52\"],\"font\":{\"color\":\"#2a3f5f\"},\"geo\":{\"bgcolor\":\"white\",\"lakecolor\":\"white\",\"landcolor\":\"#E5ECF6\",\"showlakes\":true,\"showland\":true,\"subunitcolor\":\"white\"},\"hoverlabel\":{\"align\":\"left\"},\"hovermode\":\"closest\",\"mapbox\":{\"style\":\"light\"},\"paper_bgcolor\":\"white\",\"plot_bgcolor\":\"#E5ECF6\",\"polar\":{\"angularaxis\":{\"gridcolor\":\"white\",\"linecolor\":\"white\",\"ticks\":\"\"},\"bgcolor\":\"#E5ECF6\",\"radialaxis\":{\"gridcolor\":\"white\",\"linecolor\":\"white\",\"ticks\":\"\"}},\"scene\":{\"xaxis\":{\"backgroundcolor\":\"#E5ECF6\",\"gridcolor\":\"white\",\"gridwidth\":2,\"linecolor\":\"white\",\"showbackground\":true,\"ticks\":\"\",\"zerolinecolor\":\"white\"},\"yaxis\":{\"backgroundcolor\":\"#E5ECF6\",\"gridcolor\":\"white\",\"gridwidth\":2,\"linecolor\":\"white\",\"showbackground\":true,\"ticks\":\"\",\"zerolinecolor\":\"white\"},\"zaxis\":{\"backgroundcolor\":\"#E5ECF6\",\"gridcolor\":\"white\",\"gridwidth\":2,\"linecolor\":\"white\",\"showbackground\":true,\"ticks\":\"\",\"zerolinecolor\":\"white\"}},\"shapedefaults\":{\"line\":{\"color\":\"#2a3f5f\"}},\"ternary\":{\"aaxis\":{\"gridcolor\":\"white\",\"linecolor\":\"white\",\"ticks\":\"\"},\"baxis\":{\"gridcolor\":\"white\",\"linecolor\":\"white\",\"ticks\":\"\"},\"bgcolor\":\"#E5ECF6\",\"caxis\":{\"gridcolor\":\"white\",\"linecolor\":\"white\",\"ticks\":\"\"}},\"title\":{\"x\":0.05},\"xaxis\":{\"automargin\":true,\"gridcolor\":\"white\",\"linecolor\":\"white\",\"ticks\":\"\",\"title\":{\"standoff\":15},\"zerolinecolor\":\"white\",\"zerolinewidth\":2},\"yaxis\":{\"automargin\":true,\"gridcolor\":\"white\",\"linecolor\":\"white\",\"ticks\":\"\",\"title\":{\"standoff\":15},\"zerolinecolor\":\"white\",\"zerolinewidth\":2}}},\"title\":{\"font\":{\"color\":\"#4D5663\"}},\"xaxis\":{\"gridcolor\":\"#E1E5ED\",\"showgrid\":true,\"tickfont\":{\"color\":\"#4D5663\"},\"title\":{\"font\":{\"color\":\"#4D5663\"},\"text\":\"\"},\"zerolinecolor\":\"#E1E5ED\"},\"yaxis\":{\"gridcolor\":\"#E1E5ED\",\"showgrid\":true,\"tickfont\":{\"color\":\"#4D5663\"},\"title\":{\"font\":{\"color\":\"#4D5663\"},\"text\":\"\"},\"zerolinecolor\":\"#E1E5ED\"}},                        {\"showLink\": true, \"linkText\": \"Export to plot.ly\", \"plotlyServerURL\": \"https://plot.ly\", \"responsive\": true}                    ).then(function(){\n",
       "                            \n",
       "var gd = document.getElementById('1b9966f5-8dc8-4199-8557-dc36be26b4de');\n",
       "var x = new MutationObserver(function (mutations, observer) {{\n",
       "        var display = window.getComputedStyle(gd).display;\n",
       "        if (!display || display === 'none') {{\n",
       "            console.log([gd, 'removed!']);\n",
       "            Plotly.purge(gd);\n",
       "            observer.disconnect();\n",
       "        }}\n",
       "}});\n",
       "\n",
       "// Listen for the removal of the full notebook cells\n",
       "var notebookContainer = gd.closest('#notebook-container');\n",
       "if (notebookContainer) {{\n",
       "    x.observe(notebookContainer, {childList: true});\n",
       "}}\n",
       "\n",
       "// Listen for the clearing of the current output cell\n",
       "var outputEl = gd.closest('.output');\n",
       "if (outputEl) {{\n",
       "    x.observe(outputEl, {childList: true});\n",
       "}}\n",
       "\n",
       "                        })                };                });            </script>        </div>"
      ]
     },
     "metadata": {},
     "output_type": "display_data"
    }
   ],
   "source": [
    "df.iplot(kind='hist', bins=50)"
   ]
  },
  {
   "cell_type": "code",
   "execution_count": 34,
   "metadata": {},
   "outputs": [
    {
     "data": {
      "application/vnd.plotly.v1+json": {
       "config": {
        "linkText": "Export to plot.ly",
        "plotlyServerURL": "https://plot.ly",
        "showLink": true
       },
       "data": [
        {
         "line": {
          "color": "rgba(255, 153, 51, 1.0)",
          "dash": "solid",
          "shape": "linear",
          "width": 1.3
         },
         "mode": "lines",
         "name": "A",
         "text": "",
         "type": "scatter",
         "x": [
          0,
          1,
          2,
          3,
          4,
          5,
          6,
          7,
          8,
          9,
          10,
          11,
          12,
          13,
          14,
          15,
          16,
          17,
          18,
          19,
          20,
          21,
          22,
          23,
          24,
          25,
          26,
          27,
          28,
          29,
          30,
          31,
          32,
          33,
          34,
          35,
          36,
          37,
          38,
          39,
          40,
          41,
          42,
          43,
          44,
          45,
          46,
          47,
          48,
          49,
          50,
          51,
          52,
          53,
          54,
          55,
          56,
          57,
          58,
          59,
          60,
          61,
          62,
          63,
          64,
          65,
          66,
          67,
          68,
          69,
          70,
          71,
          72,
          73,
          74,
          75,
          76,
          77,
          78,
          79,
          80,
          81,
          82,
          83,
          84,
          85,
          86,
          87,
          88,
          89,
          90,
          91,
          92,
          93,
          94,
          95,
          96,
          97,
          98,
          99
         ],
         "y": [
          0.40534718238775297,
          0.4618384364241935,
          0.24801495362386689,
          -0.20275965105180163,
          0.09894775497959721,
          0.6599246788548914,
          0.8438472586319632,
          0.014204738168655967,
          -1.0523175976673647,
          -0.33916820542896847,
          -1.661959469597001,
          0.012685600171485036,
          -0.4789785319016016,
          1.0084397271213716,
          0.5939225191331639,
          -1.095553489611045,
          -0.18951102092657343,
          -0.7485311039793072,
          -0.430464829191035,
          -0.7631277171679673,
          0.36148744061730415,
          0.07563251615586787,
          -1.8860291881983393,
          1.830146264431817,
          1.5261693945209298,
          0.16291324267842877,
          -0.8262337273807737,
          -0.5517585324681692,
          0.345803414065465,
          -1.4703487784808873,
          -0.42067931889214644,
          -0.13166190696965407,
          1.123577676117159,
          1.1810238810798508,
          1.660312792380613,
          0.5051805618852068,
          0.17556028099014473,
          -0.5494279945135929,
          -0.054740206493713695,
          -0.2168076326530869,
          -0.851789995700195,
          1.8015449616578993,
          -1.4170720382865047,
          0.8735331849938913,
          -1.1093059122024311,
          -0.4904870041875731,
          0.024771903075371624,
          -0.14604266902562074,
          -0.1804877739615316,
          -0.26801124668195686,
          0.6532291709068574,
          0.9495574584417534,
          -1.531778149170353,
          1.5890221761187682,
          0.980982056724215,
          -1.3218991841523904,
          -0.7748649079913962,
          0.4742698276888825,
          -0.0020455685397476487,
          1.8920574153876382,
          -0.22893685140438824,
          -0.6971595344536778,
          -1.7688603238410823,
          0.06128443693784288,
          -0.360684189084469,
          -0.4533831065070736,
          1.1124492419990712,
          -0.14284110930219396,
          0.583799577696767,
          0.4763961235399069,
          0.888486188632068,
          1.1547065346517043,
          -0.06266321573539217,
          1.2614886864066421,
          -0.2713660149998362,
          -0.564030478976412,
          -0.36032635768443194,
          -1.386122960420082,
          0.6497222345182069,
          0.4073214610955935,
          1.1951054678585589,
          1.1462194285806422,
          0.3839065700825093,
          0.02158569664438489,
          -0.31607498419747876,
          1.2258170818043679,
          1.5403849676974233,
          -1.2793493722883689,
          1.4546677261348309,
          0.8853740095330099,
          -0.27871528402228496,
          -0.45790415202886203,
          0.6078800386133114,
          0.2619094555525887,
          -0.9359554761132841,
          -1.310045647360763,
          0.8639954189862001,
          -0.17319697866189304,
          -0.23456567552557125,
          0.39507788382193987
         ]
        },
        {
         "line": {
          "color": "rgba(55, 128, 191, 1.0)",
          "dash": "solid",
          "shape": "linear",
          "width": 1.3
         },
         "mode": "lines",
         "name": "B",
         "text": "",
         "type": "scatter",
         "x": [
          0,
          1,
          2,
          3,
          4,
          5,
          6,
          7,
          8,
          9,
          10,
          11,
          12,
          13,
          14,
          15,
          16,
          17,
          18,
          19,
          20,
          21,
          22,
          23,
          24,
          25,
          26,
          27,
          28,
          29,
          30,
          31,
          32,
          33,
          34,
          35,
          36,
          37,
          38,
          39,
          40,
          41,
          42,
          43,
          44,
          45,
          46,
          47,
          48,
          49,
          50,
          51,
          52,
          53,
          54,
          55,
          56,
          57,
          58,
          59,
          60,
          61,
          62,
          63,
          64,
          65,
          66,
          67,
          68,
          69,
          70,
          71,
          72,
          73,
          74,
          75,
          76,
          77,
          78,
          79,
          80,
          81,
          82,
          83,
          84,
          85,
          86,
          87,
          88,
          89,
          90,
          91,
          92,
          93,
          94,
          95,
          96,
          97,
          98,
          99
         ],
         "y": [
          1.022485686609692,
          -0.2991330376533287,
          -0.63888610969383,
          -0.8833750002612436,
          -0.4078861332958796,
          0.4799082532464347,
          -1.357274840799496,
          0.19810773620278088,
          -0.19783074771131168,
          0.692818817496382,
          0.23191266266703442,
          -0.39355437747570005,
          0.5447687622016464,
          -0.14091375476541995,
          -0.22769161270345697,
          0.8588915764933582,
          -0.6783986928331065,
          0.8211036067421712,
          0.25817266001630773,
          0.14799711696746098,
          0.05927620745292284,
          -0.36267230950085433,
          1.2593028653582603,
          -1.0007777217527574,
          1.2282436874541525,
          -0.12769887512315786,
          1.7030143913579163,
          -1.0020872605347468,
          0.3195560424142498,
          0.15240321418665187,
          -1.5797861553236705,
          -0.3739313200333769,
          2.6021110509168666,
          -1.4471100938515242,
          -0.22318666138188153,
          0.47553906694810044,
          -1.1809472376756547,
          1.6162460221607278,
          -0.30331773033449044,
          -0.13182156682787596,
          1.4149621524860898,
          -0.9530259792261948,
          0.2742169032926556,
          -0.046045542434082556,
          0.634280138667863,
          -0.44208708609224245,
          0.6918129090202446,
          0.18012353082972507,
          -0.03975756365095694,
          -0.4035085758608769,
          -1.7585817100788126,
          -0.2996635985622194,
          -0.08613466026216665,
          1.3407846486700787,
          -1.2852375040247463,
          0.9426548906856975,
          -0.4237478485145406,
          -0.9875258770195806,
          0.8492892915359607,
          0.8623233408981996,
          -0.6444147916046757,
          0.1078678343079182,
          -0.9875734437892321,
          1.291562887565866,
          -0.8904951305931562,
          -1.7911999540279506,
          0.8759961030601735,
          0.2747985052742041,
          -0.20212363160084537,
          1.9519926300458057,
          1.2228922969535314,
          1.2775425993797307,
          -0.033907857353057,
          -1.1269326593789921,
          -0.35613822482803065,
          -0.3269080347457746,
          1.4592243810701002,
          -0.20686257323796692,
          -0.09616636678433634,
          1.2419410065257095,
          1.3048143207669025,
          -0.2980538960987875,
          1.3781856734829458,
          1.272172464631937,
          -0.3472494847742187,
          -0.010538336780892818,
          -0.16183176257636525,
          0.10152373504878527,
          -1.8653899621822374,
          -0.9683998654059663,
          -0.779130702347315,
          1.6202962931960625,
          -0.4690630803098864,
          0.024481735873536713,
          0.5510679505159154,
          -1.4104672378985652,
          0.5669444261650838,
          -1.350048904489357,
          0.6109803903416247,
          1.311724539759251
         ]
        },
        {
         "connectgaps": false,
         "fill": "tozeroy",
         "line": {
          "color": "green",
          "dash": "solid",
          "shape": "linear",
          "width": 0.5
         },
         "mode": "lines",
         "name": "Spread",
         "showlegend": false,
         "type": "scatter",
         "x": [
          0,
          1,
          2,
          3,
          4,
          5,
          6,
          7,
          8,
          9,
          10,
          11,
          12,
          13,
          14,
          15,
          16,
          17,
          18,
          19,
          20,
          21,
          22,
          23,
          24,
          25,
          26,
          27,
          28,
          29,
          30,
          31,
          32,
          33,
          34,
          35,
          36,
          37,
          38,
          39,
          40,
          41,
          42,
          43,
          44,
          45,
          46,
          47,
          48,
          49,
          50,
          51,
          52,
          53,
          54,
          55,
          56,
          57,
          58,
          59,
          60,
          61,
          62,
          63,
          64,
          65,
          66,
          67,
          68,
          69,
          70,
          71,
          72,
          73,
          74,
          75,
          76,
          77,
          78,
          79,
          80,
          81,
          82,
          83,
          84,
          85,
          86,
          87,
          88,
          89,
          90,
          91,
          92,
          93,
          94,
          95,
          96,
          97,
          98,
          99
         ],
         "xaxis": "x2",
         "y": [
          "",
          0.7609714740775222,
          0.8869010633176968,
          0.680615349209442,
          0.5068338882754768,
          0.18001642560845665,
          2.2011220994314593,
          "",
          "",
          "",
          "",
          0.40623997764718506,
          "",
          1.1493534818867917,
          0.8216141318366208,
          "",
          0.48888767190653304,
          "",
          "",
          "",
          0.3022112331643813,
          0.4383048256567222,
          "",
          2.8309239861845743,
          0.29792570706677735,
          0.29061211780158663,
          "",
          0.45032872806657764,
          0.026247371651215212,
          "",
          1.159106836431524,
          0.24226941306372285,
          "",
          2.628133974931375,
          1.8834994537624945,
          0.029641494937106327,
          1.3565075186657993,
          "",
          0.24857752384077675,
          "",
          "",
          2.7545709408840944,
          "",
          0.9195787274279739,
          "",
          "",
          "",
          "",
          "",
          0.13549732917892005,
          2.41181088098567,
          1.2492210570039728,
          "",
          0.24823752744868943,
          2.2662195607489615,
          "",
          "",
          1.461795704708463,
          "",
          1.0297340744894385,
          0.4154779402002875,
          "",
          "",
          "",
          0.5298109415086872,
          1.3378168475208772,
          0.23645313893889774,
          "",
          0.7859232092976124,
          "",
          "",
          "",
          "",
          2.388421345785634,
          0.08477220982819444,
          "",
          "",
          "",
          0.7458886013025432,
          "",
          "",
          1.4442733246794297,
          "",
          "",
          0.031174500576739927,
          1.2363554185852608,
          1.7022167302737885,
          "",
          3.3200576883170685,
          1.8537738749389763,
          0.50041541832503,
          "",
          1.076943118923198,
          0.237427719679052,
          "",
          0.10042159053780231,
          0.29705099282111636,
          1.1768519258274641,
          "",
          ""
         ],
         "yaxis": "y2"
        },
        {
         "connectgaps": false,
         "fill": "tozeroy",
         "line": {
          "color": "red",
          "dash": "solid",
          "shape": "linear",
          "width": 0.5
         },
         "mode": "lines",
         "name": "Spread",
         "showlegend": false,
         "type": "scatter",
         "x": [
          0,
          1,
          2,
          3,
          4,
          5,
          6,
          7,
          8,
          9,
          10,
          11,
          12,
          13,
          14,
          15,
          16,
          17,
          18,
          19,
          20,
          21,
          22,
          23,
          24,
          25,
          26,
          27,
          28,
          29,
          30,
          31,
          32,
          33,
          34,
          35,
          36,
          37,
          38,
          39,
          40,
          41,
          42,
          43,
          44,
          45,
          46,
          47,
          48,
          49,
          50,
          51,
          52,
          53,
          54,
          55,
          56,
          57,
          58,
          59,
          60,
          61,
          62,
          63,
          64,
          65,
          66,
          67,
          68,
          69,
          70,
          71,
          72,
          73,
          74,
          75,
          76,
          77,
          78,
          79,
          80,
          81,
          82,
          83,
          84,
          85,
          86,
          87,
          88,
          89,
          90,
          91,
          92,
          93,
          94,
          95,
          96,
          97,
          98,
          99
         ],
         "xaxis": "x2",
         "y": [
          -0.617138504221939,
          "",
          "",
          "",
          "",
          "",
          "",
          -0.1839029980341249,
          -0.854486849956053,
          -1.0319870229253505,
          -1.8938721322640355,
          "",
          -1.023747294103248,
          "",
          "",
          -1.9544450661044033,
          "",
          -1.5696347107214783,
          -0.6886374892073428,
          -0.9111248341354283,
          "",
          "",
          -3.1453320535566,
          "",
          "",
          "",
          -2.52924811873869,
          "",
          "",
          -1.6227519926675391,
          "",
          "",
          -1.4785333747997076,
          "",
          "",
          "",
          "",
          -2.1656740166743207,
          "",
          -0.08498606582521093,
          -2.266752148186285,
          "",
          -1.6912889415791603,
          "",
          -1.7435860508702943,
          -0.04839991809533062,
          -0.667041005944873,
          -0.3261661998553458,
          -0.14073021031057464,
          "",
          "",
          "",
          -1.4456434889081864,
          "",
          "",
          -2.264554074838088,
          -0.35111705947685556,
          "",
          -0.8513348600757084,
          "",
          "",
          -0.8050273687615961,
          -0.7812868800518502,
          -1.230278450628023,
          "",
          "",
          "",
          -0.41763961457639803,
          "",
          -1.475596506505899,
          -0.33440610832146345,
          -0.12283606472802644,
          -0.028755358382335172,
          "",
          "",
          -0.23712244423063739,
          -1.8195507387545322,
          -1.179260387182115,
          "",
          -0.834619545430116,
          -0.10970885290834365,
          "",
          -0.9942791034004366,
          -1.2505867679875522,
          "",
          "",
          "",
          -1.380873107337154,
          "",
          "",
          "",
          -2.0782004452249243,
          "",
          "",
          -1.4870234266291995,
          "",
          "",
          "",
          -0.8455460658671959,
          -0.9166466559373111
         ],
         "yaxis": "y2"
        }
       ],
       "layout": {
        "hovermode": "x",
        "legend": {
         "bgcolor": "#F5F6F9",
         "font": {
          "color": "#4D5663"
         }
        },
        "paper_bgcolor": "#F5F6F9",
        "plot_bgcolor": "#F5F6F9",
        "template": {
         "data": {
          "bar": [
           {
            "error_x": {
             "color": "#2a3f5f"
            },
            "error_y": {
             "color": "#2a3f5f"
            },
            "marker": {
             "line": {
              "color": "#E5ECF6",
              "width": 0.5
             },
             "pattern": {
              "fillmode": "overlay",
              "size": 10,
              "solidity": 0.2
             }
            },
            "type": "bar"
           }
          ],
          "barpolar": [
           {
            "marker": {
             "line": {
              "color": "#E5ECF6",
              "width": 0.5
             },
             "pattern": {
              "fillmode": "overlay",
              "size": 10,
              "solidity": 0.2
             }
            },
            "type": "barpolar"
           }
          ],
          "carpet": [
           {
            "aaxis": {
             "endlinecolor": "#2a3f5f",
             "gridcolor": "white",
             "linecolor": "white",
             "minorgridcolor": "white",
             "startlinecolor": "#2a3f5f"
            },
            "baxis": {
             "endlinecolor": "#2a3f5f",
             "gridcolor": "white",
             "linecolor": "white",
             "minorgridcolor": "white",
             "startlinecolor": "#2a3f5f"
            },
            "type": "carpet"
           }
          ],
          "choropleth": [
           {
            "colorbar": {
             "outlinewidth": 0,
             "ticks": ""
            },
            "type": "choropleth"
           }
          ],
          "contour": [
           {
            "colorbar": {
             "outlinewidth": 0,
             "ticks": ""
            },
            "colorscale": [
             [
              0,
              "#0d0887"
             ],
             [
              0.1111111111111111,
              "#46039f"
             ],
             [
              0.2222222222222222,
              "#7201a8"
             ],
             [
              0.3333333333333333,
              "#9c179e"
             ],
             [
              0.4444444444444444,
              "#bd3786"
             ],
             [
              0.5555555555555556,
              "#d8576b"
             ],
             [
              0.6666666666666666,
              "#ed7953"
             ],
             [
              0.7777777777777778,
              "#fb9f3a"
             ],
             [
              0.8888888888888888,
              "#fdca26"
             ],
             [
              1,
              "#f0f921"
             ]
            ],
            "type": "contour"
           }
          ],
          "contourcarpet": [
           {
            "colorbar": {
             "outlinewidth": 0,
             "ticks": ""
            },
            "type": "contourcarpet"
           }
          ],
          "heatmap": [
           {
            "colorbar": {
             "outlinewidth": 0,
             "ticks": ""
            },
            "colorscale": [
             [
              0,
              "#0d0887"
             ],
             [
              0.1111111111111111,
              "#46039f"
             ],
             [
              0.2222222222222222,
              "#7201a8"
             ],
             [
              0.3333333333333333,
              "#9c179e"
             ],
             [
              0.4444444444444444,
              "#bd3786"
             ],
             [
              0.5555555555555556,
              "#d8576b"
             ],
             [
              0.6666666666666666,
              "#ed7953"
             ],
             [
              0.7777777777777778,
              "#fb9f3a"
             ],
             [
              0.8888888888888888,
              "#fdca26"
             ],
             [
              1,
              "#f0f921"
             ]
            ],
            "type": "heatmap"
           }
          ],
          "heatmapgl": [
           {
            "colorbar": {
             "outlinewidth": 0,
             "ticks": ""
            },
            "colorscale": [
             [
              0,
              "#0d0887"
             ],
             [
              0.1111111111111111,
              "#46039f"
             ],
             [
              0.2222222222222222,
              "#7201a8"
             ],
             [
              0.3333333333333333,
              "#9c179e"
             ],
             [
              0.4444444444444444,
              "#bd3786"
             ],
             [
              0.5555555555555556,
              "#d8576b"
             ],
             [
              0.6666666666666666,
              "#ed7953"
             ],
             [
              0.7777777777777778,
              "#fb9f3a"
             ],
             [
              0.8888888888888888,
              "#fdca26"
             ],
             [
              1,
              "#f0f921"
             ]
            ],
            "type": "heatmapgl"
           }
          ],
          "histogram": [
           {
            "marker": {
             "pattern": {
              "fillmode": "overlay",
              "size": 10,
              "solidity": 0.2
             }
            },
            "type": "histogram"
           }
          ],
          "histogram2d": [
           {
            "colorbar": {
             "outlinewidth": 0,
             "ticks": ""
            },
            "colorscale": [
             [
              0,
              "#0d0887"
             ],
             [
              0.1111111111111111,
              "#46039f"
             ],
             [
              0.2222222222222222,
              "#7201a8"
             ],
             [
              0.3333333333333333,
              "#9c179e"
             ],
             [
              0.4444444444444444,
              "#bd3786"
             ],
             [
              0.5555555555555556,
              "#d8576b"
             ],
             [
              0.6666666666666666,
              "#ed7953"
             ],
             [
              0.7777777777777778,
              "#fb9f3a"
             ],
             [
              0.8888888888888888,
              "#fdca26"
             ],
             [
              1,
              "#f0f921"
             ]
            ],
            "type": "histogram2d"
           }
          ],
          "histogram2dcontour": [
           {
            "colorbar": {
             "outlinewidth": 0,
             "ticks": ""
            },
            "colorscale": [
             [
              0,
              "#0d0887"
             ],
             [
              0.1111111111111111,
              "#46039f"
             ],
             [
              0.2222222222222222,
              "#7201a8"
             ],
             [
              0.3333333333333333,
              "#9c179e"
             ],
             [
              0.4444444444444444,
              "#bd3786"
             ],
             [
              0.5555555555555556,
              "#d8576b"
             ],
             [
              0.6666666666666666,
              "#ed7953"
             ],
             [
              0.7777777777777778,
              "#fb9f3a"
             ],
             [
              0.8888888888888888,
              "#fdca26"
             ],
             [
              1,
              "#f0f921"
             ]
            ],
            "type": "histogram2dcontour"
           }
          ],
          "mesh3d": [
           {
            "colorbar": {
             "outlinewidth": 0,
             "ticks": ""
            },
            "type": "mesh3d"
           }
          ],
          "parcoords": [
           {
            "line": {
             "colorbar": {
              "outlinewidth": 0,
              "ticks": ""
             }
            },
            "type": "parcoords"
           }
          ],
          "pie": [
           {
            "automargin": true,
            "type": "pie"
           }
          ],
          "scatter": [
           {
            "fillpattern": {
             "fillmode": "overlay",
             "size": 10,
             "solidity": 0.2
            },
            "type": "scatter"
           }
          ],
          "scatter3d": [
           {
            "line": {
             "colorbar": {
              "outlinewidth": 0,
              "ticks": ""
             }
            },
            "marker": {
             "colorbar": {
              "outlinewidth": 0,
              "ticks": ""
             }
            },
            "type": "scatter3d"
           }
          ],
          "scattercarpet": [
           {
            "marker": {
             "colorbar": {
              "outlinewidth": 0,
              "ticks": ""
             }
            },
            "type": "scattercarpet"
           }
          ],
          "scattergeo": [
           {
            "marker": {
             "colorbar": {
              "outlinewidth": 0,
              "ticks": ""
             }
            },
            "type": "scattergeo"
           }
          ],
          "scattergl": [
           {
            "marker": {
             "colorbar": {
              "outlinewidth": 0,
              "ticks": ""
             }
            },
            "type": "scattergl"
           }
          ],
          "scattermapbox": [
           {
            "marker": {
             "colorbar": {
              "outlinewidth": 0,
              "ticks": ""
             }
            },
            "type": "scattermapbox"
           }
          ],
          "scatterpolar": [
           {
            "marker": {
             "colorbar": {
              "outlinewidth": 0,
              "ticks": ""
             }
            },
            "type": "scatterpolar"
           }
          ],
          "scatterpolargl": [
           {
            "marker": {
             "colorbar": {
              "outlinewidth": 0,
              "ticks": ""
             }
            },
            "type": "scatterpolargl"
           }
          ],
          "scatterternary": [
           {
            "marker": {
             "colorbar": {
              "outlinewidth": 0,
              "ticks": ""
             }
            },
            "type": "scatterternary"
           }
          ],
          "surface": [
           {
            "colorbar": {
             "outlinewidth": 0,
             "ticks": ""
            },
            "colorscale": [
             [
              0,
              "#0d0887"
             ],
             [
              0.1111111111111111,
              "#46039f"
             ],
             [
              0.2222222222222222,
              "#7201a8"
             ],
             [
              0.3333333333333333,
              "#9c179e"
             ],
             [
              0.4444444444444444,
              "#bd3786"
             ],
             [
              0.5555555555555556,
              "#d8576b"
             ],
             [
              0.6666666666666666,
              "#ed7953"
             ],
             [
              0.7777777777777778,
              "#fb9f3a"
             ],
             [
              0.8888888888888888,
              "#fdca26"
             ],
             [
              1,
              "#f0f921"
             ]
            ],
            "type": "surface"
           }
          ],
          "table": [
           {
            "cells": {
             "fill": {
              "color": "#EBF0F8"
             },
             "line": {
              "color": "white"
             }
            },
            "header": {
             "fill": {
              "color": "#C8D4E3"
             },
             "line": {
              "color": "white"
             }
            },
            "type": "table"
           }
          ]
         },
         "layout": {
          "annotationdefaults": {
           "arrowcolor": "#2a3f5f",
           "arrowhead": 0,
           "arrowwidth": 1
          },
          "autotypenumbers": "strict",
          "coloraxis": {
           "colorbar": {
            "outlinewidth": 0,
            "ticks": ""
           }
          },
          "colorscale": {
           "diverging": [
            [
             0,
             "#8e0152"
            ],
            [
             0.1,
             "#c51b7d"
            ],
            [
             0.2,
             "#de77ae"
            ],
            [
             0.3,
             "#f1b6da"
            ],
            [
             0.4,
             "#fde0ef"
            ],
            [
             0.5,
             "#f7f7f7"
            ],
            [
             0.6,
             "#e6f5d0"
            ],
            [
             0.7,
             "#b8e186"
            ],
            [
             0.8,
             "#7fbc41"
            ],
            [
             0.9,
             "#4d9221"
            ],
            [
             1,
             "#276419"
            ]
           ],
           "sequential": [
            [
             0,
             "#0d0887"
            ],
            [
             0.1111111111111111,
             "#46039f"
            ],
            [
             0.2222222222222222,
             "#7201a8"
            ],
            [
             0.3333333333333333,
             "#9c179e"
            ],
            [
             0.4444444444444444,
             "#bd3786"
            ],
            [
             0.5555555555555556,
             "#d8576b"
            ],
            [
             0.6666666666666666,
             "#ed7953"
            ],
            [
             0.7777777777777778,
             "#fb9f3a"
            ],
            [
             0.8888888888888888,
             "#fdca26"
            ],
            [
             1,
             "#f0f921"
            ]
           ],
           "sequentialminus": [
            [
             0,
             "#0d0887"
            ],
            [
             0.1111111111111111,
             "#46039f"
            ],
            [
             0.2222222222222222,
             "#7201a8"
            ],
            [
             0.3333333333333333,
             "#9c179e"
            ],
            [
             0.4444444444444444,
             "#bd3786"
            ],
            [
             0.5555555555555556,
             "#d8576b"
            ],
            [
             0.6666666666666666,
             "#ed7953"
            ],
            [
             0.7777777777777778,
             "#fb9f3a"
            ],
            [
             0.8888888888888888,
             "#fdca26"
            ],
            [
             1,
             "#f0f921"
            ]
           ]
          },
          "colorway": [
           "#636efa",
           "#EF553B",
           "#00cc96",
           "#ab63fa",
           "#FFA15A",
           "#19d3f3",
           "#FF6692",
           "#B6E880",
           "#FF97FF",
           "#FECB52"
          ],
          "font": {
           "color": "#2a3f5f"
          },
          "geo": {
           "bgcolor": "white",
           "lakecolor": "white",
           "landcolor": "#E5ECF6",
           "showlakes": true,
           "showland": true,
           "subunitcolor": "white"
          },
          "hoverlabel": {
           "align": "left"
          },
          "hovermode": "closest",
          "mapbox": {
           "style": "light"
          },
          "paper_bgcolor": "white",
          "plot_bgcolor": "#E5ECF6",
          "polar": {
           "angularaxis": {
            "gridcolor": "white",
            "linecolor": "white",
            "ticks": ""
           },
           "bgcolor": "#E5ECF6",
           "radialaxis": {
            "gridcolor": "white",
            "linecolor": "white",
            "ticks": ""
           }
          },
          "scene": {
           "xaxis": {
            "backgroundcolor": "#E5ECF6",
            "gridcolor": "white",
            "gridwidth": 2,
            "linecolor": "white",
            "showbackground": true,
            "ticks": "",
            "zerolinecolor": "white"
           },
           "yaxis": {
            "backgroundcolor": "#E5ECF6",
            "gridcolor": "white",
            "gridwidth": 2,
            "linecolor": "white",
            "showbackground": true,
            "ticks": "",
            "zerolinecolor": "white"
           },
           "zaxis": {
            "backgroundcolor": "#E5ECF6",
            "gridcolor": "white",
            "gridwidth": 2,
            "linecolor": "white",
            "showbackground": true,
            "ticks": "",
            "zerolinecolor": "white"
           }
          },
          "shapedefaults": {
           "line": {
            "color": "#2a3f5f"
           }
          },
          "ternary": {
           "aaxis": {
            "gridcolor": "white",
            "linecolor": "white",
            "ticks": ""
           },
           "baxis": {
            "gridcolor": "white",
            "linecolor": "white",
            "ticks": ""
           },
           "bgcolor": "#E5ECF6",
           "caxis": {
            "gridcolor": "white",
            "linecolor": "white",
            "ticks": ""
           }
          },
          "title": {
           "x": 0.05
          },
          "xaxis": {
           "automargin": true,
           "gridcolor": "white",
           "linecolor": "white",
           "ticks": "",
           "title": {
            "standoff": 15
           },
           "zerolinecolor": "white",
           "zerolinewidth": 2
          },
          "yaxis": {
           "automargin": true,
           "gridcolor": "white",
           "linecolor": "white",
           "ticks": "",
           "title": {
            "standoff": 15
           },
           "zerolinecolor": "white",
           "zerolinewidth": 2
          }
         }
        },
        "title": {
         "font": {
          "color": "#4D5663"
         }
        },
        "xaxis": {
         "gridcolor": "#E1E5ED",
         "showgrid": true,
         "tickfont": {
          "color": "#4D5663"
         },
         "title": {
          "font": {
           "color": "#4D5663"
          },
          "text": ""
         },
         "zerolinecolor": "#E1E5ED"
        },
        "xaxis2": {
         "anchor": "y2",
         "gridcolor": "#E1E5ED",
         "showgrid": true,
         "showticklabels": false,
         "tickfont": {
          "color": "#4D5663"
         },
         "title": {
          "font": {
           "color": "#4D5663"
          },
          "text": ""
         },
         "zerolinecolor": "#E1E5ED"
        },
        "yaxis": {
         "domain": [
          0.3,
          1
         ],
         "gridcolor": "#E1E5ED",
         "showgrid": true,
         "tickfont": {
          "color": "#4D5663"
         },
         "title": {
          "font": {
           "color": "#4D5663"
          },
          "text": ""
         },
         "zerolinecolor": "#E1E5ED"
        },
        "yaxis2": {
         "domain": [
          0,
          0.25
         ],
         "gridcolor": "#E1E5ED",
         "showgrid": true,
         "tickfont": {
          "color": "#4D5663"
         },
         "title": {
          "font": {
           "color": "#4D5663"
          },
          "text": "Spread"
         },
         "zerolinecolor": "#E1E5ED"
        }
       }
      },
      "text/html": [
       "<div>                            <div id=\"fc6aaa59-9f2d-41d4-8f2b-30117ca632d4\" class=\"plotly-graph-div\" style=\"height:525px; width:100%;\"></div>            <script type=\"text/javascript\">                require([\"plotly\"], function(Plotly) {                    window.PLOTLYENV=window.PLOTLYENV || {};\n",
       "                    window.PLOTLYENV.BASE_URL='https://plot.ly';                                    if (document.getElementById(\"fc6aaa59-9f2d-41d4-8f2b-30117ca632d4\")) {                    Plotly.newPlot(                        \"fc6aaa59-9f2d-41d4-8f2b-30117ca632d4\",                        [{\"line\":{\"color\":\"rgba(255, 153, 51, 1.0)\",\"dash\":\"solid\",\"shape\":\"linear\",\"width\":1.3},\"mode\":\"lines\",\"name\":\"A\",\"text\":\"\",\"x\":[0,1,2,3,4,5,6,7,8,9,10,11,12,13,14,15,16,17,18,19,20,21,22,23,24,25,26,27,28,29,30,31,32,33,34,35,36,37,38,39,40,41,42,43,44,45,46,47,48,49,50,51,52,53,54,55,56,57,58,59,60,61,62,63,64,65,66,67,68,69,70,71,72,73,74,75,76,77,78,79,80,81,82,83,84,85,86,87,88,89,90,91,92,93,94,95,96,97,98,99],\"y\":[0.40534718238775297,0.4618384364241935,0.24801495362386689,-0.20275965105180163,0.09894775497959721,0.6599246788548914,0.8438472586319632,0.014204738168655967,-1.0523175976673647,-0.33916820542896847,-1.661959469597001,0.012685600171485036,-0.4789785319016016,1.0084397271213716,0.5939225191331639,-1.095553489611045,-0.18951102092657343,-0.7485311039793072,-0.430464829191035,-0.7631277171679673,0.36148744061730415,0.07563251615586787,-1.8860291881983393,1.830146264431817,1.5261693945209298,0.16291324267842877,-0.8262337273807737,-0.5517585324681692,0.345803414065465,-1.4703487784808873,-0.42067931889214644,-0.13166190696965407,1.123577676117159,1.1810238810798508,1.660312792380613,0.5051805618852068,0.17556028099014473,-0.5494279945135929,-0.054740206493713695,-0.2168076326530869,-0.851789995700195,1.8015449616578993,-1.4170720382865047,0.8735331849938913,-1.1093059122024311,-0.4904870041875731,0.024771903075371624,-0.14604266902562074,-0.1804877739615316,-0.26801124668195686,0.6532291709068574,0.9495574584417534,-1.531778149170353,1.5890221761187682,0.980982056724215,-1.3218991841523904,-0.7748649079913962,0.4742698276888825,-0.0020455685397476487,1.8920574153876382,-0.22893685140438824,-0.6971595344536778,-1.7688603238410823,0.06128443693784288,-0.360684189084469,-0.4533831065070736,1.1124492419990712,-0.14284110930219396,0.583799577696767,0.4763961235399069,0.888486188632068,1.1547065346517043,-0.06266321573539217,1.2614886864066421,-0.2713660149998362,-0.564030478976412,-0.36032635768443194,-1.386122960420082,0.6497222345182069,0.4073214610955935,1.1951054678585589,1.1462194285806422,0.3839065700825093,0.02158569664438489,-0.31607498419747876,1.2258170818043679,1.5403849676974233,-1.2793493722883689,1.4546677261348309,0.8853740095330099,-0.27871528402228496,-0.45790415202886203,0.6078800386133114,0.2619094555525887,-0.9359554761132841,-1.310045647360763,0.8639954189862001,-0.17319697866189304,-0.23456567552557125,0.39507788382193987],\"type\":\"scatter\"},{\"line\":{\"color\":\"rgba(55, 128, 191, 1.0)\",\"dash\":\"solid\",\"shape\":\"linear\",\"width\":1.3},\"mode\":\"lines\",\"name\":\"B\",\"text\":\"\",\"x\":[0,1,2,3,4,5,6,7,8,9,10,11,12,13,14,15,16,17,18,19,20,21,22,23,24,25,26,27,28,29,30,31,32,33,34,35,36,37,38,39,40,41,42,43,44,45,46,47,48,49,50,51,52,53,54,55,56,57,58,59,60,61,62,63,64,65,66,67,68,69,70,71,72,73,74,75,76,77,78,79,80,81,82,83,84,85,86,87,88,89,90,91,92,93,94,95,96,97,98,99],\"y\":[1.022485686609692,-0.2991330376533287,-0.63888610969383,-0.8833750002612436,-0.4078861332958796,0.4799082532464347,-1.357274840799496,0.19810773620278088,-0.19783074771131168,0.692818817496382,0.23191266266703442,-0.39355437747570005,0.5447687622016464,-0.14091375476541995,-0.22769161270345697,0.8588915764933582,-0.6783986928331065,0.8211036067421712,0.25817266001630773,0.14799711696746098,0.05927620745292284,-0.36267230950085433,1.2593028653582603,-1.0007777217527574,1.2282436874541525,-0.12769887512315786,1.7030143913579163,-1.0020872605347468,0.3195560424142498,0.15240321418665187,-1.5797861553236705,-0.3739313200333769,2.6021110509168666,-1.4471100938515242,-0.22318666138188153,0.47553906694810044,-1.1809472376756547,1.6162460221607278,-0.30331773033449044,-0.13182156682787596,1.4149621524860898,-0.9530259792261948,0.2742169032926556,-0.046045542434082556,0.634280138667863,-0.44208708609224245,0.6918129090202446,0.18012353082972507,-0.03975756365095694,-0.4035085758608769,-1.7585817100788126,-0.2996635985622194,-0.08613466026216665,1.3407846486700787,-1.2852375040247463,0.9426548906856975,-0.4237478485145406,-0.9875258770195806,0.8492892915359607,0.8623233408981996,-0.6444147916046757,0.1078678343079182,-0.9875734437892321,1.291562887565866,-0.8904951305931562,-1.7911999540279506,0.8759961030601735,0.2747985052742041,-0.20212363160084537,1.9519926300458057,1.2228922969535314,1.2775425993797307,-0.033907857353057,-1.1269326593789921,-0.35613822482803065,-0.3269080347457746,1.4592243810701002,-0.20686257323796692,-0.09616636678433634,1.2419410065257095,1.3048143207669025,-0.2980538960987875,1.3781856734829458,1.272172464631937,-0.3472494847742187,-0.010538336780892818,-0.16183176257636525,0.10152373504878527,-1.8653899621822374,-0.9683998654059663,-0.779130702347315,1.6202962931960625,-0.4690630803098864,0.024481735873536713,0.5510679505159154,-1.4104672378985652,0.5669444261650838,-1.350048904489357,0.6109803903416247,1.311724539759251],\"type\":\"scatter\"},{\"connectgaps\":false,\"fill\":\"tozeroy\",\"line\":{\"color\":\"green\",\"dash\":\"solid\",\"shape\":\"linear\",\"width\":0.5},\"mode\":\"lines\",\"name\":\"Spread\",\"showlegend\":false,\"x\":[0,1,2,3,4,5,6,7,8,9,10,11,12,13,14,15,16,17,18,19,20,21,22,23,24,25,26,27,28,29,30,31,32,33,34,35,36,37,38,39,40,41,42,43,44,45,46,47,48,49,50,51,52,53,54,55,56,57,58,59,60,61,62,63,64,65,66,67,68,69,70,71,72,73,74,75,76,77,78,79,80,81,82,83,84,85,86,87,88,89,90,91,92,93,94,95,96,97,98,99],\"xaxis\":\"x2\",\"y\":[\"\",0.7609714740775222,0.8869010633176968,0.680615349209442,0.5068338882754768,0.18001642560845665,2.2011220994314593,\"\",\"\",\"\",\"\",0.40623997764718506,\"\",1.1493534818867917,0.8216141318366208,\"\",0.48888767190653304,\"\",\"\",\"\",0.3022112331643813,0.4383048256567222,\"\",2.8309239861845743,0.29792570706677735,0.29061211780158663,\"\",0.45032872806657764,0.026247371651215212,\"\",1.159106836431524,0.24226941306372285,\"\",2.628133974931375,1.8834994537624945,0.029641494937106327,1.3565075186657993,\"\",0.24857752384077675,\"\",\"\",2.7545709408840944,\"\",0.9195787274279739,\"\",\"\",\"\",\"\",\"\",0.13549732917892005,2.41181088098567,1.2492210570039728,\"\",0.24823752744868943,2.2662195607489615,\"\",\"\",1.461795704708463,\"\",1.0297340744894385,0.4154779402002875,\"\",\"\",\"\",0.5298109415086872,1.3378168475208772,0.23645313893889774,\"\",0.7859232092976124,\"\",\"\",\"\",\"\",2.388421345785634,0.08477220982819444,\"\",\"\",\"\",0.7458886013025432,\"\",\"\",1.4442733246794297,\"\",\"\",0.031174500576739927,1.2363554185852608,1.7022167302737885,\"\",3.3200576883170685,1.8537738749389763,0.50041541832503,\"\",1.076943118923198,0.237427719679052,\"\",0.10042159053780231,0.29705099282111636,1.1768519258274641,\"\",\"\"],\"yaxis\":\"y2\",\"type\":\"scatter\"},{\"connectgaps\":false,\"fill\":\"tozeroy\",\"line\":{\"color\":\"red\",\"dash\":\"solid\",\"shape\":\"linear\",\"width\":0.5},\"mode\":\"lines\",\"name\":\"Spread\",\"showlegend\":false,\"x\":[0,1,2,3,4,5,6,7,8,9,10,11,12,13,14,15,16,17,18,19,20,21,22,23,24,25,26,27,28,29,30,31,32,33,34,35,36,37,38,39,40,41,42,43,44,45,46,47,48,49,50,51,52,53,54,55,56,57,58,59,60,61,62,63,64,65,66,67,68,69,70,71,72,73,74,75,76,77,78,79,80,81,82,83,84,85,86,87,88,89,90,91,92,93,94,95,96,97,98,99],\"xaxis\":\"x2\",\"y\":[-0.617138504221939,\"\",\"\",\"\",\"\",\"\",\"\",-0.1839029980341249,-0.854486849956053,-1.0319870229253505,-1.8938721322640355,\"\",-1.023747294103248,\"\",\"\",-1.9544450661044033,\"\",-1.5696347107214783,-0.6886374892073428,-0.9111248341354283,\"\",\"\",-3.1453320535566,\"\",\"\",\"\",-2.52924811873869,\"\",\"\",-1.6227519926675391,\"\",\"\",-1.4785333747997076,\"\",\"\",\"\",\"\",-2.1656740166743207,\"\",-0.08498606582521093,-2.266752148186285,\"\",-1.6912889415791603,\"\",-1.7435860508702943,-0.04839991809533062,-0.667041005944873,-0.3261661998553458,-0.14073021031057464,\"\",\"\",\"\",-1.4456434889081864,\"\",\"\",-2.264554074838088,-0.35111705947685556,\"\",-0.8513348600757084,\"\",\"\",-0.8050273687615961,-0.7812868800518502,-1.230278450628023,\"\",\"\",\"\",-0.41763961457639803,\"\",-1.475596506505899,-0.33440610832146345,-0.12283606472802644,-0.028755358382335172,\"\",\"\",-0.23712244423063739,-1.8195507387545322,-1.179260387182115,\"\",-0.834619545430116,-0.10970885290834365,\"\",-0.9942791034004366,-1.2505867679875522,\"\",\"\",\"\",-1.380873107337154,\"\",\"\",\"\",-2.0782004452249243,\"\",\"\",-1.4870234266291995,\"\",\"\",\"\",-0.8455460658671959,-0.9166466559373111],\"yaxis\":\"y2\",\"type\":\"scatter\"}],                        {\"hovermode\":\"x\",\"legend\":{\"bgcolor\":\"#F5F6F9\",\"font\":{\"color\":\"#4D5663\"}},\"paper_bgcolor\":\"#F5F6F9\",\"plot_bgcolor\":\"#F5F6F9\",\"template\":{\"data\":{\"barpolar\":[{\"marker\":{\"line\":{\"color\":\"#E5ECF6\",\"width\":0.5},\"pattern\":{\"fillmode\":\"overlay\",\"size\":10,\"solidity\":0.2}},\"type\":\"barpolar\"}],\"bar\":[{\"error_x\":{\"color\":\"#2a3f5f\"},\"error_y\":{\"color\":\"#2a3f5f\"},\"marker\":{\"line\":{\"color\":\"#E5ECF6\",\"width\":0.5},\"pattern\":{\"fillmode\":\"overlay\",\"size\":10,\"solidity\":0.2}},\"type\":\"bar\"}],\"carpet\":[{\"aaxis\":{\"endlinecolor\":\"#2a3f5f\",\"gridcolor\":\"white\",\"linecolor\":\"white\",\"minorgridcolor\":\"white\",\"startlinecolor\":\"#2a3f5f\"},\"baxis\":{\"endlinecolor\":\"#2a3f5f\",\"gridcolor\":\"white\",\"linecolor\":\"white\",\"minorgridcolor\":\"white\",\"startlinecolor\":\"#2a3f5f\"},\"type\":\"carpet\"}],\"choropleth\":[{\"colorbar\":{\"outlinewidth\":0,\"ticks\":\"\"},\"type\":\"choropleth\"}],\"contourcarpet\":[{\"colorbar\":{\"outlinewidth\":0,\"ticks\":\"\"},\"type\":\"contourcarpet\"}],\"contour\":[{\"colorbar\":{\"outlinewidth\":0,\"ticks\":\"\"},\"colorscale\":[[0.0,\"#0d0887\"],[0.1111111111111111,\"#46039f\"],[0.2222222222222222,\"#7201a8\"],[0.3333333333333333,\"#9c179e\"],[0.4444444444444444,\"#bd3786\"],[0.5555555555555556,\"#d8576b\"],[0.6666666666666666,\"#ed7953\"],[0.7777777777777778,\"#fb9f3a\"],[0.8888888888888888,\"#fdca26\"],[1.0,\"#f0f921\"]],\"type\":\"contour\"}],\"heatmapgl\":[{\"colorbar\":{\"outlinewidth\":0,\"ticks\":\"\"},\"colorscale\":[[0.0,\"#0d0887\"],[0.1111111111111111,\"#46039f\"],[0.2222222222222222,\"#7201a8\"],[0.3333333333333333,\"#9c179e\"],[0.4444444444444444,\"#bd3786\"],[0.5555555555555556,\"#d8576b\"],[0.6666666666666666,\"#ed7953\"],[0.7777777777777778,\"#fb9f3a\"],[0.8888888888888888,\"#fdca26\"],[1.0,\"#f0f921\"]],\"type\":\"heatmapgl\"}],\"heatmap\":[{\"colorbar\":{\"outlinewidth\":0,\"ticks\":\"\"},\"colorscale\":[[0.0,\"#0d0887\"],[0.1111111111111111,\"#46039f\"],[0.2222222222222222,\"#7201a8\"],[0.3333333333333333,\"#9c179e\"],[0.4444444444444444,\"#bd3786\"],[0.5555555555555556,\"#d8576b\"],[0.6666666666666666,\"#ed7953\"],[0.7777777777777778,\"#fb9f3a\"],[0.8888888888888888,\"#fdca26\"],[1.0,\"#f0f921\"]],\"type\":\"heatmap\"}],\"histogram2dcontour\":[{\"colorbar\":{\"outlinewidth\":0,\"ticks\":\"\"},\"colorscale\":[[0.0,\"#0d0887\"],[0.1111111111111111,\"#46039f\"],[0.2222222222222222,\"#7201a8\"],[0.3333333333333333,\"#9c179e\"],[0.4444444444444444,\"#bd3786\"],[0.5555555555555556,\"#d8576b\"],[0.6666666666666666,\"#ed7953\"],[0.7777777777777778,\"#fb9f3a\"],[0.8888888888888888,\"#fdca26\"],[1.0,\"#f0f921\"]],\"type\":\"histogram2dcontour\"}],\"histogram2d\":[{\"colorbar\":{\"outlinewidth\":0,\"ticks\":\"\"},\"colorscale\":[[0.0,\"#0d0887\"],[0.1111111111111111,\"#46039f\"],[0.2222222222222222,\"#7201a8\"],[0.3333333333333333,\"#9c179e\"],[0.4444444444444444,\"#bd3786\"],[0.5555555555555556,\"#d8576b\"],[0.6666666666666666,\"#ed7953\"],[0.7777777777777778,\"#fb9f3a\"],[0.8888888888888888,\"#fdca26\"],[1.0,\"#f0f921\"]],\"type\":\"histogram2d\"}],\"histogram\":[{\"marker\":{\"pattern\":{\"fillmode\":\"overlay\",\"size\":10,\"solidity\":0.2}},\"type\":\"histogram\"}],\"mesh3d\":[{\"colorbar\":{\"outlinewidth\":0,\"ticks\":\"\"},\"type\":\"mesh3d\"}],\"parcoords\":[{\"line\":{\"colorbar\":{\"outlinewidth\":0,\"ticks\":\"\"}},\"type\":\"parcoords\"}],\"pie\":[{\"automargin\":true,\"type\":\"pie\"}],\"scatter3d\":[{\"line\":{\"colorbar\":{\"outlinewidth\":0,\"ticks\":\"\"}},\"marker\":{\"colorbar\":{\"outlinewidth\":0,\"ticks\":\"\"}},\"type\":\"scatter3d\"}],\"scattercarpet\":[{\"marker\":{\"colorbar\":{\"outlinewidth\":0,\"ticks\":\"\"}},\"type\":\"scattercarpet\"}],\"scattergeo\":[{\"marker\":{\"colorbar\":{\"outlinewidth\":0,\"ticks\":\"\"}},\"type\":\"scattergeo\"}],\"scattergl\":[{\"marker\":{\"colorbar\":{\"outlinewidth\":0,\"ticks\":\"\"}},\"type\":\"scattergl\"}],\"scattermapbox\":[{\"marker\":{\"colorbar\":{\"outlinewidth\":0,\"ticks\":\"\"}},\"type\":\"scattermapbox\"}],\"scatterpolargl\":[{\"marker\":{\"colorbar\":{\"outlinewidth\":0,\"ticks\":\"\"}},\"type\":\"scatterpolargl\"}],\"scatterpolar\":[{\"marker\":{\"colorbar\":{\"outlinewidth\":0,\"ticks\":\"\"}},\"type\":\"scatterpolar\"}],\"scatter\":[{\"fillpattern\":{\"fillmode\":\"overlay\",\"size\":10,\"solidity\":0.2},\"type\":\"scatter\"}],\"scatterternary\":[{\"marker\":{\"colorbar\":{\"outlinewidth\":0,\"ticks\":\"\"}},\"type\":\"scatterternary\"}],\"surface\":[{\"colorbar\":{\"outlinewidth\":0,\"ticks\":\"\"},\"colorscale\":[[0.0,\"#0d0887\"],[0.1111111111111111,\"#46039f\"],[0.2222222222222222,\"#7201a8\"],[0.3333333333333333,\"#9c179e\"],[0.4444444444444444,\"#bd3786\"],[0.5555555555555556,\"#d8576b\"],[0.6666666666666666,\"#ed7953\"],[0.7777777777777778,\"#fb9f3a\"],[0.8888888888888888,\"#fdca26\"],[1.0,\"#f0f921\"]],\"type\":\"surface\"}],\"table\":[{\"cells\":{\"fill\":{\"color\":\"#EBF0F8\"},\"line\":{\"color\":\"white\"}},\"header\":{\"fill\":{\"color\":\"#C8D4E3\"},\"line\":{\"color\":\"white\"}},\"type\":\"table\"}]},\"layout\":{\"annotationdefaults\":{\"arrowcolor\":\"#2a3f5f\",\"arrowhead\":0,\"arrowwidth\":1},\"autotypenumbers\":\"strict\",\"coloraxis\":{\"colorbar\":{\"outlinewidth\":0,\"ticks\":\"\"}},\"colorscale\":{\"diverging\":[[0,\"#8e0152\"],[0.1,\"#c51b7d\"],[0.2,\"#de77ae\"],[0.3,\"#f1b6da\"],[0.4,\"#fde0ef\"],[0.5,\"#f7f7f7\"],[0.6,\"#e6f5d0\"],[0.7,\"#b8e186\"],[0.8,\"#7fbc41\"],[0.9,\"#4d9221\"],[1,\"#276419\"]],\"sequential\":[[0.0,\"#0d0887\"],[0.1111111111111111,\"#46039f\"],[0.2222222222222222,\"#7201a8\"],[0.3333333333333333,\"#9c179e\"],[0.4444444444444444,\"#bd3786\"],[0.5555555555555556,\"#d8576b\"],[0.6666666666666666,\"#ed7953\"],[0.7777777777777778,\"#fb9f3a\"],[0.8888888888888888,\"#fdca26\"],[1.0,\"#f0f921\"]],\"sequentialminus\":[[0.0,\"#0d0887\"],[0.1111111111111111,\"#46039f\"],[0.2222222222222222,\"#7201a8\"],[0.3333333333333333,\"#9c179e\"],[0.4444444444444444,\"#bd3786\"],[0.5555555555555556,\"#d8576b\"],[0.6666666666666666,\"#ed7953\"],[0.7777777777777778,\"#fb9f3a\"],[0.8888888888888888,\"#fdca26\"],[1.0,\"#f0f921\"]]},\"colorway\":[\"#636efa\",\"#EF553B\",\"#00cc96\",\"#ab63fa\",\"#FFA15A\",\"#19d3f3\",\"#FF6692\",\"#B6E880\",\"#FF97FF\",\"#FECB52\"],\"font\":{\"color\":\"#2a3f5f\"},\"geo\":{\"bgcolor\":\"white\",\"lakecolor\":\"white\",\"landcolor\":\"#E5ECF6\",\"showlakes\":true,\"showland\":true,\"subunitcolor\":\"white\"},\"hoverlabel\":{\"align\":\"left\"},\"hovermode\":\"closest\",\"mapbox\":{\"style\":\"light\"},\"paper_bgcolor\":\"white\",\"plot_bgcolor\":\"#E5ECF6\",\"polar\":{\"angularaxis\":{\"gridcolor\":\"white\",\"linecolor\":\"white\",\"ticks\":\"\"},\"bgcolor\":\"#E5ECF6\",\"radialaxis\":{\"gridcolor\":\"white\",\"linecolor\":\"white\",\"ticks\":\"\"}},\"scene\":{\"xaxis\":{\"backgroundcolor\":\"#E5ECF6\",\"gridcolor\":\"white\",\"gridwidth\":2,\"linecolor\":\"white\",\"showbackground\":true,\"ticks\":\"\",\"zerolinecolor\":\"white\"},\"yaxis\":{\"backgroundcolor\":\"#E5ECF6\",\"gridcolor\":\"white\",\"gridwidth\":2,\"linecolor\":\"white\",\"showbackground\":true,\"ticks\":\"\",\"zerolinecolor\":\"white\"},\"zaxis\":{\"backgroundcolor\":\"#E5ECF6\",\"gridcolor\":\"white\",\"gridwidth\":2,\"linecolor\":\"white\",\"showbackground\":true,\"ticks\":\"\",\"zerolinecolor\":\"white\"}},\"shapedefaults\":{\"line\":{\"color\":\"#2a3f5f\"}},\"ternary\":{\"aaxis\":{\"gridcolor\":\"white\",\"linecolor\":\"white\",\"ticks\":\"\"},\"baxis\":{\"gridcolor\":\"white\",\"linecolor\":\"white\",\"ticks\":\"\"},\"bgcolor\":\"#E5ECF6\",\"caxis\":{\"gridcolor\":\"white\",\"linecolor\":\"white\",\"ticks\":\"\"}},\"title\":{\"x\":0.05},\"xaxis\":{\"automargin\":true,\"gridcolor\":\"white\",\"linecolor\":\"white\",\"ticks\":\"\",\"title\":{\"standoff\":15},\"zerolinecolor\":\"white\",\"zerolinewidth\":2},\"yaxis\":{\"automargin\":true,\"gridcolor\":\"white\",\"linecolor\":\"white\",\"ticks\":\"\",\"title\":{\"standoff\":15},\"zerolinecolor\":\"white\",\"zerolinewidth\":2}}},\"title\":{\"font\":{\"color\":\"#4D5663\"}},\"xaxis\":{\"gridcolor\":\"#E1E5ED\",\"showgrid\":true,\"tickfont\":{\"color\":\"#4D5663\"},\"title\":{\"font\":{\"color\":\"#4D5663\"},\"text\":\"\"},\"zerolinecolor\":\"#E1E5ED\"},\"yaxis\":{\"domain\":[0.3,1],\"gridcolor\":\"#E1E5ED\",\"showgrid\":true,\"tickfont\":{\"color\":\"#4D5663\"},\"title\":{\"font\":{\"color\":\"#4D5663\"},\"text\":\"\"},\"zerolinecolor\":\"#E1E5ED\"},\"yaxis2\":{\"domain\":[0,0.25],\"gridcolor\":\"#E1E5ED\",\"showgrid\":true,\"tickfont\":{\"color\":\"#4D5663\"},\"title\":{\"font\":{\"color\":\"#4D5663\"},\"text\":\"Spread\"},\"zerolinecolor\":\"#E1E5ED\"},\"xaxis2\":{\"anchor\":\"y2\",\"gridcolor\":\"#E1E5ED\",\"showgrid\":true,\"showticklabels\":false,\"tickfont\":{\"color\":\"#4D5663\"},\"title\":{\"font\":{\"color\":\"#4D5663\"},\"text\":\"\"},\"zerolinecolor\":\"#E1E5ED\"}},                        {\"showLink\": true, \"linkText\": \"Export to plot.ly\", \"plotlyServerURL\": \"https://plot.ly\", \"responsive\": true}                    ).then(function(){\n",
       "                            \n",
       "var gd = document.getElementById('fc6aaa59-9f2d-41d4-8f2b-30117ca632d4');\n",
       "var x = new MutationObserver(function (mutations, observer) {{\n",
       "        var display = window.getComputedStyle(gd).display;\n",
       "        if (!display || display === 'none') {{\n",
       "            console.log([gd, 'removed!']);\n",
       "            Plotly.purge(gd);\n",
       "            observer.disconnect();\n",
       "        }}\n",
       "}});\n",
       "\n",
       "// Listen for the removal of the full notebook cells\n",
       "var notebookContainer = gd.closest('#notebook-container');\n",
       "if (notebookContainer) {{\n",
       "    x.observe(notebookContainer, {childList: true});\n",
       "}}\n",
       "\n",
       "// Listen for the clearing of the current output cell\n",
       "var outputEl = gd.closest('.output');\n",
       "if (outputEl) {{\n",
       "    x.observe(outputEl, {childList: true});\n",
       "}}\n",
       "\n",
       "                        })                };                });            </script>        </div>"
      ]
     },
     "metadata": {},
     "output_type": "display_data"
    }
   ],
   "source": [
    "df[['A','B']].iplot(kind='spread')"
   ]
  },
  {
   "cell_type": "code",
   "execution_count": 35,
   "metadata": {},
   "outputs": [
    {
     "data": {
      "application/vnd.plotly.v1+json": {
       "config": {
        "linkText": "Export to plot.ly",
        "plotlyServerURL": "https://plot.ly",
        "showLink": true
       },
       "data": [
        {
         "marker": {
          "color": [
           "rgb(255, 153, 51)",
           "rgb(55, 128, 191)",
           "rgb(50, 171, 96)",
           "rgb(128, 0, 128)",
           "rgb(219, 64, 82)",
           "rgb(0, 128, 128)",
           "rgb(255, 255, 51)",
           "rgb(128, 128, 0)",
           "rgb(251, 128, 114)",
           "rgb(128, 177, 211)"
          ],
          "line": {
           "width": 1.3
          },
          "size": [
           45,
           18,
           55,
           40,
           52,
           38,
           49,
           64,
           67,
           43,
           61,
           34,
           28,
           49,
           50,
           91,
           56,
           57,
           58,
           48,
           38,
           12,
           64,
           37,
           35,
           27,
           77,
           67,
           61,
           56,
           71,
           58,
           49,
           60,
           25,
           33,
           63,
           74,
           54,
           37,
           76,
           70,
           47,
           56,
           54,
           21,
           30,
           48,
           30,
           44,
           36,
           80,
           54,
           38,
           91,
           51,
           68,
           50,
           47,
           46,
           48,
           42,
           82,
           68,
           46,
           54,
           66,
           47,
           52,
           47,
           58,
           59,
           81,
           47,
           50,
           50,
           67,
           68,
           44,
           49,
           112,
           50,
           31,
           55,
           73,
           56,
           77,
           60,
           62,
           91,
           45,
           78,
           59,
           70,
           40,
           73,
           43,
           50,
           59,
           76
          ],
          "symbol": "circle"
         },
         "mode": "markers",
         "text": "",
         "type": "scatter",
         "x": [
          0.40534718238775297,
          0.4618384364241935,
          0.24801495362386689,
          -0.20275965105180163,
          0.09894775497959721,
          0.6599246788548914,
          0.8438472586319632,
          0.014204738168655967,
          -1.0523175976673647,
          -0.33916820542896847,
          -1.661959469597001,
          0.012685600171485036,
          -0.4789785319016016,
          1.0084397271213716,
          0.5939225191331639,
          -1.095553489611045,
          -0.18951102092657343,
          -0.7485311039793072,
          -0.430464829191035,
          -0.7631277171679673,
          0.36148744061730415,
          0.07563251615586787,
          -1.8860291881983393,
          1.830146264431817,
          1.5261693945209298,
          0.16291324267842877,
          -0.8262337273807737,
          -0.5517585324681692,
          0.345803414065465,
          -1.4703487784808873,
          -0.42067931889214644,
          -0.13166190696965407,
          1.123577676117159,
          1.1810238810798508,
          1.660312792380613,
          0.5051805618852068,
          0.17556028099014473,
          -0.5494279945135929,
          -0.054740206493713695,
          -0.2168076326530869,
          -0.851789995700195,
          1.8015449616578993,
          -1.4170720382865047,
          0.8735331849938913,
          -1.1093059122024311,
          -0.4904870041875731,
          0.024771903075371624,
          -0.14604266902562074,
          -0.1804877739615316,
          -0.26801124668195686,
          0.6532291709068574,
          0.9495574584417534,
          -1.531778149170353,
          1.5890221761187682,
          0.980982056724215,
          -1.3218991841523904,
          -0.7748649079913962,
          0.4742698276888825,
          -0.0020455685397476487,
          1.8920574153876382,
          -0.22893685140438824,
          -0.6971595344536778,
          -1.7688603238410823,
          0.06128443693784288,
          -0.360684189084469,
          -0.4533831065070736,
          1.1124492419990712,
          -0.14284110930219396,
          0.583799577696767,
          0.4763961235399069,
          0.888486188632068,
          1.1547065346517043,
          -0.06266321573539217,
          1.2614886864066421,
          -0.2713660149998362,
          -0.564030478976412,
          -0.36032635768443194,
          -1.386122960420082,
          0.6497222345182069,
          0.4073214610955935,
          1.1951054678585589,
          1.1462194285806422,
          0.3839065700825093,
          0.02158569664438489,
          -0.31607498419747876,
          1.2258170818043679,
          1.5403849676974233,
          -1.2793493722883689,
          1.4546677261348309,
          0.8853740095330099,
          -0.27871528402228496,
          -0.45790415202886203,
          0.6078800386133114,
          0.2619094555525887,
          -0.9359554761132841,
          -1.310045647360763,
          0.8639954189862001,
          -0.17319697866189304,
          -0.23456567552557125,
          0.39507788382193987
         ],
         "y": [
          1.022485686609692,
          -0.2991330376533287,
          -0.63888610969383,
          -0.8833750002612436,
          -0.4078861332958796,
          0.4799082532464347,
          -1.357274840799496,
          0.19810773620278088,
          -0.19783074771131168,
          0.692818817496382,
          0.23191266266703442,
          -0.39355437747570005,
          0.5447687622016464,
          -0.14091375476541995,
          -0.22769161270345697,
          0.8588915764933582,
          -0.6783986928331065,
          0.8211036067421712,
          0.25817266001630773,
          0.14799711696746098,
          0.05927620745292284,
          -0.36267230950085433,
          1.2593028653582603,
          -1.0007777217527574,
          1.2282436874541525,
          -0.12769887512315786,
          1.7030143913579163,
          -1.0020872605347468,
          0.3195560424142498,
          0.15240321418665187,
          -1.5797861553236705,
          -0.3739313200333769,
          2.6021110509168666,
          -1.4471100938515242,
          -0.22318666138188153,
          0.47553906694810044,
          -1.1809472376756547,
          1.6162460221607278,
          -0.30331773033449044,
          -0.13182156682787596,
          1.4149621524860898,
          -0.9530259792261948,
          0.2742169032926556,
          -0.046045542434082556,
          0.634280138667863,
          -0.44208708609224245,
          0.6918129090202446,
          0.18012353082972507,
          -0.03975756365095694,
          -0.4035085758608769,
          -1.7585817100788126,
          -0.2996635985622194,
          -0.08613466026216665,
          1.3407846486700787,
          -1.2852375040247463,
          0.9426548906856975,
          -0.4237478485145406,
          -0.9875258770195806,
          0.8492892915359607,
          0.8623233408981996,
          -0.6444147916046757,
          0.1078678343079182,
          -0.9875734437892321,
          1.291562887565866,
          -0.8904951305931562,
          -1.7911999540279506,
          0.8759961030601735,
          0.2747985052742041,
          -0.20212363160084537,
          1.9519926300458057,
          1.2228922969535314,
          1.2775425993797307,
          -0.033907857353057,
          -1.1269326593789921,
          -0.35613822482803065,
          -0.3269080347457746,
          1.4592243810701002,
          -0.20686257323796692,
          -0.09616636678433634,
          1.2419410065257095,
          1.3048143207669025,
          -0.2980538960987875,
          1.3781856734829458,
          1.272172464631937,
          -0.3472494847742187,
          -0.010538336780892818,
          -0.16183176257636525,
          0.10152373504878527,
          -1.8653899621822374,
          -0.9683998654059663,
          -0.779130702347315,
          1.6202962931960625,
          -0.4690630803098864,
          0.024481735873536713,
          0.5510679505159154,
          -1.4104672378985652,
          0.5669444261650838,
          -1.350048904489357,
          0.6109803903416247,
          1.311724539759251
         ]
        }
       ],
       "layout": {
        "legend": {
         "bgcolor": "#F5F6F9",
         "font": {
          "color": "#4D5663"
         }
        },
        "paper_bgcolor": "#F5F6F9",
        "plot_bgcolor": "#F5F6F9",
        "template": {
         "data": {
          "bar": [
           {
            "error_x": {
             "color": "#2a3f5f"
            },
            "error_y": {
             "color": "#2a3f5f"
            },
            "marker": {
             "line": {
              "color": "#E5ECF6",
              "width": 0.5
             },
             "pattern": {
              "fillmode": "overlay",
              "size": 10,
              "solidity": 0.2
             }
            },
            "type": "bar"
           }
          ],
          "barpolar": [
           {
            "marker": {
             "line": {
              "color": "#E5ECF6",
              "width": 0.5
             },
             "pattern": {
              "fillmode": "overlay",
              "size": 10,
              "solidity": 0.2
             }
            },
            "type": "barpolar"
           }
          ],
          "carpet": [
           {
            "aaxis": {
             "endlinecolor": "#2a3f5f",
             "gridcolor": "white",
             "linecolor": "white",
             "minorgridcolor": "white",
             "startlinecolor": "#2a3f5f"
            },
            "baxis": {
             "endlinecolor": "#2a3f5f",
             "gridcolor": "white",
             "linecolor": "white",
             "minorgridcolor": "white",
             "startlinecolor": "#2a3f5f"
            },
            "type": "carpet"
           }
          ],
          "choropleth": [
           {
            "colorbar": {
             "outlinewidth": 0,
             "ticks": ""
            },
            "type": "choropleth"
           }
          ],
          "contour": [
           {
            "colorbar": {
             "outlinewidth": 0,
             "ticks": ""
            },
            "colorscale": [
             [
              0,
              "#0d0887"
             ],
             [
              0.1111111111111111,
              "#46039f"
             ],
             [
              0.2222222222222222,
              "#7201a8"
             ],
             [
              0.3333333333333333,
              "#9c179e"
             ],
             [
              0.4444444444444444,
              "#bd3786"
             ],
             [
              0.5555555555555556,
              "#d8576b"
             ],
             [
              0.6666666666666666,
              "#ed7953"
             ],
             [
              0.7777777777777778,
              "#fb9f3a"
             ],
             [
              0.8888888888888888,
              "#fdca26"
             ],
             [
              1,
              "#f0f921"
             ]
            ],
            "type": "contour"
           }
          ],
          "contourcarpet": [
           {
            "colorbar": {
             "outlinewidth": 0,
             "ticks": ""
            },
            "type": "contourcarpet"
           }
          ],
          "heatmap": [
           {
            "colorbar": {
             "outlinewidth": 0,
             "ticks": ""
            },
            "colorscale": [
             [
              0,
              "#0d0887"
             ],
             [
              0.1111111111111111,
              "#46039f"
             ],
             [
              0.2222222222222222,
              "#7201a8"
             ],
             [
              0.3333333333333333,
              "#9c179e"
             ],
             [
              0.4444444444444444,
              "#bd3786"
             ],
             [
              0.5555555555555556,
              "#d8576b"
             ],
             [
              0.6666666666666666,
              "#ed7953"
             ],
             [
              0.7777777777777778,
              "#fb9f3a"
             ],
             [
              0.8888888888888888,
              "#fdca26"
             ],
             [
              1,
              "#f0f921"
             ]
            ],
            "type": "heatmap"
           }
          ],
          "heatmapgl": [
           {
            "colorbar": {
             "outlinewidth": 0,
             "ticks": ""
            },
            "colorscale": [
             [
              0,
              "#0d0887"
             ],
             [
              0.1111111111111111,
              "#46039f"
             ],
             [
              0.2222222222222222,
              "#7201a8"
             ],
             [
              0.3333333333333333,
              "#9c179e"
             ],
             [
              0.4444444444444444,
              "#bd3786"
             ],
             [
              0.5555555555555556,
              "#d8576b"
             ],
             [
              0.6666666666666666,
              "#ed7953"
             ],
             [
              0.7777777777777778,
              "#fb9f3a"
             ],
             [
              0.8888888888888888,
              "#fdca26"
             ],
             [
              1,
              "#f0f921"
             ]
            ],
            "type": "heatmapgl"
           }
          ],
          "histogram": [
           {
            "marker": {
             "pattern": {
              "fillmode": "overlay",
              "size": 10,
              "solidity": 0.2
             }
            },
            "type": "histogram"
           }
          ],
          "histogram2d": [
           {
            "colorbar": {
             "outlinewidth": 0,
             "ticks": ""
            },
            "colorscale": [
             [
              0,
              "#0d0887"
             ],
             [
              0.1111111111111111,
              "#46039f"
             ],
             [
              0.2222222222222222,
              "#7201a8"
             ],
             [
              0.3333333333333333,
              "#9c179e"
             ],
             [
              0.4444444444444444,
              "#bd3786"
             ],
             [
              0.5555555555555556,
              "#d8576b"
             ],
             [
              0.6666666666666666,
              "#ed7953"
             ],
             [
              0.7777777777777778,
              "#fb9f3a"
             ],
             [
              0.8888888888888888,
              "#fdca26"
             ],
             [
              1,
              "#f0f921"
             ]
            ],
            "type": "histogram2d"
           }
          ],
          "histogram2dcontour": [
           {
            "colorbar": {
             "outlinewidth": 0,
             "ticks": ""
            },
            "colorscale": [
             [
              0,
              "#0d0887"
             ],
             [
              0.1111111111111111,
              "#46039f"
             ],
             [
              0.2222222222222222,
              "#7201a8"
             ],
             [
              0.3333333333333333,
              "#9c179e"
             ],
             [
              0.4444444444444444,
              "#bd3786"
             ],
             [
              0.5555555555555556,
              "#d8576b"
             ],
             [
              0.6666666666666666,
              "#ed7953"
             ],
             [
              0.7777777777777778,
              "#fb9f3a"
             ],
             [
              0.8888888888888888,
              "#fdca26"
             ],
             [
              1,
              "#f0f921"
             ]
            ],
            "type": "histogram2dcontour"
           }
          ],
          "mesh3d": [
           {
            "colorbar": {
             "outlinewidth": 0,
             "ticks": ""
            },
            "type": "mesh3d"
           }
          ],
          "parcoords": [
           {
            "line": {
             "colorbar": {
              "outlinewidth": 0,
              "ticks": ""
             }
            },
            "type": "parcoords"
           }
          ],
          "pie": [
           {
            "automargin": true,
            "type": "pie"
           }
          ],
          "scatter": [
           {
            "fillpattern": {
             "fillmode": "overlay",
             "size": 10,
             "solidity": 0.2
            },
            "type": "scatter"
           }
          ],
          "scatter3d": [
           {
            "line": {
             "colorbar": {
              "outlinewidth": 0,
              "ticks": ""
             }
            },
            "marker": {
             "colorbar": {
              "outlinewidth": 0,
              "ticks": ""
             }
            },
            "type": "scatter3d"
           }
          ],
          "scattercarpet": [
           {
            "marker": {
             "colorbar": {
              "outlinewidth": 0,
              "ticks": ""
             }
            },
            "type": "scattercarpet"
           }
          ],
          "scattergeo": [
           {
            "marker": {
             "colorbar": {
              "outlinewidth": 0,
              "ticks": ""
             }
            },
            "type": "scattergeo"
           }
          ],
          "scattergl": [
           {
            "marker": {
             "colorbar": {
              "outlinewidth": 0,
              "ticks": ""
             }
            },
            "type": "scattergl"
           }
          ],
          "scattermapbox": [
           {
            "marker": {
             "colorbar": {
              "outlinewidth": 0,
              "ticks": ""
             }
            },
            "type": "scattermapbox"
           }
          ],
          "scatterpolar": [
           {
            "marker": {
             "colorbar": {
              "outlinewidth": 0,
              "ticks": ""
             }
            },
            "type": "scatterpolar"
           }
          ],
          "scatterpolargl": [
           {
            "marker": {
             "colorbar": {
              "outlinewidth": 0,
              "ticks": ""
             }
            },
            "type": "scatterpolargl"
           }
          ],
          "scatterternary": [
           {
            "marker": {
             "colorbar": {
              "outlinewidth": 0,
              "ticks": ""
             }
            },
            "type": "scatterternary"
           }
          ],
          "surface": [
           {
            "colorbar": {
             "outlinewidth": 0,
             "ticks": ""
            },
            "colorscale": [
             [
              0,
              "#0d0887"
             ],
             [
              0.1111111111111111,
              "#46039f"
             ],
             [
              0.2222222222222222,
              "#7201a8"
             ],
             [
              0.3333333333333333,
              "#9c179e"
             ],
             [
              0.4444444444444444,
              "#bd3786"
             ],
             [
              0.5555555555555556,
              "#d8576b"
             ],
             [
              0.6666666666666666,
              "#ed7953"
             ],
             [
              0.7777777777777778,
              "#fb9f3a"
             ],
             [
              0.8888888888888888,
              "#fdca26"
             ],
             [
              1,
              "#f0f921"
             ]
            ],
            "type": "surface"
           }
          ],
          "table": [
           {
            "cells": {
             "fill": {
              "color": "#EBF0F8"
             },
             "line": {
              "color": "white"
             }
            },
            "header": {
             "fill": {
              "color": "#C8D4E3"
             },
             "line": {
              "color": "white"
             }
            },
            "type": "table"
           }
          ]
         },
         "layout": {
          "annotationdefaults": {
           "arrowcolor": "#2a3f5f",
           "arrowhead": 0,
           "arrowwidth": 1
          },
          "autotypenumbers": "strict",
          "coloraxis": {
           "colorbar": {
            "outlinewidth": 0,
            "ticks": ""
           }
          },
          "colorscale": {
           "diverging": [
            [
             0,
             "#8e0152"
            ],
            [
             0.1,
             "#c51b7d"
            ],
            [
             0.2,
             "#de77ae"
            ],
            [
             0.3,
             "#f1b6da"
            ],
            [
             0.4,
             "#fde0ef"
            ],
            [
             0.5,
             "#f7f7f7"
            ],
            [
             0.6,
             "#e6f5d0"
            ],
            [
             0.7,
             "#b8e186"
            ],
            [
             0.8,
             "#7fbc41"
            ],
            [
             0.9,
             "#4d9221"
            ],
            [
             1,
             "#276419"
            ]
           ],
           "sequential": [
            [
             0,
             "#0d0887"
            ],
            [
             0.1111111111111111,
             "#46039f"
            ],
            [
             0.2222222222222222,
             "#7201a8"
            ],
            [
             0.3333333333333333,
             "#9c179e"
            ],
            [
             0.4444444444444444,
             "#bd3786"
            ],
            [
             0.5555555555555556,
             "#d8576b"
            ],
            [
             0.6666666666666666,
             "#ed7953"
            ],
            [
             0.7777777777777778,
             "#fb9f3a"
            ],
            [
             0.8888888888888888,
             "#fdca26"
            ],
            [
             1,
             "#f0f921"
            ]
           ],
           "sequentialminus": [
            [
             0,
             "#0d0887"
            ],
            [
             0.1111111111111111,
             "#46039f"
            ],
            [
             0.2222222222222222,
             "#7201a8"
            ],
            [
             0.3333333333333333,
             "#9c179e"
            ],
            [
             0.4444444444444444,
             "#bd3786"
            ],
            [
             0.5555555555555556,
             "#d8576b"
            ],
            [
             0.6666666666666666,
             "#ed7953"
            ],
            [
             0.7777777777777778,
             "#fb9f3a"
            ],
            [
             0.8888888888888888,
             "#fdca26"
            ],
            [
             1,
             "#f0f921"
            ]
           ]
          },
          "colorway": [
           "#636efa",
           "#EF553B",
           "#00cc96",
           "#ab63fa",
           "#FFA15A",
           "#19d3f3",
           "#FF6692",
           "#B6E880",
           "#FF97FF",
           "#FECB52"
          ],
          "font": {
           "color": "#2a3f5f"
          },
          "geo": {
           "bgcolor": "white",
           "lakecolor": "white",
           "landcolor": "#E5ECF6",
           "showlakes": true,
           "showland": true,
           "subunitcolor": "white"
          },
          "hoverlabel": {
           "align": "left"
          },
          "hovermode": "closest",
          "mapbox": {
           "style": "light"
          },
          "paper_bgcolor": "white",
          "plot_bgcolor": "#E5ECF6",
          "polar": {
           "angularaxis": {
            "gridcolor": "white",
            "linecolor": "white",
            "ticks": ""
           },
           "bgcolor": "#E5ECF6",
           "radialaxis": {
            "gridcolor": "white",
            "linecolor": "white",
            "ticks": ""
           }
          },
          "scene": {
           "xaxis": {
            "backgroundcolor": "#E5ECF6",
            "gridcolor": "white",
            "gridwidth": 2,
            "linecolor": "white",
            "showbackground": true,
            "ticks": "",
            "zerolinecolor": "white"
           },
           "yaxis": {
            "backgroundcolor": "#E5ECF6",
            "gridcolor": "white",
            "gridwidth": 2,
            "linecolor": "white",
            "showbackground": true,
            "ticks": "",
            "zerolinecolor": "white"
           },
           "zaxis": {
            "backgroundcolor": "#E5ECF6",
            "gridcolor": "white",
            "gridwidth": 2,
            "linecolor": "white",
            "showbackground": true,
            "ticks": "",
            "zerolinecolor": "white"
           }
          },
          "shapedefaults": {
           "line": {
            "color": "#2a3f5f"
           }
          },
          "ternary": {
           "aaxis": {
            "gridcolor": "white",
            "linecolor": "white",
            "ticks": ""
           },
           "baxis": {
            "gridcolor": "white",
            "linecolor": "white",
            "ticks": ""
           },
           "bgcolor": "#E5ECF6",
           "caxis": {
            "gridcolor": "white",
            "linecolor": "white",
            "ticks": ""
           }
          },
          "title": {
           "x": 0.05
          },
          "xaxis": {
           "automargin": true,
           "gridcolor": "white",
           "linecolor": "white",
           "ticks": "",
           "title": {
            "standoff": 15
           },
           "zerolinecolor": "white",
           "zerolinewidth": 2
          },
          "yaxis": {
           "automargin": true,
           "gridcolor": "white",
           "linecolor": "white",
           "ticks": "",
           "title": {
            "standoff": 15
           },
           "zerolinecolor": "white",
           "zerolinewidth": 2
          }
         }
        },
        "title": {
         "font": {
          "color": "#4D5663"
         }
        },
        "xaxis": {
         "gridcolor": "#E1E5ED",
         "showgrid": true,
         "tickfont": {
          "color": "#4D5663"
         },
         "title": {
          "font": {
           "color": "#4D5663"
          },
          "text": ""
         },
         "zerolinecolor": "#E1E5ED"
        },
        "yaxis": {
         "gridcolor": "#E1E5ED",
         "showgrid": true,
         "tickfont": {
          "color": "#4D5663"
         },
         "title": {
          "font": {
           "color": "#4D5663"
          },
          "text": ""
         },
         "zerolinecolor": "#E1E5ED"
        }
       }
      },
      "text/html": [
       "<div>                            <div id=\"d1266164-14cf-48f1-b0f4-bf03437b5403\" class=\"plotly-graph-div\" style=\"height:525px; width:100%;\"></div>            <script type=\"text/javascript\">                require([\"plotly\"], function(Plotly) {                    window.PLOTLYENV=window.PLOTLYENV || {};\n",
       "                    window.PLOTLYENV.BASE_URL='https://plot.ly';                                    if (document.getElementById(\"d1266164-14cf-48f1-b0f4-bf03437b5403\")) {                    Plotly.newPlot(                        \"d1266164-14cf-48f1-b0f4-bf03437b5403\",                        [{\"marker\":{\"color\":[\"rgb(255, 153, 51)\",\"rgb(55, 128, 191)\",\"rgb(50, 171, 96)\",\"rgb(128, 0, 128)\",\"rgb(219, 64, 82)\",\"rgb(0, 128, 128)\",\"rgb(255, 255, 51)\",\"rgb(128, 128, 0)\",\"rgb(251, 128, 114)\",\"rgb(128, 177, 211)\"],\"line\":{\"width\":1.3},\"size\":[45,18,55,40,52,38,49,64,67,43,61,34,28,49,50,91,56,57,58,48,38,12,64,37,35,27,77,67,61,56,71,58,49,60,25,33,63,74,54,37,76,70,47,56,54,21,30,48,30,44,36,80,54,38,91,51,68,50,47,46,48,42,82,68,46,54,66,47,52,47,58,59,81,47,50,50,67,68,44,49,112,50,31,55,73,56,77,60,62,91,45,78,59,70,40,73,43,50,59,76],\"symbol\":\"circle\"},\"mode\":\"markers\",\"text\":\"\",\"x\":[0.40534718238775297,0.4618384364241935,0.24801495362386689,-0.20275965105180163,0.09894775497959721,0.6599246788548914,0.8438472586319632,0.014204738168655967,-1.0523175976673647,-0.33916820542896847,-1.661959469597001,0.012685600171485036,-0.4789785319016016,1.0084397271213716,0.5939225191331639,-1.095553489611045,-0.18951102092657343,-0.7485311039793072,-0.430464829191035,-0.7631277171679673,0.36148744061730415,0.07563251615586787,-1.8860291881983393,1.830146264431817,1.5261693945209298,0.16291324267842877,-0.8262337273807737,-0.5517585324681692,0.345803414065465,-1.4703487784808873,-0.42067931889214644,-0.13166190696965407,1.123577676117159,1.1810238810798508,1.660312792380613,0.5051805618852068,0.17556028099014473,-0.5494279945135929,-0.054740206493713695,-0.2168076326530869,-0.851789995700195,1.8015449616578993,-1.4170720382865047,0.8735331849938913,-1.1093059122024311,-0.4904870041875731,0.024771903075371624,-0.14604266902562074,-0.1804877739615316,-0.26801124668195686,0.6532291709068574,0.9495574584417534,-1.531778149170353,1.5890221761187682,0.980982056724215,-1.3218991841523904,-0.7748649079913962,0.4742698276888825,-0.0020455685397476487,1.8920574153876382,-0.22893685140438824,-0.6971595344536778,-1.7688603238410823,0.06128443693784288,-0.360684189084469,-0.4533831065070736,1.1124492419990712,-0.14284110930219396,0.583799577696767,0.4763961235399069,0.888486188632068,1.1547065346517043,-0.06266321573539217,1.2614886864066421,-0.2713660149998362,-0.564030478976412,-0.36032635768443194,-1.386122960420082,0.6497222345182069,0.4073214610955935,1.1951054678585589,1.1462194285806422,0.3839065700825093,0.02158569664438489,-0.31607498419747876,1.2258170818043679,1.5403849676974233,-1.2793493722883689,1.4546677261348309,0.8853740095330099,-0.27871528402228496,-0.45790415202886203,0.6078800386133114,0.2619094555525887,-0.9359554761132841,-1.310045647360763,0.8639954189862001,-0.17319697866189304,-0.23456567552557125,0.39507788382193987],\"y\":[1.022485686609692,-0.2991330376533287,-0.63888610969383,-0.8833750002612436,-0.4078861332958796,0.4799082532464347,-1.357274840799496,0.19810773620278088,-0.19783074771131168,0.692818817496382,0.23191266266703442,-0.39355437747570005,0.5447687622016464,-0.14091375476541995,-0.22769161270345697,0.8588915764933582,-0.6783986928331065,0.8211036067421712,0.25817266001630773,0.14799711696746098,0.05927620745292284,-0.36267230950085433,1.2593028653582603,-1.0007777217527574,1.2282436874541525,-0.12769887512315786,1.7030143913579163,-1.0020872605347468,0.3195560424142498,0.15240321418665187,-1.5797861553236705,-0.3739313200333769,2.6021110509168666,-1.4471100938515242,-0.22318666138188153,0.47553906694810044,-1.1809472376756547,1.6162460221607278,-0.30331773033449044,-0.13182156682787596,1.4149621524860898,-0.9530259792261948,0.2742169032926556,-0.046045542434082556,0.634280138667863,-0.44208708609224245,0.6918129090202446,0.18012353082972507,-0.03975756365095694,-0.4035085758608769,-1.7585817100788126,-0.2996635985622194,-0.08613466026216665,1.3407846486700787,-1.2852375040247463,0.9426548906856975,-0.4237478485145406,-0.9875258770195806,0.8492892915359607,0.8623233408981996,-0.6444147916046757,0.1078678343079182,-0.9875734437892321,1.291562887565866,-0.8904951305931562,-1.7911999540279506,0.8759961030601735,0.2747985052742041,-0.20212363160084537,1.9519926300458057,1.2228922969535314,1.2775425993797307,-0.033907857353057,-1.1269326593789921,-0.35613822482803065,-0.3269080347457746,1.4592243810701002,-0.20686257323796692,-0.09616636678433634,1.2419410065257095,1.3048143207669025,-0.2980538960987875,1.3781856734829458,1.272172464631937,-0.3472494847742187,-0.010538336780892818,-0.16183176257636525,0.10152373504878527,-1.8653899621822374,-0.9683998654059663,-0.779130702347315,1.6202962931960625,-0.4690630803098864,0.024481735873536713,0.5510679505159154,-1.4104672378985652,0.5669444261650838,-1.350048904489357,0.6109803903416247,1.311724539759251],\"type\":\"scatter\"}],                        {\"legend\":{\"bgcolor\":\"#F5F6F9\",\"font\":{\"color\":\"#4D5663\"}},\"paper_bgcolor\":\"#F5F6F9\",\"plot_bgcolor\":\"#F5F6F9\",\"template\":{\"data\":{\"barpolar\":[{\"marker\":{\"line\":{\"color\":\"#E5ECF6\",\"width\":0.5},\"pattern\":{\"fillmode\":\"overlay\",\"size\":10,\"solidity\":0.2}},\"type\":\"barpolar\"}],\"bar\":[{\"error_x\":{\"color\":\"#2a3f5f\"},\"error_y\":{\"color\":\"#2a3f5f\"},\"marker\":{\"line\":{\"color\":\"#E5ECF6\",\"width\":0.5},\"pattern\":{\"fillmode\":\"overlay\",\"size\":10,\"solidity\":0.2}},\"type\":\"bar\"}],\"carpet\":[{\"aaxis\":{\"endlinecolor\":\"#2a3f5f\",\"gridcolor\":\"white\",\"linecolor\":\"white\",\"minorgridcolor\":\"white\",\"startlinecolor\":\"#2a3f5f\"},\"baxis\":{\"endlinecolor\":\"#2a3f5f\",\"gridcolor\":\"white\",\"linecolor\":\"white\",\"minorgridcolor\":\"white\",\"startlinecolor\":\"#2a3f5f\"},\"type\":\"carpet\"}],\"choropleth\":[{\"colorbar\":{\"outlinewidth\":0,\"ticks\":\"\"},\"type\":\"choropleth\"}],\"contourcarpet\":[{\"colorbar\":{\"outlinewidth\":0,\"ticks\":\"\"},\"type\":\"contourcarpet\"}],\"contour\":[{\"colorbar\":{\"outlinewidth\":0,\"ticks\":\"\"},\"colorscale\":[[0.0,\"#0d0887\"],[0.1111111111111111,\"#46039f\"],[0.2222222222222222,\"#7201a8\"],[0.3333333333333333,\"#9c179e\"],[0.4444444444444444,\"#bd3786\"],[0.5555555555555556,\"#d8576b\"],[0.6666666666666666,\"#ed7953\"],[0.7777777777777778,\"#fb9f3a\"],[0.8888888888888888,\"#fdca26\"],[1.0,\"#f0f921\"]],\"type\":\"contour\"}],\"heatmapgl\":[{\"colorbar\":{\"outlinewidth\":0,\"ticks\":\"\"},\"colorscale\":[[0.0,\"#0d0887\"],[0.1111111111111111,\"#46039f\"],[0.2222222222222222,\"#7201a8\"],[0.3333333333333333,\"#9c179e\"],[0.4444444444444444,\"#bd3786\"],[0.5555555555555556,\"#d8576b\"],[0.6666666666666666,\"#ed7953\"],[0.7777777777777778,\"#fb9f3a\"],[0.8888888888888888,\"#fdca26\"],[1.0,\"#f0f921\"]],\"type\":\"heatmapgl\"}],\"heatmap\":[{\"colorbar\":{\"outlinewidth\":0,\"ticks\":\"\"},\"colorscale\":[[0.0,\"#0d0887\"],[0.1111111111111111,\"#46039f\"],[0.2222222222222222,\"#7201a8\"],[0.3333333333333333,\"#9c179e\"],[0.4444444444444444,\"#bd3786\"],[0.5555555555555556,\"#d8576b\"],[0.6666666666666666,\"#ed7953\"],[0.7777777777777778,\"#fb9f3a\"],[0.8888888888888888,\"#fdca26\"],[1.0,\"#f0f921\"]],\"type\":\"heatmap\"}],\"histogram2dcontour\":[{\"colorbar\":{\"outlinewidth\":0,\"ticks\":\"\"},\"colorscale\":[[0.0,\"#0d0887\"],[0.1111111111111111,\"#46039f\"],[0.2222222222222222,\"#7201a8\"],[0.3333333333333333,\"#9c179e\"],[0.4444444444444444,\"#bd3786\"],[0.5555555555555556,\"#d8576b\"],[0.6666666666666666,\"#ed7953\"],[0.7777777777777778,\"#fb9f3a\"],[0.8888888888888888,\"#fdca26\"],[1.0,\"#f0f921\"]],\"type\":\"histogram2dcontour\"}],\"histogram2d\":[{\"colorbar\":{\"outlinewidth\":0,\"ticks\":\"\"},\"colorscale\":[[0.0,\"#0d0887\"],[0.1111111111111111,\"#46039f\"],[0.2222222222222222,\"#7201a8\"],[0.3333333333333333,\"#9c179e\"],[0.4444444444444444,\"#bd3786\"],[0.5555555555555556,\"#d8576b\"],[0.6666666666666666,\"#ed7953\"],[0.7777777777777778,\"#fb9f3a\"],[0.8888888888888888,\"#fdca26\"],[1.0,\"#f0f921\"]],\"type\":\"histogram2d\"}],\"histogram\":[{\"marker\":{\"pattern\":{\"fillmode\":\"overlay\",\"size\":10,\"solidity\":0.2}},\"type\":\"histogram\"}],\"mesh3d\":[{\"colorbar\":{\"outlinewidth\":0,\"ticks\":\"\"},\"type\":\"mesh3d\"}],\"parcoords\":[{\"line\":{\"colorbar\":{\"outlinewidth\":0,\"ticks\":\"\"}},\"type\":\"parcoords\"}],\"pie\":[{\"automargin\":true,\"type\":\"pie\"}],\"scatter3d\":[{\"line\":{\"colorbar\":{\"outlinewidth\":0,\"ticks\":\"\"}},\"marker\":{\"colorbar\":{\"outlinewidth\":0,\"ticks\":\"\"}},\"type\":\"scatter3d\"}],\"scattercarpet\":[{\"marker\":{\"colorbar\":{\"outlinewidth\":0,\"ticks\":\"\"}},\"type\":\"scattercarpet\"}],\"scattergeo\":[{\"marker\":{\"colorbar\":{\"outlinewidth\":0,\"ticks\":\"\"}},\"type\":\"scattergeo\"}],\"scattergl\":[{\"marker\":{\"colorbar\":{\"outlinewidth\":0,\"ticks\":\"\"}},\"type\":\"scattergl\"}],\"scattermapbox\":[{\"marker\":{\"colorbar\":{\"outlinewidth\":0,\"ticks\":\"\"}},\"type\":\"scattermapbox\"}],\"scatterpolargl\":[{\"marker\":{\"colorbar\":{\"outlinewidth\":0,\"ticks\":\"\"}},\"type\":\"scatterpolargl\"}],\"scatterpolar\":[{\"marker\":{\"colorbar\":{\"outlinewidth\":0,\"ticks\":\"\"}},\"type\":\"scatterpolar\"}],\"scatter\":[{\"fillpattern\":{\"fillmode\":\"overlay\",\"size\":10,\"solidity\":0.2},\"type\":\"scatter\"}],\"scatterternary\":[{\"marker\":{\"colorbar\":{\"outlinewidth\":0,\"ticks\":\"\"}},\"type\":\"scatterternary\"}],\"surface\":[{\"colorbar\":{\"outlinewidth\":0,\"ticks\":\"\"},\"colorscale\":[[0.0,\"#0d0887\"],[0.1111111111111111,\"#46039f\"],[0.2222222222222222,\"#7201a8\"],[0.3333333333333333,\"#9c179e\"],[0.4444444444444444,\"#bd3786\"],[0.5555555555555556,\"#d8576b\"],[0.6666666666666666,\"#ed7953\"],[0.7777777777777778,\"#fb9f3a\"],[0.8888888888888888,\"#fdca26\"],[1.0,\"#f0f921\"]],\"type\":\"surface\"}],\"table\":[{\"cells\":{\"fill\":{\"color\":\"#EBF0F8\"},\"line\":{\"color\":\"white\"}},\"header\":{\"fill\":{\"color\":\"#C8D4E3\"},\"line\":{\"color\":\"white\"}},\"type\":\"table\"}]},\"layout\":{\"annotationdefaults\":{\"arrowcolor\":\"#2a3f5f\",\"arrowhead\":0,\"arrowwidth\":1},\"autotypenumbers\":\"strict\",\"coloraxis\":{\"colorbar\":{\"outlinewidth\":0,\"ticks\":\"\"}},\"colorscale\":{\"diverging\":[[0,\"#8e0152\"],[0.1,\"#c51b7d\"],[0.2,\"#de77ae\"],[0.3,\"#f1b6da\"],[0.4,\"#fde0ef\"],[0.5,\"#f7f7f7\"],[0.6,\"#e6f5d0\"],[0.7,\"#b8e186\"],[0.8,\"#7fbc41\"],[0.9,\"#4d9221\"],[1,\"#276419\"]],\"sequential\":[[0.0,\"#0d0887\"],[0.1111111111111111,\"#46039f\"],[0.2222222222222222,\"#7201a8\"],[0.3333333333333333,\"#9c179e\"],[0.4444444444444444,\"#bd3786\"],[0.5555555555555556,\"#d8576b\"],[0.6666666666666666,\"#ed7953\"],[0.7777777777777778,\"#fb9f3a\"],[0.8888888888888888,\"#fdca26\"],[1.0,\"#f0f921\"]],\"sequentialminus\":[[0.0,\"#0d0887\"],[0.1111111111111111,\"#46039f\"],[0.2222222222222222,\"#7201a8\"],[0.3333333333333333,\"#9c179e\"],[0.4444444444444444,\"#bd3786\"],[0.5555555555555556,\"#d8576b\"],[0.6666666666666666,\"#ed7953\"],[0.7777777777777778,\"#fb9f3a\"],[0.8888888888888888,\"#fdca26\"],[1.0,\"#f0f921\"]]},\"colorway\":[\"#636efa\",\"#EF553B\",\"#00cc96\",\"#ab63fa\",\"#FFA15A\",\"#19d3f3\",\"#FF6692\",\"#B6E880\",\"#FF97FF\",\"#FECB52\"],\"font\":{\"color\":\"#2a3f5f\"},\"geo\":{\"bgcolor\":\"white\",\"lakecolor\":\"white\",\"landcolor\":\"#E5ECF6\",\"showlakes\":true,\"showland\":true,\"subunitcolor\":\"white\"},\"hoverlabel\":{\"align\":\"left\"},\"hovermode\":\"closest\",\"mapbox\":{\"style\":\"light\"},\"paper_bgcolor\":\"white\",\"plot_bgcolor\":\"#E5ECF6\",\"polar\":{\"angularaxis\":{\"gridcolor\":\"white\",\"linecolor\":\"white\",\"ticks\":\"\"},\"bgcolor\":\"#E5ECF6\",\"radialaxis\":{\"gridcolor\":\"white\",\"linecolor\":\"white\",\"ticks\":\"\"}},\"scene\":{\"xaxis\":{\"backgroundcolor\":\"#E5ECF6\",\"gridcolor\":\"white\",\"gridwidth\":2,\"linecolor\":\"white\",\"showbackground\":true,\"ticks\":\"\",\"zerolinecolor\":\"white\"},\"yaxis\":{\"backgroundcolor\":\"#E5ECF6\",\"gridcolor\":\"white\",\"gridwidth\":2,\"linecolor\":\"white\",\"showbackground\":true,\"ticks\":\"\",\"zerolinecolor\":\"white\"},\"zaxis\":{\"backgroundcolor\":\"#E5ECF6\",\"gridcolor\":\"white\",\"gridwidth\":2,\"linecolor\":\"white\",\"showbackground\":true,\"ticks\":\"\",\"zerolinecolor\":\"white\"}},\"shapedefaults\":{\"line\":{\"color\":\"#2a3f5f\"}},\"ternary\":{\"aaxis\":{\"gridcolor\":\"white\",\"linecolor\":\"white\",\"ticks\":\"\"},\"baxis\":{\"gridcolor\":\"white\",\"linecolor\":\"white\",\"ticks\":\"\"},\"bgcolor\":\"#E5ECF6\",\"caxis\":{\"gridcolor\":\"white\",\"linecolor\":\"white\",\"ticks\":\"\"}},\"title\":{\"x\":0.05},\"xaxis\":{\"automargin\":true,\"gridcolor\":\"white\",\"linecolor\":\"white\",\"ticks\":\"\",\"title\":{\"standoff\":15},\"zerolinecolor\":\"white\",\"zerolinewidth\":2},\"yaxis\":{\"automargin\":true,\"gridcolor\":\"white\",\"linecolor\":\"white\",\"ticks\":\"\",\"title\":{\"standoff\":15},\"zerolinecolor\":\"white\",\"zerolinewidth\":2}}},\"title\":{\"font\":{\"color\":\"#4D5663\"}},\"xaxis\":{\"gridcolor\":\"#E1E5ED\",\"showgrid\":true,\"tickfont\":{\"color\":\"#4D5663\"},\"title\":{\"font\":{\"color\":\"#4D5663\"},\"text\":\"\"},\"zerolinecolor\":\"#E1E5ED\"},\"yaxis\":{\"gridcolor\":\"#E1E5ED\",\"showgrid\":true,\"tickfont\":{\"color\":\"#4D5663\"},\"title\":{\"font\":{\"color\":\"#4D5663\"},\"text\":\"\"},\"zerolinecolor\":\"#E1E5ED\"}},                        {\"showLink\": true, \"linkText\": \"Export to plot.ly\", \"plotlyServerURL\": \"https://plot.ly\", \"responsive\": true}                    ).then(function(){\n",
       "                            \n",
       "var gd = document.getElementById('d1266164-14cf-48f1-b0f4-bf03437b5403');\n",
       "var x = new MutationObserver(function (mutations, observer) {{\n",
       "        var display = window.getComputedStyle(gd).display;\n",
       "        if (!display || display === 'none') {{\n",
       "            console.log([gd, 'removed!']);\n",
       "            Plotly.purge(gd);\n",
       "            observer.disconnect();\n",
       "        }}\n",
       "}});\n",
       "\n",
       "// Listen for the removal of the full notebook cells\n",
       "var notebookContainer = gd.closest('#notebook-container');\n",
       "if (notebookContainer) {{\n",
       "    x.observe(notebookContainer, {childList: true});\n",
       "}}\n",
       "\n",
       "// Listen for the clearing of the current output cell\n",
       "var outputEl = gd.closest('.output');\n",
       "if (outputEl) {{\n",
       "    x.observe(outputEl, {childList: true});\n",
       "}}\n",
       "\n",
       "                        })                };                });            </script>        </div>"
      ]
     },
     "metadata": {},
     "output_type": "display_data"
    }
   ],
   "source": [
    "df.iplot(kind='bubble',x='A',y='B',size='C')"
   ]
  },
  {
   "cell_type": "code",
   "execution_count": 36,
   "metadata": {},
   "outputs": [
    {
     "data": {
      "application/vnd.plotly.v1+json": {
       "config": {
        "linkText": "Export to plot.ly",
        "plotlyServerURL": "https://plot.ly",
        "showLink": true
       },
       "data": [
        {
         "histfunc": "count",
         "histnorm": "",
         "marker": {
          "color": "rgba(255, 153, 51, 1.0)",
          "line": {
           "color": "#4D5663",
           "width": 1.3
          }
         },
         "name": "A",
         "nbinsx": 10,
         "opacity": 0.8,
         "orientation": "v",
         "type": "histogram",
         "x": [
          0.40534718238775297,
          0.4618384364241935,
          0.24801495362386689,
          -0.20275965105180163,
          0.09894775497959721,
          0.6599246788548914,
          0.8438472586319632,
          0.014204738168655967,
          -1.0523175976673647,
          -0.33916820542896847,
          -1.661959469597001,
          0.012685600171485036,
          -0.4789785319016016,
          1.0084397271213716,
          0.5939225191331639,
          -1.095553489611045,
          -0.18951102092657343,
          -0.7485311039793072,
          -0.430464829191035,
          -0.7631277171679673,
          0.36148744061730415,
          0.07563251615586787,
          -1.8860291881983393,
          1.830146264431817,
          1.5261693945209298,
          0.16291324267842877,
          -0.8262337273807737,
          -0.5517585324681692,
          0.345803414065465,
          -1.4703487784808873,
          -0.42067931889214644,
          -0.13166190696965407,
          1.123577676117159,
          1.1810238810798508,
          1.660312792380613,
          0.5051805618852068,
          0.17556028099014473,
          -0.5494279945135929,
          -0.054740206493713695,
          -0.2168076326530869,
          -0.851789995700195,
          1.8015449616578993,
          -1.4170720382865047,
          0.8735331849938913,
          -1.1093059122024311,
          -0.4904870041875731,
          0.024771903075371624,
          -0.14604266902562074,
          -0.1804877739615316,
          -0.26801124668195686,
          0.6532291709068574,
          0.9495574584417534,
          -1.531778149170353,
          1.5890221761187682,
          0.980982056724215,
          -1.3218991841523904,
          -0.7748649079913962,
          0.4742698276888825,
          -0.0020455685397476487,
          1.8920574153876382,
          -0.22893685140438824,
          -0.6971595344536778,
          -1.7688603238410823,
          0.06128443693784288,
          -0.360684189084469,
          -0.4533831065070736,
          1.1124492419990712,
          -0.14284110930219396,
          0.583799577696767,
          0.4763961235399069,
          0.888486188632068,
          1.1547065346517043,
          -0.06266321573539217,
          1.2614886864066421,
          -0.2713660149998362,
          -0.564030478976412,
          -0.36032635768443194,
          -1.386122960420082,
          0.6497222345182069,
          0.4073214610955935,
          1.1951054678585589,
          1.1462194285806422,
          0.3839065700825093,
          0.02158569664438489,
          -0.31607498419747876,
          1.2258170818043679,
          1.5403849676974233,
          -1.2793493722883689,
          1.4546677261348309,
          0.8853740095330099,
          -0.27871528402228496,
          -0.45790415202886203,
          0.6078800386133114,
          0.2619094555525887,
          -0.9359554761132841,
          -1.310045647360763,
          0.8639954189862001,
          -0.17319697866189304,
          -0.23456567552557125,
          0.39507788382193987
         ],
         "xaxis": "x",
         "yaxis": "y"
        },
        {
         "line": {
          "color": "rgba(128, 128, 128, 1.0)",
          "dash": "solid",
          "shape": "linear",
          "width": 1.3
         },
         "marker": {
          "size": 2,
          "symbol": "circle"
         },
         "mode": "markers",
         "name": "A",
         "text": "",
         "type": "scatter",
         "x": [
          1.022485686609692,
          -0.2991330376533287,
          -0.63888610969383,
          -0.8833750002612436,
          -0.4078861332958796,
          0.4799082532464347,
          -1.357274840799496,
          0.19810773620278088,
          -0.19783074771131168,
          0.692818817496382,
          0.23191266266703442,
          -0.39355437747570005,
          0.5447687622016464,
          -0.14091375476541995,
          -0.22769161270345697,
          0.8588915764933582,
          -0.6783986928331065,
          0.8211036067421712,
          0.25817266001630773,
          0.14799711696746098,
          0.05927620745292284,
          -0.36267230950085433,
          1.2593028653582603,
          -1.0007777217527574,
          1.2282436874541525,
          -0.12769887512315786,
          1.7030143913579163,
          -1.0020872605347468,
          0.3195560424142498,
          0.15240321418665187,
          -1.5797861553236705,
          -0.3739313200333769,
          2.6021110509168666,
          -1.4471100938515242,
          -0.22318666138188153,
          0.47553906694810044,
          -1.1809472376756547,
          1.6162460221607278,
          -0.30331773033449044,
          -0.13182156682787596,
          1.4149621524860898,
          -0.9530259792261948,
          0.2742169032926556,
          -0.046045542434082556,
          0.634280138667863,
          -0.44208708609224245,
          0.6918129090202446,
          0.18012353082972507,
          -0.03975756365095694,
          -0.4035085758608769,
          -1.7585817100788126,
          -0.2996635985622194,
          -0.08613466026216665,
          1.3407846486700787,
          -1.2852375040247463,
          0.9426548906856975,
          -0.4237478485145406,
          -0.9875258770195806,
          0.8492892915359607,
          0.8623233408981996,
          -0.6444147916046757,
          0.1078678343079182,
          -0.9875734437892321,
          1.291562887565866,
          -0.8904951305931562,
          -1.7911999540279506,
          0.8759961030601735,
          0.2747985052742041,
          -0.20212363160084537,
          1.9519926300458057,
          1.2228922969535314,
          1.2775425993797307,
          -0.033907857353057,
          -1.1269326593789921,
          -0.35613822482803065,
          -0.3269080347457746,
          1.4592243810701002,
          -0.20686257323796692,
          -0.09616636678433634,
          1.2419410065257095,
          1.3048143207669025,
          -0.2980538960987875,
          1.3781856734829458,
          1.272172464631937,
          -0.3472494847742187,
          -0.010538336780892818,
          -0.16183176257636525,
          0.10152373504878527,
          -1.8653899621822374,
          -0.9683998654059663,
          -0.779130702347315,
          1.6202962931960625,
          -0.4690630803098864,
          0.024481735873536713,
          0.5510679505159154,
          -1.4104672378985652,
          0.5669444261650838,
          -1.350048904489357,
          0.6109803903416247,
          1.311724539759251
         ],
         "xaxis": "x2",
         "y": [
          0.40534718238775297,
          0.4618384364241935,
          0.24801495362386689,
          -0.20275965105180163,
          0.09894775497959721,
          0.6599246788548914,
          0.8438472586319632,
          0.014204738168655967,
          -1.0523175976673647,
          -0.33916820542896847,
          -1.661959469597001,
          0.012685600171485036,
          -0.4789785319016016,
          1.0084397271213716,
          0.5939225191331639,
          -1.095553489611045,
          -0.18951102092657343,
          -0.7485311039793072,
          -0.430464829191035,
          -0.7631277171679673,
          0.36148744061730415,
          0.07563251615586787,
          -1.8860291881983393,
          1.830146264431817,
          1.5261693945209298,
          0.16291324267842877,
          -0.8262337273807737,
          -0.5517585324681692,
          0.345803414065465,
          -1.4703487784808873,
          -0.42067931889214644,
          -0.13166190696965407,
          1.123577676117159,
          1.1810238810798508,
          1.660312792380613,
          0.5051805618852068,
          0.17556028099014473,
          -0.5494279945135929,
          -0.054740206493713695,
          -0.2168076326530869,
          -0.851789995700195,
          1.8015449616578993,
          -1.4170720382865047,
          0.8735331849938913,
          -1.1093059122024311,
          -0.4904870041875731,
          0.024771903075371624,
          -0.14604266902562074,
          -0.1804877739615316,
          -0.26801124668195686,
          0.6532291709068574,
          0.9495574584417534,
          -1.531778149170353,
          1.5890221761187682,
          0.980982056724215,
          -1.3218991841523904,
          -0.7748649079913962,
          0.4742698276888825,
          -0.0020455685397476487,
          1.8920574153876382,
          -0.22893685140438824,
          -0.6971595344536778,
          -1.7688603238410823,
          0.06128443693784288,
          -0.360684189084469,
          -0.4533831065070736,
          1.1124492419990712,
          -0.14284110930219396,
          0.583799577696767,
          0.4763961235399069,
          0.888486188632068,
          1.1547065346517043,
          -0.06266321573539217,
          1.2614886864066421,
          -0.2713660149998362,
          -0.564030478976412,
          -0.36032635768443194,
          -1.386122960420082,
          0.6497222345182069,
          0.4073214610955935,
          1.1951054678585589,
          1.1462194285806422,
          0.3839065700825093,
          0.02158569664438489,
          -0.31607498419747876,
          1.2258170818043679,
          1.5403849676974233,
          -1.2793493722883689,
          1.4546677261348309,
          0.8853740095330099,
          -0.27871528402228496,
          -0.45790415202886203,
          0.6078800386133114,
          0.2619094555525887,
          -0.9359554761132841,
          -1.310045647360763,
          0.8639954189862001,
          -0.17319697866189304,
          -0.23456567552557125,
          0.39507788382193987
         ],
         "yaxis": "y2"
        },
        {
         "line": {
          "color": "rgba(128, 128, 128, 1.0)",
          "dash": "solid",
          "shape": "linear",
          "width": 1.3
         },
         "marker": {
          "size": 2,
          "symbol": "circle"
         },
         "mode": "markers",
         "name": "A",
         "text": "",
         "type": "scatter",
         "x": [
          -0.6846939278970728,
          -2.3075965045478024,
          -0.08633181165856928,
          -0.960632782911131,
          -0.2594843276284265,
          -1.0909004044679218,
          -0.39736078887757353,
          0.4859202399005569,
          0.64713042030015,
          -0.7813163021462705,
          0.2958028918427429,
          -1.3243857628930011,
          -1.662961371536703,
          -0.40043565729067965,
          -0.3451119384557309,
          2.0903955558237,
          -0.012557888875386733,
          0.07247683377659399,
          0.11988491292645348,
          -0.4627347402924009,
          -1.0946635758514829,
          -2.6728360093505703,
          0.4742050895262971,
          -1.150747503716675,
          -1.2679999124494294,
          -1.7425682851942794,
          1.2659089043708076,
          0.6599750210405136,
          0.29300311967555526,
          -0.03466136540901326,
          0.8932463555019038,
          0.1375773675663175,
          -0.39833065736608564,
          0.2287132229961002,
          -1.888861525535101,
          -1.3748150359304196,
          0.41802892703303685,
          1.0966859796173523,
          -0.13334943209995173,
          -1.1419708932998787,
          1.1871886179574034,
          0.8486538344167918,
          -0.5192329608506668,
          0.002664928529814942,
          -0.11805644493445205,
          -2.1302678111856066,
          -1.5493117619924885,
          -0.4579647003513041,
          -1.5589319481231727,
          -0.7013284975095917,
          -1.1942815821767572,
          1.4418256610856601,
          -0.1194927798018692,
          -1.0959742580943388,
          2.102428243098901,
          -0.32061244957872076,
          0.7008907102791864,
          -0.3491490480071671,
          -0.5547074472788999,
          -0.6118401100626987,
          -0.5036361595156262,
          -0.8556225818470531,
          1.572121338917596,
          0.7367614207637612,
          -0.6337092097146587,
          -0.12587396488378122,
          0.5956416887411763,
          -0.5257234999490865,
          -0.25349596817224906,
          -0.5430718989494115,
          0.09758462681366432,
          0.1927830293776624,
          1.5073729373103912,
          -0.5732060696026312,
          -0.357320623311159,
          -0.3825789830900455,
          0.6551065113125831,
          0.7398370183868511,
          -0.7059609433212608,
          -0.42166534144707934,
          3.3206924959670467,
          -0.37304189385547065,
          -1.4746002018309643,
          -0.04270476295674498,
          0.995515542888556,
          0.0033839830817497434,
          1.2256999756538212,
          0.2501254597405451,
          0.33648316506628745,
          2.109721828092375,
          -0.6805331943785887,
          1.3424917917601022,
          0.15416374829761778,
          0.8242630448059016,
          -0.9600061880373896,
          1.0265224829519026,
          -0.8113472662411878,
          -0.39356837717677795,
          0.2006738374444646,
          1.1984113242069359
         ],
         "xaxis": "x3",
         "y": [
          0.40534718238775297,
          0.4618384364241935,
          0.24801495362386689,
          -0.20275965105180163,
          0.09894775497959721,
          0.6599246788548914,
          0.8438472586319632,
          0.014204738168655967,
          -1.0523175976673647,
          -0.33916820542896847,
          -1.661959469597001,
          0.012685600171485036,
          -0.4789785319016016,
          1.0084397271213716,
          0.5939225191331639,
          -1.095553489611045,
          -0.18951102092657343,
          -0.7485311039793072,
          -0.430464829191035,
          -0.7631277171679673,
          0.36148744061730415,
          0.07563251615586787,
          -1.8860291881983393,
          1.830146264431817,
          1.5261693945209298,
          0.16291324267842877,
          -0.8262337273807737,
          -0.5517585324681692,
          0.345803414065465,
          -1.4703487784808873,
          -0.42067931889214644,
          -0.13166190696965407,
          1.123577676117159,
          1.1810238810798508,
          1.660312792380613,
          0.5051805618852068,
          0.17556028099014473,
          -0.5494279945135929,
          -0.054740206493713695,
          -0.2168076326530869,
          -0.851789995700195,
          1.8015449616578993,
          -1.4170720382865047,
          0.8735331849938913,
          -1.1093059122024311,
          -0.4904870041875731,
          0.024771903075371624,
          -0.14604266902562074,
          -0.1804877739615316,
          -0.26801124668195686,
          0.6532291709068574,
          0.9495574584417534,
          -1.531778149170353,
          1.5890221761187682,
          0.980982056724215,
          -1.3218991841523904,
          -0.7748649079913962,
          0.4742698276888825,
          -0.0020455685397476487,
          1.8920574153876382,
          -0.22893685140438824,
          -0.6971595344536778,
          -1.7688603238410823,
          0.06128443693784288,
          -0.360684189084469,
          -0.4533831065070736,
          1.1124492419990712,
          -0.14284110930219396,
          0.583799577696767,
          0.4763961235399069,
          0.888486188632068,
          1.1547065346517043,
          -0.06266321573539217,
          1.2614886864066421,
          -0.2713660149998362,
          -0.564030478976412,
          -0.36032635768443194,
          -1.386122960420082,
          0.6497222345182069,
          0.4073214610955935,
          1.1951054678585589,
          1.1462194285806422,
          0.3839065700825093,
          0.02158569664438489,
          -0.31607498419747876,
          1.2258170818043679,
          1.5403849676974233,
          -1.2793493722883689,
          1.4546677261348309,
          0.8853740095330099,
          -0.27871528402228496,
          -0.45790415202886203,
          0.6078800386133114,
          0.2619094555525887,
          -0.9359554761132841,
          -1.310045647360763,
          0.8639954189862001,
          -0.17319697866189304,
          -0.23456567552557125,
          0.39507788382193987
         ],
         "yaxis": "y3"
        },
        {
         "line": {
          "color": "rgba(128, 128, 128, 1.0)",
          "dash": "solid",
          "shape": "linear",
          "width": 1.3
         },
         "marker": {
          "size": 2,
          "symbol": "circle"
         },
         "mode": "markers",
         "name": "A",
         "text": "",
         "type": "scatter",
         "x": [
          2.496071177103857,
          0.46081342893771055,
          -0.0993452983368322,
          0.5809415166299917,
          0.40510046264685573,
          -0.5680460155079847,
          1.2013126163899779,
          0.9235025254388937,
          -0.33489510490471136,
          0.6903185909680251,
          1.6940589078900654,
          1.1552141160280898,
          0.4519339032526576,
          -1.6378233982246284,
          -0.18705288580078047,
          -0.6014119459024533,
          -0.08661516142734464,
          -2.2138315256459355,
          0.21259912157741076,
          0.17200406866655887,
          0.06345710562435442,
          -0.1657132760048854,
          0.30709462962362616,
          1.2868210087532836,
          1.8925326595443972,
          0.3172886598320608,
          -0.7675255681542591,
          1.001540368478351,
          1.635234668573889,
          0.6968888827556089,
          -1.2838354891977093,
          -1.4858243901619834,
          1.5883334911707394,
          0.2614533519409762,
          1.4479396943145668,
          0.9869269363450887,
          1.2412667641689517,
          1.4554482284528751,
          -1.739546295511982,
          0.08624035442034013,
          0.014460353605616887,
          -1.4687897908310128,
          0.9263315314260369,
          0.4630509181806159,
          0.3962225137932105,
          -0.5738893360751438,
          0.08255968121947238,
          2.3123736265797725,
          0.1814158966679779,
          1.0023561740323266,
          -0.8432421516873355,
          0.9047034033575648,
          0.14633007324558994,
          -1.2121043743814122,
          0.34701696560862716,
          -0.49474703279285887,
          -0.6706522920168768,
          -2.1344327686615587,
          2.4921141712522954,
          -0.36850330741956977,
          -1.687793543566312,
          -0.25358597500926955,
          -0.8090190742185616,
          0.015245709923150873,
          0.27458290201369623,
          -2.1183057080112224,
          1.0366307466847968,
          1.0273831782140008,
          -1.1570046788261379,
          0.41756679021218324,
          -0.8225478326104317,
          1.2346573270949213,
          0.00624533970765154,
          0.9819581405070998,
          -2.2181810791031715,
          -1.829224609246086,
          0.2780099520868739,
          0.7531073238742761,
          -0.6687741250947908,
          0.307472012042972,
          -1.4508497162720104,
          0.5806461816902653,
          -0.1719019649229563,
          -0.8845797818041453,
          1.7110324908597812,
          -0.8042138569717536,
          -0.117255677636341,
          -0.7971556907902491,
          -0.9257571625867512,
          -0.059484554873857114,
          -1.7648403405153228,
          0.6893596079875423,
          -1.12093735936863,
          1.58417022354427,
          -0.15762384928257814,
          1.199392222105967,
          -0.09112697331503981,
          -1.2436291221677196,
          -1.3395113213792513,
          1.462079062203621
         ],
         "xaxis": "x4",
         "y": [
          0.40534718238775297,
          0.4618384364241935,
          0.24801495362386689,
          -0.20275965105180163,
          0.09894775497959721,
          0.6599246788548914,
          0.8438472586319632,
          0.014204738168655967,
          -1.0523175976673647,
          -0.33916820542896847,
          -1.661959469597001,
          0.012685600171485036,
          -0.4789785319016016,
          1.0084397271213716,
          0.5939225191331639,
          -1.095553489611045,
          -0.18951102092657343,
          -0.7485311039793072,
          -0.430464829191035,
          -0.7631277171679673,
          0.36148744061730415,
          0.07563251615586787,
          -1.8860291881983393,
          1.830146264431817,
          1.5261693945209298,
          0.16291324267842877,
          -0.8262337273807737,
          -0.5517585324681692,
          0.345803414065465,
          -1.4703487784808873,
          -0.42067931889214644,
          -0.13166190696965407,
          1.123577676117159,
          1.1810238810798508,
          1.660312792380613,
          0.5051805618852068,
          0.17556028099014473,
          -0.5494279945135929,
          -0.054740206493713695,
          -0.2168076326530869,
          -0.851789995700195,
          1.8015449616578993,
          -1.4170720382865047,
          0.8735331849938913,
          -1.1093059122024311,
          -0.4904870041875731,
          0.024771903075371624,
          -0.14604266902562074,
          -0.1804877739615316,
          -0.26801124668195686,
          0.6532291709068574,
          0.9495574584417534,
          -1.531778149170353,
          1.5890221761187682,
          0.980982056724215,
          -1.3218991841523904,
          -0.7748649079913962,
          0.4742698276888825,
          -0.0020455685397476487,
          1.8920574153876382,
          -0.22893685140438824,
          -0.6971595344536778,
          -1.7688603238410823,
          0.06128443693784288,
          -0.360684189084469,
          -0.4533831065070736,
          1.1124492419990712,
          -0.14284110930219396,
          0.583799577696767,
          0.4763961235399069,
          0.888486188632068,
          1.1547065346517043,
          -0.06266321573539217,
          1.2614886864066421,
          -0.2713660149998362,
          -0.564030478976412,
          -0.36032635768443194,
          -1.386122960420082,
          0.6497222345182069,
          0.4073214610955935,
          1.1951054678585589,
          1.1462194285806422,
          0.3839065700825093,
          0.02158569664438489,
          -0.31607498419747876,
          1.2258170818043679,
          1.5403849676974233,
          -1.2793493722883689,
          1.4546677261348309,
          0.8853740095330099,
          -0.27871528402228496,
          -0.45790415202886203,
          0.6078800386133114,
          0.2619094555525887,
          -0.9359554761132841,
          -1.310045647360763,
          0.8639954189862001,
          -0.17319697866189304,
          -0.23456567552557125,
          0.39507788382193987
         ],
         "yaxis": "y4"
        },
        {
         "line": {
          "color": "rgba(128, 128, 128, 1.0)",
          "dash": "solid",
          "shape": "linear",
          "width": 1.3
         },
         "marker": {
          "size": 2,
          "symbol": "circle"
         },
         "mode": "markers",
         "name": "B",
         "text": "",
         "type": "scatter",
         "x": [
          0.40534718238775297,
          0.4618384364241935,
          0.24801495362386689,
          -0.20275965105180163,
          0.09894775497959721,
          0.6599246788548914,
          0.8438472586319632,
          0.014204738168655967,
          -1.0523175976673647,
          -0.33916820542896847,
          -1.661959469597001,
          0.012685600171485036,
          -0.4789785319016016,
          1.0084397271213716,
          0.5939225191331639,
          -1.095553489611045,
          -0.18951102092657343,
          -0.7485311039793072,
          -0.430464829191035,
          -0.7631277171679673,
          0.36148744061730415,
          0.07563251615586787,
          -1.8860291881983393,
          1.830146264431817,
          1.5261693945209298,
          0.16291324267842877,
          -0.8262337273807737,
          -0.5517585324681692,
          0.345803414065465,
          -1.4703487784808873,
          -0.42067931889214644,
          -0.13166190696965407,
          1.123577676117159,
          1.1810238810798508,
          1.660312792380613,
          0.5051805618852068,
          0.17556028099014473,
          -0.5494279945135929,
          -0.054740206493713695,
          -0.2168076326530869,
          -0.851789995700195,
          1.8015449616578993,
          -1.4170720382865047,
          0.8735331849938913,
          -1.1093059122024311,
          -0.4904870041875731,
          0.024771903075371624,
          -0.14604266902562074,
          -0.1804877739615316,
          -0.26801124668195686,
          0.6532291709068574,
          0.9495574584417534,
          -1.531778149170353,
          1.5890221761187682,
          0.980982056724215,
          -1.3218991841523904,
          -0.7748649079913962,
          0.4742698276888825,
          -0.0020455685397476487,
          1.8920574153876382,
          -0.22893685140438824,
          -0.6971595344536778,
          -1.7688603238410823,
          0.06128443693784288,
          -0.360684189084469,
          -0.4533831065070736,
          1.1124492419990712,
          -0.14284110930219396,
          0.583799577696767,
          0.4763961235399069,
          0.888486188632068,
          1.1547065346517043,
          -0.06266321573539217,
          1.2614886864066421,
          -0.2713660149998362,
          -0.564030478976412,
          -0.36032635768443194,
          -1.386122960420082,
          0.6497222345182069,
          0.4073214610955935,
          1.1951054678585589,
          1.1462194285806422,
          0.3839065700825093,
          0.02158569664438489,
          -0.31607498419747876,
          1.2258170818043679,
          1.5403849676974233,
          -1.2793493722883689,
          1.4546677261348309,
          0.8853740095330099,
          -0.27871528402228496,
          -0.45790415202886203,
          0.6078800386133114,
          0.2619094555525887,
          -0.9359554761132841,
          -1.310045647360763,
          0.8639954189862001,
          -0.17319697866189304,
          -0.23456567552557125,
          0.39507788382193987
         ],
         "xaxis": "x5",
         "y": [
          1.022485686609692,
          -0.2991330376533287,
          -0.63888610969383,
          -0.8833750002612436,
          -0.4078861332958796,
          0.4799082532464347,
          -1.357274840799496,
          0.19810773620278088,
          -0.19783074771131168,
          0.692818817496382,
          0.23191266266703442,
          -0.39355437747570005,
          0.5447687622016464,
          -0.14091375476541995,
          -0.22769161270345697,
          0.8588915764933582,
          -0.6783986928331065,
          0.8211036067421712,
          0.25817266001630773,
          0.14799711696746098,
          0.05927620745292284,
          -0.36267230950085433,
          1.2593028653582603,
          -1.0007777217527574,
          1.2282436874541525,
          -0.12769887512315786,
          1.7030143913579163,
          -1.0020872605347468,
          0.3195560424142498,
          0.15240321418665187,
          -1.5797861553236705,
          -0.3739313200333769,
          2.6021110509168666,
          -1.4471100938515242,
          -0.22318666138188153,
          0.47553906694810044,
          -1.1809472376756547,
          1.6162460221607278,
          -0.30331773033449044,
          -0.13182156682787596,
          1.4149621524860898,
          -0.9530259792261948,
          0.2742169032926556,
          -0.046045542434082556,
          0.634280138667863,
          -0.44208708609224245,
          0.6918129090202446,
          0.18012353082972507,
          -0.03975756365095694,
          -0.4035085758608769,
          -1.7585817100788126,
          -0.2996635985622194,
          -0.08613466026216665,
          1.3407846486700787,
          -1.2852375040247463,
          0.9426548906856975,
          -0.4237478485145406,
          -0.9875258770195806,
          0.8492892915359607,
          0.8623233408981996,
          -0.6444147916046757,
          0.1078678343079182,
          -0.9875734437892321,
          1.291562887565866,
          -0.8904951305931562,
          -1.7911999540279506,
          0.8759961030601735,
          0.2747985052742041,
          -0.20212363160084537,
          1.9519926300458057,
          1.2228922969535314,
          1.2775425993797307,
          -0.033907857353057,
          -1.1269326593789921,
          -0.35613822482803065,
          -0.3269080347457746,
          1.4592243810701002,
          -0.20686257323796692,
          -0.09616636678433634,
          1.2419410065257095,
          1.3048143207669025,
          -0.2980538960987875,
          1.3781856734829458,
          1.272172464631937,
          -0.3472494847742187,
          -0.010538336780892818,
          -0.16183176257636525,
          0.10152373504878527,
          -1.8653899621822374,
          -0.9683998654059663,
          -0.779130702347315,
          1.6202962931960625,
          -0.4690630803098864,
          0.024481735873536713,
          0.5510679505159154,
          -1.4104672378985652,
          0.5669444261650838,
          -1.350048904489357,
          0.6109803903416247,
          1.311724539759251
         ],
         "yaxis": "y5"
        },
        {
         "histfunc": "count",
         "histnorm": "",
         "marker": {
          "color": "rgba(55, 128, 191, 1.0)",
          "line": {
           "color": "#4D5663",
           "width": 1.3
          }
         },
         "name": "B",
         "nbinsx": 10,
         "opacity": 0.8,
         "orientation": "v",
         "type": "histogram",
         "x": [
          1.022485686609692,
          -0.2991330376533287,
          -0.63888610969383,
          -0.8833750002612436,
          -0.4078861332958796,
          0.4799082532464347,
          -1.357274840799496,
          0.19810773620278088,
          -0.19783074771131168,
          0.692818817496382,
          0.23191266266703442,
          -0.39355437747570005,
          0.5447687622016464,
          -0.14091375476541995,
          -0.22769161270345697,
          0.8588915764933582,
          -0.6783986928331065,
          0.8211036067421712,
          0.25817266001630773,
          0.14799711696746098,
          0.05927620745292284,
          -0.36267230950085433,
          1.2593028653582603,
          -1.0007777217527574,
          1.2282436874541525,
          -0.12769887512315786,
          1.7030143913579163,
          -1.0020872605347468,
          0.3195560424142498,
          0.15240321418665187,
          -1.5797861553236705,
          -0.3739313200333769,
          2.6021110509168666,
          -1.4471100938515242,
          -0.22318666138188153,
          0.47553906694810044,
          -1.1809472376756547,
          1.6162460221607278,
          -0.30331773033449044,
          -0.13182156682787596,
          1.4149621524860898,
          -0.9530259792261948,
          0.2742169032926556,
          -0.046045542434082556,
          0.634280138667863,
          -0.44208708609224245,
          0.6918129090202446,
          0.18012353082972507,
          -0.03975756365095694,
          -0.4035085758608769,
          -1.7585817100788126,
          -0.2996635985622194,
          -0.08613466026216665,
          1.3407846486700787,
          -1.2852375040247463,
          0.9426548906856975,
          -0.4237478485145406,
          -0.9875258770195806,
          0.8492892915359607,
          0.8623233408981996,
          -0.6444147916046757,
          0.1078678343079182,
          -0.9875734437892321,
          1.291562887565866,
          -0.8904951305931562,
          -1.7911999540279506,
          0.8759961030601735,
          0.2747985052742041,
          -0.20212363160084537,
          1.9519926300458057,
          1.2228922969535314,
          1.2775425993797307,
          -0.033907857353057,
          -1.1269326593789921,
          -0.35613822482803065,
          -0.3269080347457746,
          1.4592243810701002,
          -0.20686257323796692,
          -0.09616636678433634,
          1.2419410065257095,
          1.3048143207669025,
          -0.2980538960987875,
          1.3781856734829458,
          1.272172464631937,
          -0.3472494847742187,
          -0.010538336780892818,
          -0.16183176257636525,
          0.10152373504878527,
          -1.8653899621822374,
          -0.9683998654059663,
          -0.779130702347315,
          1.6202962931960625,
          -0.4690630803098864,
          0.024481735873536713,
          0.5510679505159154,
          -1.4104672378985652,
          0.5669444261650838,
          -1.350048904489357,
          0.6109803903416247,
          1.311724539759251
         ],
         "xaxis": "x6",
         "yaxis": "y6"
        },
        {
         "line": {
          "color": "rgba(128, 128, 128, 1.0)",
          "dash": "solid",
          "shape": "linear",
          "width": 1.3
         },
         "marker": {
          "size": 2,
          "symbol": "circle"
         },
         "mode": "markers",
         "name": "B",
         "text": "",
         "type": "scatter",
         "x": [
          -0.6846939278970728,
          -2.3075965045478024,
          -0.08633181165856928,
          -0.960632782911131,
          -0.2594843276284265,
          -1.0909004044679218,
          -0.39736078887757353,
          0.4859202399005569,
          0.64713042030015,
          -0.7813163021462705,
          0.2958028918427429,
          -1.3243857628930011,
          -1.662961371536703,
          -0.40043565729067965,
          -0.3451119384557309,
          2.0903955558237,
          -0.012557888875386733,
          0.07247683377659399,
          0.11988491292645348,
          -0.4627347402924009,
          -1.0946635758514829,
          -2.6728360093505703,
          0.4742050895262971,
          -1.150747503716675,
          -1.2679999124494294,
          -1.7425682851942794,
          1.2659089043708076,
          0.6599750210405136,
          0.29300311967555526,
          -0.03466136540901326,
          0.8932463555019038,
          0.1375773675663175,
          -0.39833065736608564,
          0.2287132229961002,
          -1.888861525535101,
          -1.3748150359304196,
          0.41802892703303685,
          1.0966859796173523,
          -0.13334943209995173,
          -1.1419708932998787,
          1.1871886179574034,
          0.8486538344167918,
          -0.5192329608506668,
          0.002664928529814942,
          -0.11805644493445205,
          -2.1302678111856066,
          -1.5493117619924885,
          -0.4579647003513041,
          -1.5589319481231727,
          -0.7013284975095917,
          -1.1942815821767572,
          1.4418256610856601,
          -0.1194927798018692,
          -1.0959742580943388,
          2.102428243098901,
          -0.32061244957872076,
          0.7008907102791864,
          -0.3491490480071671,
          -0.5547074472788999,
          -0.6118401100626987,
          -0.5036361595156262,
          -0.8556225818470531,
          1.572121338917596,
          0.7367614207637612,
          -0.6337092097146587,
          -0.12587396488378122,
          0.5956416887411763,
          -0.5257234999490865,
          -0.25349596817224906,
          -0.5430718989494115,
          0.09758462681366432,
          0.1927830293776624,
          1.5073729373103912,
          -0.5732060696026312,
          -0.357320623311159,
          -0.3825789830900455,
          0.6551065113125831,
          0.7398370183868511,
          -0.7059609433212608,
          -0.42166534144707934,
          3.3206924959670467,
          -0.37304189385547065,
          -1.4746002018309643,
          -0.04270476295674498,
          0.995515542888556,
          0.0033839830817497434,
          1.2256999756538212,
          0.2501254597405451,
          0.33648316506628745,
          2.109721828092375,
          -0.6805331943785887,
          1.3424917917601022,
          0.15416374829761778,
          0.8242630448059016,
          -0.9600061880373896,
          1.0265224829519026,
          -0.8113472662411878,
          -0.39356837717677795,
          0.2006738374444646,
          1.1984113242069359
         ],
         "xaxis": "x7",
         "y": [
          1.022485686609692,
          -0.2991330376533287,
          -0.63888610969383,
          -0.8833750002612436,
          -0.4078861332958796,
          0.4799082532464347,
          -1.357274840799496,
          0.19810773620278088,
          -0.19783074771131168,
          0.692818817496382,
          0.23191266266703442,
          -0.39355437747570005,
          0.5447687622016464,
          -0.14091375476541995,
          -0.22769161270345697,
          0.8588915764933582,
          -0.6783986928331065,
          0.8211036067421712,
          0.25817266001630773,
          0.14799711696746098,
          0.05927620745292284,
          -0.36267230950085433,
          1.2593028653582603,
          -1.0007777217527574,
          1.2282436874541525,
          -0.12769887512315786,
          1.7030143913579163,
          -1.0020872605347468,
          0.3195560424142498,
          0.15240321418665187,
          -1.5797861553236705,
          -0.3739313200333769,
          2.6021110509168666,
          -1.4471100938515242,
          -0.22318666138188153,
          0.47553906694810044,
          -1.1809472376756547,
          1.6162460221607278,
          -0.30331773033449044,
          -0.13182156682787596,
          1.4149621524860898,
          -0.9530259792261948,
          0.2742169032926556,
          -0.046045542434082556,
          0.634280138667863,
          -0.44208708609224245,
          0.6918129090202446,
          0.18012353082972507,
          -0.03975756365095694,
          -0.4035085758608769,
          -1.7585817100788126,
          -0.2996635985622194,
          -0.08613466026216665,
          1.3407846486700787,
          -1.2852375040247463,
          0.9426548906856975,
          -0.4237478485145406,
          -0.9875258770195806,
          0.8492892915359607,
          0.8623233408981996,
          -0.6444147916046757,
          0.1078678343079182,
          -0.9875734437892321,
          1.291562887565866,
          -0.8904951305931562,
          -1.7911999540279506,
          0.8759961030601735,
          0.2747985052742041,
          -0.20212363160084537,
          1.9519926300458057,
          1.2228922969535314,
          1.2775425993797307,
          -0.033907857353057,
          -1.1269326593789921,
          -0.35613822482803065,
          -0.3269080347457746,
          1.4592243810701002,
          -0.20686257323796692,
          -0.09616636678433634,
          1.2419410065257095,
          1.3048143207669025,
          -0.2980538960987875,
          1.3781856734829458,
          1.272172464631937,
          -0.3472494847742187,
          -0.010538336780892818,
          -0.16183176257636525,
          0.10152373504878527,
          -1.8653899621822374,
          -0.9683998654059663,
          -0.779130702347315,
          1.6202962931960625,
          -0.4690630803098864,
          0.024481735873536713,
          0.5510679505159154,
          -1.4104672378985652,
          0.5669444261650838,
          -1.350048904489357,
          0.6109803903416247,
          1.311724539759251
         ],
         "yaxis": "y7"
        },
        {
         "line": {
          "color": "rgba(128, 128, 128, 1.0)",
          "dash": "solid",
          "shape": "linear",
          "width": 1.3
         },
         "marker": {
          "size": 2,
          "symbol": "circle"
         },
         "mode": "markers",
         "name": "B",
         "text": "",
         "type": "scatter",
         "x": [
          2.496071177103857,
          0.46081342893771055,
          -0.0993452983368322,
          0.5809415166299917,
          0.40510046264685573,
          -0.5680460155079847,
          1.2013126163899779,
          0.9235025254388937,
          -0.33489510490471136,
          0.6903185909680251,
          1.6940589078900654,
          1.1552141160280898,
          0.4519339032526576,
          -1.6378233982246284,
          -0.18705288580078047,
          -0.6014119459024533,
          -0.08661516142734464,
          -2.2138315256459355,
          0.21259912157741076,
          0.17200406866655887,
          0.06345710562435442,
          -0.1657132760048854,
          0.30709462962362616,
          1.2868210087532836,
          1.8925326595443972,
          0.3172886598320608,
          -0.7675255681542591,
          1.001540368478351,
          1.635234668573889,
          0.6968888827556089,
          -1.2838354891977093,
          -1.4858243901619834,
          1.5883334911707394,
          0.2614533519409762,
          1.4479396943145668,
          0.9869269363450887,
          1.2412667641689517,
          1.4554482284528751,
          -1.739546295511982,
          0.08624035442034013,
          0.014460353605616887,
          -1.4687897908310128,
          0.9263315314260369,
          0.4630509181806159,
          0.3962225137932105,
          -0.5738893360751438,
          0.08255968121947238,
          2.3123736265797725,
          0.1814158966679779,
          1.0023561740323266,
          -0.8432421516873355,
          0.9047034033575648,
          0.14633007324558994,
          -1.2121043743814122,
          0.34701696560862716,
          -0.49474703279285887,
          -0.6706522920168768,
          -2.1344327686615587,
          2.4921141712522954,
          -0.36850330741956977,
          -1.687793543566312,
          -0.25358597500926955,
          -0.8090190742185616,
          0.015245709923150873,
          0.27458290201369623,
          -2.1183057080112224,
          1.0366307466847968,
          1.0273831782140008,
          -1.1570046788261379,
          0.41756679021218324,
          -0.8225478326104317,
          1.2346573270949213,
          0.00624533970765154,
          0.9819581405070998,
          -2.2181810791031715,
          -1.829224609246086,
          0.2780099520868739,
          0.7531073238742761,
          -0.6687741250947908,
          0.307472012042972,
          -1.4508497162720104,
          0.5806461816902653,
          -0.1719019649229563,
          -0.8845797818041453,
          1.7110324908597812,
          -0.8042138569717536,
          -0.117255677636341,
          -0.7971556907902491,
          -0.9257571625867512,
          -0.059484554873857114,
          -1.7648403405153228,
          0.6893596079875423,
          -1.12093735936863,
          1.58417022354427,
          -0.15762384928257814,
          1.199392222105967,
          -0.09112697331503981,
          -1.2436291221677196,
          -1.3395113213792513,
          1.462079062203621
         ],
         "xaxis": "x8",
         "y": [
          1.022485686609692,
          -0.2991330376533287,
          -0.63888610969383,
          -0.8833750002612436,
          -0.4078861332958796,
          0.4799082532464347,
          -1.357274840799496,
          0.19810773620278088,
          -0.19783074771131168,
          0.692818817496382,
          0.23191266266703442,
          -0.39355437747570005,
          0.5447687622016464,
          -0.14091375476541995,
          -0.22769161270345697,
          0.8588915764933582,
          -0.6783986928331065,
          0.8211036067421712,
          0.25817266001630773,
          0.14799711696746098,
          0.05927620745292284,
          -0.36267230950085433,
          1.2593028653582603,
          -1.0007777217527574,
          1.2282436874541525,
          -0.12769887512315786,
          1.7030143913579163,
          -1.0020872605347468,
          0.3195560424142498,
          0.15240321418665187,
          -1.5797861553236705,
          -0.3739313200333769,
          2.6021110509168666,
          -1.4471100938515242,
          -0.22318666138188153,
          0.47553906694810044,
          -1.1809472376756547,
          1.6162460221607278,
          -0.30331773033449044,
          -0.13182156682787596,
          1.4149621524860898,
          -0.9530259792261948,
          0.2742169032926556,
          -0.046045542434082556,
          0.634280138667863,
          -0.44208708609224245,
          0.6918129090202446,
          0.18012353082972507,
          -0.03975756365095694,
          -0.4035085758608769,
          -1.7585817100788126,
          -0.2996635985622194,
          -0.08613466026216665,
          1.3407846486700787,
          -1.2852375040247463,
          0.9426548906856975,
          -0.4237478485145406,
          -0.9875258770195806,
          0.8492892915359607,
          0.8623233408981996,
          -0.6444147916046757,
          0.1078678343079182,
          -0.9875734437892321,
          1.291562887565866,
          -0.8904951305931562,
          -1.7911999540279506,
          0.8759961030601735,
          0.2747985052742041,
          -0.20212363160084537,
          1.9519926300458057,
          1.2228922969535314,
          1.2775425993797307,
          -0.033907857353057,
          -1.1269326593789921,
          -0.35613822482803065,
          -0.3269080347457746,
          1.4592243810701002,
          -0.20686257323796692,
          -0.09616636678433634,
          1.2419410065257095,
          1.3048143207669025,
          -0.2980538960987875,
          1.3781856734829458,
          1.272172464631937,
          -0.3472494847742187,
          -0.010538336780892818,
          -0.16183176257636525,
          0.10152373504878527,
          -1.8653899621822374,
          -0.9683998654059663,
          -0.779130702347315,
          1.6202962931960625,
          -0.4690630803098864,
          0.024481735873536713,
          0.5510679505159154,
          -1.4104672378985652,
          0.5669444261650838,
          -1.350048904489357,
          0.6109803903416247,
          1.311724539759251
         ],
         "yaxis": "y8"
        },
        {
         "line": {
          "color": "rgba(128, 128, 128, 1.0)",
          "dash": "solid",
          "shape": "linear",
          "width": 1.3
         },
         "marker": {
          "size": 2,
          "symbol": "circle"
         },
         "mode": "markers",
         "name": "C",
         "text": "",
         "type": "scatter",
         "x": [
          0.40534718238775297,
          0.4618384364241935,
          0.24801495362386689,
          -0.20275965105180163,
          0.09894775497959721,
          0.6599246788548914,
          0.8438472586319632,
          0.014204738168655967,
          -1.0523175976673647,
          -0.33916820542896847,
          -1.661959469597001,
          0.012685600171485036,
          -0.4789785319016016,
          1.0084397271213716,
          0.5939225191331639,
          -1.095553489611045,
          -0.18951102092657343,
          -0.7485311039793072,
          -0.430464829191035,
          -0.7631277171679673,
          0.36148744061730415,
          0.07563251615586787,
          -1.8860291881983393,
          1.830146264431817,
          1.5261693945209298,
          0.16291324267842877,
          -0.8262337273807737,
          -0.5517585324681692,
          0.345803414065465,
          -1.4703487784808873,
          -0.42067931889214644,
          -0.13166190696965407,
          1.123577676117159,
          1.1810238810798508,
          1.660312792380613,
          0.5051805618852068,
          0.17556028099014473,
          -0.5494279945135929,
          -0.054740206493713695,
          -0.2168076326530869,
          -0.851789995700195,
          1.8015449616578993,
          -1.4170720382865047,
          0.8735331849938913,
          -1.1093059122024311,
          -0.4904870041875731,
          0.024771903075371624,
          -0.14604266902562074,
          -0.1804877739615316,
          -0.26801124668195686,
          0.6532291709068574,
          0.9495574584417534,
          -1.531778149170353,
          1.5890221761187682,
          0.980982056724215,
          -1.3218991841523904,
          -0.7748649079913962,
          0.4742698276888825,
          -0.0020455685397476487,
          1.8920574153876382,
          -0.22893685140438824,
          -0.6971595344536778,
          -1.7688603238410823,
          0.06128443693784288,
          -0.360684189084469,
          -0.4533831065070736,
          1.1124492419990712,
          -0.14284110930219396,
          0.583799577696767,
          0.4763961235399069,
          0.888486188632068,
          1.1547065346517043,
          -0.06266321573539217,
          1.2614886864066421,
          -0.2713660149998362,
          -0.564030478976412,
          -0.36032635768443194,
          -1.386122960420082,
          0.6497222345182069,
          0.4073214610955935,
          1.1951054678585589,
          1.1462194285806422,
          0.3839065700825093,
          0.02158569664438489,
          -0.31607498419747876,
          1.2258170818043679,
          1.5403849676974233,
          -1.2793493722883689,
          1.4546677261348309,
          0.8853740095330099,
          -0.27871528402228496,
          -0.45790415202886203,
          0.6078800386133114,
          0.2619094555525887,
          -0.9359554761132841,
          -1.310045647360763,
          0.8639954189862001,
          -0.17319697866189304,
          -0.23456567552557125,
          0.39507788382193987
         ],
         "xaxis": "x9",
         "y": [
          -0.6846939278970728,
          -2.3075965045478024,
          -0.08633181165856928,
          -0.960632782911131,
          -0.2594843276284265,
          -1.0909004044679218,
          -0.39736078887757353,
          0.4859202399005569,
          0.64713042030015,
          -0.7813163021462705,
          0.2958028918427429,
          -1.3243857628930011,
          -1.662961371536703,
          -0.40043565729067965,
          -0.3451119384557309,
          2.0903955558237,
          -0.012557888875386733,
          0.07247683377659399,
          0.11988491292645348,
          -0.4627347402924009,
          -1.0946635758514829,
          -2.6728360093505703,
          0.4742050895262971,
          -1.150747503716675,
          -1.2679999124494294,
          -1.7425682851942794,
          1.2659089043708076,
          0.6599750210405136,
          0.29300311967555526,
          -0.03466136540901326,
          0.8932463555019038,
          0.1375773675663175,
          -0.39833065736608564,
          0.2287132229961002,
          -1.888861525535101,
          -1.3748150359304196,
          0.41802892703303685,
          1.0966859796173523,
          -0.13334943209995173,
          -1.1419708932998787,
          1.1871886179574034,
          0.8486538344167918,
          -0.5192329608506668,
          0.002664928529814942,
          -0.11805644493445205,
          -2.1302678111856066,
          -1.5493117619924885,
          -0.4579647003513041,
          -1.5589319481231727,
          -0.7013284975095917,
          -1.1942815821767572,
          1.4418256610856601,
          -0.1194927798018692,
          -1.0959742580943388,
          2.102428243098901,
          -0.32061244957872076,
          0.7008907102791864,
          -0.3491490480071671,
          -0.5547074472788999,
          -0.6118401100626987,
          -0.5036361595156262,
          -0.8556225818470531,
          1.572121338917596,
          0.7367614207637612,
          -0.6337092097146587,
          -0.12587396488378122,
          0.5956416887411763,
          -0.5257234999490865,
          -0.25349596817224906,
          -0.5430718989494115,
          0.09758462681366432,
          0.1927830293776624,
          1.5073729373103912,
          -0.5732060696026312,
          -0.357320623311159,
          -0.3825789830900455,
          0.6551065113125831,
          0.7398370183868511,
          -0.7059609433212608,
          -0.42166534144707934,
          3.3206924959670467,
          -0.37304189385547065,
          -1.4746002018309643,
          -0.04270476295674498,
          0.995515542888556,
          0.0033839830817497434,
          1.2256999756538212,
          0.2501254597405451,
          0.33648316506628745,
          2.109721828092375,
          -0.6805331943785887,
          1.3424917917601022,
          0.15416374829761778,
          0.8242630448059016,
          -0.9600061880373896,
          1.0265224829519026,
          -0.8113472662411878,
          -0.39356837717677795,
          0.2006738374444646,
          1.1984113242069359
         ],
         "yaxis": "y9"
        },
        {
         "line": {
          "color": "rgba(128, 128, 128, 1.0)",
          "dash": "solid",
          "shape": "linear",
          "width": 1.3
         },
         "marker": {
          "size": 2,
          "symbol": "circle"
         },
         "mode": "markers",
         "name": "C",
         "text": "",
         "type": "scatter",
         "x": [
          1.022485686609692,
          -0.2991330376533287,
          -0.63888610969383,
          -0.8833750002612436,
          -0.4078861332958796,
          0.4799082532464347,
          -1.357274840799496,
          0.19810773620278088,
          -0.19783074771131168,
          0.692818817496382,
          0.23191266266703442,
          -0.39355437747570005,
          0.5447687622016464,
          -0.14091375476541995,
          -0.22769161270345697,
          0.8588915764933582,
          -0.6783986928331065,
          0.8211036067421712,
          0.25817266001630773,
          0.14799711696746098,
          0.05927620745292284,
          -0.36267230950085433,
          1.2593028653582603,
          -1.0007777217527574,
          1.2282436874541525,
          -0.12769887512315786,
          1.7030143913579163,
          -1.0020872605347468,
          0.3195560424142498,
          0.15240321418665187,
          -1.5797861553236705,
          -0.3739313200333769,
          2.6021110509168666,
          -1.4471100938515242,
          -0.22318666138188153,
          0.47553906694810044,
          -1.1809472376756547,
          1.6162460221607278,
          -0.30331773033449044,
          -0.13182156682787596,
          1.4149621524860898,
          -0.9530259792261948,
          0.2742169032926556,
          -0.046045542434082556,
          0.634280138667863,
          -0.44208708609224245,
          0.6918129090202446,
          0.18012353082972507,
          -0.03975756365095694,
          -0.4035085758608769,
          -1.7585817100788126,
          -0.2996635985622194,
          -0.08613466026216665,
          1.3407846486700787,
          -1.2852375040247463,
          0.9426548906856975,
          -0.4237478485145406,
          -0.9875258770195806,
          0.8492892915359607,
          0.8623233408981996,
          -0.6444147916046757,
          0.1078678343079182,
          -0.9875734437892321,
          1.291562887565866,
          -0.8904951305931562,
          -1.7911999540279506,
          0.8759961030601735,
          0.2747985052742041,
          -0.20212363160084537,
          1.9519926300458057,
          1.2228922969535314,
          1.2775425993797307,
          -0.033907857353057,
          -1.1269326593789921,
          -0.35613822482803065,
          -0.3269080347457746,
          1.4592243810701002,
          -0.20686257323796692,
          -0.09616636678433634,
          1.2419410065257095,
          1.3048143207669025,
          -0.2980538960987875,
          1.3781856734829458,
          1.272172464631937,
          -0.3472494847742187,
          -0.010538336780892818,
          -0.16183176257636525,
          0.10152373504878527,
          -1.8653899621822374,
          -0.9683998654059663,
          -0.779130702347315,
          1.6202962931960625,
          -0.4690630803098864,
          0.024481735873536713,
          0.5510679505159154,
          -1.4104672378985652,
          0.5669444261650838,
          -1.350048904489357,
          0.6109803903416247,
          1.311724539759251
         ],
         "xaxis": "x10",
         "y": [
          -0.6846939278970728,
          -2.3075965045478024,
          -0.08633181165856928,
          -0.960632782911131,
          -0.2594843276284265,
          -1.0909004044679218,
          -0.39736078887757353,
          0.4859202399005569,
          0.64713042030015,
          -0.7813163021462705,
          0.2958028918427429,
          -1.3243857628930011,
          -1.662961371536703,
          -0.40043565729067965,
          -0.3451119384557309,
          2.0903955558237,
          -0.012557888875386733,
          0.07247683377659399,
          0.11988491292645348,
          -0.4627347402924009,
          -1.0946635758514829,
          -2.6728360093505703,
          0.4742050895262971,
          -1.150747503716675,
          -1.2679999124494294,
          -1.7425682851942794,
          1.2659089043708076,
          0.6599750210405136,
          0.29300311967555526,
          -0.03466136540901326,
          0.8932463555019038,
          0.1375773675663175,
          -0.39833065736608564,
          0.2287132229961002,
          -1.888861525535101,
          -1.3748150359304196,
          0.41802892703303685,
          1.0966859796173523,
          -0.13334943209995173,
          -1.1419708932998787,
          1.1871886179574034,
          0.8486538344167918,
          -0.5192329608506668,
          0.002664928529814942,
          -0.11805644493445205,
          -2.1302678111856066,
          -1.5493117619924885,
          -0.4579647003513041,
          -1.5589319481231727,
          -0.7013284975095917,
          -1.1942815821767572,
          1.4418256610856601,
          -0.1194927798018692,
          -1.0959742580943388,
          2.102428243098901,
          -0.32061244957872076,
          0.7008907102791864,
          -0.3491490480071671,
          -0.5547074472788999,
          -0.6118401100626987,
          -0.5036361595156262,
          -0.8556225818470531,
          1.572121338917596,
          0.7367614207637612,
          -0.6337092097146587,
          -0.12587396488378122,
          0.5956416887411763,
          -0.5257234999490865,
          -0.25349596817224906,
          -0.5430718989494115,
          0.09758462681366432,
          0.1927830293776624,
          1.5073729373103912,
          -0.5732060696026312,
          -0.357320623311159,
          -0.3825789830900455,
          0.6551065113125831,
          0.7398370183868511,
          -0.7059609433212608,
          -0.42166534144707934,
          3.3206924959670467,
          -0.37304189385547065,
          -1.4746002018309643,
          -0.04270476295674498,
          0.995515542888556,
          0.0033839830817497434,
          1.2256999756538212,
          0.2501254597405451,
          0.33648316506628745,
          2.109721828092375,
          -0.6805331943785887,
          1.3424917917601022,
          0.15416374829761778,
          0.8242630448059016,
          -0.9600061880373896,
          1.0265224829519026,
          -0.8113472662411878,
          -0.39356837717677795,
          0.2006738374444646,
          1.1984113242069359
         ],
         "yaxis": "y10"
        },
        {
         "histfunc": "count",
         "histnorm": "",
         "marker": {
          "color": "rgba(50, 171, 96, 1.0)",
          "line": {
           "color": "#4D5663",
           "width": 1.3
          }
         },
         "name": "C",
         "nbinsx": 10,
         "opacity": 0.8,
         "orientation": "v",
         "type": "histogram",
         "x": [
          -0.6846939278970728,
          -2.3075965045478024,
          -0.08633181165856928,
          -0.960632782911131,
          -0.2594843276284265,
          -1.0909004044679218,
          -0.39736078887757353,
          0.4859202399005569,
          0.64713042030015,
          -0.7813163021462705,
          0.2958028918427429,
          -1.3243857628930011,
          -1.662961371536703,
          -0.40043565729067965,
          -0.3451119384557309,
          2.0903955558237,
          -0.012557888875386733,
          0.07247683377659399,
          0.11988491292645348,
          -0.4627347402924009,
          -1.0946635758514829,
          -2.6728360093505703,
          0.4742050895262971,
          -1.150747503716675,
          -1.2679999124494294,
          -1.7425682851942794,
          1.2659089043708076,
          0.6599750210405136,
          0.29300311967555526,
          -0.03466136540901326,
          0.8932463555019038,
          0.1375773675663175,
          -0.39833065736608564,
          0.2287132229961002,
          -1.888861525535101,
          -1.3748150359304196,
          0.41802892703303685,
          1.0966859796173523,
          -0.13334943209995173,
          -1.1419708932998787,
          1.1871886179574034,
          0.8486538344167918,
          -0.5192329608506668,
          0.002664928529814942,
          -0.11805644493445205,
          -2.1302678111856066,
          -1.5493117619924885,
          -0.4579647003513041,
          -1.5589319481231727,
          -0.7013284975095917,
          -1.1942815821767572,
          1.4418256610856601,
          -0.1194927798018692,
          -1.0959742580943388,
          2.102428243098901,
          -0.32061244957872076,
          0.7008907102791864,
          -0.3491490480071671,
          -0.5547074472788999,
          -0.6118401100626987,
          -0.5036361595156262,
          -0.8556225818470531,
          1.572121338917596,
          0.7367614207637612,
          -0.6337092097146587,
          -0.12587396488378122,
          0.5956416887411763,
          -0.5257234999490865,
          -0.25349596817224906,
          -0.5430718989494115,
          0.09758462681366432,
          0.1927830293776624,
          1.5073729373103912,
          -0.5732060696026312,
          -0.357320623311159,
          -0.3825789830900455,
          0.6551065113125831,
          0.7398370183868511,
          -0.7059609433212608,
          -0.42166534144707934,
          3.3206924959670467,
          -0.37304189385547065,
          -1.4746002018309643,
          -0.04270476295674498,
          0.995515542888556,
          0.0033839830817497434,
          1.2256999756538212,
          0.2501254597405451,
          0.33648316506628745,
          2.109721828092375,
          -0.6805331943785887,
          1.3424917917601022,
          0.15416374829761778,
          0.8242630448059016,
          -0.9600061880373896,
          1.0265224829519026,
          -0.8113472662411878,
          -0.39356837717677795,
          0.2006738374444646,
          1.1984113242069359
         ],
         "xaxis": "x11",
         "yaxis": "y11"
        },
        {
         "line": {
          "color": "rgba(128, 128, 128, 1.0)",
          "dash": "solid",
          "shape": "linear",
          "width": 1.3
         },
         "marker": {
          "size": 2,
          "symbol": "circle"
         },
         "mode": "markers",
         "name": "C",
         "text": "",
         "type": "scatter",
         "x": [
          2.496071177103857,
          0.46081342893771055,
          -0.0993452983368322,
          0.5809415166299917,
          0.40510046264685573,
          -0.5680460155079847,
          1.2013126163899779,
          0.9235025254388937,
          -0.33489510490471136,
          0.6903185909680251,
          1.6940589078900654,
          1.1552141160280898,
          0.4519339032526576,
          -1.6378233982246284,
          -0.18705288580078047,
          -0.6014119459024533,
          -0.08661516142734464,
          -2.2138315256459355,
          0.21259912157741076,
          0.17200406866655887,
          0.06345710562435442,
          -0.1657132760048854,
          0.30709462962362616,
          1.2868210087532836,
          1.8925326595443972,
          0.3172886598320608,
          -0.7675255681542591,
          1.001540368478351,
          1.635234668573889,
          0.6968888827556089,
          -1.2838354891977093,
          -1.4858243901619834,
          1.5883334911707394,
          0.2614533519409762,
          1.4479396943145668,
          0.9869269363450887,
          1.2412667641689517,
          1.4554482284528751,
          -1.739546295511982,
          0.08624035442034013,
          0.014460353605616887,
          -1.4687897908310128,
          0.9263315314260369,
          0.4630509181806159,
          0.3962225137932105,
          -0.5738893360751438,
          0.08255968121947238,
          2.3123736265797725,
          0.1814158966679779,
          1.0023561740323266,
          -0.8432421516873355,
          0.9047034033575648,
          0.14633007324558994,
          -1.2121043743814122,
          0.34701696560862716,
          -0.49474703279285887,
          -0.6706522920168768,
          -2.1344327686615587,
          2.4921141712522954,
          -0.36850330741956977,
          -1.687793543566312,
          -0.25358597500926955,
          -0.8090190742185616,
          0.015245709923150873,
          0.27458290201369623,
          -2.1183057080112224,
          1.0366307466847968,
          1.0273831782140008,
          -1.1570046788261379,
          0.41756679021218324,
          -0.8225478326104317,
          1.2346573270949213,
          0.00624533970765154,
          0.9819581405070998,
          -2.2181810791031715,
          -1.829224609246086,
          0.2780099520868739,
          0.7531073238742761,
          -0.6687741250947908,
          0.307472012042972,
          -1.4508497162720104,
          0.5806461816902653,
          -0.1719019649229563,
          -0.8845797818041453,
          1.7110324908597812,
          -0.8042138569717536,
          -0.117255677636341,
          -0.7971556907902491,
          -0.9257571625867512,
          -0.059484554873857114,
          -1.7648403405153228,
          0.6893596079875423,
          -1.12093735936863,
          1.58417022354427,
          -0.15762384928257814,
          1.199392222105967,
          -0.09112697331503981,
          -1.2436291221677196,
          -1.3395113213792513,
          1.462079062203621
         ],
         "xaxis": "x12",
         "y": [
          -0.6846939278970728,
          -2.3075965045478024,
          -0.08633181165856928,
          -0.960632782911131,
          -0.2594843276284265,
          -1.0909004044679218,
          -0.39736078887757353,
          0.4859202399005569,
          0.64713042030015,
          -0.7813163021462705,
          0.2958028918427429,
          -1.3243857628930011,
          -1.662961371536703,
          -0.40043565729067965,
          -0.3451119384557309,
          2.0903955558237,
          -0.012557888875386733,
          0.07247683377659399,
          0.11988491292645348,
          -0.4627347402924009,
          -1.0946635758514829,
          -2.6728360093505703,
          0.4742050895262971,
          -1.150747503716675,
          -1.2679999124494294,
          -1.7425682851942794,
          1.2659089043708076,
          0.6599750210405136,
          0.29300311967555526,
          -0.03466136540901326,
          0.8932463555019038,
          0.1375773675663175,
          -0.39833065736608564,
          0.2287132229961002,
          -1.888861525535101,
          -1.3748150359304196,
          0.41802892703303685,
          1.0966859796173523,
          -0.13334943209995173,
          -1.1419708932998787,
          1.1871886179574034,
          0.8486538344167918,
          -0.5192329608506668,
          0.002664928529814942,
          -0.11805644493445205,
          -2.1302678111856066,
          -1.5493117619924885,
          -0.4579647003513041,
          -1.5589319481231727,
          -0.7013284975095917,
          -1.1942815821767572,
          1.4418256610856601,
          -0.1194927798018692,
          -1.0959742580943388,
          2.102428243098901,
          -0.32061244957872076,
          0.7008907102791864,
          -0.3491490480071671,
          -0.5547074472788999,
          -0.6118401100626987,
          -0.5036361595156262,
          -0.8556225818470531,
          1.572121338917596,
          0.7367614207637612,
          -0.6337092097146587,
          -0.12587396488378122,
          0.5956416887411763,
          -0.5257234999490865,
          -0.25349596817224906,
          -0.5430718989494115,
          0.09758462681366432,
          0.1927830293776624,
          1.5073729373103912,
          -0.5732060696026312,
          -0.357320623311159,
          -0.3825789830900455,
          0.6551065113125831,
          0.7398370183868511,
          -0.7059609433212608,
          -0.42166534144707934,
          3.3206924959670467,
          -0.37304189385547065,
          -1.4746002018309643,
          -0.04270476295674498,
          0.995515542888556,
          0.0033839830817497434,
          1.2256999756538212,
          0.2501254597405451,
          0.33648316506628745,
          2.109721828092375,
          -0.6805331943785887,
          1.3424917917601022,
          0.15416374829761778,
          0.8242630448059016,
          -0.9600061880373896,
          1.0265224829519026,
          -0.8113472662411878,
          -0.39356837717677795,
          0.2006738374444646,
          1.1984113242069359
         ],
         "yaxis": "y12"
        },
        {
         "line": {
          "color": "rgba(128, 128, 128, 1.0)",
          "dash": "solid",
          "shape": "linear",
          "width": 1.3
         },
         "marker": {
          "size": 2,
          "symbol": "circle"
         },
         "mode": "markers",
         "name": "D",
         "text": "",
         "type": "scatter",
         "x": [
          0.40534718238775297,
          0.4618384364241935,
          0.24801495362386689,
          -0.20275965105180163,
          0.09894775497959721,
          0.6599246788548914,
          0.8438472586319632,
          0.014204738168655967,
          -1.0523175976673647,
          -0.33916820542896847,
          -1.661959469597001,
          0.012685600171485036,
          -0.4789785319016016,
          1.0084397271213716,
          0.5939225191331639,
          -1.095553489611045,
          -0.18951102092657343,
          -0.7485311039793072,
          -0.430464829191035,
          -0.7631277171679673,
          0.36148744061730415,
          0.07563251615586787,
          -1.8860291881983393,
          1.830146264431817,
          1.5261693945209298,
          0.16291324267842877,
          -0.8262337273807737,
          -0.5517585324681692,
          0.345803414065465,
          -1.4703487784808873,
          -0.42067931889214644,
          -0.13166190696965407,
          1.123577676117159,
          1.1810238810798508,
          1.660312792380613,
          0.5051805618852068,
          0.17556028099014473,
          -0.5494279945135929,
          -0.054740206493713695,
          -0.2168076326530869,
          -0.851789995700195,
          1.8015449616578993,
          -1.4170720382865047,
          0.8735331849938913,
          -1.1093059122024311,
          -0.4904870041875731,
          0.024771903075371624,
          -0.14604266902562074,
          -0.1804877739615316,
          -0.26801124668195686,
          0.6532291709068574,
          0.9495574584417534,
          -1.531778149170353,
          1.5890221761187682,
          0.980982056724215,
          -1.3218991841523904,
          -0.7748649079913962,
          0.4742698276888825,
          -0.0020455685397476487,
          1.8920574153876382,
          -0.22893685140438824,
          -0.6971595344536778,
          -1.7688603238410823,
          0.06128443693784288,
          -0.360684189084469,
          -0.4533831065070736,
          1.1124492419990712,
          -0.14284110930219396,
          0.583799577696767,
          0.4763961235399069,
          0.888486188632068,
          1.1547065346517043,
          -0.06266321573539217,
          1.2614886864066421,
          -0.2713660149998362,
          -0.564030478976412,
          -0.36032635768443194,
          -1.386122960420082,
          0.6497222345182069,
          0.4073214610955935,
          1.1951054678585589,
          1.1462194285806422,
          0.3839065700825093,
          0.02158569664438489,
          -0.31607498419747876,
          1.2258170818043679,
          1.5403849676974233,
          -1.2793493722883689,
          1.4546677261348309,
          0.8853740095330099,
          -0.27871528402228496,
          -0.45790415202886203,
          0.6078800386133114,
          0.2619094555525887,
          -0.9359554761132841,
          -1.310045647360763,
          0.8639954189862001,
          -0.17319697866189304,
          -0.23456567552557125,
          0.39507788382193987
         ],
         "xaxis": "x13",
         "y": [
          2.496071177103857,
          0.46081342893771055,
          -0.0993452983368322,
          0.5809415166299917,
          0.40510046264685573,
          -0.5680460155079847,
          1.2013126163899779,
          0.9235025254388937,
          -0.33489510490471136,
          0.6903185909680251,
          1.6940589078900654,
          1.1552141160280898,
          0.4519339032526576,
          -1.6378233982246284,
          -0.18705288580078047,
          -0.6014119459024533,
          -0.08661516142734464,
          -2.2138315256459355,
          0.21259912157741076,
          0.17200406866655887,
          0.06345710562435442,
          -0.1657132760048854,
          0.30709462962362616,
          1.2868210087532836,
          1.8925326595443972,
          0.3172886598320608,
          -0.7675255681542591,
          1.001540368478351,
          1.635234668573889,
          0.6968888827556089,
          -1.2838354891977093,
          -1.4858243901619834,
          1.5883334911707394,
          0.2614533519409762,
          1.4479396943145668,
          0.9869269363450887,
          1.2412667641689517,
          1.4554482284528751,
          -1.739546295511982,
          0.08624035442034013,
          0.014460353605616887,
          -1.4687897908310128,
          0.9263315314260369,
          0.4630509181806159,
          0.3962225137932105,
          -0.5738893360751438,
          0.08255968121947238,
          2.3123736265797725,
          0.1814158966679779,
          1.0023561740323266,
          -0.8432421516873355,
          0.9047034033575648,
          0.14633007324558994,
          -1.2121043743814122,
          0.34701696560862716,
          -0.49474703279285887,
          -0.6706522920168768,
          -2.1344327686615587,
          2.4921141712522954,
          -0.36850330741956977,
          -1.687793543566312,
          -0.25358597500926955,
          -0.8090190742185616,
          0.015245709923150873,
          0.27458290201369623,
          -2.1183057080112224,
          1.0366307466847968,
          1.0273831782140008,
          -1.1570046788261379,
          0.41756679021218324,
          -0.8225478326104317,
          1.2346573270949213,
          0.00624533970765154,
          0.9819581405070998,
          -2.2181810791031715,
          -1.829224609246086,
          0.2780099520868739,
          0.7531073238742761,
          -0.6687741250947908,
          0.307472012042972,
          -1.4508497162720104,
          0.5806461816902653,
          -0.1719019649229563,
          -0.8845797818041453,
          1.7110324908597812,
          -0.8042138569717536,
          -0.117255677636341,
          -0.7971556907902491,
          -0.9257571625867512,
          -0.059484554873857114,
          -1.7648403405153228,
          0.6893596079875423,
          -1.12093735936863,
          1.58417022354427,
          -0.15762384928257814,
          1.199392222105967,
          -0.09112697331503981,
          -1.2436291221677196,
          -1.3395113213792513,
          1.462079062203621
         ],
         "yaxis": "y13"
        },
        {
         "line": {
          "color": "rgba(128, 128, 128, 1.0)",
          "dash": "solid",
          "shape": "linear",
          "width": 1.3
         },
         "marker": {
          "size": 2,
          "symbol": "circle"
         },
         "mode": "markers",
         "name": "D",
         "text": "",
         "type": "scatter",
         "x": [
          1.022485686609692,
          -0.2991330376533287,
          -0.63888610969383,
          -0.8833750002612436,
          -0.4078861332958796,
          0.4799082532464347,
          -1.357274840799496,
          0.19810773620278088,
          -0.19783074771131168,
          0.692818817496382,
          0.23191266266703442,
          -0.39355437747570005,
          0.5447687622016464,
          -0.14091375476541995,
          -0.22769161270345697,
          0.8588915764933582,
          -0.6783986928331065,
          0.8211036067421712,
          0.25817266001630773,
          0.14799711696746098,
          0.05927620745292284,
          -0.36267230950085433,
          1.2593028653582603,
          -1.0007777217527574,
          1.2282436874541525,
          -0.12769887512315786,
          1.7030143913579163,
          -1.0020872605347468,
          0.3195560424142498,
          0.15240321418665187,
          -1.5797861553236705,
          -0.3739313200333769,
          2.6021110509168666,
          -1.4471100938515242,
          -0.22318666138188153,
          0.47553906694810044,
          -1.1809472376756547,
          1.6162460221607278,
          -0.30331773033449044,
          -0.13182156682787596,
          1.4149621524860898,
          -0.9530259792261948,
          0.2742169032926556,
          -0.046045542434082556,
          0.634280138667863,
          -0.44208708609224245,
          0.6918129090202446,
          0.18012353082972507,
          -0.03975756365095694,
          -0.4035085758608769,
          -1.7585817100788126,
          -0.2996635985622194,
          -0.08613466026216665,
          1.3407846486700787,
          -1.2852375040247463,
          0.9426548906856975,
          -0.4237478485145406,
          -0.9875258770195806,
          0.8492892915359607,
          0.8623233408981996,
          -0.6444147916046757,
          0.1078678343079182,
          -0.9875734437892321,
          1.291562887565866,
          -0.8904951305931562,
          -1.7911999540279506,
          0.8759961030601735,
          0.2747985052742041,
          -0.20212363160084537,
          1.9519926300458057,
          1.2228922969535314,
          1.2775425993797307,
          -0.033907857353057,
          -1.1269326593789921,
          -0.35613822482803065,
          -0.3269080347457746,
          1.4592243810701002,
          -0.20686257323796692,
          -0.09616636678433634,
          1.2419410065257095,
          1.3048143207669025,
          -0.2980538960987875,
          1.3781856734829458,
          1.272172464631937,
          -0.3472494847742187,
          -0.010538336780892818,
          -0.16183176257636525,
          0.10152373504878527,
          -1.8653899621822374,
          -0.9683998654059663,
          -0.779130702347315,
          1.6202962931960625,
          -0.4690630803098864,
          0.024481735873536713,
          0.5510679505159154,
          -1.4104672378985652,
          0.5669444261650838,
          -1.350048904489357,
          0.6109803903416247,
          1.311724539759251
         ],
         "xaxis": "x14",
         "y": [
          2.496071177103857,
          0.46081342893771055,
          -0.0993452983368322,
          0.5809415166299917,
          0.40510046264685573,
          -0.5680460155079847,
          1.2013126163899779,
          0.9235025254388937,
          -0.33489510490471136,
          0.6903185909680251,
          1.6940589078900654,
          1.1552141160280898,
          0.4519339032526576,
          -1.6378233982246284,
          -0.18705288580078047,
          -0.6014119459024533,
          -0.08661516142734464,
          -2.2138315256459355,
          0.21259912157741076,
          0.17200406866655887,
          0.06345710562435442,
          -0.1657132760048854,
          0.30709462962362616,
          1.2868210087532836,
          1.8925326595443972,
          0.3172886598320608,
          -0.7675255681542591,
          1.001540368478351,
          1.635234668573889,
          0.6968888827556089,
          -1.2838354891977093,
          -1.4858243901619834,
          1.5883334911707394,
          0.2614533519409762,
          1.4479396943145668,
          0.9869269363450887,
          1.2412667641689517,
          1.4554482284528751,
          -1.739546295511982,
          0.08624035442034013,
          0.014460353605616887,
          -1.4687897908310128,
          0.9263315314260369,
          0.4630509181806159,
          0.3962225137932105,
          -0.5738893360751438,
          0.08255968121947238,
          2.3123736265797725,
          0.1814158966679779,
          1.0023561740323266,
          -0.8432421516873355,
          0.9047034033575648,
          0.14633007324558994,
          -1.2121043743814122,
          0.34701696560862716,
          -0.49474703279285887,
          -0.6706522920168768,
          -2.1344327686615587,
          2.4921141712522954,
          -0.36850330741956977,
          -1.687793543566312,
          -0.25358597500926955,
          -0.8090190742185616,
          0.015245709923150873,
          0.27458290201369623,
          -2.1183057080112224,
          1.0366307466847968,
          1.0273831782140008,
          -1.1570046788261379,
          0.41756679021218324,
          -0.8225478326104317,
          1.2346573270949213,
          0.00624533970765154,
          0.9819581405070998,
          -2.2181810791031715,
          -1.829224609246086,
          0.2780099520868739,
          0.7531073238742761,
          -0.6687741250947908,
          0.307472012042972,
          -1.4508497162720104,
          0.5806461816902653,
          -0.1719019649229563,
          -0.8845797818041453,
          1.7110324908597812,
          -0.8042138569717536,
          -0.117255677636341,
          -0.7971556907902491,
          -0.9257571625867512,
          -0.059484554873857114,
          -1.7648403405153228,
          0.6893596079875423,
          -1.12093735936863,
          1.58417022354427,
          -0.15762384928257814,
          1.199392222105967,
          -0.09112697331503981,
          -1.2436291221677196,
          -1.3395113213792513,
          1.462079062203621
         ],
         "yaxis": "y14"
        },
        {
         "line": {
          "color": "rgba(128, 128, 128, 1.0)",
          "dash": "solid",
          "shape": "linear",
          "width": 1.3
         },
         "marker": {
          "size": 2,
          "symbol": "circle"
         },
         "mode": "markers",
         "name": "D",
         "text": "",
         "type": "scatter",
         "x": [
          -0.6846939278970728,
          -2.3075965045478024,
          -0.08633181165856928,
          -0.960632782911131,
          -0.2594843276284265,
          -1.0909004044679218,
          -0.39736078887757353,
          0.4859202399005569,
          0.64713042030015,
          -0.7813163021462705,
          0.2958028918427429,
          -1.3243857628930011,
          -1.662961371536703,
          -0.40043565729067965,
          -0.3451119384557309,
          2.0903955558237,
          -0.012557888875386733,
          0.07247683377659399,
          0.11988491292645348,
          -0.4627347402924009,
          -1.0946635758514829,
          -2.6728360093505703,
          0.4742050895262971,
          -1.150747503716675,
          -1.2679999124494294,
          -1.7425682851942794,
          1.2659089043708076,
          0.6599750210405136,
          0.29300311967555526,
          -0.03466136540901326,
          0.8932463555019038,
          0.1375773675663175,
          -0.39833065736608564,
          0.2287132229961002,
          -1.888861525535101,
          -1.3748150359304196,
          0.41802892703303685,
          1.0966859796173523,
          -0.13334943209995173,
          -1.1419708932998787,
          1.1871886179574034,
          0.8486538344167918,
          -0.5192329608506668,
          0.002664928529814942,
          -0.11805644493445205,
          -2.1302678111856066,
          -1.5493117619924885,
          -0.4579647003513041,
          -1.5589319481231727,
          -0.7013284975095917,
          -1.1942815821767572,
          1.4418256610856601,
          -0.1194927798018692,
          -1.0959742580943388,
          2.102428243098901,
          -0.32061244957872076,
          0.7008907102791864,
          -0.3491490480071671,
          -0.5547074472788999,
          -0.6118401100626987,
          -0.5036361595156262,
          -0.8556225818470531,
          1.572121338917596,
          0.7367614207637612,
          -0.6337092097146587,
          -0.12587396488378122,
          0.5956416887411763,
          -0.5257234999490865,
          -0.25349596817224906,
          -0.5430718989494115,
          0.09758462681366432,
          0.1927830293776624,
          1.5073729373103912,
          -0.5732060696026312,
          -0.357320623311159,
          -0.3825789830900455,
          0.6551065113125831,
          0.7398370183868511,
          -0.7059609433212608,
          -0.42166534144707934,
          3.3206924959670467,
          -0.37304189385547065,
          -1.4746002018309643,
          -0.04270476295674498,
          0.995515542888556,
          0.0033839830817497434,
          1.2256999756538212,
          0.2501254597405451,
          0.33648316506628745,
          2.109721828092375,
          -0.6805331943785887,
          1.3424917917601022,
          0.15416374829761778,
          0.8242630448059016,
          -0.9600061880373896,
          1.0265224829519026,
          -0.8113472662411878,
          -0.39356837717677795,
          0.2006738374444646,
          1.1984113242069359
         ],
         "xaxis": "x15",
         "y": [
          2.496071177103857,
          0.46081342893771055,
          -0.0993452983368322,
          0.5809415166299917,
          0.40510046264685573,
          -0.5680460155079847,
          1.2013126163899779,
          0.9235025254388937,
          -0.33489510490471136,
          0.6903185909680251,
          1.6940589078900654,
          1.1552141160280898,
          0.4519339032526576,
          -1.6378233982246284,
          -0.18705288580078047,
          -0.6014119459024533,
          -0.08661516142734464,
          -2.2138315256459355,
          0.21259912157741076,
          0.17200406866655887,
          0.06345710562435442,
          -0.1657132760048854,
          0.30709462962362616,
          1.2868210087532836,
          1.8925326595443972,
          0.3172886598320608,
          -0.7675255681542591,
          1.001540368478351,
          1.635234668573889,
          0.6968888827556089,
          -1.2838354891977093,
          -1.4858243901619834,
          1.5883334911707394,
          0.2614533519409762,
          1.4479396943145668,
          0.9869269363450887,
          1.2412667641689517,
          1.4554482284528751,
          -1.739546295511982,
          0.08624035442034013,
          0.014460353605616887,
          -1.4687897908310128,
          0.9263315314260369,
          0.4630509181806159,
          0.3962225137932105,
          -0.5738893360751438,
          0.08255968121947238,
          2.3123736265797725,
          0.1814158966679779,
          1.0023561740323266,
          -0.8432421516873355,
          0.9047034033575648,
          0.14633007324558994,
          -1.2121043743814122,
          0.34701696560862716,
          -0.49474703279285887,
          -0.6706522920168768,
          -2.1344327686615587,
          2.4921141712522954,
          -0.36850330741956977,
          -1.687793543566312,
          -0.25358597500926955,
          -0.8090190742185616,
          0.015245709923150873,
          0.27458290201369623,
          -2.1183057080112224,
          1.0366307466847968,
          1.0273831782140008,
          -1.1570046788261379,
          0.41756679021218324,
          -0.8225478326104317,
          1.2346573270949213,
          0.00624533970765154,
          0.9819581405070998,
          -2.2181810791031715,
          -1.829224609246086,
          0.2780099520868739,
          0.7531073238742761,
          -0.6687741250947908,
          0.307472012042972,
          -1.4508497162720104,
          0.5806461816902653,
          -0.1719019649229563,
          -0.8845797818041453,
          1.7110324908597812,
          -0.8042138569717536,
          -0.117255677636341,
          -0.7971556907902491,
          -0.9257571625867512,
          -0.059484554873857114,
          -1.7648403405153228,
          0.6893596079875423,
          -1.12093735936863,
          1.58417022354427,
          -0.15762384928257814,
          1.199392222105967,
          -0.09112697331503981,
          -1.2436291221677196,
          -1.3395113213792513,
          1.462079062203621
         ],
         "yaxis": "y15"
        },
        {
         "histfunc": "count",
         "histnorm": "",
         "marker": {
          "color": "rgba(128, 0, 128, 1.0)",
          "line": {
           "color": "#4D5663",
           "width": 1.3
          }
         },
         "name": "D",
         "nbinsx": 10,
         "opacity": 0.8,
         "orientation": "v",
         "type": "histogram",
         "x": [
          2.496071177103857,
          0.46081342893771055,
          -0.0993452983368322,
          0.5809415166299917,
          0.40510046264685573,
          -0.5680460155079847,
          1.2013126163899779,
          0.9235025254388937,
          -0.33489510490471136,
          0.6903185909680251,
          1.6940589078900654,
          1.1552141160280898,
          0.4519339032526576,
          -1.6378233982246284,
          -0.18705288580078047,
          -0.6014119459024533,
          -0.08661516142734464,
          -2.2138315256459355,
          0.21259912157741076,
          0.17200406866655887,
          0.06345710562435442,
          -0.1657132760048854,
          0.30709462962362616,
          1.2868210087532836,
          1.8925326595443972,
          0.3172886598320608,
          -0.7675255681542591,
          1.001540368478351,
          1.635234668573889,
          0.6968888827556089,
          -1.2838354891977093,
          -1.4858243901619834,
          1.5883334911707394,
          0.2614533519409762,
          1.4479396943145668,
          0.9869269363450887,
          1.2412667641689517,
          1.4554482284528751,
          -1.739546295511982,
          0.08624035442034013,
          0.014460353605616887,
          -1.4687897908310128,
          0.9263315314260369,
          0.4630509181806159,
          0.3962225137932105,
          -0.5738893360751438,
          0.08255968121947238,
          2.3123736265797725,
          0.1814158966679779,
          1.0023561740323266,
          -0.8432421516873355,
          0.9047034033575648,
          0.14633007324558994,
          -1.2121043743814122,
          0.34701696560862716,
          -0.49474703279285887,
          -0.6706522920168768,
          -2.1344327686615587,
          2.4921141712522954,
          -0.36850330741956977,
          -1.687793543566312,
          -0.25358597500926955,
          -0.8090190742185616,
          0.015245709923150873,
          0.27458290201369623,
          -2.1183057080112224,
          1.0366307466847968,
          1.0273831782140008,
          -1.1570046788261379,
          0.41756679021218324,
          -0.8225478326104317,
          1.2346573270949213,
          0.00624533970765154,
          0.9819581405070998,
          -2.2181810791031715,
          -1.829224609246086,
          0.2780099520868739,
          0.7531073238742761,
          -0.6687741250947908,
          0.307472012042972,
          -1.4508497162720104,
          0.5806461816902653,
          -0.1719019649229563,
          -0.8845797818041453,
          1.7110324908597812,
          -0.8042138569717536,
          -0.117255677636341,
          -0.7971556907902491,
          -0.9257571625867512,
          -0.059484554873857114,
          -1.7648403405153228,
          0.6893596079875423,
          -1.12093735936863,
          1.58417022354427,
          -0.15762384928257814,
          1.199392222105967,
          -0.09112697331503981,
          -1.2436291221677196,
          -1.3395113213792513,
          1.462079062203621
         ],
         "xaxis": "x16",
         "yaxis": "y16"
        }
       ],
       "layout": {
        "bargap": 0.02,
        "legend": {
         "bgcolor": "#F5F6F9",
         "font": {
          "color": "#4D5663"
         }
        },
        "paper_bgcolor": "#F5F6F9",
        "plot_bgcolor": "#F5F6F9",
        "showlegend": false,
        "template": {
         "data": {
          "bar": [
           {
            "error_x": {
             "color": "#2a3f5f"
            },
            "error_y": {
             "color": "#2a3f5f"
            },
            "marker": {
             "line": {
              "color": "#E5ECF6",
              "width": 0.5
             },
             "pattern": {
              "fillmode": "overlay",
              "size": 10,
              "solidity": 0.2
             }
            },
            "type": "bar"
           }
          ],
          "barpolar": [
           {
            "marker": {
             "line": {
              "color": "#E5ECF6",
              "width": 0.5
             },
             "pattern": {
              "fillmode": "overlay",
              "size": 10,
              "solidity": 0.2
             }
            },
            "type": "barpolar"
           }
          ],
          "carpet": [
           {
            "aaxis": {
             "endlinecolor": "#2a3f5f",
             "gridcolor": "white",
             "linecolor": "white",
             "minorgridcolor": "white",
             "startlinecolor": "#2a3f5f"
            },
            "baxis": {
             "endlinecolor": "#2a3f5f",
             "gridcolor": "white",
             "linecolor": "white",
             "minorgridcolor": "white",
             "startlinecolor": "#2a3f5f"
            },
            "type": "carpet"
           }
          ],
          "choropleth": [
           {
            "colorbar": {
             "outlinewidth": 0,
             "ticks": ""
            },
            "type": "choropleth"
           }
          ],
          "contour": [
           {
            "colorbar": {
             "outlinewidth": 0,
             "ticks": ""
            },
            "colorscale": [
             [
              0,
              "#0d0887"
             ],
             [
              0.1111111111111111,
              "#46039f"
             ],
             [
              0.2222222222222222,
              "#7201a8"
             ],
             [
              0.3333333333333333,
              "#9c179e"
             ],
             [
              0.4444444444444444,
              "#bd3786"
             ],
             [
              0.5555555555555556,
              "#d8576b"
             ],
             [
              0.6666666666666666,
              "#ed7953"
             ],
             [
              0.7777777777777778,
              "#fb9f3a"
             ],
             [
              0.8888888888888888,
              "#fdca26"
             ],
             [
              1,
              "#f0f921"
             ]
            ],
            "type": "contour"
           }
          ],
          "contourcarpet": [
           {
            "colorbar": {
             "outlinewidth": 0,
             "ticks": ""
            },
            "type": "contourcarpet"
           }
          ],
          "heatmap": [
           {
            "colorbar": {
             "outlinewidth": 0,
             "ticks": ""
            },
            "colorscale": [
             [
              0,
              "#0d0887"
             ],
             [
              0.1111111111111111,
              "#46039f"
             ],
             [
              0.2222222222222222,
              "#7201a8"
             ],
             [
              0.3333333333333333,
              "#9c179e"
             ],
             [
              0.4444444444444444,
              "#bd3786"
             ],
             [
              0.5555555555555556,
              "#d8576b"
             ],
             [
              0.6666666666666666,
              "#ed7953"
             ],
             [
              0.7777777777777778,
              "#fb9f3a"
             ],
             [
              0.8888888888888888,
              "#fdca26"
             ],
             [
              1,
              "#f0f921"
             ]
            ],
            "type": "heatmap"
           }
          ],
          "heatmapgl": [
           {
            "colorbar": {
             "outlinewidth": 0,
             "ticks": ""
            },
            "colorscale": [
             [
              0,
              "#0d0887"
             ],
             [
              0.1111111111111111,
              "#46039f"
             ],
             [
              0.2222222222222222,
              "#7201a8"
             ],
             [
              0.3333333333333333,
              "#9c179e"
             ],
             [
              0.4444444444444444,
              "#bd3786"
             ],
             [
              0.5555555555555556,
              "#d8576b"
             ],
             [
              0.6666666666666666,
              "#ed7953"
             ],
             [
              0.7777777777777778,
              "#fb9f3a"
             ],
             [
              0.8888888888888888,
              "#fdca26"
             ],
             [
              1,
              "#f0f921"
             ]
            ],
            "type": "heatmapgl"
           }
          ],
          "histogram": [
           {
            "marker": {
             "pattern": {
              "fillmode": "overlay",
              "size": 10,
              "solidity": 0.2
             }
            },
            "type": "histogram"
           }
          ],
          "histogram2d": [
           {
            "colorbar": {
             "outlinewidth": 0,
             "ticks": ""
            },
            "colorscale": [
             [
              0,
              "#0d0887"
             ],
             [
              0.1111111111111111,
              "#46039f"
             ],
             [
              0.2222222222222222,
              "#7201a8"
             ],
             [
              0.3333333333333333,
              "#9c179e"
             ],
             [
              0.4444444444444444,
              "#bd3786"
             ],
             [
              0.5555555555555556,
              "#d8576b"
             ],
             [
              0.6666666666666666,
              "#ed7953"
             ],
             [
              0.7777777777777778,
              "#fb9f3a"
             ],
             [
              0.8888888888888888,
              "#fdca26"
             ],
             [
              1,
              "#f0f921"
             ]
            ],
            "type": "histogram2d"
           }
          ],
          "histogram2dcontour": [
           {
            "colorbar": {
             "outlinewidth": 0,
             "ticks": ""
            },
            "colorscale": [
             [
              0,
              "#0d0887"
             ],
             [
              0.1111111111111111,
              "#46039f"
             ],
             [
              0.2222222222222222,
              "#7201a8"
             ],
             [
              0.3333333333333333,
              "#9c179e"
             ],
             [
              0.4444444444444444,
              "#bd3786"
             ],
             [
              0.5555555555555556,
              "#d8576b"
             ],
             [
              0.6666666666666666,
              "#ed7953"
             ],
             [
              0.7777777777777778,
              "#fb9f3a"
             ],
             [
              0.8888888888888888,
              "#fdca26"
             ],
             [
              1,
              "#f0f921"
             ]
            ],
            "type": "histogram2dcontour"
           }
          ],
          "mesh3d": [
           {
            "colorbar": {
             "outlinewidth": 0,
             "ticks": ""
            },
            "type": "mesh3d"
           }
          ],
          "parcoords": [
           {
            "line": {
             "colorbar": {
              "outlinewidth": 0,
              "ticks": ""
             }
            },
            "type": "parcoords"
           }
          ],
          "pie": [
           {
            "automargin": true,
            "type": "pie"
           }
          ],
          "scatter": [
           {
            "fillpattern": {
             "fillmode": "overlay",
             "size": 10,
             "solidity": 0.2
            },
            "type": "scatter"
           }
          ],
          "scatter3d": [
           {
            "line": {
             "colorbar": {
              "outlinewidth": 0,
              "ticks": ""
             }
            },
            "marker": {
             "colorbar": {
              "outlinewidth": 0,
              "ticks": ""
             }
            },
            "type": "scatter3d"
           }
          ],
          "scattercarpet": [
           {
            "marker": {
             "colorbar": {
              "outlinewidth": 0,
              "ticks": ""
             }
            },
            "type": "scattercarpet"
           }
          ],
          "scattergeo": [
           {
            "marker": {
             "colorbar": {
              "outlinewidth": 0,
              "ticks": ""
             }
            },
            "type": "scattergeo"
           }
          ],
          "scattergl": [
           {
            "marker": {
             "colorbar": {
              "outlinewidth": 0,
              "ticks": ""
             }
            },
            "type": "scattergl"
           }
          ],
          "scattermapbox": [
           {
            "marker": {
             "colorbar": {
              "outlinewidth": 0,
              "ticks": ""
             }
            },
            "type": "scattermapbox"
           }
          ],
          "scatterpolar": [
           {
            "marker": {
             "colorbar": {
              "outlinewidth": 0,
              "ticks": ""
             }
            },
            "type": "scatterpolar"
           }
          ],
          "scatterpolargl": [
           {
            "marker": {
             "colorbar": {
              "outlinewidth": 0,
              "ticks": ""
             }
            },
            "type": "scatterpolargl"
           }
          ],
          "scatterternary": [
           {
            "marker": {
             "colorbar": {
              "outlinewidth": 0,
              "ticks": ""
             }
            },
            "type": "scatterternary"
           }
          ],
          "surface": [
           {
            "colorbar": {
             "outlinewidth": 0,
             "ticks": ""
            },
            "colorscale": [
             [
              0,
              "#0d0887"
             ],
             [
              0.1111111111111111,
              "#46039f"
             ],
             [
              0.2222222222222222,
              "#7201a8"
             ],
             [
              0.3333333333333333,
              "#9c179e"
             ],
             [
              0.4444444444444444,
              "#bd3786"
             ],
             [
              0.5555555555555556,
              "#d8576b"
             ],
             [
              0.6666666666666666,
              "#ed7953"
             ],
             [
              0.7777777777777778,
              "#fb9f3a"
             ],
             [
              0.8888888888888888,
              "#fdca26"
             ],
             [
              1,
              "#f0f921"
             ]
            ],
            "type": "surface"
           }
          ],
          "table": [
           {
            "cells": {
             "fill": {
              "color": "#EBF0F8"
             },
             "line": {
              "color": "white"
             }
            },
            "header": {
             "fill": {
              "color": "#C8D4E3"
             },
             "line": {
              "color": "white"
             }
            },
            "type": "table"
           }
          ]
         },
         "layout": {
          "annotationdefaults": {
           "arrowcolor": "#2a3f5f",
           "arrowhead": 0,
           "arrowwidth": 1
          },
          "autotypenumbers": "strict",
          "coloraxis": {
           "colorbar": {
            "outlinewidth": 0,
            "ticks": ""
           }
          },
          "colorscale": {
           "diverging": [
            [
             0,
             "#8e0152"
            ],
            [
             0.1,
             "#c51b7d"
            ],
            [
             0.2,
             "#de77ae"
            ],
            [
             0.3,
             "#f1b6da"
            ],
            [
             0.4,
             "#fde0ef"
            ],
            [
             0.5,
             "#f7f7f7"
            ],
            [
             0.6,
             "#e6f5d0"
            ],
            [
             0.7,
             "#b8e186"
            ],
            [
             0.8,
             "#7fbc41"
            ],
            [
             0.9,
             "#4d9221"
            ],
            [
             1,
             "#276419"
            ]
           ],
           "sequential": [
            [
             0,
             "#0d0887"
            ],
            [
             0.1111111111111111,
             "#46039f"
            ],
            [
             0.2222222222222222,
             "#7201a8"
            ],
            [
             0.3333333333333333,
             "#9c179e"
            ],
            [
             0.4444444444444444,
             "#bd3786"
            ],
            [
             0.5555555555555556,
             "#d8576b"
            ],
            [
             0.6666666666666666,
             "#ed7953"
            ],
            [
             0.7777777777777778,
             "#fb9f3a"
            ],
            [
             0.8888888888888888,
             "#fdca26"
            ],
            [
             1,
             "#f0f921"
            ]
           ],
           "sequentialminus": [
            [
             0,
             "#0d0887"
            ],
            [
             0.1111111111111111,
             "#46039f"
            ],
            [
             0.2222222222222222,
             "#7201a8"
            ],
            [
             0.3333333333333333,
             "#9c179e"
            ],
            [
             0.4444444444444444,
             "#bd3786"
            ],
            [
             0.5555555555555556,
             "#d8576b"
            ],
            [
             0.6666666666666666,
             "#ed7953"
            ],
            [
             0.7777777777777778,
             "#fb9f3a"
            ],
            [
             0.8888888888888888,
             "#fdca26"
            ],
            [
             1,
             "#f0f921"
            ]
           ]
          },
          "colorway": [
           "#636efa",
           "#EF553B",
           "#00cc96",
           "#ab63fa",
           "#FFA15A",
           "#19d3f3",
           "#FF6692",
           "#B6E880",
           "#FF97FF",
           "#FECB52"
          ],
          "font": {
           "color": "#2a3f5f"
          },
          "geo": {
           "bgcolor": "white",
           "lakecolor": "white",
           "landcolor": "#E5ECF6",
           "showlakes": true,
           "showland": true,
           "subunitcolor": "white"
          },
          "hoverlabel": {
           "align": "left"
          },
          "hovermode": "closest",
          "mapbox": {
           "style": "light"
          },
          "paper_bgcolor": "white",
          "plot_bgcolor": "#E5ECF6",
          "polar": {
           "angularaxis": {
            "gridcolor": "white",
            "linecolor": "white",
            "ticks": ""
           },
           "bgcolor": "#E5ECF6",
           "radialaxis": {
            "gridcolor": "white",
            "linecolor": "white",
            "ticks": ""
           }
          },
          "scene": {
           "xaxis": {
            "backgroundcolor": "#E5ECF6",
            "gridcolor": "white",
            "gridwidth": 2,
            "linecolor": "white",
            "showbackground": true,
            "ticks": "",
            "zerolinecolor": "white"
           },
           "yaxis": {
            "backgroundcolor": "#E5ECF6",
            "gridcolor": "white",
            "gridwidth": 2,
            "linecolor": "white",
            "showbackground": true,
            "ticks": "",
            "zerolinecolor": "white"
           },
           "zaxis": {
            "backgroundcolor": "#E5ECF6",
            "gridcolor": "white",
            "gridwidth": 2,
            "linecolor": "white",
            "showbackground": true,
            "ticks": "",
            "zerolinecolor": "white"
           }
          },
          "shapedefaults": {
           "line": {
            "color": "#2a3f5f"
           }
          },
          "ternary": {
           "aaxis": {
            "gridcolor": "white",
            "linecolor": "white",
            "ticks": ""
           },
           "baxis": {
            "gridcolor": "white",
            "linecolor": "white",
            "ticks": ""
           },
           "bgcolor": "#E5ECF6",
           "caxis": {
            "gridcolor": "white",
            "linecolor": "white",
            "ticks": ""
           }
          },
          "title": {
           "x": 0.05
          },
          "xaxis": {
           "automargin": true,
           "gridcolor": "white",
           "linecolor": "white",
           "ticks": "",
           "title": {
            "standoff": 15
           },
           "zerolinecolor": "white",
           "zerolinewidth": 2
          },
          "yaxis": {
           "automargin": true,
           "gridcolor": "white",
           "linecolor": "white",
           "ticks": "",
           "title": {
            "standoff": 15
           },
           "zerolinecolor": "white",
           "zerolinewidth": 2
          }
         }
        },
        "title": {
         "font": {
          "color": "#4D5663"
         }
        },
        "xaxis": {
         "anchor": "y",
         "domain": [
          0,
          0.2125
         ],
         "gridcolor": "#E1E5ED",
         "showgrid": false,
         "tickfont": {
          "color": "#4D5663"
         },
         "title": {
          "font": {
           "color": "#4D5663"
          },
          "text": ""
         },
         "zerolinecolor": "#E1E5ED"
        },
        "xaxis10": {
         "anchor": "y10",
         "domain": [
          0.2625,
          0.475
         ],
         "gridcolor": "#E1E5ED",
         "showgrid": false,
         "tickfont": {
          "color": "#4D5663"
         },
         "title": {
          "font": {
           "color": "#4D5663"
          },
          "text": ""
         },
         "zerolinecolor": "#E1E5ED"
        },
        "xaxis11": {
         "anchor": "y11",
         "domain": [
          0.525,
          0.7375
         ],
         "gridcolor": "#E1E5ED",
         "showgrid": false,
         "tickfont": {
          "color": "#4D5663"
         },
         "title": {
          "font": {
           "color": "#4D5663"
          },
          "text": ""
         },
         "zerolinecolor": "#E1E5ED"
        },
        "xaxis12": {
         "anchor": "y12",
         "domain": [
          0.7875,
          1
         ],
         "gridcolor": "#E1E5ED",
         "showgrid": false,
         "tickfont": {
          "color": "#4D5663"
         },
         "title": {
          "font": {
           "color": "#4D5663"
          },
          "text": ""
         },
         "zerolinecolor": "#E1E5ED"
        },
        "xaxis13": {
         "anchor": "y13",
         "domain": [
          0,
          0.2125
         ],
         "gridcolor": "#E1E5ED",
         "showgrid": false,
         "tickfont": {
          "color": "#4D5663"
         },
         "title": {
          "font": {
           "color": "#4D5663"
          },
          "text": ""
         },
         "zerolinecolor": "#E1E5ED"
        },
        "xaxis14": {
         "anchor": "y14",
         "domain": [
          0.2625,
          0.475
         ],
         "gridcolor": "#E1E5ED",
         "showgrid": false,
         "tickfont": {
          "color": "#4D5663"
         },
         "title": {
          "font": {
           "color": "#4D5663"
          },
          "text": ""
         },
         "zerolinecolor": "#E1E5ED"
        },
        "xaxis15": {
         "anchor": "y15",
         "domain": [
          0.525,
          0.7375
         ],
         "gridcolor": "#E1E5ED",
         "showgrid": false,
         "tickfont": {
          "color": "#4D5663"
         },
         "title": {
          "font": {
           "color": "#4D5663"
          },
          "text": ""
         },
         "zerolinecolor": "#E1E5ED"
        },
        "xaxis16": {
         "anchor": "y16",
         "domain": [
          0.7875,
          1
         ],
         "gridcolor": "#E1E5ED",
         "showgrid": false,
         "tickfont": {
          "color": "#4D5663"
         },
         "title": {
          "font": {
           "color": "#4D5663"
          },
          "text": ""
         },
         "zerolinecolor": "#E1E5ED"
        },
        "xaxis2": {
         "anchor": "y2",
         "domain": [
          0.2625,
          0.475
         ],
         "gridcolor": "#E1E5ED",
         "showgrid": false,
         "tickfont": {
          "color": "#4D5663"
         },
         "title": {
          "font": {
           "color": "#4D5663"
          },
          "text": ""
         },
         "zerolinecolor": "#E1E5ED"
        },
        "xaxis3": {
         "anchor": "y3",
         "domain": [
          0.525,
          0.7375
         ],
         "gridcolor": "#E1E5ED",
         "showgrid": false,
         "tickfont": {
          "color": "#4D5663"
         },
         "title": {
          "font": {
           "color": "#4D5663"
          },
          "text": ""
         },
         "zerolinecolor": "#E1E5ED"
        },
        "xaxis4": {
         "anchor": "y4",
         "domain": [
          0.7875,
          1
         ],
         "gridcolor": "#E1E5ED",
         "showgrid": false,
         "tickfont": {
          "color": "#4D5663"
         },
         "title": {
          "font": {
           "color": "#4D5663"
          },
          "text": ""
         },
         "zerolinecolor": "#E1E5ED"
        },
        "xaxis5": {
         "anchor": "y5",
         "domain": [
          0,
          0.2125
         ],
         "gridcolor": "#E1E5ED",
         "showgrid": false,
         "tickfont": {
          "color": "#4D5663"
         },
         "title": {
          "font": {
           "color": "#4D5663"
          },
          "text": ""
         },
         "zerolinecolor": "#E1E5ED"
        },
        "xaxis6": {
         "anchor": "y6",
         "domain": [
          0.2625,
          0.475
         ],
         "gridcolor": "#E1E5ED",
         "showgrid": false,
         "tickfont": {
          "color": "#4D5663"
         },
         "title": {
          "font": {
           "color": "#4D5663"
          },
          "text": ""
         },
         "zerolinecolor": "#E1E5ED"
        },
        "xaxis7": {
         "anchor": "y7",
         "domain": [
          0.525,
          0.7375
         ],
         "gridcolor": "#E1E5ED",
         "showgrid": false,
         "tickfont": {
          "color": "#4D5663"
         },
         "title": {
          "font": {
           "color": "#4D5663"
          },
          "text": ""
         },
         "zerolinecolor": "#E1E5ED"
        },
        "xaxis8": {
         "anchor": "y8",
         "domain": [
          0.7875,
          1
         ],
         "gridcolor": "#E1E5ED",
         "showgrid": false,
         "tickfont": {
          "color": "#4D5663"
         },
         "title": {
          "font": {
           "color": "#4D5663"
          },
          "text": ""
         },
         "zerolinecolor": "#E1E5ED"
        },
        "xaxis9": {
         "anchor": "y9",
         "domain": [
          0,
          0.2125
         ],
         "gridcolor": "#E1E5ED",
         "showgrid": false,
         "tickfont": {
          "color": "#4D5663"
         },
         "title": {
          "font": {
           "color": "#4D5663"
          },
          "text": ""
         },
         "zerolinecolor": "#E1E5ED"
        },
        "yaxis": {
         "anchor": "x",
         "domain": [
          0.8025,
          1
         ],
         "gridcolor": "#E1E5ED",
         "showgrid": false,
         "tickfont": {
          "color": "#4D5663"
         },
         "title": {
          "font": {
           "color": "#4D5663"
          },
          "text": ""
         },
         "zerolinecolor": "#E1E5ED"
        },
        "yaxis10": {
         "anchor": "x10",
         "domain": [
          0.2675,
          0.465
         ],
         "gridcolor": "#E1E5ED",
         "showgrid": false,
         "tickfont": {
          "color": "#4D5663"
         },
         "title": {
          "font": {
           "color": "#4D5663"
          },
          "text": ""
         },
         "zerolinecolor": "#E1E5ED"
        },
        "yaxis11": {
         "anchor": "x11",
         "domain": [
          0.2675,
          0.465
         ],
         "gridcolor": "#E1E5ED",
         "showgrid": false,
         "tickfont": {
          "color": "#4D5663"
         },
         "title": {
          "font": {
           "color": "#4D5663"
          },
          "text": ""
         },
         "zerolinecolor": "#E1E5ED"
        },
        "yaxis12": {
         "anchor": "x12",
         "domain": [
          0.2675,
          0.465
         ],
         "gridcolor": "#E1E5ED",
         "showgrid": false,
         "tickfont": {
          "color": "#4D5663"
         },
         "title": {
          "font": {
           "color": "#4D5663"
          },
          "text": ""
         },
         "zerolinecolor": "#E1E5ED"
        },
        "yaxis13": {
         "anchor": "x13",
         "domain": [
          0,
          0.1975
         ],
         "gridcolor": "#E1E5ED",
         "showgrid": false,
         "tickfont": {
          "color": "#4D5663"
         },
         "title": {
          "font": {
           "color": "#4D5663"
          },
          "text": ""
         },
         "zerolinecolor": "#E1E5ED"
        },
        "yaxis14": {
         "anchor": "x14",
         "domain": [
          0,
          0.1975
         ],
         "gridcolor": "#E1E5ED",
         "showgrid": false,
         "tickfont": {
          "color": "#4D5663"
         },
         "title": {
          "font": {
           "color": "#4D5663"
          },
          "text": ""
         },
         "zerolinecolor": "#E1E5ED"
        },
        "yaxis15": {
         "anchor": "x15",
         "domain": [
          0,
          0.1975
         ],
         "gridcolor": "#E1E5ED",
         "showgrid": false,
         "tickfont": {
          "color": "#4D5663"
         },
         "title": {
          "font": {
           "color": "#4D5663"
          },
          "text": ""
         },
         "zerolinecolor": "#E1E5ED"
        },
        "yaxis16": {
         "anchor": "x16",
         "domain": [
          0,
          0.1975
         ],
         "gridcolor": "#E1E5ED",
         "showgrid": false,
         "tickfont": {
          "color": "#4D5663"
         },
         "title": {
          "font": {
           "color": "#4D5663"
          },
          "text": ""
         },
         "zerolinecolor": "#E1E5ED"
        },
        "yaxis2": {
         "anchor": "x2",
         "domain": [
          0.8025,
          1
         ],
         "gridcolor": "#E1E5ED",
         "showgrid": false,
         "tickfont": {
          "color": "#4D5663"
         },
         "title": {
          "font": {
           "color": "#4D5663"
          },
          "text": ""
         },
         "zerolinecolor": "#E1E5ED"
        },
        "yaxis3": {
         "anchor": "x3",
         "domain": [
          0.8025,
          1
         ],
         "gridcolor": "#E1E5ED",
         "showgrid": false,
         "tickfont": {
          "color": "#4D5663"
         },
         "title": {
          "font": {
           "color": "#4D5663"
          },
          "text": ""
         },
         "zerolinecolor": "#E1E5ED"
        },
        "yaxis4": {
         "anchor": "x4",
         "domain": [
          0.8025,
          1
         ],
         "gridcolor": "#E1E5ED",
         "showgrid": false,
         "tickfont": {
          "color": "#4D5663"
         },
         "title": {
          "font": {
           "color": "#4D5663"
          },
          "text": ""
         },
         "zerolinecolor": "#E1E5ED"
        },
        "yaxis5": {
         "anchor": "x5",
         "domain": [
          0.535,
          0.7325
         ],
         "gridcolor": "#E1E5ED",
         "showgrid": false,
         "tickfont": {
          "color": "#4D5663"
         },
         "title": {
          "font": {
           "color": "#4D5663"
          },
          "text": ""
         },
         "zerolinecolor": "#E1E5ED"
        },
        "yaxis6": {
         "anchor": "x6",
         "domain": [
          0.535,
          0.7325
         ],
         "gridcolor": "#E1E5ED",
         "showgrid": false,
         "tickfont": {
          "color": "#4D5663"
         },
         "title": {
          "font": {
           "color": "#4D5663"
          },
          "text": ""
         },
         "zerolinecolor": "#E1E5ED"
        },
        "yaxis7": {
         "anchor": "x7",
         "domain": [
          0.535,
          0.7325
         ],
         "gridcolor": "#E1E5ED",
         "showgrid": false,
         "tickfont": {
          "color": "#4D5663"
         },
         "title": {
          "font": {
           "color": "#4D5663"
          },
          "text": ""
         },
         "zerolinecolor": "#E1E5ED"
        },
        "yaxis8": {
         "anchor": "x8",
         "domain": [
          0.535,
          0.7325
         ],
         "gridcolor": "#E1E5ED",
         "showgrid": false,
         "tickfont": {
          "color": "#4D5663"
         },
         "title": {
          "font": {
           "color": "#4D5663"
          },
          "text": ""
         },
         "zerolinecolor": "#E1E5ED"
        },
        "yaxis9": {
         "anchor": "x9",
         "domain": [
          0.2675,
          0.465
         ],
         "gridcolor": "#E1E5ED",
         "showgrid": false,
         "tickfont": {
          "color": "#4D5663"
         },
         "title": {
          "font": {
           "color": "#4D5663"
          },
          "text": ""
         },
         "zerolinecolor": "#E1E5ED"
        }
       }
      },
      "text/html": [
       "<div>                            <div id=\"a4658c0c-98b6-4dcb-b8bc-5a773337482d\" class=\"plotly-graph-div\" style=\"height:525px; width:100%;\"></div>            <script type=\"text/javascript\">                require([\"plotly\"], function(Plotly) {                    window.PLOTLYENV=window.PLOTLYENV || {};\n",
       "                    window.PLOTLYENV.BASE_URL='https://plot.ly';                                    if (document.getElementById(\"a4658c0c-98b6-4dcb-b8bc-5a773337482d\")) {                    Plotly.newPlot(                        \"a4658c0c-98b6-4dcb-b8bc-5a773337482d\",                        [{\"histfunc\":\"count\",\"histnorm\":\"\",\"marker\":{\"color\":\"rgba(255, 153, 51, 1.0)\",\"line\":{\"color\":\"#4D5663\",\"width\":1.3}},\"name\":\"A\",\"nbinsx\":10,\"opacity\":0.8,\"orientation\":\"v\",\"x\":[0.40534718238775297,0.4618384364241935,0.24801495362386689,-0.20275965105180163,0.09894775497959721,0.6599246788548914,0.8438472586319632,0.014204738168655967,-1.0523175976673647,-0.33916820542896847,-1.661959469597001,0.012685600171485036,-0.4789785319016016,1.0084397271213716,0.5939225191331639,-1.095553489611045,-0.18951102092657343,-0.7485311039793072,-0.430464829191035,-0.7631277171679673,0.36148744061730415,0.07563251615586787,-1.8860291881983393,1.830146264431817,1.5261693945209298,0.16291324267842877,-0.8262337273807737,-0.5517585324681692,0.345803414065465,-1.4703487784808873,-0.42067931889214644,-0.13166190696965407,1.123577676117159,1.1810238810798508,1.660312792380613,0.5051805618852068,0.17556028099014473,-0.5494279945135929,-0.054740206493713695,-0.2168076326530869,-0.851789995700195,1.8015449616578993,-1.4170720382865047,0.8735331849938913,-1.1093059122024311,-0.4904870041875731,0.024771903075371624,-0.14604266902562074,-0.1804877739615316,-0.26801124668195686,0.6532291709068574,0.9495574584417534,-1.531778149170353,1.5890221761187682,0.980982056724215,-1.3218991841523904,-0.7748649079913962,0.4742698276888825,-0.0020455685397476487,1.8920574153876382,-0.22893685140438824,-0.6971595344536778,-1.7688603238410823,0.06128443693784288,-0.360684189084469,-0.4533831065070736,1.1124492419990712,-0.14284110930219396,0.583799577696767,0.4763961235399069,0.888486188632068,1.1547065346517043,-0.06266321573539217,1.2614886864066421,-0.2713660149998362,-0.564030478976412,-0.36032635768443194,-1.386122960420082,0.6497222345182069,0.4073214610955935,1.1951054678585589,1.1462194285806422,0.3839065700825093,0.02158569664438489,-0.31607498419747876,1.2258170818043679,1.5403849676974233,-1.2793493722883689,1.4546677261348309,0.8853740095330099,-0.27871528402228496,-0.45790415202886203,0.6078800386133114,0.2619094555525887,-0.9359554761132841,-1.310045647360763,0.8639954189862001,-0.17319697866189304,-0.23456567552557125,0.39507788382193987],\"xaxis\":\"x\",\"yaxis\":\"y\",\"type\":\"histogram\"},{\"line\":{\"color\":\"rgba(128, 128, 128, 1.0)\",\"dash\":\"solid\",\"shape\":\"linear\",\"width\":1.3},\"marker\":{\"size\":2,\"symbol\":\"circle\"},\"mode\":\"markers\",\"name\":\"A\",\"text\":\"\",\"x\":[1.022485686609692,-0.2991330376533287,-0.63888610969383,-0.8833750002612436,-0.4078861332958796,0.4799082532464347,-1.357274840799496,0.19810773620278088,-0.19783074771131168,0.692818817496382,0.23191266266703442,-0.39355437747570005,0.5447687622016464,-0.14091375476541995,-0.22769161270345697,0.8588915764933582,-0.6783986928331065,0.8211036067421712,0.25817266001630773,0.14799711696746098,0.05927620745292284,-0.36267230950085433,1.2593028653582603,-1.0007777217527574,1.2282436874541525,-0.12769887512315786,1.7030143913579163,-1.0020872605347468,0.3195560424142498,0.15240321418665187,-1.5797861553236705,-0.3739313200333769,2.6021110509168666,-1.4471100938515242,-0.22318666138188153,0.47553906694810044,-1.1809472376756547,1.6162460221607278,-0.30331773033449044,-0.13182156682787596,1.4149621524860898,-0.9530259792261948,0.2742169032926556,-0.046045542434082556,0.634280138667863,-0.44208708609224245,0.6918129090202446,0.18012353082972507,-0.03975756365095694,-0.4035085758608769,-1.7585817100788126,-0.2996635985622194,-0.08613466026216665,1.3407846486700787,-1.2852375040247463,0.9426548906856975,-0.4237478485145406,-0.9875258770195806,0.8492892915359607,0.8623233408981996,-0.6444147916046757,0.1078678343079182,-0.9875734437892321,1.291562887565866,-0.8904951305931562,-1.7911999540279506,0.8759961030601735,0.2747985052742041,-0.20212363160084537,1.9519926300458057,1.2228922969535314,1.2775425993797307,-0.033907857353057,-1.1269326593789921,-0.35613822482803065,-0.3269080347457746,1.4592243810701002,-0.20686257323796692,-0.09616636678433634,1.2419410065257095,1.3048143207669025,-0.2980538960987875,1.3781856734829458,1.272172464631937,-0.3472494847742187,-0.010538336780892818,-0.16183176257636525,0.10152373504878527,-1.8653899621822374,-0.9683998654059663,-0.779130702347315,1.6202962931960625,-0.4690630803098864,0.024481735873536713,0.5510679505159154,-1.4104672378985652,0.5669444261650838,-1.350048904489357,0.6109803903416247,1.311724539759251],\"xaxis\":\"x2\",\"y\":[0.40534718238775297,0.4618384364241935,0.24801495362386689,-0.20275965105180163,0.09894775497959721,0.6599246788548914,0.8438472586319632,0.014204738168655967,-1.0523175976673647,-0.33916820542896847,-1.661959469597001,0.012685600171485036,-0.4789785319016016,1.0084397271213716,0.5939225191331639,-1.095553489611045,-0.18951102092657343,-0.7485311039793072,-0.430464829191035,-0.7631277171679673,0.36148744061730415,0.07563251615586787,-1.8860291881983393,1.830146264431817,1.5261693945209298,0.16291324267842877,-0.8262337273807737,-0.5517585324681692,0.345803414065465,-1.4703487784808873,-0.42067931889214644,-0.13166190696965407,1.123577676117159,1.1810238810798508,1.660312792380613,0.5051805618852068,0.17556028099014473,-0.5494279945135929,-0.054740206493713695,-0.2168076326530869,-0.851789995700195,1.8015449616578993,-1.4170720382865047,0.8735331849938913,-1.1093059122024311,-0.4904870041875731,0.024771903075371624,-0.14604266902562074,-0.1804877739615316,-0.26801124668195686,0.6532291709068574,0.9495574584417534,-1.531778149170353,1.5890221761187682,0.980982056724215,-1.3218991841523904,-0.7748649079913962,0.4742698276888825,-0.0020455685397476487,1.8920574153876382,-0.22893685140438824,-0.6971595344536778,-1.7688603238410823,0.06128443693784288,-0.360684189084469,-0.4533831065070736,1.1124492419990712,-0.14284110930219396,0.583799577696767,0.4763961235399069,0.888486188632068,1.1547065346517043,-0.06266321573539217,1.2614886864066421,-0.2713660149998362,-0.564030478976412,-0.36032635768443194,-1.386122960420082,0.6497222345182069,0.4073214610955935,1.1951054678585589,1.1462194285806422,0.3839065700825093,0.02158569664438489,-0.31607498419747876,1.2258170818043679,1.5403849676974233,-1.2793493722883689,1.4546677261348309,0.8853740095330099,-0.27871528402228496,-0.45790415202886203,0.6078800386133114,0.2619094555525887,-0.9359554761132841,-1.310045647360763,0.8639954189862001,-0.17319697866189304,-0.23456567552557125,0.39507788382193987],\"yaxis\":\"y2\",\"type\":\"scatter\"},{\"line\":{\"color\":\"rgba(128, 128, 128, 1.0)\",\"dash\":\"solid\",\"shape\":\"linear\",\"width\":1.3},\"marker\":{\"size\":2,\"symbol\":\"circle\"},\"mode\":\"markers\",\"name\":\"A\",\"text\":\"\",\"x\":[-0.6846939278970728,-2.3075965045478024,-0.08633181165856928,-0.960632782911131,-0.2594843276284265,-1.0909004044679218,-0.39736078887757353,0.4859202399005569,0.64713042030015,-0.7813163021462705,0.2958028918427429,-1.3243857628930011,-1.662961371536703,-0.40043565729067965,-0.3451119384557309,2.0903955558237,-0.012557888875386733,0.07247683377659399,0.11988491292645348,-0.4627347402924009,-1.0946635758514829,-2.6728360093505703,0.4742050895262971,-1.150747503716675,-1.2679999124494294,-1.7425682851942794,1.2659089043708076,0.6599750210405136,0.29300311967555526,-0.03466136540901326,0.8932463555019038,0.1375773675663175,-0.39833065736608564,0.2287132229961002,-1.888861525535101,-1.3748150359304196,0.41802892703303685,1.0966859796173523,-0.13334943209995173,-1.1419708932998787,1.1871886179574034,0.8486538344167918,-0.5192329608506668,0.002664928529814942,-0.11805644493445205,-2.1302678111856066,-1.5493117619924885,-0.4579647003513041,-1.5589319481231727,-0.7013284975095917,-1.1942815821767572,1.4418256610856601,-0.1194927798018692,-1.0959742580943388,2.102428243098901,-0.32061244957872076,0.7008907102791864,-0.3491490480071671,-0.5547074472788999,-0.6118401100626987,-0.5036361595156262,-0.8556225818470531,1.572121338917596,0.7367614207637612,-0.6337092097146587,-0.12587396488378122,0.5956416887411763,-0.5257234999490865,-0.25349596817224906,-0.5430718989494115,0.09758462681366432,0.1927830293776624,1.5073729373103912,-0.5732060696026312,-0.357320623311159,-0.3825789830900455,0.6551065113125831,0.7398370183868511,-0.7059609433212608,-0.42166534144707934,3.3206924959670467,-0.37304189385547065,-1.4746002018309643,-0.04270476295674498,0.995515542888556,0.0033839830817497434,1.2256999756538212,0.2501254597405451,0.33648316506628745,2.109721828092375,-0.6805331943785887,1.3424917917601022,0.15416374829761778,0.8242630448059016,-0.9600061880373896,1.0265224829519026,-0.8113472662411878,-0.39356837717677795,0.2006738374444646,1.1984113242069359],\"xaxis\":\"x3\",\"y\":[0.40534718238775297,0.4618384364241935,0.24801495362386689,-0.20275965105180163,0.09894775497959721,0.6599246788548914,0.8438472586319632,0.014204738168655967,-1.0523175976673647,-0.33916820542896847,-1.661959469597001,0.012685600171485036,-0.4789785319016016,1.0084397271213716,0.5939225191331639,-1.095553489611045,-0.18951102092657343,-0.7485311039793072,-0.430464829191035,-0.7631277171679673,0.36148744061730415,0.07563251615586787,-1.8860291881983393,1.830146264431817,1.5261693945209298,0.16291324267842877,-0.8262337273807737,-0.5517585324681692,0.345803414065465,-1.4703487784808873,-0.42067931889214644,-0.13166190696965407,1.123577676117159,1.1810238810798508,1.660312792380613,0.5051805618852068,0.17556028099014473,-0.5494279945135929,-0.054740206493713695,-0.2168076326530869,-0.851789995700195,1.8015449616578993,-1.4170720382865047,0.8735331849938913,-1.1093059122024311,-0.4904870041875731,0.024771903075371624,-0.14604266902562074,-0.1804877739615316,-0.26801124668195686,0.6532291709068574,0.9495574584417534,-1.531778149170353,1.5890221761187682,0.980982056724215,-1.3218991841523904,-0.7748649079913962,0.4742698276888825,-0.0020455685397476487,1.8920574153876382,-0.22893685140438824,-0.6971595344536778,-1.7688603238410823,0.06128443693784288,-0.360684189084469,-0.4533831065070736,1.1124492419990712,-0.14284110930219396,0.583799577696767,0.4763961235399069,0.888486188632068,1.1547065346517043,-0.06266321573539217,1.2614886864066421,-0.2713660149998362,-0.564030478976412,-0.36032635768443194,-1.386122960420082,0.6497222345182069,0.4073214610955935,1.1951054678585589,1.1462194285806422,0.3839065700825093,0.02158569664438489,-0.31607498419747876,1.2258170818043679,1.5403849676974233,-1.2793493722883689,1.4546677261348309,0.8853740095330099,-0.27871528402228496,-0.45790415202886203,0.6078800386133114,0.2619094555525887,-0.9359554761132841,-1.310045647360763,0.8639954189862001,-0.17319697866189304,-0.23456567552557125,0.39507788382193987],\"yaxis\":\"y3\",\"type\":\"scatter\"},{\"line\":{\"color\":\"rgba(128, 128, 128, 1.0)\",\"dash\":\"solid\",\"shape\":\"linear\",\"width\":1.3},\"marker\":{\"size\":2,\"symbol\":\"circle\"},\"mode\":\"markers\",\"name\":\"A\",\"text\":\"\",\"x\":[2.496071177103857,0.46081342893771055,-0.0993452983368322,0.5809415166299917,0.40510046264685573,-0.5680460155079847,1.2013126163899779,0.9235025254388937,-0.33489510490471136,0.6903185909680251,1.6940589078900654,1.1552141160280898,0.4519339032526576,-1.6378233982246284,-0.18705288580078047,-0.6014119459024533,-0.08661516142734464,-2.2138315256459355,0.21259912157741076,0.17200406866655887,0.06345710562435442,-0.1657132760048854,0.30709462962362616,1.2868210087532836,1.8925326595443972,0.3172886598320608,-0.7675255681542591,1.001540368478351,1.635234668573889,0.6968888827556089,-1.2838354891977093,-1.4858243901619834,1.5883334911707394,0.2614533519409762,1.4479396943145668,0.9869269363450887,1.2412667641689517,1.4554482284528751,-1.739546295511982,0.08624035442034013,0.014460353605616887,-1.4687897908310128,0.9263315314260369,0.4630509181806159,0.3962225137932105,-0.5738893360751438,0.08255968121947238,2.3123736265797725,0.1814158966679779,1.0023561740323266,-0.8432421516873355,0.9047034033575648,0.14633007324558994,-1.2121043743814122,0.34701696560862716,-0.49474703279285887,-0.6706522920168768,-2.1344327686615587,2.4921141712522954,-0.36850330741956977,-1.687793543566312,-0.25358597500926955,-0.8090190742185616,0.015245709923150873,0.27458290201369623,-2.1183057080112224,1.0366307466847968,1.0273831782140008,-1.1570046788261379,0.41756679021218324,-0.8225478326104317,1.2346573270949213,0.00624533970765154,0.9819581405070998,-2.2181810791031715,-1.829224609246086,0.2780099520868739,0.7531073238742761,-0.6687741250947908,0.307472012042972,-1.4508497162720104,0.5806461816902653,-0.1719019649229563,-0.8845797818041453,1.7110324908597812,-0.8042138569717536,-0.117255677636341,-0.7971556907902491,-0.9257571625867512,-0.059484554873857114,-1.7648403405153228,0.6893596079875423,-1.12093735936863,1.58417022354427,-0.15762384928257814,1.199392222105967,-0.09112697331503981,-1.2436291221677196,-1.3395113213792513,1.462079062203621],\"xaxis\":\"x4\",\"y\":[0.40534718238775297,0.4618384364241935,0.24801495362386689,-0.20275965105180163,0.09894775497959721,0.6599246788548914,0.8438472586319632,0.014204738168655967,-1.0523175976673647,-0.33916820542896847,-1.661959469597001,0.012685600171485036,-0.4789785319016016,1.0084397271213716,0.5939225191331639,-1.095553489611045,-0.18951102092657343,-0.7485311039793072,-0.430464829191035,-0.7631277171679673,0.36148744061730415,0.07563251615586787,-1.8860291881983393,1.830146264431817,1.5261693945209298,0.16291324267842877,-0.8262337273807737,-0.5517585324681692,0.345803414065465,-1.4703487784808873,-0.42067931889214644,-0.13166190696965407,1.123577676117159,1.1810238810798508,1.660312792380613,0.5051805618852068,0.17556028099014473,-0.5494279945135929,-0.054740206493713695,-0.2168076326530869,-0.851789995700195,1.8015449616578993,-1.4170720382865047,0.8735331849938913,-1.1093059122024311,-0.4904870041875731,0.024771903075371624,-0.14604266902562074,-0.1804877739615316,-0.26801124668195686,0.6532291709068574,0.9495574584417534,-1.531778149170353,1.5890221761187682,0.980982056724215,-1.3218991841523904,-0.7748649079913962,0.4742698276888825,-0.0020455685397476487,1.8920574153876382,-0.22893685140438824,-0.6971595344536778,-1.7688603238410823,0.06128443693784288,-0.360684189084469,-0.4533831065070736,1.1124492419990712,-0.14284110930219396,0.583799577696767,0.4763961235399069,0.888486188632068,1.1547065346517043,-0.06266321573539217,1.2614886864066421,-0.2713660149998362,-0.564030478976412,-0.36032635768443194,-1.386122960420082,0.6497222345182069,0.4073214610955935,1.1951054678585589,1.1462194285806422,0.3839065700825093,0.02158569664438489,-0.31607498419747876,1.2258170818043679,1.5403849676974233,-1.2793493722883689,1.4546677261348309,0.8853740095330099,-0.27871528402228496,-0.45790415202886203,0.6078800386133114,0.2619094555525887,-0.9359554761132841,-1.310045647360763,0.8639954189862001,-0.17319697866189304,-0.23456567552557125,0.39507788382193987],\"yaxis\":\"y4\",\"type\":\"scatter\"},{\"line\":{\"color\":\"rgba(128, 128, 128, 1.0)\",\"dash\":\"solid\",\"shape\":\"linear\",\"width\":1.3},\"marker\":{\"size\":2,\"symbol\":\"circle\"},\"mode\":\"markers\",\"name\":\"B\",\"text\":\"\",\"x\":[0.40534718238775297,0.4618384364241935,0.24801495362386689,-0.20275965105180163,0.09894775497959721,0.6599246788548914,0.8438472586319632,0.014204738168655967,-1.0523175976673647,-0.33916820542896847,-1.661959469597001,0.012685600171485036,-0.4789785319016016,1.0084397271213716,0.5939225191331639,-1.095553489611045,-0.18951102092657343,-0.7485311039793072,-0.430464829191035,-0.7631277171679673,0.36148744061730415,0.07563251615586787,-1.8860291881983393,1.830146264431817,1.5261693945209298,0.16291324267842877,-0.8262337273807737,-0.5517585324681692,0.345803414065465,-1.4703487784808873,-0.42067931889214644,-0.13166190696965407,1.123577676117159,1.1810238810798508,1.660312792380613,0.5051805618852068,0.17556028099014473,-0.5494279945135929,-0.054740206493713695,-0.2168076326530869,-0.851789995700195,1.8015449616578993,-1.4170720382865047,0.8735331849938913,-1.1093059122024311,-0.4904870041875731,0.024771903075371624,-0.14604266902562074,-0.1804877739615316,-0.26801124668195686,0.6532291709068574,0.9495574584417534,-1.531778149170353,1.5890221761187682,0.980982056724215,-1.3218991841523904,-0.7748649079913962,0.4742698276888825,-0.0020455685397476487,1.8920574153876382,-0.22893685140438824,-0.6971595344536778,-1.7688603238410823,0.06128443693784288,-0.360684189084469,-0.4533831065070736,1.1124492419990712,-0.14284110930219396,0.583799577696767,0.4763961235399069,0.888486188632068,1.1547065346517043,-0.06266321573539217,1.2614886864066421,-0.2713660149998362,-0.564030478976412,-0.36032635768443194,-1.386122960420082,0.6497222345182069,0.4073214610955935,1.1951054678585589,1.1462194285806422,0.3839065700825093,0.02158569664438489,-0.31607498419747876,1.2258170818043679,1.5403849676974233,-1.2793493722883689,1.4546677261348309,0.8853740095330099,-0.27871528402228496,-0.45790415202886203,0.6078800386133114,0.2619094555525887,-0.9359554761132841,-1.310045647360763,0.8639954189862001,-0.17319697866189304,-0.23456567552557125,0.39507788382193987],\"xaxis\":\"x5\",\"y\":[1.022485686609692,-0.2991330376533287,-0.63888610969383,-0.8833750002612436,-0.4078861332958796,0.4799082532464347,-1.357274840799496,0.19810773620278088,-0.19783074771131168,0.692818817496382,0.23191266266703442,-0.39355437747570005,0.5447687622016464,-0.14091375476541995,-0.22769161270345697,0.8588915764933582,-0.6783986928331065,0.8211036067421712,0.25817266001630773,0.14799711696746098,0.05927620745292284,-0.36267230950085433,1.2593028653582603,-1.0007777217527574,1.2282436874541525,-0.12769887512315786,1.7030143913579163,-1.0020872605347468,0.3195560424142498,0.15240321418665187,-1.5797861553236705,-0.3739313200333769,2.6021110509168666,-1.4471100938515242,-0.22318666138188153,0.47553906694810044,-1.1809472376756547,1.6162460221607278,-0.30331773033449044,-0.13182156682787596,1.4149621524860898,-0.9530259792261948,0.2742169032926556,-0.046045542434082556,0.634280138667863,-0.44208708609224245,0.6918129090202446,0.18012353082972507,-0.03975756365095694,-0.4035085758608769,-1.7585817100788126,-0.2996635985622194,-0.08613466026216665,1.3407846486700787,-1.2852375040247463,0.9426548906856975,-0.4237478485145406,-0.9875258770195806,0.8492892915359607,0.8623233408981996,-0.6444147916046757,0.1078678343079182,-0.9875734437892321,1.291562887565866,-0.8904951305931562,-1.7911999540279506,0.8759961030601735,0.2747985052742041,-0.20212363160084537,1.9519926300458057,1.2228922969535314,1.2775425993797307,-0.033907857353057,-1.1269326593789921,-0.35613822482803065,-0.3269080347457746,1.4592243810701002,-0.20686257323796692,-0.09616636678433634,1.2419410065257095,1.3048143207669025,-0.2980538960987875,1.3781856734829458,1.272172464631937,-0.3472494847742187,-0.010538336780892818,-0.16183176257636525,0.10152373504878527,-1.8653899621822374,-0.9683998654059663,-0.779130702347315,1.6202962931960625,-0.4690630803098864,0.024481735873536713,0.5510679505159154,-1.4104672378985652,0.5669444261650838,-1.350048904489357,0.6109803903416247,1.311724539759251],\"yaxis\":\"y5\",\"type\":\"scatter\"},{\"histfunc\":\"count\",\"histnorm\":\"\",\"marker\":{\"color\":\"rgba(55, 128, 191, 1.0)\",\"line\":{\"color\":\"#4D5663\",\"width\":1.3}},\"name\":\"B\",\"nbinsx\":10,\"opacity\":0.8,\"orientation\":\"v\",\"x\":[1.022485686609692,-0.2991330376533287,-0.63888610969383,-0.8833750002612436,-0.4078861332958796,0.4799082532464347,-1.357274840799496,0.19810773620278088,-0.19783074771131168,0.692818817496382,0.23191266266703442,-0.39355437747570005,0.5447687622016464,-0.14091375476541995,-0.22769161270345697,0.8588915764933582,-0.6783986928331065,0.8211036067421712,0.25817266001630773,0.14799711696746098,0.05927620745292284,-0.36267230950085433,1.2593028653582603,-1.0007777217527574,1.2282436874541525,-0.12769887512315786,1.7030143913579163,-1.0020872605347468,0.3195560424142498,0.15240321418665187,-1.5797861553236705,-0.3739313200333769,2.6021110509168666,-1.4471100938515242,-0.22318666138188153,0.47553906694810044,-1.1809472376756547,1.6162460221607278,-0.30331773033449044,-0.13182156682787596,1.4149621524860898,-0.9530259792261948,0.2742169032926556,-0.046045542434082556,0.634280138667863,-0.44208708609224245,0.6918129090202446,0.18012353082972507,-0.03975756365095694,-0.4035085758608769,-1.7585817100788126,-0.2996635985622194,-0.08613466026216665,1.3407846486700787,-1.2852375040247463,0.9426548906856975,-0.4237478485145406,-0.9875258770195806,0.8492892915359607,0.8623233408981996,-0.6444147916046757,0.1078678343079182,-0.9875734437892321,1.291562887565866,-0.8904951305931562,-1.7911999540279506,0.8759961030601735,0.2747985052742041,-0.20212363160084537,1.9519926300458057,1.2228922969535314,1.2775425993797307,-0.033907857353057,-1.1269326593789921,-0.35613822482803065,-0.3269080347457746,1.4592243810701002,-0.20686257323796692,-0.09616636678433634,1.2419410065257095,1.3048143207669025,-0.2980538960987875,1.3781856734829458,1.272172464631937,-0.3472494847742187,-0.010538336780892818,-0.16183176257636525,0.10152373504878527,-1.8653899621822374,-0.9683998654059663,-0.779130702347315,1.6202962931960625,-0.4690630803098864,0.024481735873536713,0.5510679505159154,-1.4104672378985652,0.5669444261650838,-1.350048904489357,0.6109803903416247,1.311724539759251],\"xaxis\":\"x6\",\"yaxis\":\"y6\",\"type\":\"histogram\"},{\"line\":{\"color\":\"rgba(128, 128, 128, 1.0)\",\"dash\":\"solid\",\"shape\":\"linear\",\"width\":1.3},\"marker\":{\"size\":2,\"symbol\":\"circle\"},\"mode\":\"markers\",\"name\":\"B\",\"text\":\"\",\"x\":[-0.6846939278970728,-2.3075965045478024,-0.08633181165856928,-0.960632782911131,-0.2594843276284265,-1.0909004044679218,-0.39736078887757353,0.4859202399005569,0.64713042030015,-0.7813163021462705,0.2958028918427429,-1.3243857628930011,-1.662961371536703,-0.40043565729067965,-0.3451119384557309,2.0903955558237,-0.012557888875386733,0.07247683377659399,0.11988491292645348,-0.4627347402924009,-1.0946635758514829,-2.6728360093505703,0.4742050895262971,-1.150747503716675,-1.2679999124494294,-1.7425682851942794,1.2659089043708076,0.6599750210405136,0.29300311967555526,-0.03466136540901326,0.8932463555019038,0.1375773675663175,-0.39833065736608564,0.2287132229961002,-1.888861525535101,-1.3748150359304196,0.41802892703303685,1.0966859796173523,-0.13334943209995173,-1.1419708932998787,1.1871886179574034,0.8486538344167918,-0.5192329608506668,0.002664928529814942,-0.11805644493445205,-2.1302678111856066,-1.5493117619924885,-0.4579647003513041,-1.5589319481231727,-0.7013284975095917,-1.1942815821767572,1.4418256610856601,-0.1194927798018692,-1.0959742580943388,2.102428243098901,-0.32061244957872076,0.7008907102791864,-0.3491490480071671,-0.5547074472788999,-0.6118401100626987,-0.5036361595156262,-0.8556225818470531,1.572121338917596,0.7367614207637612,-0.6337092097146587,-0.12587396488378122,0.5956416887411763,-0.5257234999490865,-0.25349596817224906,-0.5430718989494115,0.09758462681366432,0.1927830293776624,1.5073729373103912,-0.5732060696026312,-0.357320623311159,-0.3825789830900455,0.6551065113125831,0.7398370183868511,-0.7059609433212608,-0.42166534144707934,3.3206924959670467,-0.37304189385547065,-1.4746002018309643,-0.04270476295674498,0.995515542888556,0.0033839830817497434,1.2256999756538212,0.2501254597405451,0.33648316506628745,2.109721828092375,-0.6805331943785887,1.3424917917601022,0.15416374829761778,0.8242630448059016,-0.9600061880373896,1.0265224829519026,-0.8113472662411878,-0.39356837717677795,0.2006738374444646,1.1984113242069359],\"xaxis\":\"x7\",\"y\":[1.022485686609692,-0.2991330376533287,-0.63888610969383,-0.8833750002612436,-0.4078861332958796,0.4799082532464347,-1.357274840799496,0.19810773620278088,-0.19783074771131168,0.692818817496382,0.23191266266703442,-0.39355437747570005,0.5447687622016464,-0.14091375476541995,-0.22769161270345697,0.8588915764933582,-0.6783986928331065,0.8211036067421712,0.25817266001630773,0.14799711696746098,0.05927620745292284,-0.36267230950085433,1.2593028653582603,-1.0007777217527574,1.2282436874541525,-0.12769887512315786,1.7030143913579163,-1.0020872605347468,0.3195560424142498,0.15240321418665187,-1.5797861553236705,-0.3739313200333769,2.6021110509168666,-1.4471100938515242,-0.22318666138188153,0.47553906694810044,-1.1809472376756547,1.6162460221607278,-0.30331773033449044,-0.13182156682787596,1.4149621524860898,-0.9530259792261948,0.2742169032926556,-0.046045542434082556,0.634280138667863,-0.44208708609224245,0.6918129090202446,0.18012353082972507,-0.03975756365095694,-0.4035085758608769,-1.7585817100788126,-0.2996635985622194,-0.08613466026216665,1.3407846486700787,-1.2852375040247463,0.9426548906856975,-0.4237478485145406,-0.9875258770195806,0.8492892915359607,0.8623233408981996,-0.6444147916046757,0.1078678343079182,-0.9875734437892321,1.291562887565866,-0.8904951305931562,-1.7911999540279506,0.8759961030601735,0.2747985052742041,-0.20212363160084537,1.9519926300458057,1.2228922969535314,1.2775425993797307,-0.033907857353057,-1.1269326593789921,-0.35613822482803065,-0.3269080347457746,1.4592243810701002,-0.20686257323796692,-0.09616636678433634,1.2419410065257095,1.3048143207669025,-0.2980538960987875,1.3781856734829458,1.272172464631937,-0.3472494847742187,-0.010538336780892818,-0.16183176257636525,0.10152373504878527,-1.8653899621822374,-0.9683998654059663,-0.779130702347315,1.6202962931960625,-0.4690630803098864,0.024481735873536713,0.5510679505159154,-1.4104672378985652,0.5669444261650838,-1.350048904489357,0.6109803903416247,1.311724539759251],\"yaxis\":\"y7\",\"type\":\"scatter\"},{\"line\":{\"color\":\"rgba(128, 128, 128, 1.0)\",\"dash\":\"solid\",\"shape\":\"linear\",\"width\":1.3},\"marker\":{\"size\":2,\"symbol\":\"circle\"},\"mode\":\"markers\",\"name\":\"B\",\"text\":\"\",\"x\":[2.496071177103857,0.46081342893771055,-0.0993452983368322,0.5809415166299917,0.40510046264685573,-0.5680460155079847,1.2013126163899779,0.9235025254388937,-0.33489510490471136,0.6903185909680251,1.6940589078900654,1.1552141160280898,0.4519339032526576,-1.6378233982246284,-0.18705288580078047,-0.6014119459024533,-0.08661516142734464,-2.2138315256459355,0.21259912157741076,0.17200406866655887,0.06345710562435442,-0.1657132760048854,0.30709462962362616,1.2868210087532836,1.8925326595443972,0.3172886598320608,-0.7675255681542591,1.001540368478351,1.635234668573889,0.6968888827556089,-1.2838354891977093,-1.4858243901619834,1.5883334911707394,0.2614533519409762,1.4479396943145668,0.9869269363450887,1.2412667641689517,1.4554482284528751,-1.739546295511982,0.08624035442034013,0.014460353605616887,-1.4687897908310128,0.9263315314260369,0.4630509181806159,0.3962225137932105,-0.5738893360751438,0.08255968121947238,2.3123736265797725,0.1814158966679779,1.0023561740323266,-0.8432421516873355,0.9047034033575648,0.14633007324558994,-1.2121043743814122,0.34701696560862716,-0.49474703279285887,-0.6706522920168768,-2.1344327686615587,2.4921141712522954,-0.36850330741956977,-1.687793543566312,-0.25358597500926955,-0.8090190742185616,0.015245709923150873,0.27458290201369623,-2.1183057080112224,1.0366307466847968,1.0273831782140008,-1.1570046788261379,0.41756679021218324,-0.8225478326104317,1.2346573270949213,0.00624533970765154,0.9819581405070998,-2.2181810791031715,-1.829224609246086,0.2780099520868739,0.7531073238742761,-0.6687741250947908,0.307472012042972,-1.4508497162720104,0.5806461816902653,-0.1719019649229563,-0.8845797818041453,1.7110324908597812,-0.8042138569717536,-0.117255677636341,-0.7971556907902491,-0.9257571625867512,-0.059484554873857114,-1.7648403405153228,0.6893596079875423,-1.12093735936863,1.58417022354427,-0.15762384928257814,1.199392222105967,-0.09112697331503981,-1.2436291221677196,-1.3395113213792513,1.462079062203621],\"xaxis\":\"x8\",\"y\":[1.022485686609692,-0.2991330376533287,-0.63888610969383,-0.8833750002612436,-0.4078861332958796,0.4799082532464347,-1.357274840799496,0.19810773620278088,-0.19783074771131168,0.692818817496382,0.23191266266703442,-0.39355437747570005,0.5447687622016464,-0.14091375476541995,-0.22769161270345697,0.8588915764933582,-0.6783986928331065,0.8211036067421712,0.25817266001630773,0.14799711696746098,0.05927620745292284,-0.36267230950085433,1.2593028653582603,-1.0007777217527574,1.2282436874541525,-0.12769887512315786,1.7030143913579163,-1.0020872605347468,0.3195560424142498,0.15240321418665187,-1.5797861553236705,-0.3739313200333769,2.6021110509168666,-1.4471100938515242,-0.22318666138188153,0.47553906694810044,-1.1809472376756547,1.6162460221607278,-0.30331773033449044,-0.13182156682787596,1.4149621524860898,-0.9530259792261948,0.2742169032926556,-0.046045542434082556,0.634280138667863,-0.44208708609224245,0.6918129090202446,0.18012353082972507,-0.03975756365095694,-0.4035085758608769,-1.7585817100788126,-0.2996635985622194,-0.08613466026216665,1.3407846486700787,-1.2852375040247463,0.9426548906856975,-0.4237478485145406,-0.9875258770195806,0.8492892915359607,0.8623233408981996,-0.6444147916046757,0.1078678343079182,-0.9875734437892321,1.291562887565866,-0.8904951305931562,-1.7911999540279506,0.8759961030601735,0.2747985052742041,-0.20212363160084537,1.9519926300458057,1.2228922969535314,1.2775425993797307,-0.033907857353057,-1.1269326593789921,-0.35613822482803065,-0.3269080347457746,1.4592243810701002,-0.20686257323796692,-0.09616636678433634,1.2419410065257095,1.3048143207669025,-0.2980538960987875,1.3781856734829458,1.272172464631937,-0.3472494847742187,-0.010538336780892818,-0.16183176257636525,0.10152373504878527,-1.8653899621822374,-0.9683998654059663,-0.779130702347315,1.6202962931960625,-0.4690630803098864,0.024481735873536713,0.5510679505159154,-1.4104672378985652,0.5669444261650838,-1.350048904489357,0.6109803903416247,1.311724539759251],\"yaxis\":\"y8\",\"type\":\"scatter\"},{\"line\":{\"color\":\"rgba(128, 128, 128, 1.0)\",\"dash\":\"solid\",\"shape\":\"linear\",\"width\":1.3},\"marker\":{\"size\":2,\"symbol\":\"circle\"},\"mode\":\"markers\",\"name\":\"C\",\"text\":\"\",\"x\":[0.40534718238775297,0.4618384364241935,0.24801495362386689,-0.20275965105180163,0.09894775497959721,0.6599246788548914,0.8438472586319632,0.014204738168655967,-1.0523175976673647,-0.33916820542896847,-1.661959469597001,0.012685600171485036,-0.4789785319016016,1.0084397271213716,0.5939225191331639,-1.095553489611045,-0.18951102092657343,-0.7485311039793072,-0.430464829191035,-0.7631277171679673,0.36148744061730415,0.07563251615586787,-1.8860291881983393,1.830146264431817,1.5261693945209298,0.16291324267842877,-0.8262337273807737,-0.5517585324681692,0.345803414065465,-1.4703487784808873,-0.42067931889214644,-0.13166190696965407,1.123577676117159,1.1810238810798508,1.660312792380613,0.5051805618852068,0.17556028099014473,-0.5494279945135929,-0.054740206493713695,-0.2168076326530869,-0.851789995700195,1.8015449616578993,-1.4170720382865047,0.8735331849938913,-1.1093059122024311,-0.4904870041875731,0.024771903075371624,-0.14604266902562074,-0.1804877739615316,-0.26801124668195686,0.6532291709068574,0.9495574584417534,-1.531778149170353,1.5890221761187682,0.980982056724215,-1.3218991841523904,-0.7748649079913962,0.4742698276888825,-0.0020455685397476487,1.8920574153876382,-0.22893685140438824,-0.6971595344536778,-1.7688603238410823,0.06128443693784288,-0.360684189084469,-0.4533831065070736,1.1124492419990712,-0.14284110930219396,0.583799577696767,0.4763961235399069,0.888486188632068,1.1547065346517043,-0.06266321573539217,1.2614886864066421,-0.2713660149998362,-0.564030478976412,-0.36032635768443194,-1.386122960420082,0.6497222345182069,0.4073214610955935,1.1951054678585589,1.1462194285806422,0.3839065700825093,0.02158569664438489,-0.31607498419747876,1.2258170818043679,1.5403849676974233,-1.2793493722883689,1.4546677261348309,0.8853740095330099,-0.27871528402228496,-0.45790415202886203,0.6078800386133114,0.2619094555525887,-0.9359554761132841,-1.310045647360763,0.8639954189862001,-0.17319697866189304,-0.23456567552557125,0.39507788382193987],\"xaxis\":\"x9\",\"y\":[-0.6846939278970728,-2.3075965045478024,-0.08633181165856928,-0.960632782911131,-0.2594843276284265,-1.0909004044679218,-0.39736078887757353,0.4859202399005569,0.64713042030015,-0.7813163021462705,0.2958028918427429,-1.3243857628930011,-1.662961371536703,-0.40043565729067965,-0.3451119384557309,2.0903955558237,-0.012557888875386733,0.07247683377659399,0.11988491292645348,-0.4627347402924009,-1.0946635758514829,-2.6728360093505703,0.4742050895262971,-1.150747503716675,-1.2679999124494294,-1.7425682851942794,1.2659089043708076,0.6599750210405136,0.29300311967555526,-0.03466136540901326,0.8932463555019038,0.1375773675663175,-0.39833065736608564,0.2287132229961002,-1.888861525535101,-1.3748150359304196,0.41802892703303685,1.0966859796173523,-0.13334943209995173,-1.1419708932998787,1.1871886179574034,0.8486538344167918,-0.5192329608506668,0.002664928529814942,-0.11805644493445205,-2.1302678111856066,-1.5493117619924885,-0.4579647003513041,-1.5589319481231727,-0.7013284975095917,-1.1942815821767572,1.4418256610856601,-0.1194927798018692,-1.0959742580943388,2.102428243098901,-0.32061244957872076,0.7008907102791864,-0.3491490480071671,-0.5547074472788999,-0.6118401100626987,-0.5036361595156262,-0.8556225818470531,1.572121338917596,0.7367614207637612,-0.6337092097146587,-0.12587396488378122,0.5956416887411763,-0.5257234999490865,-0.25349596817224906,-0.5430718989494115,0.09758462681366432,0.1927830293776624,1.5073729373103912,-0.5732060696026312,-0.357320623311159,-0.3825789830900455,0.6551065113125831,0.7398370183868511,-0.7059609433212608,-0.42166534144707934,3.3206924959670467,-0.37304189385547065,-1.4746002018309643,-0.04270476295674498,0.995515542888556,0.0033839830817497434,1.2256999756538212,0.2501254597405451,0.33648316506628745,2.109721828092375,-0.6805331943785887,1.3424917917601022,0.15416374829761778,0.8242630448059016,-0.9600061880373896,1.0265224829519026,-0.8113472662411878,-0.39356837717677795,0.2006738374444646,1.1984113242069359],\"yaxis\":\"y9\",\"type\":\"scatter\"},{\"line\":{\"color\":\"rgba(128, 128, 128, 1.0)\",\"dash\":\"solid\",\"shape\":\"linear\",\"width\":1.3},\"marker\":{\"size\":2,\"symbol\":\"circle\"},\"mode\":\"markers\",\"name\":\"C\",\"text\":\"\",\"x\":[1.022485686609692,-0.2991330376533287,-0.63888610969383,-0.8833750002612436,-0.4078861332958796,0.4799082532464347,-1.357274840799496,0.19810773620278088,-0.19783074771131168,0.692818817496382,0.23191266266703442,-0.39355437747570005,0.5447687622016464,-0.14091375476541995,-0.22769161270345697,0.8588915764933582,-0.6783986928331065,0.8211036067421712,0.25817266001630773,0.14799711696746098,0.05927620745292284,-0.36267230950085433,1.2593028653582603,-1.0007777217527574,1.2282436874541525,-0.12769887512315786,1.7030143913579163,-1.0020872605347468,0.3195560424142498,0.15240321418665187,-1.5797861553236705,-0.3739313200333769,2.6021110509168666,-1.4471100938515242,-0.22318666138188153,0.47553906694810044,-1.1809472376756547,1.6162460221607278,-0.30331773033449044,-0.13182156682787596,1.4149621524860898,-0.9530259792261948,0.2742169032926556,-0.046045542434082556,0.634280138667863,-0.44208708609224245,0.6918129090202446,0.18012353082972507,-0.03975756365095694,-0.4035085758608769,-1.7585817100788126,-0.2996635985622194,-0.08613466026216665,1.3407846486700787,-1.2852375040247463,0.9426548906856975,-0.4237478485145406,-0.9875258770195806,0.8492892915359607,0.8623233408981996,-0.6444147916046757,0.1078678343079182,-0.9875734437892321,1.291562887565866,-0.8904951305931562,-1.7911999540279506,0.8759961030601735,0.2747985052742041,-0.20212363160084537,1.9519926300458057,1.2228922969535314,1.2775425993797307,-0.033907857353057,-1.1269326593789921,-0.35613822482803065,-0.3269080347457746,1.4592243810701002,-0.20686257323796692,-0.09616636678433634,1.2419410065257095,1.3048143207669025,-0.2980538960987875,1.3781856734829458,1.272172464631937,-0.3472494847742187,-0.010538336780892818,-0.16183176257636525,0.10152373504878527,-1.8653899621822374,-0.9683998654059663,-0.779130702347315,1.6202962931960625,-0.4690630803098864,0.024481735873536713,0.5510679505159154,-1.4104672378985652,0.5669444261650838,-1.350048904489357,0.6109803903416247,1.311724539759251],\"xaxis\":\"x10\",\"y\":[-0.6846939278970728,-2.3075965045478024,-0.08633181165856928,-0.960632782911131,-0.2594843276284265,-1.0909004044679218,-0.39736078887757353,0.4859202399005569,0.64713042030015,-0.7813163021462705,0.2958028918427429,-1.3243857628930011,-1.662961371536703,-0.40043565729067965,-0.3451119384557309,2.0903955558237,-0.012557888875386733,0.07247683377659399,0.11988491292645348,-0.4627347402924009,-1.0946635758514829,-2.6728360093505703,0.4742050895262971,-1.150747503716675,-1.2679999124494294,-1.7425682851942794,1.2659089043708076,0.6599750210405136,0.29300311967555526,-0.03466136540901326,0.8932463555019038,0.1375773675663175,-0.39833065736608564,0.2287132229961002,-1.888861525535101,-1.3748150359304196,0.41802892703303685,1.0966859796173523,-0.13334943209995173,-1.1419708932998787,1.1871886179574034,0.8486538344167918,-0.5192329608506668,0.002664928529814942,-0.11805644493445205,-2.1302678111856066,-1.5493117619924885,-0.4579647003513041,-1.5589319481231727,-0.7013284975095917,-1.1942815821767572,1.4418256610856601,-0.1194927798018692,-1.0959742580943388,2.102428243098901,-0.32061244957872076,0.7008907102791864,-0.3491490480071671,-0.5547074472788999,-0.6118401100626987,-0.5036361595156262,-0.8556225818470531,1.572121338917596,0.7367614207637612,-0.6337092097146587,-0.12587396488378122,0.5956416887411763,-0.5257234999490865,-0.25349596817224906,-0.5430718989494115,0.09758462681366432,0.1927830293776624,1.5073729373103912,-0.5732060696026312,-0.357320623311159,-0.3825789830900455,0.6551065113125831,0.7398370183868511,-0.7059609433212608,-0.42166534144707934,3.3206924959670467,-0.37304189385547065,-1.4746002018309643,-0.04270476295674498,0.995515542888556,0.0033839830817497434,1.2256999756538212,0.2501254597405451,0.33648316506628745,2.109721828092375,-0.6805331943785887,1.3424917917601022,0.15416374829761778,0.8242630448059016,-0.9600061880373896,1.0265224829519026,-0.8113472662411878,-0.39356837717677795,0.2006738374444646,1.1984113242069359],\"yaxis\":\"y10\",\"type\":\"scatter\"},{\"histfunc\":\"count\",\"histnorm\":\"\",\"marker\":{\"color\":\"rgba(50, 171, 96, 1.0)\",\"line\":{\"color\":\"#4D5663\",\"width\":1.3}},\"name\":\"C\",\"nbinsx\":10,\"opacity\":0.8,\"orientation\":\"v\",\"x\":[-0.6846939278970728,-2.3075965045478024,-0.08633181165856928,-0.960632782911131,-0.2594843276284265,-1.0909004044679218,-0.39736078887757353,0.4859202399005569,0.64713042030015,-0.7813163021462705,0.2958028918427429,-1.3243857628930011,-1.662961371536703,-0.40043565729067965,-0.3451119384557309,2.0903955558237,-0.012557888875386733,0.07247683377659399,0.11988491292645348,-0.4627347402924009,-1.0946635758514829,-2.6728360093505703,0.4742050895262971,-1.150747503716675,-1.2679999124494294,-1.7425682851942794,1.2659089043708076,0.6599750210405136,0.29300311967555526,-0.03466136540901326,0.8932463555019038,0.1375773675663175,-0.39833065736608564,0.2287132229961002,-1.888861525535101,-1.3748150359304196,0.41802892703303685,1.0966859796173523,-0.13334943209995173,-1.1419708932998787,1.1871886179574034,0.8486538344167918,-0.5192329608506668,0.002664928529814942,-0.11805644493445205,-2.1302678111856066,-1.5493117619924885,-0.4579647003513041,-1.5589319481231727,-0.7013284975095917,-1.1942815821767572,1.4418256610856601,-0.1194927798018692,-1.0959742580943388,2.102428243098901,-0.32061244957872076,0.7008907102791864,-0.3491490480071671,-0.5547074472788999,-0.6118401100626987,-0.5036361595156262,-0.8556225818470531,1.572121338917596,0.7367614207637612,-0.6337092097146587,-0.12587396488378122,0.5956416887411763,-0.5257234999490865,-0.25349596817224906,-0.5430718989494115,0.09758462681366432,0.1927830293776624,1.5073729373103912,-0.5732060696026312,-0.357320623311159,-0.3825789830900455,0.6551065113125831,0.7398370183868511,-0.7059609433212608,-0.42166534144707934,3.3206924959670467,-0.37304189385547065,-1.4746002018309643,-0.04270476295674498,0.995515542888556,0.0033839830817497434,1.2256999756538212,0.2501254597405451,0.33648316506628745,2.109721828092375,-0.6805331943785887,1.3424917917601022,0.15416374829761778,0.8242630448059016,-0.9600061880373896,1.0265224829519026,-0.8113472662411878,-0.39356837717677795,0.2006738374444646,1.1984113242069359],\"xaxis\":\"x11\",\"yaxis\":\"y11\",\"type\":\"histogram\"},{\"line\":{\"color\":\"rgba(128, 128, 128, 1.0)\",\"dash\":\"solid\",\"shape\":\"linear\",\"width\":1.3},\"marker\":{\"size\":2,\"symbol\":\"circle\"},\"mode\":\"markers\",\"name\":\"C\",\"text\":\"\",\"x\":[2.496071177103857,0.46081342893771055,-0.0993452983368322,0.5809415166299917,0.40510046264685573,-0.5680460155079847,1.2013126163899779,0.9235025254388937,-0.33489510490471136,0.6903185909680251,1.6940589078900654,1.1552141160280898,0.4519339032526576,-1.6378233982246284,-0.18705288580078047,-0.6014119459024533,-0.08661516142734464,-2.2138315256459355,0.21259912157741076,0.17200406866655887,0.06345710562435442,-0.1657132760048854,0.30709462962362616,1.2868210087532836,1.8925326595443972,0.3172886598320608,-0.7675255681542591,1.001540368478351,1.635234668573889,0.6968888827556089,-1.2838354891977093,-1.4858243901619834,1.5883334911707394,0.2614533519409762,1.4479396943145668,0.9869269363450887,1.2412667641689517,1.4554482284528751,-1.739546295511982,0.08624035442034013,0.014460353605616887,-1.4687897908310128,0.9263315314260369,0.4630509181806159,0.3962225137932105,-0.5738893360751438,0.08255968121947238,2.3123736265797725,0.1814158966679779,1.0023561740323266,-0.8432421516873355,0.9047034033575648,0.14633007324558994,-1.2121043743814122,0.34701696560862716,-0.49474703279285887,-0.6706522920168768,-2.1344327686615587,2.4921141712522954,-0.36850330741956977,-1.687793543566312,-0.25358597500926955,-0.8090190742185616,0.015245709923150873,0.27458290201369623,-2.1183057080112224,1.0366307466847968,1.0273831782140008,-1.1570046788261379,0.41756679021218324,-0.8225478326104317,1.2346573270949213,0.00624533970765154,0.9819581405070998,-2.2181810791031715,-1.829224609246086,0.2780099520868739,0.7531073238742761,-0.6687741250947908,0.307472012042972,-1.4508497162720104,0.5806461816902653,-0.1719019649229563,-0.8845797818041453,1.7110324908597812,-0.8042138569717536,-0.117255677636341,-0.7971556907902491,-0.9257571625867512,-0.059484554873857114,-1.7648403405153228,0.6893596079875423,-1.12093735936863,1.58417022354427,-0.15762384928257814,1.199392222105967,-0.09112697331503981,-1.2436291221677196,-1.3395113213792513,1.462079062203621],\"xaxis\":\"x12\",\"y\":[-0.6846939278970728,-2.3075965045478024,-0.08633181165856928,-0.960632782911131,-0.2594843276284265,-1.0909004044679218,-0.39736078887757353,0.4859202399005569,0.64713042030015,-0.7813163021462705,0.2958028918427429,-1.3243857628930011,-1.662961371536703,-0.40043565729067965,-0.3451119384557309,2.0903955558237,-0.012557888875386733,0.07247683377659399,0.11988491292645348,-0.4627347402924009,-1.0946635758514829,-2.6728360093505703,0.4742050895262971,-1.150747503716675,-1.2679999124494294,-1.7425682851942794,1.2659089043708076,0.6599750210405136,0.29300311967555526,-0.03466136540901326,0.8932463555019038,0.1375773675663175,-0.39833065736608564,0.2287132229961002,-1.888861525535101,-1.3748150359304196,0.41802892703303685,1.0966859796173523,-0.13334943209995173,-1.1419708932998787,1.1871886179574034,0.8486538344167918,-0.5192329608506668,0.002664928529814942,-0.11805644493445205,-2.1302678111856066,-1.5493117619924885,-0.4579647003513041,-1.5589319481231727,-0.7013284975095917,-1.1942815821767572,1.4418256610856601,-0.1194927798018692,-1.0959742580943388,2.102428243098901,-0.32061244957872076,0.7008907102791864,-0.3491490480071671,-0.5547074472788999,-0.6118401100626987,-0.5036361595156262,-0.8556225818470531,1.572121338917596,0.7367614207637612,-0.6337092097146587,-0.12587396488378122,0.5956416887411763,-0.5257234999490865,-0.25349596817224906,-0.5430718989494115,0.09758462681366432,0.1927830293776624,1.5073729373103912,-0.5732060696026312,-0.357320623311159,-0.3825789830900455,0.6551065113125831,0.7398370183868511,-0.7059609433212608,-0.42166534144707934,3.3206924959670467,-0.37304189385547065,-1.4746002018309643,-0.04270476295674498,0.995515542888556,0.0033839830817497434,1.2256999756538212,0.2501254597405451,0.33648316506628745,2.109721828092375,-0.6805331943785887,1.3424917917601022,0.15416374829761778,0.8242630448059016,-0.9600061880373896,1.0265224829519026,-0.8113472662411878,-0.39356837717677795,0.2006738374444646,1.1984113242069359],\"yaxis\":\"y12\",\"type\":\"scatter\"},{\"line\":{\"color\":\"rgba(128, 128, 128, 1.0)\",\"dash\":\"solid\",\"shape\":\"linear\",\"width\":1.3},\"marker\":{\"size\":2,\"symbol\":\"circle\"},\"mode\":\"markers\",\"name\":\"D\",\"text\":\"\",\"x\":[0.40534718238775297,0.4618384364241935,0.24801495362386689,-0.20275965105180163,0.09894775497959721,0.6599246788548914,0.8438472586319632,0.014204738168655967,-1.0523175976673647,-0.33916820542896847,-1.661959469597001,0.012685600171485036,-0.4789785319016016,1.0084397271213716,0.5939225191331639,-1.095553489611045,-0.18951102092657343,-0.7485311039793072,-0.430464829191035,-0.7631277171679673,0.36148744061730415,0.07563251615586787,-1.8860291881983393,1.830146264431817,1.5261693945209298,0.16291324267842877,-0.8262337273807737,-0.5517585324681692,0.345803414065465,-1.4703487784808873,-0.42067931889214644,-0.13166190696965407,1.123577676117159,1.1810238810798508,1.660312792380613,0.5051805618852068,0.17556028099014473,-0.5494279945135929,-0.054740206493713695,-0.2168076326530869,-0.851789995700195,1.8015449616578993,-1.4170720382865047,0.8735331849938913,-1.1093059122024311,-0.4904870041875731,0.024771903075371624,-0.14604266902562074,-0.1804877739615316,-0.26801124668195686,0.6532291709068574,0.9495574584417534,-1.531778149170353,1.5890221761187682,0.980982056724215,-1.3218991841523904,-0.7748649079913962,0.4742698276888825,-0.0020455685397476487,1.8920574153876382,-0.22893685140438824,-0.6971595344536778,-1.7688603238410823,0.06128443693784288,-0.360684189084469,-0.4533831065070736,1.1124492419990712,-0.14284110930219396,0.583799577696767,0.4763961235399069,0.888486188632068,1.1547065346517043,-0.06266321573539217,1.2614886864066421,-0.2713660149998362,-0.564030478976412,-0.36032635768443194,-1.386122960420082,0.6497222345182069,0.4073214610955935,1.1951054678585589,1.1462194285806422,0.3839065700825093,0.02158569664438489,-0.31607498419747876,1.2258170818043679,1.5403849676974233,-1.2793493722883689,1.4546677261348309,0.8853740095330099,-0.27871528402228496,-0.45790415202886203,0.6078800386133114,0.2619094555525887,-0.9359554761132841,-1.310045647360763,0.8639954189862001,-0.17319697866189304,-0.23456567552557125,0.39507788382193987],\"xaxis\":\"x13\",\"y\":[2.496071177103857,0.46081342893771055,-0.0993452983368322,0.5809415166299917,0.40510046264685573,-0.5680460155079847,1.2013126163899779,0.9235025254388937,-0.33489510490471136,0.6903185909680251,1.6940589078900654,1.1552141160280898,0.4519339032526576,-1.6378233982246284,-0.18705288580078047,-0.6014119459024533,-0.08661516142734464,-2.2138315256459355,0.21259912157741076,0.17200406866655887,0.06345710562435442,-0.1657132760048854,0.30709462962362616,1.2868210087532836,1.8925326595443972,0.3172886598320608,-0.7675255681542591,1.001540368478351,1.635234668573889,0.6968888827556089,-1.2838354891977093,-1.4858243901619834,1.5883334911707394,0.2614533519409762,1.4479396943145668,0.9869269363450887,1.2412667641689517,1.4554482284528751,-1.739546295511982,0.08624035442034013,0.014460353605616887,-1.4687897908310128,0.9263315314260369,0.4630509181806159,0.3962225137932105,-0.5738893360751438,0.08255968121947238,2.3123736265797725,0.1814158966679779,1.0023561740323266,-0.8432421516873355,0.9047034033575648,0.14633007324558994,-1.2121043743814122,0.34701696560862716,-0.49474703279285887,-0.6706522920168768,-2.1344327686615587,2.4921141712522954,-0.36850330741956977,-1.687793543566312,-0.25358597500926955,-0.8090190742185616,0.015245709923150873,0.27458290201369623,-2.1183057080112224,1.0366307466847968,1.0273831782140008,-1.1570046788261379,0.41756679021218324,-0.8225478326104317,1.2346573270949213,0.00624533970765154,0.9819581405070998,-2.2181810791031715,-1.829224609246086,0.2780099520868739,0.7531073238742761,-0.6687741250947908,0.307472012042972,-1.4508497162720104,0.5806461816902653,-0.1719019649229563,-0.8845797818041453,1.7110324908597812,-0.8042138569717536,-0.117255677636341,-0.7971556907902491,-0.9257571625867512,-0.059484554873857114,-1.7648403405153228,0.6893596079875423,-1.12093735936863,1.58417022354427,-0.15762384928257814,1.199392222105967,-0.09112697331503981,-1.2436291221677196,-1.3395113213792513,1.462079062203621],\"yaxis\":\"y13\",\"type\":\"scatter\"},{\"line\":{\"color\":\"rgba(128, 128, 128, 1.0)\",\"dash\":\"solid\",\"shape\":\"linear\",\"width\":1.3},\"marker\":{\"size\":2,\"symbol\":\"circle\"},\"mode\":\"markers\",\"name\":\"D\",\"text\":\"\",\"x\":[1.022485686609692,-0.2991330376533287,-0.63888610969383,-0.8833750002612436,-0.4078861332958796,0.4799082532464347,-1.357274840799496,0.19810773620278088,-0.19783074771131168,0.692818817496382,0.23191266266703442,-0.39355437747570005,0.5447687622016464,-0.14091375476541995,-0.22769161270345697,0.8588915764933582,-0.6783986928331065,0.8211036067421712,0.25817266001630773,0.14799711696746098,0.05927620745292284,-0.36267230950085433,1.2593028653582603,-1.0007777217527574,1.2282436874541525,-0.12769887512315786,1.7030143913579163,-1.0020872605347468,0.3195560424142498,0.15240321418665187,-1.5797861553236705,-0.3739313200333769,2.6021110509168666,-1.4471100938515242,-0.22318666138188153,0.47553906694810044,-1.1809472376756547,1.6162460221607278,-0.30331773033449044,-0.13182156682787596,1.4149621524860898,-0.9530259792261948,0.2742169032926556,-0.046045542434082556,0.634280138667863,-0.44208708609224245,0.6918129090202446,0.18012353082972507,-0.03975756365095694,-0.4035085758608769,-1.7585817100788126,-0.2996635985622194,-0.08613466026216665,1.3407846486700787,-1.2852375040247463,0.9426548906856975,-0.4237478485145406,-0.9875258770195806,0.8492892915359607,0.8623233408981996,-0.6444147916046757,0.1078678343079182,-0.9875734437892321,1.291562887565866,-0.8904951305931562,-1.7911999540279506,0.8759961030601735,0.2747985052742041,-0.20212363160084537,1.9519926300458057,1.2228922969535314,1.2775425993797307,-0.033907857353057,-1.1269326593789921,-0.35613822482803065,-0.3269080347457746,1.4592243810701002,-0.20686257323796692,-0.09616636678433634,1.2419410065257095,1.3048143207669025,-0.2980538960987875,1.3781856734829458,1.272172464631937,-0.3472494847742187,-0.010538336780892818,-0.16183176257636525,0.10152373504878527,-1.8653899621822374,-0.9683998654059663,-0.779130702347315,1.6202962931960625,-0.4690630803098864,0.024481735873536713,0.5510679505159154,-1.4104672378985652,0.5669444261650838,-1.350048904489357,0.6109803903416247,1.311724539759251],\"xaxis\":\"x14\",\"y\":[2.496071177103857,0.46081342893771055,-0.0993452983368322,0.5809415166299917,0.40510046264685573,-0.5680460155079847,1.2013126163899779,0.9235025254388937,-0.33489510490471136,0.6903185909680251,1.6940589078900654,1.1552141160280898,0.4519339032526576,-1.6378233982246284,-0.18705288580078047,-0.6014119459024533,-0.08661516142734464,-2.2138315256459355,0.21259912157741076,0.17200406866655887,0.06345710562435442,-0.1657132760048854,0.30709462962362616,1.2868210087532836,1.8925326595443972,0.3172886598320608,-0.7675255681542591,1.001540368478351,1.635234668573889,0.6968888827556089,-1.2838354891977093,-1.4858243901619834,1.5883334911707394,0.2614533519409762,1.4479396943145668,0.9869269363450887,1.2412667641689517,1.4554482284528751,-1.739546295511982,0.08624035442034013,0.014460353605616887,-1.4687897908310128,0.9263315314260369,0.4630509181806159,0.3962225137932105,-0.5738893360751438,0.08255968121947238,2.3123736265797725,0.1814158966679779,1.0023561740323266,-0.8432421516873355,0.9047034033575648,0.14633007324558994,-1.2121043743814122,0.34701696560862716,-0.49474703279285887,-0.6706522920168768,-2.1344327686615587,2.4921141712522954,-0.36850330741956977,-1.687793543566312,-0.25358597500926955,-0.8090190742185616,0.015245709923150873,0.27458290201369623,-2.1183057080112224,1.0366307466847968,1.0273831782140008,-1.1570046788261379,0.41756679021218324,-0.8225478326104317,1.2346573270949213,0.00624533970765154,0.9819581405070998,-2.2181810791031715,-1.829224609246086,0.2780099520868739,0.7531073238742761,-0.6687741250947908,0.307472012042972,-1.4508497162720104,0.5806461816902653,-0.1719019649229563,-0.8845797818041453,1.7110324908597812,-0.8042138569717536,-0.117255677636341,-0.7971556907902491,-0.9257571625867512,-0.059484554873857114,-1.7648403405153228,0.6893596079875423,-1.12093735936863,1.58417022354427,-0.15762384928257814,1.199392222105967,-0.09112697331503981,-1.2436291221677196,-1.3395113213792513,1.462079062203621],\"yaxis\":\"y14\",\"type\":\"scatter\"},{\"line\":{\"color\":\"rgba(128, 128, 128, 1.0)\",\"dash\":\"solid\",\"shape\":\"linear\",\"width\":1.3},\"marker\":{\"size\":2,\"symbol\":\"circle\"},\"mode\":\"markers\",\"name\":\"D\",\"text\":\"\",\"x\":[-0.6846939278970728,-2.3075965045478024,-0.08633181165856928,-0.960632782911131,-0.2594843276284265,-1.0909004044679218,-0.39736078887757353,0.4859202399005569,0.64713042030015,-0.7813163021462705,0.2958028918427429,-1.3243857628930011,-1.662961371536703,-0.40043565729067965,-0.3451119384557309,2.0903955558237,-0.012557888875386733,0.07247683377659399,0.11988491292645348,-0.4627347402924009,-1.0946635758514829,-2.6728360093505703,0.4742050895262971,-1.150747503716675,-1.2679999124494294,-1.7425682851942794,1.2659089043708076,0.6599750210405136,0.29300311967555526,-0.03466136540901326,0.8932463555019038,0.1375773675663175,-0.39833065736608564,0.2287132229961002,-1.888861525535101,-1.3748150359304196,0.41802892703303685,1.0966859796173523,-0.13334943209995173,-1.1419708932998787,1.1871886179574034,0.8486538344167918,-0.5192329608506668,0.002664928529814942,-0.11805644493445205,-2.1302678111856066,-1.5493117619924885,-0.4579647003513041,-1.5589319481231727,-0.7013284975095917,-1.1942815821767572,1.4418256610856601,-0.1194927798018692,-1.0959742580943388,2.102428243098901,-0.32061244957872076,0.7008907102791864,-0.3491490480071671,-0.5547074472788999,-0.6118401100626987,-0.5036361595156262,-0.8556225818470531,1.572121338917596,0.7367614207637612,-0.6337092097146587,-0.12587396488378122,0.5956416887411763,-0.5257234999490865,-0.25349596817224906,-0.5430718989494115,0.09758462681366432,0.1927830293776624,1.5073729373103912,-0.5732060696026312,-0.357320623311159,-0.3825789830900455,0.6551065113125831,0.7398370183868511,-0.7059609433212608,-0.42166534144707934,3.3206924959670467,-0.37304189385547065,-1.4746002018309643,-0.04270476295674498,0.995515542888556,0.0033839830817497434,1.2256999756538212,0.2501254597405451,0.33648316506628745,2.109721828092375,-0.6805331943785887,1.3424917917601022,0.15416374829761778,0.8242630448059016,-0.9600061880373896,1.0265224829519026,-0.8113472662411878,-0.39356837717677795,0.2006738374444646,1.1984113242069359],\"xaxis\":\"x15\",\"y\":[2.496071177103857,0.46081342893771055,-0.0993452983368322,0.5809415166299917,0.40510046264685573,-0.5680460155079847,1.2013126163899779,0.9235025254388937,-0.33489510490471136,0.6903185909680251,1.6940589078900654,1.1552141160280898,0.4519339032526576,-1.6378233982246284,-0.18705288580078047,-0.6014119459024533,-0.08661516142734464,-2.2138315256459355,0.21259912157741076,0.17200406866655887,0.06345710562435442,-0.1657132760048854,0.30709462962362616,1.2868210087532836,1.8925326595443972,0.3172886598320608,-0.7675255681542591,1.001540368478351,1.635234668573889,0.6968888827556089,-1.2838354891977093,-1.4858243901619834,1.5883334911707394,0.2614533519409762,1.4479396943145668,0.9869269363450887,1.2412667641689517,1.4554482284528751,-1.739546295511982,0.08624035442034013,0.014460353605616887,-1.4687897908310128,0.9263315314260369,0.4630509181806159,0.3962225137932105,-0.5738893360751438,0.08255968121947238,2.3123736265797725,0.1814158966679779,1.0023561740323266,-0.8432421516873355,0.9047034033575648,0.14633007324558994,-1.2121043743814122,0.34701696560862716,-0.49474703279285887,-0.6706522920168768,-2.1344327686615587,2.4921141712522954,-0.36850330741956977,-1.687793543566312,-0.25358597500926955,-0.8090190742185616,0.015245709923150873,0.27458290201369623,-2.1183057080112224,1.0366307466847968,1.0273831782140008,-1.1570046788261379,0.41756679021218324,-0.8225478326104317,1.2346573270949213,0.00624533970765154,0.9819581405070998,-2.2181810791031715,-1.829224609246086,0.2780099520868739,0.7531073238742761,-0.6687741250947908,0.307472012042972,-1.4508497162720104,0.5806461816902653,-0.1719019649229563,-0.8845797818041453,1.7110324908597812,-0.8042138569717536,-0.117255677636341,-0.7971556907902491,-0.9257571625867512,-0.059484554873857114,-1.7648403405153228,0.6893596079875423,-1.12093735936863,1.58417022354427,-0.15762384928257814,1.199392222105967,-0.09112697331503981,-1.2436291221677196,-1.3395113213792513,1.462079062203621],\"yaxis\":\"y15\",\"type\":\"scatter\"},{\"histfunc\":\"count\",\"histnorm\":\"\",\"marker\":{\"color\":\"rgba(128, 0, 128, 1.0)\",\"line\":{\"color\":\"#4D5663\",\"width\":1.3}},\"name\":\"D\",\"nbinsx\":10,\"opacity\":0.8,\"orientation\":\"v\",\"x\":[2.496071177103857,0.46081342893771055,-0.0993452983368322,0.5809415166299917,0.40510046264685573,-0.5680460155079847,1.2013126163899779,0.9235025254388937,-0.33489510490471136,0.6903185909680251,1.6940589078900654,1.1552141160280898,0.4519339032526576,-1.6378233982246284,-0.18705288580078047,-0.6014119459024533,-0.08661516142734464,-2.2138315256459355,0.21259912157741076,0.17200406866655887,0.06345710562435442,-0.1657132760048854,0.30709462962362616,1.2868210087532836,1.8925326595443972,0.3172886598320608,-0.7675255681542591,1.001540368478351,1.635234668573889,0.6968888827556089,-1.2838354891977093,-1.4858243901619834,1.5883334911707394,0.2614533519409762,1.4479396943145668,0.9869269363450887,1.2412667641689517,1.4554482284528751,-1.739546295511982,0.08624035442034013,0.014460353605616887,-1.4687897908310128,0.9263315314260369,0.4630509181806159,0.3962225137932105,-0.5738893360751438,0.08255968121947238,2.3123736265797725,0.1814158966679779,1.0023561740323266,-0.8432421516873355,0.9047034033575648,0.14633007324558994,-1.2121043743814122,0.34701696560862716,-0.49474703279285887,-0.6706522920168768,-2.1344327686615587,2.4921141712522954,-0.36850330741956977,-1.687793543566312,-0.25358597500926955,-0.8090190742185616,0.015245709923150873,0.27458290201369623,-2.1183057080112224,1.0366307466847968,1.0273831782140008,-1.1570046788261379,0.41756679021218324,-0.8225478326104317,1.2346573270949213,0.00624533970765154,0.9819581405070998,-2.2181810791031715,-1.829224609246086,0.2780099520868739,0.7531073238742761,-0.6687741250947908,0.307472012042972,-1.4508497162720104,0.5806461816902653,-0.1719019649229563,-0.8845797818041453,1.7110324908597812,-0.8042138569717536,-0.117255677636341,-0.7971556907902491,-0.9257571625867512,-0.059484554873857114,-1.7648403405153228,0.6893596079875423,-1.12093735936863,1.58417022354427,-0.15762384928257814,1.199392222105967,-0.09112697331503981,-1.2436291221677196,-1.3395113213792513,1.462079062203621],\"xaxis\":\"x16\",\"yaxis\":\"y16\",\"type\":\"histogram\"}],                        {\"bargap\":0.02,\"legend\":{\"bgcolor\":\"#F5F6F9\",\"font\":{\"color\":\"#4D5663\"}},\"paper_bgcolor\":\"#F5F6F9\",\"plot_bgcolor\":\"#F5F6F9\",\"showlegend\":false,\"template\":{\"data\":{\"barpolar\":[{\"marker\":{\"line\":{\"color\":\"#E5ECF6\",\"width\":0.5},\"pattern\":{\"fillmode\":\"overlay\",\"size\":10,\"solidity\":0.2}},\"type\":\"barpolar\"}],\"bar\":[{\"error_x\":{\"color\":\"#2a3f5f\"},\"error_y\":{\"color\":\"#2a3f5f\"},\"marker\":{\"line\":{\"color\":\"#E5ECF6\",\"width\":0.5},\"pattern\":{\"fillmode\":\"overlay\",\"size\":10,\"solidity\":0.2}},\"type\":\"bar\"}],\"carpet\":[{\"aaxis\":{\"endlinecolor\":\"#2a3f5f\",\"gridcolor\":\"white\",\"linecolor\":\"white\",\"minorgridcolor\":\"white\",\"startlinecolor\":\"#2a3f5f\"},\"baxis\":{\"endlinecolor\":\"#2a3f5f\",\"gridcolor\":\"white\",\"linecolor\":\"white\",\"minorgridcolor\":\"white\",\"startlinecolor\":\"#2a3f5f\"},\"type\":\"carpet\"}],\"choropleth\":[{\"colorbar\":{\"outlinewidth\":0,\"ticks\":\"\"},\"type\":\"choropleth\"}],\"contourcarpet\":[{\"colorbar\":{\"outlinewidth\":0,\"ticks\":\"\"},\"type\":\"contourcarpet\"}],\"contour\":[{\"colorbar\":{\"outlinewidth\":0,\"ticks\":\"\"},\"colorscale\":[[0.0,\"#0d0887\"],[0.1111111111111111,\"#46039f\"],[0.2222222222222222,\"#7201a8\"],[0.3333333333333333,\"#9c179e\"],[0.4444444444444444,\"#bd3786\"],[0.5555555555555556,\"#d8576b\"],[0.6666666666666666,\"#ed7953\"],[0.7777777777777778,\"#fb9f3a\"],[0.8888888888888888,\"#fdca26\"],[1.0,\"#f0f921\"]],\"type\":\"contour\"}],\"heatmapgl\":[{\"colorbar\":{\"outlinewidth\":0,\"ticks\":\"\"},\"colorscale\":[[0.0,\"#0d0887\"],[0.1111111111111111,\"#46039f\"],[0.2222222222222222,\"#7201a8\"],[0.3333333333333333,\"#9c179e\"],[0.4444444444444444,\"#bd3786\"],[0.5555555555555556,\"#d8576b\"],[0.6666666666666666,\"#ed7953\"],[0.7777777777777778,\"#fb9f3a\"],[0.8888888888888888,\"#fdca26\"],[1.0,\"#f0f921\"]],\"type\":\"heatmapgl\"}],\"heatmap\":[{\"colorbar\":{\"outlinewidth\":0,\"ticks\":\"\"},\"colorscale\":[[0.0,\"#0d0887\"],[0.1111111111111111,\"#46039f\"],[0.2222222222222222,\"#7201a8\"],[0.3333333333333333,\"#9c179e\"],[0.4444444444444444,\"#bd3786\"],[0.5555555555555556,\"#d8576b\"],[0.6666666666666666,\"#ed7953\"],[0.7777777777777778,\"#fb9f3a\"],[0.8888888888888888,\"#fdca26\"],[1.0,\"#f0f921\"]],\"type\":\"heatmap\"}],\"histogram2dcontour\":[{\"colorbar\":{\"outlinewidth\":0,\"ticks\":\"\"},\"colorscale\":[[0.0,\"#0d0887\"],[0.1111111111111111,\"#46039f\"],[0.2222222222222222,\"#7201a8\"],[0.3333333333333333,\"#9c179e\"],[0.4444444444444444,\"#bd3786\"],[0.5555555555555556,\"#d8576b\"],[0.6666666666666666,\"#ed7953\"],[0.7777777777777778,\"#fb9f3a\"],[0.8888888888888888,\"#fdca26\"],[1.0,\"#f0f921\"]],\"type\":\"histogram2dcontour\"}],\"histogram2d\":[{\"colorbar\":{\"outlinewidth\":0,\"ticks\":\"\"},\"colorscale\":[[0.0,\"#0d0887\"],[0.1111111111111111,\"#46039f\"],[0.2222222222222222,\"#7201a8\"],[0.3333333333333333,\"#9c179e\"],[0.4444444444444444,\"#bd3786\"],[0.5555555555555556,\"#d8576b\"],[0.6666666666666666,\"#ed7953\"],[0.7777777777777778,\"#fb9f3a\"],[0.8888888888888888,\"#fdca26\"],[1.0,\"#f0f921\"]],\"type\":\"histogram2d\"}],\"histogram\":[{\"marker\":{\"pattern\":{\"fillmode\":\"overlay\",\"size\":10,\"solidity\":0.2}},\"type\":\"histogram\"}],\"mesh3d\":[{\"colorbar\":{\"outlinewidth\":0,\"ticks\":\"\"},\"type\":\"mesh3d\"}],\"parcoords\":[{\"line\":{\"colorbar\":{\"outlinewidth\":0,\"ticks\":\"\"}},\"type\":\"parcoords\"}],\"pie\":[{\"automargin\":true,\"type\":\"pie\"}],\"scatter3d\":[{\"line\":{\"colorbar\":{\"outlinewidth\":0,\"ticks\":\"\"}},\"marker\":{\"colorbar\":{\"outlinewidth\":0,\"ticks\":\"\"}},\"type\":\"scatter3d\"}],\"scattercarpet\":[{\"marker\":{\"colorbar\":{\"outlinewidth\":0,\"ticks\":\"\"}},\"type\":\"scattercarpet\"}],\"scattergeo\":[{\"marker\":{\"colorbar\":{\"outlinewidth\":0,\"ticks\":\"\"}},\"type\":\"scattergeo\"}],\"scattergl\":[{\"marker\":{\"colorbar\":{\"outlinewidth\":0,\"ticks\":\"\"}},\"type\":\"scattergl\"}],\"scattermapbox\":[{\"marker\":{\"colorbar\":{\"outlinewidth\":0,\"ticks\":\"\"}},\"type\":\"scattermapbox\"}],\"scatterpolargl\":[{\"marker\":{\"colorbar\":{\"outlinewidth\":0,\"ticks\":\"\"}},\"type\":\"scatterpolargl\"}],\"scatterpolar\":[{\"marker\":{\"colorbar\":{\"outlinewidth\":0,\"ticks\":\"\"}},\"type\":\"scatterpolar\"}],\"scatter\":[{\"fillpattern\":{\"fillmode\":\"overlay\",\"size\":10,\"solidity\":0.2},\"type\":\"scatter\"}],\"scatterternary\":[{\"marker\":{\"colorbar\":{\"outlinewidth\":0,\"ticks\":\"\"}},\"type\":\"scatterternary\"}],\"surface\":[{\"colorbar\":{\"outlinewidth\":0,\"ticks\":\"\"},\"colorscale\":[[0.0,\"#0d0887\"],[0.1111111111111111,\"#46039f\"],[0.2222222222222222,\"#7201a8\"],[0.3333333333333333,\"#9c179e\"],[0.4444444444444444,\"#bd3786\"],[0.5555555555555556,\"#d8576b\"],[0.6666666666666666,\"#ed7953\"],[0.7777777777777778,\"#fb9f3a\"],[0.8888888888888888,\"#fdca26\"],[1.0,\"#f0f921\"]],\"type\":\"surface\"}],\"table\":[{\"cells\":{\"fill\":{\"color\":\"#EBF0F8\"},\"line\":{\"color\":\"white\"}},\"header\":{\"fill\":{\"color\":\"#C8D4E3\"},\"line\":{\"color\":\"white\"}},\"type\":\"table\"}]},\"layout\":{\"annotationdefaults\":{\"arrowcolor\":\"#2a3f5f\",\"arrowhead\":0,\"arrowwidth\":1},\"autotypenumbers\":\"strict\",\"coloraxis\":{\"colorbar\":{\"outlinewidth\":0,\"ticks\":\"\"}},\"colorscale\":{\"diverging\":[[0,\"#8e0152\"],[0.1,\"#c51b7d\"],[0.2,\"#de77ae\"],[0.3,\"#f1b6da\"],[0.4,\"#fde0ef\"],[0.5,\"#f7f7f7\"],[0.6,\"#e6f5d0\"],[0.7,\"#b8e186\"],[0.8,\"#7fbc41\"],[0.9,\"#4d9221\"],[1,\"#276419\"]],\"sequential\":[[0.0,\"#0d0887\"],[0.1111111111111111,\"#46039f\"],[0.2222222222222222,\"#7201a8\"],[0.3333333333333333,\"#9c179e\"],[0.4444444444444444,\"#bd3786\"],[0.5555555555555556,\"#d8576b\"],[0.6666666666666666,\"#ed7953\"],[0.7777777777777778,\"#fb9f3a\"],[0.8888888888888888,\"#fdca26\"],[1.0,\"#f0f921\"]],\"sequentialminus\":[[0.0,\"#0d0887\"],[0.1111111111111111,\"#46039f\"],[0.2222222222222222,\"#7201a8\"],[0.3333333333333333,\"#9c179e\"],[0.4444444444444444,\"#bd3786\"],[0.5555555555555556,\"#d8576b\"],[0.6666666666666666,\"#ed7953\"],[0.7777777777777778,\"#fb9f3a\"],[0.8888888888888888,\"#fdca26\"],[1.0,\"#f0f921\"]]},\"colorway\":[\"#636efa\",\"#EF553B\",\"#00cc96\",\"#ab63fa\",\"#FFA15A\",\"#19d3f3\",\"#FF6692\",\"#B6E880\",\"#FF97FF\",\"#FECB52\"],\"font\":{\"color\":\"#2a3f5f\"},\"geo\":{\"bgcolor\":\"white\",\"lakecolor\":\"white\",\"landcolor\":\"#E5ECF6\",\"showlakes\":true,\"showland\":true,\"subunitcolor\":\"white\"},\"hoverlabel\":{\"align\":\"left\"},\"hovermode\":\"closest\",\"mapbox\":{\"style\":\"light\"},\"paper_bgcolor\":\"white\",\"plot_bgcolor\":\"#E5ECF6\",\"polar\":{\"angularaxis\":{\"gridcolor\":\"white\",\"linecolor\":\"white\",\"ticks\":\"\"},\"bgcolor\":\"#E5ECF6\",\"radialaxis\":{\"gridcolor\":\"white\",\"linecolor\":\"white\",\"ticks\":\"\"}},\"scene\":{\"xaxis\":{\"backgroundcolor\":\"#E5ECF6\",\"gridcolor\":\"white\",\"gridwidth\":2,\"linecolor\":\"white\",\"showbackground\":true,\"ticks\":\"\",\"zerolinecolor\":\"white\"},\"yaxis\":{\"backgroundcolor\":\"#E5ECF6\",\"gridcolor\":\"white\",\"gridwidth\":2,\"linecolor\":\"white\",\"showbackground\":true,\"ticks\":\"\",\"zerolinecolor\":\"white\"},\"zaxis\":{\"backgroundcolor\":\"#E5ECF6\",\"gridcolor\":\"white\",\"gridwidth\":2,\"linecolor\":\"white\",\"showbackground\":true,\"ticks\":\"\",\"zerolinecolor\":\"white\"}},\"shapedefaults\":{\"line\":{\"color\":\"#2a3f5f\"}},\"ternary\":{\"aaxis\":{\"gridcolor\":\"white\",\"linecolor\":\"white\",\"ticks\":\"\"},\"baxis\":{\"gridcolor\":\"white\",\"linecolor\":\"white\",\"ticks\":\"\"},\"bgcolor\":\"#E5ECF6\",\"caxis\":{\"gridcolor\":\"white\",\"linecolor\":\"white\",\"ticks\":\"\"}},\"title\":{\"x\":0.05},\"xaxis\":{\"automargin\":true,\"gridcolor\":\"white\",\"linecolor\":\"white\",\"ticks\":\"\",\"title\":{\"standoff\":15},\"zerolinecolor\":\"white\",\"zerolinewidth\":2},\"yaxis\":{\"automargin\":true,\"gridcolor\":\"white\",\"linecolor\":\"white\",\"ticks\":\"\",\"title\":{\"standoff\":15},\"zerolinecolor\":\"white\",\"zerolinewidth\":2}}},\"title\":{\"font\":{\"color\":\"#4D5663\"}},\"xaxis\":{\"anchor\":\"y\",\"domain\":[0.0,0.2125],\"gridcolor\":\"#E1E5ED\",\"showgrid\":false,\"tickfont\":{\"color\":\"#4D5663\"},\"title\":{\"font\":{\"color\":\"#4D5663\"},\"text\":\"\"},\"zerolinecolor\":\"#E1E5ED\"},\"yaxis\":{\"anchor\":\"x\",\"domain\":[0.8025,1.0],\"gridcolor\":\"#E1E5ED\",\"showgrid\":false,\"tickfont\":{\"color\":\"#4D5663\"},\"title\":{\"font\":{\"color\":\"#4D5663\"},\"text\":\"\"},\"zerolinecolor\":\"#E1E5ED\"},\"xaxis2\":{\"anchor\":\"y2\",\"domain\":[0.2625,0.475],\"gridcolor\":\"#E1E5ED\",\"showgrid\":false,\"tickfont\":{\"color\":\"#4D5663\"},\"title\":{\"font\":{\"color\":\"#4D5663\"},\"text\":\"\"},\"zerolinecolor\":\"#E1E5ED\"},\"yaxis2\":{\"anchor\":\"x2\",\"domain\":[0.8025,1.0],\"gridcolor\":\"#E1E5ED\",\"showgrid\":false,\"tickfont\":{\"color\":\"#4D5663\"},\"title\":{\"font\":{\"color\":\"#4D5663\"},\"text\":\"\"},\"zerolinecolor\":\"#E1E5ED\"},\"xaxis3\":{\"anchor\":\"y3\",\"domain\":[0.525,0.7375],\"gridcolor\":\"#E1E5ED\",\"showgrid\":false,\"tickfont\":{\"color\":\"#4D5663\"},\"title\":{\"font\":{\"color\":\"#4D5663\"},\"text\":\"\"},\"zerolinecolor\":\"#E1E5ED\"},\"yaxis3\":{\"anchor\":\"x3\",\"domain\":[0.8025,1.0],\"gridcolor\":\"#E1E5ED\",\"showgrid\":false,\"tickfont\":{\"color\":\"#4D5663\"},\"title\":{\"font\":{\"color\":\"#4D5663\"},\"text\":\"\"},\"zerolinecolor\":\"#E1E5ED\"},\"xaxis4\":{\"anchor\":\"y4\",\"domain\":[0.7875,1.0],\"gridcolor\":\"#E1E5ED\",\"showgrid\":false,\"tickfont\":{\"color\":\"#4D5663\"},\"title\":{\"font\":{\"color\":\"#4D5663\"},\"text\":\"\"},\"zerolinecolor\":\"#E1E5ED\"},\"yaxis4\":{\"anchor\":\"x4\",\"domain\":[0.8025,1.0],\"gridcolor\":\"#E1E5ED\",\"showgrid\":false,\"tickfont\":{\"color\":\"#4D5663\"},\"title\":{\"font\":{\"color\":\"#4D5663\"},\"text\":\"\"},\"zerolinecolor\":\"#E1E5ED\"},\"xaxis5\":{\"anchor\":\"y5\",\"domain\":[0.0,0.2125],\"gridcolor\":\"#E1E5ED\",\"showgrid\":false,\"tickfont\":{\"color\":\"#4D5663\"},\"title\":{\"font\":{\"color\":\"#4D5663\"},\"text\":\"\"},\"zerolinecolor\":\"#E1E5ED\"},\"yaxis5\":{\"anchor\":\"x5\",\"domain\":[0.535,0.7325],\"gridcolor\":\"#E1E5ED\",\"showgrid\":false,\"tickfont\":{\"color\":\"#4D5663\"},\"title\":{\"font\":{\"color\":\"#4D5663\"},\"text\":\"\"},\"zerolinecolor\":\"#E1E5ED\"},\"xaxis6\":{\"anchor\":\"y6\",\"domain\":[0.2625,0.475],\"gridcolor\":\"#E1E5ED\",\"showgrid\":false,\"tickfont\":{\"color\":\"#4D5663\"},\"title\":{\"font\":{\"color\":\"#4D5663\"},\"text\":\"\"},\"zerolinecolor\":\"#E1E5ED\"},\"yaxis6\":{\"anchor\":\"x6\",\"domain\":[0.535,0.7325],\"gridcolor\":\"#E1E5ED\",\"showgrid\":false,\"tickfont\":{\"color\":\"#4D5663\"},\"title\":{\"font\":{\"color\":\"#4D5663\"},\"text\":\"\"},\"zerolinecolor\":\"#E1E5ED\"},\"xaxis7\":{\"anchor\":\"y7\",\"domain\":[0.525,0.7375],\"gridcolor\":\"#E1E5ED\",\"showgrid\":false,\"tickfont\":{\"color\":\"#4D5663\"},\"title\":{\"font\":{\"color\":\"#4D5663\"},\"text\":\"\"},\"zerolinecolor\":\"#E1E5ED\"},\"yaxis7\":{\"anchor\":\"x7\",\"domain\":[0.535,0.7325],\"gridcolor\":\"#E1E5ED\",\"showgrid\":false,\"tickfont\":{\"color\":\"#4D5663\"},\"title\":{\"font\":{\"color\":\"#4D5663\"},\"text\":\"\"},\"zerolinecolor\":\"#E1E5ED\"},\"xaxis8\":{\"anchor\":\"y8\",\"domain\":[0.7875,1.0],\"gridcolor\":\"#E1E5ED\",\"showgrid\":false,\"tickfont\":{\"color\":\"#4D5663\"},\"title\":{\"font\":{\"color\":\"#4D5663\"},\"text\":\"\"},\"zerolinecolor\":\"#E1E5ED\"},\"yaxis8\":{\"anchor\":\"x8\",\"domain\":[0.535,0.7325],\"gridcolor\":\"#E1E5ED\",\"showgrid\":false,\"tickfont\":{\"color\":\"#4D5663\"},\"title\":{\"font\":{\"color\":\"#4D5663\"},\"text\":\"\"},\"zerolinecolor\":\"#E1E5ED\"},\"xaxis9\":{\"anchor\":\"y9\",\"domain\":[0.0,0.2125],\"gridcolor\":\"#E1E5ED\",\"showgrid\":false,\"tickfont\":{\"color\":\"#4D5663\"},\"title\":{\"font\":{\"color\":\"#4D5663\"},\"text\":\"\"},\"zerolinecolor\":\"#E1E5ED\"},\"yaxis9\":{\"anchor\":\"x9\",\"domain\":[0.2675,0.465],\"gridcolor\":\"#E1E5ED\",\"showgrid\":false,\"tickfont\":{\"color\":\"#4D5663\"},\"title\":{\"font\":{\"color\":\"#4D5663\"},\"text\":\"\"},\"zerolinecolor\":\"#E1E5ED\"},\"xaxis10\":{\"anchor\":\"y10\",\"domain\":[0.2625,0.475],\"gridcolor\":\"#E1E5ED\",\"showgrid\":false,\"tickfont\":{\"color\":\"#4D5663\"},\"title\":{\"font\":{\"color\":\"#4D5663\"},\"text\":\"\"},\"zerolinecolor\":\"#E1E5ED\"},\"yaxis10\":{\"anchor\":\"x10\",\"domain\":[0.2675,0.465],\"gridcolor\":\"#E1E5ED\",\"showgrid\":false,\"tickfont\":{\"color\":\"#4D5663\"},\"title\":{\"font\":{\"color\":\"#4D5663\"},\"text\":\"\"},\"zerolinecolor\":\"#E1E5ED\"},\"xaxis11\":{\"anchor\":\"y11\",\"domain\":[0.525,0.7375],\"gridcolor\":\"#E1E5ED\",\"showgrid\":false,\"tickfont\":{\"color\":\"#4D5663\"},\"title\":{\"font\":{\"color\":\"#4D5663\"},\"text\":\"\"},\"zerolinecolor\":\"#E1E5ED\"},\"yaxis11\":{\"anchor\":\"x11\",\"domain\":[0.2675,0.465],\"gridcolor\":\"#E1E5ED\",\"showgrid\":false,\"tickfont\":{\"color\":\"#4D5663\"},\"title\":{\"font\":{\"color\":\"#4D5663\"},\"text\":\"\"},\"zerolinecolor\":\"#E1E5ED\"},\"xaxis12\":{\"anchor\":\"y12\",\"domain\":[0.7875,1.0],\"gridcolor\":\"#E1E5ED\",\"showgrid\":false,\"tickfont\":{\"color\":\"#4D5663\"},\"title\":{\"font\":{\"color\":\"#4D5663\"},\"text\":\"\"},\"zerolinecolor\":\"#E1E5ED\"},\"yaxis12\":{\"anchor\":\"x12\",\"domain\":[0.2675,0.465],\"gridcolor\":\"#E1E5ED\",\"showgrid\":false,\"tickfont\":{\"color\":\"#4D5663\"},\"title\":{\"font\":{\"color\":\"#4D5663\"},\"text\":\"\"},\"zerolinecolor\":\"#E1E5ED\"},\"xaxis13\":{\"anchor\":\"y13\",\"domain\":[0.0,0.2125],\"gridcolor\":\"#E1E5ED\",\"showgrid\":false,\"tickfont\":{\"color\":\"#4D5663\"},\"title\":{\"font\":{\"color\":\"#4D5663\"},\"text\":\"\"},\"zerolinecolor\":\"#E1E5ED\"},\"yaxis13\":{\"anchor\":\"x13\",\"domain\":[0.0,0.1975],\"gridcolor\":\"#E1E5ED\",\"showgrid\":false,\"tickfont\":{\"color\":\"#4D5663\"},\"title\":{\"font\":{\"color\":\"#4D5663\"},\"text\":\"\"},\"zerolinecolor\":\"#E1E5ED\"},\"xaxis14\":{\"anchor\":\"y14\",\"domain\":[0.2625,0.475],\"gridcolor\":\"#E1E5ED\",\"showgrid\":false,\"tickfont\":{\"color\":\"#4D5663\"},\"title\":{\"font\":{\"color\":\"#4D5663\"},\"text\":\"\"},\"zerolinecolor\":\"#E1E5ED\"},\"yaxis14\":{\"anchor\":\"x14\",\"domain\":[0.0,0.1975],\"gridcolor\":\"#E1E5ED\",\"showgrid\":false,\"tickfont\":{\"color\":\"#4D5663\"},\"title\":{\"font\":{\"color\":\"#4D5663\"},\"text\":\"\"},\"zerolinecolor\":\"#E1E5ED\"},\"xaxis15\":{\"anchor\":\"y15\",\"domain\":[0.525,0.7375],\"gridcolor\":\"#E1E5ED\",\"showgrid\":false,\"tickfont\":{\"color\":\"#4D5663\"},\"title\":{\"font\":{\"color\":\"#4D5663\"},\"text\":\"\"},\"zerolinecolor\":\"#E1E5ED\"},\"yaxis15\":{\"anchor\":\"x15\",\"domain\":[0.0,0.1975],\"gridcolor\":\"#E1E5ED\",\"showgrid\":false,\"tickfont\":{\"color\":\"#4D5663\"},\"title\":{\"font\":{\"color\":\"#4D5663\"},\"text\":\"\"},\"zerolinecolor\":\"#E1E5ED\"},\"xaxis16\":{\"anchor\":\"y16\",\"domain\":[0.7875,1.0],\"gridcolor\":\"#E1E5ED\",\"showgrid\":false,\"tickfont\":{\"color\":\"#4D5663\"},\"title\":{\"font\":{\"color\":\"#4D5663\"},\"text\":\"\"},\"zerolinecolor\":\"#E1E5ED\"},\"yaxis16\":{\"anchor\":\"x16\",\"domain\":[0.0,0.1975],\"gridcolor\":\"#E1E5ED\",\"showgrid\":false,\"tickfont\":{\"color\":\"#4D5663\"},\"title\":{\"font\":{\"color\":\"#4D5663\"},\"text\":\"\"},\"zerolinecolor\":\"#E1E5ED\"}},                        {\"showLink\": true, \"linkText\": \"Export to plot.ly\", \"plotlyServerURL\": \"https://plot.ly\", \"responsive\": true}                    ).then(function(){\n",
       "                            \n",
       "var gd = document.getElementById('a4658c0c-98b6-4dcb-b8bc-5a773337482d');\n",
       "var x = new MutationObserver(function (mutations, observer) {{\n",
       "        var display = window.getComputedStyle(gd).display;\n",
       "        if (!display || display === 'none') {{\n",
       "            console.log([gd, 'removed!']);\n",
       "            Plotly.purge(gd);\n",
       "            observer.disconnect();\n",
       "        }}\n",
       "}});\n",
       "\n",
       "// Listen for the removal of the full notebook cells\n",
       "var notebookContainer = gd.closest('#notebook-container');\n",
       "if (notebookContainer) {{\n",
       "    x.observe(notebookContainer, {childList: true});\n",
       "}}\n",
       "\n",
       "// Listen for the clearing of the current output cell\n",
       "var outputEl = gd.closest('.output');\n",
       "if (outputEl) {{\n",
       "    x.observe(outputEl, {childList: true});\n",
       "}}\n",
       "\n",
       "                        })                };                });            </script>        </div>"
      ]
     },
     "metadata": {},
     "output_type": "display_data"
    }
   ],
   "source": [
    "df.scatter_matrix()"
   ]
  },
  {
   "cell_type": "code",
   "execution_count": null,
   "metadata": {},
   "outputs": [],
   "source": []
  }
 ],
 "metadata": {
  "kernelspec": {
   "display_name": "Python 3",
   "language": "python",
   "name": "python3"
  },
  "language_info": {
   "codemirror_mode": {
    "name": "ipython",
    "version": 3
   },
   "file_extension": ".py",
   "mimetype": "text/x-python",
   "name": "python",
   "nbconvert_exporter": "python",
   "pygments_lexer": "ipython3",
   "version": "3.7.3"
  }
 },
 "nbformat": 4,
 "nbformat_minor": 2
}
